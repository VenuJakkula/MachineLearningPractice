{
 "cells": [
  {
   "cell_type": "markdown",
   "id": "associate-sunset",
   "metadata": {
    "id": "associate-sunset"
   },
   "source": [
    "# Mini-Project: Dementia prediction using SVM"
   ]
  },
  {
   "cell_type": "markdown",
   "id": "handled-tooth",
   "metadata": {
    "id": "handled-tooth"
   },
   "source": [
    "## Problem Statement"
   ]
  },
  {
   "cell_type": "markdown",
   "id": "accessory-watts",
   "metadata": {
    "id": "accessory-watts"
   },
   "source": [
    "Prediction of Dementia using an SVM model on brain MRI features"
   ]
  },
  {
   "cell_type": "markdown",
   "id": "twenty-indonesia",
   "metadata": {
    "id": "twenty-indonesia"
   },
   "source": [
    "## Learning Objectives"
   ]
  },
  {
   "cell_type": "markdown",
   "id": "rUKXMIOH-gLF",
   "metadata": {
    "id": "rUKXMIOH-gLF"
   },
   "source": [
    "At the end of the mini-project, you will be able to :\n",
    "\n",
    "* perform data exploration, preprocessing and visualization\n",
    "* implement SVM Classifier on the data\n",
    "* explore various parameters of SVM classifier and implement OneVsOne classifier\n",
    "* calculate the metrics and plot the roc_curve"
   ]
  },
  {
   "cell_type": "markdown",
   "id": "rapid-hierarchy",
   "metadata": {
    "id": "rapid-hierarchy"
   },
   "source": [
    "## Information"
   ]
  },
  {
   "cell_type": "markdown",
   "id": "OSINpVqB-i-n",
   "metadata": {
    "id": "OSINpVqB-i-n"
   },
   "source": [
    "**About Dementia**\n",
    "\n",
    "Dementia is a general term for loss of memory and other mental abilities severe enough to interfere with daily life. It is caused by physical changes in the brain. Alzheimer's is the most common type of dementia, but there are many kinds.\n",
    "\n",
    "**Brain Imaging via magnetic resonance imaging (MRI) and Machine Learning**\n",
    "\n",
    "* MRI is used for the evaluation of patients with suspected Alzheimer's disease\n",
    "* MRIs detect both, local and generalized shrinkage of brain tissue.\n",
    "* MRI features predict the rate of decline of AD and may guide therapy in the future\n",
    "* Using machine learning on MRI features could help in automatedly and accurately predicting the progress of a patient from mild cognitive impairment to dementia\n",
    "\n",
    "To understand the basics of MRI technique, you could refer [here](https://case.edu/med/neurology/NR/MRI%20Basics.htm)"
   ]
  },
  {
   "cell_type": "markdown",
   "id": "lesbian-bottom",
   "metadata": {
    "id": "lesbian-bottom"
   },
   "source": [
    "## Dataset"
   ]
  },
  {
   "cell_type": "markdown",
   "id": "fixed-trainer",
   "metadata": {
    "id": "fixed-trainer"
   },
   "source": [
    "The dataset chosen for this mini-project is [OASIS - Longitudinal brain MRI Dataset](https://www.oasis-brains.org/). This dataset consists of a longitudinal MRI collection of 150 subjects aged 60 to 96. Each subject was scanned on two or more visits, separated by at least one year for a total of 373 imaging sessions. For each subject, 3 or 4 individual T1-weighted MRI scans obtained in single scan sessions are included. The subjects are all right-handed and include both men and women. 72 of the subjects were characterized as nondemented throughout the study. 64 of the included subjects were characterized as demented at the time of their initial visits and remained so for subsequent scans, including 51 individuals with mild to moderate Alzheimer’s disease. Another 14 subjects were characterized as nondemented at the time of their initial visit and were subsequently characterized as demented at a later visit.\n",
    "\n",
    "**Dataset fields:**\n",
    "\n",
    "* Subject ID - Subject Identification\n",
    "* MRI ID - MRI Exam Identification\n",
    "* Group - Target variable with 3 labels ('NonDemented', 'Demented', 'Converted')\n",
    "* Visit - Visit order\n",
    "* MR Delay - MR Delay Time (Contrast)\n",
    "* M/F - Male or Female\n",
    "* Hand - Unique value 'R'\n",
    "* MMSE - Mini-Mental State Examination score (range is from 0 = worst to 30 = best)\n",
    "* CDR - Clinical Dementia Rating (0 = no dementia, 0.5 = very mild AD, 1 = mild AD, 2 = moderate AD)\n",
    "* Derived anatomic volumes\n",
    "* eTIV - Estimated total intracranial volume, mm3\n",
    "* nWBV - Normalized whole-brain volume, expressed as a percent of all voxels in the atlas-masked image that are labeled as gray or white matter by the automated tissue segmentation process\n",
    "* ASF - Atlas scaling factor (unitless). A computed scaling factor that transforms native-space brain and skull to the atlas target (i.e., the determinant of the transform matrix)\n",
    "\n",
    "For learning more on building a machine learning model to predict dementia using SVM, refer [here](https://www.ncbi.nlm.nih.gov/pmc/articles/PMC7408873/)."
   ]
  },
  {
   "cell_type": "markdown",
   "id": "caring-syndrome",
   "metadata": {
    "id": "caring-syndrome"
   },
   "source": [
    "### Download the dataset"
   ]
  },
  {
   "cell_type": "code",
   "execution_count": null,
   "id": "talented-upset",
   "metadata": {
    "id": "talented-upset"
   },
   "outputs": [],
   "source": [
    "!wget https://cdn.iisc.talentsprint.com/CDS/MiniProjects/oasis_longitudinal.csv"
   ]
  },
  {
   "cell_type": "markdown",
   "id": "XP_Acn2l-pY1",
   "metadata": {
    "id": "XP_Acn2l-pY1"
   },
   "source": [
    "### Import required packages"
   ]
  },
  {
   "cell_type": "code",
   "execution_count": null,
   "id": "loose-marsh",
   "metadata": {
    "id": "loose-marsh"
   },
   "outputs": [],
   "source": [
    "import pandas as pd\n",
    "import numpy as np\n",
    "import seaborn as sns\n",
    "from matplotlib import pyplot as plt\n",
    "from sklearn.preprocessing import LabelEncoder\n",
    "from sklearn import metrics\n",
    "from sklearn.model_selection import train_test_split\n",
    "from sklearn.svm import SVC"
   ]
  },
  {
   "cell_type": "markdown",
   "id": "compressed-reflection",
   "metadata": {
    "id": "compressed-reflection"
   },
   "source": [
    "### Load the dataset"
   ]
  },
  {
   "cell_type": "code",
   "execution_count": null,
   "id": "fatty-graph",
   "metadata": {
    "id": "fatty-graph"
   },
   "outputs": [],
   "source": [
    "data = pd.read_csv(\"oasis_longitudinal.csv\")\n",
    "data.head(2)"
   ]
  },
  {
   "cell_type": "code",
   "execution_count": null,
   "id": "educational-issue",
   "metadata": {
    "id": "educational-issue"
   },
   "outputs": [],
   "source": [
    "data.shape"
   ]
  },
  {
   "cell_type": "code",
   "execution_count": null,
   "id": "continent-newman",
   "metadata": {
    "id": "continent-newman"
   },
   "outputs": [],
   "source": [
    "data.dtypes"
   ]
  },
  {
   "cell_type": "markdown",
   "id": "christian-hamilton",
   "metadata": {
    "id": "christian-hamilton"
   },
   "source": [
    "### Pre-processing and Data Engineering"
   ]
  },
  {
   "cell_type": "markdown",
   "id": "dense-ivory",
   "metadata": {
    "id": "dense-ivory"
   },
   "source": [
    "#### Remove unwanted columns"
   ]
  },
  {
   "cell_type": "code",
   "execution_count": null,
   "id": "prime-genetics",
   "metadata": {
    "id": "prime-genetics"
   },
   "outputs": [],
   "source": [
    "data.drop(['MRI ID','Hand','Subject ID'],axis=1, inplace=True)"
   ]
  },
  {
   "cell_type": "code",
   "execution_count": null,
   "id": "selected-mailing",
   "metadata": {
    "id": "selected-mailing"
   },
   "outputs": [],
   "source": [
    "data.head(2)"
   ]
  },
  {
   "cell_type": "markdown",
   "id": "reported-expression",
   "metadata": {
    "id": "reported-expression"
   },
   "source": [
    "#### Encode columns into numeric"
   ]
  },
  {
   "cell_type": "code",
   "execution_count": null,
   "id": "radical-procurement",
   "metadata": {
    "id": "radical-procurement"
   },
   "outputs": [],
   "source": [
    "le = LabelEncoder()\n",
    "data['M/F'] = le.fit_transform(data['M/F'])\n",
    "data.head(2)"
   ]
  },
  {
   "cell_type": "markdown",
   "id": "hundred-geometry",
   "metadata": {
    "id": "hundred-geometry"
   },
   "source": [
    "#### Handle the null values by removing or replacing"
   ]
  },
  {
   "cell_type": "code",
   "execution_count": null,
   "id": "geographic-celebration",
   "metadata": {
    "id": "geographic-celebration"
   },
   "outputs": [],
   "source": [
    "data.fillna(data.mean(), inplace=True)\n",
    "data.isna().sum()"
   ]
  },
  {
   "cell_type": "markdown",
   "id": "intelligent-worse",
   "metadata": {
    "id": "intelligent-worse"
   },
   "source": [
    "#### Identify feature and target and split it into train test"
   ]
  },
  {
   "cell_type": "code",
   "execution_count": null,
   "id": "artificial-declaration",
   "metadata": {
    "id": "artificial-declaration"
   },
   "outputs": [],
   "source": [
    "X = data.drop('Group',axis=1)\n",
    "y = data['Group']\n",
    "X_train, X_test, y_train, y_test = train_test_split(X, y, test_size=0.1, random_state=42)"
   ]
  },
  {
   "cell_type": "code",
   "execution_count": null,
   "id": "orange-referral",
   "metadata": {
    "id": "orange-referral"
   },
   "outputs": [],
   "source": [
    "X_train.shape, X_test.shape, y_train.shape"
   ]
  },
  {
   "cell_type": "markdown",
   "id": "hispanic-reply",
   "metadata": {
    "id": "hispanic-reply"
   },
   "source": [
    "### EDA &  Visualization"
   ]
  },
  {
   "cell_type": "markdown",
   "id": "coordinate-domain",
   "metadata": {
    "id": "coordinate-domain"
   },
   "source": [
    "#### Plot the distribution of all the variables using histogram"
   ]
  },
  {
   "cell_type": "code",
   "execution_count": null,
   "id": "normal-artist",
   "metadata": {
    "id": "normal-artist"
   },
   "outputs": [],
   "source": [
    "data.hist(bins=30, figsize=(20,15))\n",
    "plt.show()"
   ]
  },
  {
   "cell_type": "markdown",
   "id": "minimal-latest",
   "metadata": {
    "id": "minimal-latest"
   },
   "source": [
    "#### Visualize the frequency of Age"
   ]
  },
  {
   "cell_type": "code",
   "execution_count": null,
   "id": "fabulous-appointment",
   "metadata": {
    "id": "fabulous-appointment"
   },
   "outputs": [],
   "source": [
    "ax = sns.countplot(x='Age', data=data)\n",
    "ax.figure.set_size_inches(18.5, 5)"
   ]
  },
  {
   "cell_type": "markdown",
   "id": "1IZO_1D--t5r",
   "metadata": {
    "id": "1IZO_1D--t5r"
   },
   "source": [
    "#### How many people have Alzheimer? Visualize with an appropriate plot\n",
    "\n",
    "the same person visits two or more times; extract the single visit data and plot\n",
    "\n",
    "**Hint**: Visit = 1"
   ]
  },
  {
   "cell_type": "code",
   "execution_count": null,
   "id": "unusual-burst",
   "metadata": {
    "id": "unusual-burst"
   },
   "outputs": [],
   "source": [
    "sns.set_style(\"whitegrid\")\n",
    "ex_df = data.loc[data['Visit'] == 1]\n",
    "sns.countplot(x='Group', data=ex_df)"
   ]
  },
  {
   "cell_type": "markdown",
   "id": "welcome-arbitration",
   "metadata": {
    "id": "welcome-arbitration"
   },
   "source": [
    "#### Calculate the correlation of features and plot the heatmap"
   ]
  },
  {
   "cell_type": "code",
   "execution_count": null,
   "id": "royal-address",
   "metadata": {
    "id": "royal-address"
   },
   "outputs": [],
   "source": [
    "corr = data.corr()\n",
    "_ , ax = plt.subplots( figsize =( 12 , 10 ) )\n",
    "cmap = sns.diverging_palette( 240 , 10 , as_cmap = True )\n",
    "sns.heatmap(corr,cmap = cmap,square=True, cbar_kws={ 'shrink' : .9 }, ax=ax, annot = True, annot_kws = { 'fontsize' : 12 })"
   ]
  },
  {
   "cell_type": "markdown",
   "id": "ZMwgtksx-x1-",
   "metadata": {
    "id": "ZMwgtksx-x1-"
   },
   "source": [
    "### Model training and evaluation\n",
    "\n",
    "**Hint:** SVM model from sklearn"
   ]
  },
  {
   "cell_type": "code",
   "execution_count": null,
   "id": "superb-invasion",
   "metadata": {
    "id": "superb-invasion"
   },
   "outputs": [],
   "source": [
    "# SVC model\n",
    "svm = SVC(kernel=\"linear\")\n",
    "svm.fit(X_train, y_train)\n",
    "\n",
    "test_acc = svm.score(X_test, y_test)\n",
    "train_acc = svm.score(X_train, y_train)\n",
    "print(\"Train accuracy is: {} \\nTest accuracy is: {}\".format(train_acc, test_acc))"
   ]
  },
  {
   "cell_type": "code",
   "execution_count": null,
   "id": "mtLFDHk_W1Dr",
   "metadata": {
    "id": "mtLFDHk_W1Dr"
   },
   "outputs": [],
   "source": [
    "# Checking the misclassifications\n",
    "model1_predictions = svm.predict(data.drop('Group',axis=1))\n",
    "model1_misclassified  = data[data['Group']!=model1_predictions]\n",
    "len(model1_misclassified)"
   ]
  },
  {
   "cell_type": "markdown",
   "id": "biological-diagram",
   "metadata": {
    "id": "biological-diagram"
   },
   "source": [
    "#### Support vectors of the model\n",
    "\n",
    "* Find the samples of the dataset which are the support vectors of the model "
   ]
  },
  {
   "cell_type": "code",
   "execution_count": null,
   "id": "strange-imagination",
   "metadata": {
    "id": "strange-imagination"
   },
   "outputs": [],
   "source": [
    "support_vectors = pd.DataFrame(svm.support_vectors_,columns=X_train.columns)\n",
    "support_vectors"
   ]
  },
  {
   "cell_type": "markdown",
   "id": "4lhZW0fq-4-2",
   "metadata": {
    "id": "4lhZW0fq-4-2"
   },
   "source": [
    "#### Confusion matrix for multi-class classification\n",
    "\n",
    "* Predict the test and plot the confusion matrix"
   ]
  },
  {
   "cell_type": "code",
   "execution_count": null,
   "id": "eytk2LyXn7h2",
   "metadata": {
    "id": "eytk2LyXn7h2"
   },
   "outputs": [],
   "source": [
    "multi_cm = metrics.confusion_matrix(y_test, svm.predict(X_test))\n",
    "plt.imshow(multi_cm,  cmap=plt.cm.Wistia_r)\n",
    "classNames = ['Nondemented','Demented','Converted']\n",
    "plt.title('Confusion Matrix')\n",
    "plt.ylabel('True label')\n",
    "plt.xlabel('Predicted label')\n",
    "tick_marks = np.arange(len(classNames))\n",
    "plt.xticks(tick_marks, classNames)\n",
    "plt.yticks(tick_marks, classNames)\n",
    "s = [['TN','FP'], ['FN', 'TP']]\n",
    "for i in range(3):\n",
    "    for j in range(3):\n",
    "        plt.text(j,i, str(multi_cm[i][j]))\n",
    "plt.show()"
   ]
  },
  {
   "cell_type": "markdown",
   "id": "prepared-socket",
   "metadata": {
    "id": "prepared-socket"
   },
   "source": [
    "#### One VS Rest Classifier\n",
    "\n",
    "OneVsRestClassifier can also be used for multilabel classification. For each classifier, the class is fitted against all the other classes. In addition to its computational efficiency (only n_classes classifiers are needed)\n",
    "\n",
    "* Fit the OneVsRestClassifier on the data and find the accuracy\n",
    "\n",
    "Hint: [OneVsRestClassifier](https://scikit-learn.org/stable/modules/generated/sklearn.multiclass.OneVsRestClassifier.html)"
   ]
  },
  {
   "cell_type": "code",
   "execution_count": null,
   "id": "appointed-division",
   "metadata": {
    "id": "appointed-division"
   },
   "outputs": [],
   "source": [
    "from sklearn.multiclass import OneVsRestClassifier\n",
    "clf_OneVsRest = OneVsRestClassifier(SVC(kernel='linear')).fit(X_train, y_train)\n",
    "clf_OneVsRest.score(X_test, y_test)"
   ]
  },
  {
   "cell_type": "markdown",
   "id": "indoor-teddy",
   "metadata": {
    "id": "indoor-teddy"
   },
   "source": [
    "#### One VS One Classifier\n",
    "\n",
    "This strategy consists in fitting one classifier per class pair. At prediction time, the class which received the most votes is selected.\n",
    "\n",
    "* Fit the OneVsOneClassifier on the data and find the accuracy\n",
    "\n",
    "Hint: [OneVsOneClassifier](https://scikit-learn.org/stable/modules/generated/sklearn.multiclass.OneVsOneClassifier.html)"
   ]
  },
  {
   "cell_type": "code",
   "execution_count": null,
   "id": "powered-combination",
   "metadata": {
    "id": "powered-combination"
   },
   "outputs": [],
   "source": [
    "from sklearn.multiclass import OneVsOneClassifier\n",
    "clf_OneVsOne = OneVsOneClassifier(SVC(kernel='linear',random_state=0)).fit(X_train, y_train)\n",
    "clf_OneVsOne.score(X_test, y_test)"
   ]
  },
  {
   "cell_type": "markdown",
   "id": "supposed-entrance",
   "metadata": {
    "id": "supposed-entrance"
   },
   "source": [
    "#### Make it binary classification\n",
    "\n",
    "As stated in dataset description, 14 subjects were characterized as nondemented at the time of their initial visit and were subsequently characterized as demented at a later visit. Change `Converted` label into `Demented`.\n",
    "\n",
    "**Note:** In two-class classification, encode the labels into numerical to plot the roc_curve with predictions."
   ]
  },
  {
   "cell_type": "code",
   "execution_count": null,
   "id": "seventh-midnight",
   "metadata": {
    "id": "seventh-midnight"
   },
   "outputs": [],
   "source": [
    "# Combining 3rd label and 2nd label\n",
    "data['Group'] = data['Group'].replace(['Converted'], ['Demented'])\n",
    "data['Group'] = LabelEncoder().fit_transform(data['Group'])"
   ]
  },
  {
   "cell_type": "code",
   "execution_count": null,
   "id": "married-cabinet",
   "metadata": {
    "id": "married-cabinet"
   },
   "outputs": [],
   "source": [
    "# SPlit the data which is having 2 labels\n",
    "X1 = data.drop('Group',axis=1)\n",
    "y1 = data['Group']\n",
    "xtrain, xtest, ytrain, ytest = train_test_split(X1, y1, test_size=0.10, random_state=42)"
   ]
  },
  {
   "cell_type": "code",
   "execution_count": null,
   "id": "quarterly-sacrifice",
   "metadata": {
    "id": "quarterly-sacrifice"
   },
   "outputs": [],
   "source": [
    "ytrain.value_counts()"
   ]
  },
  {
   "cell_type": "code",
   "execution_count": null,
   "id": "dressed-motorcycle",
   "metadata": {
    "id": "dressed-motorcycle"
   },
   "outputs": [],
   "source": [
    "svm_binary_model = SVC(kernel=\"linear\")\n",
    "svm_binary_model.fit(xtrain, ytrain)\n",
    "predicted = svm_binary_model.predict(xtest)\n",
    "svm_binary_model.score(xtest, ytest), svm_binary_model.score(xtrain, ytrain)"
   ]
  },
  {
   "cell_type": "code",
   "execution_count": null,
   "id": "FYcm2f8jZEJc",
   "metadata": {
    "id": "FYcm2f8jZEJc"
   },
   "outputs": [],
   "source": [
    "# predictions\n",
    "model2_predictions = svm_binary_model.predict(xtest)\n",
    "model2_predictions"
   ]
  },
  {
   "cell_type": "code",
   "execution_count": null,
   "id": "7_latNXtaArV",
   "metadata": {
    "id": "7_latNXtaArV"
   },
   "outputs": [],
   "source": [
    "# comparing 3-class with 2-class predictions\n",
    "np.array([0 if i=='Demented' else 1 for i in svm.predict(X_test) ]) == model2_predictions"
   ]
  },
  {
   "cell_type": "markdown",
   "id": "normal-vessel",
   "metadata": {
    "id": "normal-vessel"
   },
   "source": [
    "### Classification report and metrics"
   ]
  },
  {
   "cell_type": "markdown",
   "id": "heard-magazine",
   "metadata": {
    "id": "heard-magazine"
   },
   "source": [
    "#### Confusion matrix\n",
    "\n",
    "Describe the performance of a classification model (or \"classifier\") on a set of test data for which the true values are known."
   ]
  },
  {
   "cell_type": "code",
   "execution_count": null,
   "id": "intelligent-table",
   "metadata": {
    "id": "intelligent-table",
    "scrolled": true
   },
   "outputs": [],
   "source": [
    "cm = metrics.confusion_matrix(ytest, predicted)\n",
    "\n",
    "plt.imshow(cm, interpolation='nearest', cmap=plt.cm.Wistia)\n",
    "classNames = ['Nondemented','Demented']\n",
    "plt.title('Confusion Matrix')\n",
    "plt.ylabel('True label')\n",
    "plt.xlabel('Predicted label')\n",
    "tick_marks = np.arange(len(classNames))\n",
    "plt.xticks(tick_marks, classNames)\n",
    "plt.yticks(tick_marks, classNames)\n",
    "s = [['TN','FP'], ['FN', 'TP']]\n",
    "for i in range(2):\n",
    "    for j in range(2):\n",
    "        plt.text(j,i, str(s[i][j])+\" = \"+str(cm[i][j]))\n",
    "plt.show()"
   ]
  },
  {
   "cell_type": "markdown",
   "id": "announced-prerequisite",
   "metadata": {
    "id": "announced-prerequisite"
   },
   "source": [
    "#### Plot the ROC Curve\n",
    "\n",
    "ROC curves typically feature true positive rate on the Y axis, and false positive rate on the X axis. This means that the top left corner of the plot is the “ideal” point - a false positive rate of zero, and a true positive rate of one. This is not very realistic, but it does mean that a larger area under the curve (AUC) is usually better."
   ]
  },
  {
   "cell_type": "code",
   "execution_count": null,
   "id": "threatened-laugh",
   "metadata": {
    "id": "threatened-laugh"
   },
   "outputs": [],
   "source": [
    "fpr, tpr, thresholds = metrics.roc_curve(predicted,y_test)\n",
    "roc_auc = metrics.auc(fpr, tpr)\n",
    "\n",
    "plt.figure()\n",
    "plt.plot(fpr, tpr,  lw=1, label='ROC curve (area = %0.2f)' % roc_auc)\n",
    "plt.plot([0, 1], [0, 1], lw=2, linestyle='--')\n",
    "plt.xlabel('False Positive Rate')\n",
    "plt.ylabel('True Positive Rate')\n",
    "plt.title('Receiver operating characteristic')\n",
    "plt.legend(loc=\"lower right\")\n",
    "plt.show()"
   ]
  },
  {
   "cell_type": "markdown",
   "id": "fresh-force",
   "metadata": {
    "id": "fresh-force"
   },
   "source": [
    "### Choice of C for SVM\n",
    "\n",
    "experiment with different C values given and plot the ROC curve for each"
   ]
  },
  {
   "cell_type": "code",
   "execution_count": null,
   "id": "noble-uruguay",
   "metadata": {
    "id": "noble-uruguay"
   },
   "outputs": [],
   "source": [
    "import math\n",
    "\n",
    "c_val = [0.0001, 0.001, 0.01, 0.1, 1, 10, 100, 1000]\n",
    "num_cols = 3\n",
    "num_rows = math.ceil(len(c_val) / num_cols)\n",
    "\n",
    "# create a single figure\n",
    "plt.clf()\n",
    "fig,axes = plt.subplots(num_rows,num_cols,sharey=True)\n",
    "fig.set_size_inches(num_cols*5,num_rows*5)\n",
    "\n",
    "for i,g in enumerate(c_val):\n",
    "    svm_model = SVC(kernel='linear',C=g).fit(X_train,y_train )\n",
    "    y_preds = svm_model.predict(X_test)\n",
    "    fpr, tpr, _ = metrics.roc_curve(y_test, y_preds)\n",
    "    auc_score = metrics.auc(fpr, tpr)\n",
    "    ax = axes[i // num_cols, i % num_cols]\n",
    "    ax.plot(fpr, tpr, label='AUC = {:.3f}'.format(auc_score))\n",
    "    ax.legend(loc='lower right')\n",
    "    ax.plot([0,1],[0,1],'r--')\n",
    "    ax.set_xlim([-0.1,1.1])\n",
    "    ax.set_ylim([-0.1,1.1])\n",
    "    ax.set_ylabel('True Positive Rate')\n",
    "    ax.set_xlabel('False Positive Rate')\n",
    "\n",
    "plt.show()"
   ]
  },
  {
   "cell_type": "markdown",
   "id": "Dv50Ap2l_NZ8",
   "metadata": {
    "id": "Dv50Ap2l_NZ8"
   },
   "source": [
    "### Report Analysis\n",
    "\n",
    "* Compare the performance of the model with various Kernel parameters.\n",
    "* Discuss the impact of parameter C and gamma on performance.\n",
    "* Comment on the computational cost of implementing one vs one and one vs all to solve multi-class classification with binary classifier.\n",
    "* When do you call a sample/record in the data as a support vector?"
   ]
  }
 ],
 "metadata": {
  "colab": {
   "collapsed_sections": [],
   "name": "CDS-B1-M4-SNB_MiniProject_3_SVM_Classifier.ipynb",
   "provenance": []
  },
  "kernelspec": {
   "display_name": "Python 3",
   "language": "python",
   "name": "python3"
  },
  "language_info": {
   "codemirror_mode": {
    "name": "ipython",
    "version": 3
   },
   "file_extension": ".py",
   "mimetype": "text/x-python",
   "name": "python",
   "nbconvert_exporter": "python",
   "pygments_lexer": "ipython3",
   "version": "3.9.2"
  }
 },
 "nbformat": 4,
 "nbformat_minor": 5
}
