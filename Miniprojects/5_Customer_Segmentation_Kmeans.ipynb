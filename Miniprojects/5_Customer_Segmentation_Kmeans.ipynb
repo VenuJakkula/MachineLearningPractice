{
 "cells": [
  {
   "cell_type": "markdown",
   "id": "another-optimum",
   "metadata": {
    "id": "another-optimum"
   },
   "source": [
    "# Advanced Certification Program in Computational Data Science\n",
    "\n",
    "##  A program by IISc and TalentSprint\n",
    "\n",
    "### Mini Project Notebook: Customer segmentation using clustering"
   ]
  },
  {
   "cell_type": "markdown",
   "id": "maritime-miami",
   "metadata": {
    "id": "maritime-miami"
   },
   "source": [
    "## Learning Objectives"
   ]
  },
  {
   "cell_type": "markdown",
   "id": "nljJR6CwfZN_",
   "metadata": {
    "id": "nljJR6CwfZN_"
   },
   "source": [
    "At the end of the experiment, you will be able to :\n",
    "\n",
    "* extract summary level insight from a given customer dataset.\n",
    "\n",
    "* handle the missing data and identify the underlying pattern or structure of the data.\n",
    "\n",
    "* create an unsupervised model that generates the optimum number of segments for the customer base\n",
    "\n",
    "* identify customer segments based on the overall buying behaviour\n"
   ]
  },
  {
   "cell_type": "markdown",
   "id": "surprising-uruguay",
   "metadata": {
    "id": "surprising-uruguay"
   },
   "source": [
    "## Dataset"
   ]
  },
  {
   "cell_type": "markdown",
   "id": "interior-simple",
   "metadata": {
    "id": "interior-simple"
   },
   "source": [
    "The dataset chosen for this mini project is the Online Retail dataset. It is a transnational data set which contains all the transactions occurring between 01/12/2010 and 09/12/2011 for a UK-based and registered non-store online retail.\n",
    "\n",
    "The dataset contains 541909 records, and each record is made up of 8 fields.\n",
    "\n",
    "To know more about the dataset : [click here](https://archive.ics.uci.edu/ml/datasets/Online+Retail)"
   ]
  },
  {
   "cell_type": "markdown",
   "id": "infrared-olympus",
   "metadata": {
    "id": "infrared-olympus"
   },
   "source": [
    "## Information"
   ]
  },
  {
   "cell_type": "markdown",
   "id": "d6yE5zbTj3Tm",
   "metadata": {
    "id": "d6yE5zbTj3Tm"
   },
   "source": [
    "**Clustering** is the task of grouping together a set of objects so that the objects in the same cluster are more similar to each other than to objects in other clusters. Similarity is a measure that reflects the strength of the relationship between two data objects.\n",
    "\n",
    "In the clustering calculation, K-Means is a very popular algorithm. In this analysis, this method is used to cluster the similar data items.\n",
    "\n",
    "In Retail and E-Commerce (B2C), and more broadly in B2B, one of the key elements shaping the business strategy of a firm is understanding of customer behaviour. More specifically, understanding the customers based on different business metrics: how much they spend (revenue), how often they spend (frequency), are they new or existing customers, what are their favorite products, etc... Such understanding in turn helps direct marketing, sales, account management and product teams to support customers on a personalized level and improve the product offering.\n",
    "\n",
    "Furthermore, segmenting customers into different categories based on similar/cyclical buying pattern over a period of 1 year helps the retail shops manage their inventory better, thereby lowering costs and raising revenues by placing the orders in sync with the buying cycles."
   ]
  },
  {
   "cell_type": "markdown",
   "id": "ih-oasWmdZul",
   "metadata": {
    "id": "ih-oasWmdZul"
   },
   "source": [
    "## Problem Statement"
   ]
  },
  {
   "cell_type": "markdown",
   "id": "qfWGmjNHdZul",
   "metadata": {
    "id": "qfWGmjNHdZul"
   },
   "source": [
    "Perform customer segmentation for an Online Retail using an Unsupervised Clustering technique (K-Means)"
   ]
  },
  {
   "cell_type": "markdown",
   "id": "abstract-stocks",
   "metadata": {
    "id": "abstract-stocks"
   },
   "source": [
    "### Import Required packages"
   ]
  },
  {
   "cell_type": "code",
   "execution_count": null,
   "id": "advisory-knowing",
   "metadata": {
    "id": "advisory-knowing"
   },
   "outputs": [],
   "source": [
    "from matplotlib import pyplot as plt\n",
    "import numpy as np\n",
    "import pandas as pd\n",
    "import seaborn as sns\n",
    "import scipy\n",
    "from sklearn.cluster import KMeans"
   ]
  },
  {
   "cell_type": "code",
   "execution_count": null,
   "id": "ybY7HeobdZum",
   "metadata": {
    "cellView": "form",
    "id": "ybY7HeobdZum"
   },
   "outputs": [],
   "source": [
    "#@title Download the data\n",
    "!wget -qq https://cdn.iisc.talentsprint.com/CDS/MiniProjects/Online_Retail.zip\n",
    "!unzip -qq Online_Retail.zip"
   ]
  },
  {
   "cell_type": "markdown",
   "id": "gp4bF_GJdZuo",
   "metadata": {
    "id": "gp4bF_GJdZuo"
   },
   "source": [
    "## Load the data"
   ]
  },
  {
   "cell_type": "code",
   "execution_count": null,
   "id": "prerequisite-knock",
   "metadata": {
    "colab": {
     "base_uri": "https://localhost:8080/",
     "height": 289
    },
    "executionInfo": {
     "elapsed": 1009,
     "status": "ok",
     "timestamp": 1624173824798,
     "user": {
      "displayName": "CDS Support",
      "photoUrl": "",
      "userId": "15376517909823222822"
     },
     "user_tz": -330
    },
    "id": "prerequisite-knock",
    "outputId": "79ad2b87-1839-4cfe-f0d6-e2b7ae0b148c"
   },
   "outputs": [
    {
     "data": {
      "text/html": [
       "<div>\n",
       "<style scoped>\n",
       "    .dataframe tbody tr th:only-of-type {\n",
       "        vertical-align: middle;\n",
       "    }\n",
       "\n",
       "    .dataframe tbody tr th {\n",
       "        vertical-align: top;\n",
       "    }\n",
       "\n",
       "    .dataframe thead th {\n",
       "        text-align: right;\n",
       "    }\n",
       "</style>\n",
       "<table border=\"1\" class=\"dataframe\">\n",
       "  <thead>\n",
       "    <tr style=\"text-align: right;\">\n",
       "      <th></th>\n",
       "      <th>InvoiceNo</th>\n",
       "      <th>StockCode</th>\n",
       "      <th>Description</th>\n",
       "      <th>Quantity</th>\n",
       "      <th>InvoiceDate</th>\n",
       "      <th>UnitPrice</th>\n",
       "      <th>CustomerID</th>\n",
       "      <th>Country</th>\n",
       "    </tr>\n",
       "  </thead>\n",
       "  <tbody>\n",
       "    <tr>\n",
       "      <th>0</th>\n",
       "      <td>579427</td>\n",
       "      <td>22636</td>\n",
       "      <td>CHILDS BREAKFAST SET CIRCUS PARADE</td>\n",
       "      <td>2</td>\n",
       "      <td>2011-11-29 13:04:00</td>\n",
       "      <td>8.50</td>\n",
       "      <td>16479.0</td>\n",
       "      <td>United Kingdom</td>\n",
       "    </tr>\n",
       "    <tr>\n",
       "      <th>1</th>\n",
       "      <td>554092</td>\n",
       "      <td>21916</td>\n",
       "      <td>SET 12 RETRO WHITE CHALK STICKS</td>\n",
       "      <td>24</td>\n",
       "      <td>2011-05-22 12:41:00</td>\n",
       "      <td>0.42</td>\n",
       "      <td>17176.0</td>\n",
       "      <td>United Kingdom</td>\n",
       "    </tr>\n",
       "    <tr>\n",
       "      <th>2</th>\n",
       "      <td>577774</td>\n",
       "      <td>84692</td>\n",
       "      <td>BOX OF 24 COCKTAIL PARASOLS</td>\n",
       "      <td>6</td>\n",
       "      <td>2011-11-21 15:57:00</td>\n",
       "      <td>0.42</td>\n",
       "      <td>16712.0</td>\n",
       "      <td>United Kingdom</td>\n",
       "    </tr>\n",
       "    <tr>\n",
       "      <th>3</th>\n",
       "      <td>C571196</td>\n",
       "      <td>23350</td>\n",
       "      <td>ROLL WRAP VINTAGE SPOT</td>\n",
       "      <td>-12</td>\n",
       "      <td>2011-10-14 12:02:00</td>\n",
       "      <td>1.25</td>\n",
       "      <td>NaN</td>\n",
       "      <td>United Kingdom</td>\n",
       "    </tr>\n",
       "    <tr>\n",
       "      <th>4</th>\n",
       "      <td>546649</td>\n",
       "      <td>84509a</td>\n",
       "      <td>SET OF 4 ENGLISH ROSE PLACEMATS</td>\n",
       "      <td>1</td>\n",
       "      <td>2011-03-15 14:17:00</td>\n",
       "      <td>7.46</td>\n",
       "      <td>NaN</td>\n",
       "      <td>United Kingdom</td>\n",
       "    </tr>\n",
       "  </tbody>\n",
       "</table>\n",
       "</div>"
      ],
      "text/plain": [
       "  InvoiceNo StockCode  ... CustomerID         Country\n",
       "0    579427     22636  ...    16479.0  United Kingdom\n",
       "1    554092     21916  ...    17176.0  United Kingdom\n",
       "2    577774     84692  ...    16712.0  United Kingdom\n",
       "3   C571196     23350  ...        NaN  United Kingdom\n",
       "4    546649    84509a  ...        NaN  United Kingdom\n",
       "\n",
       "[5 rows x 8 columns]"
      ]
     },
     "execution_count": 78,
     "metadata": {
      "tags": []
     },
     "output_type": "execute_result"
    }
   ],
   "source": [
    "data = pd.read_csv('Online_Retail_Train.csv')\n",
    "data.head()"
   ]
  },
  {
   "cell_type": "code",
   "execution_count": null,
   "id": "OL-K9lnWD71d",
   "metadata": {
    "colab": {
     "base_uri": "https://localhost:8080/"
    },
    "executionInfo": {
     "elapsed": 301,
     "status": "ok",
     "timestamp": 1624173824800,
     "user": {
      "displayName": "CDS Support",
      "photoUrl": "",
      "userId": "15376517909823222822"
     },
     "user_tz": -330
    },
    "id": "OL-K9lnWD71d",
    "outputId": "83e57cb0-a27c-4e14-9c7e-6ba59b4a7caf"
   },
   "outputs": [
    {
     "data": {
      "text/plain": [
       "(514813, 8)"
      ]
     },
     "execution_count": 79,
     "metadata": {
      "tags": []
     },
     "output_type": "execute_result"
    }
   ],
   "source": [
    "data.shape"
   ]
  },
  {
   "cell_type": "markdown",
   "id": "vtV_KWBLUzRk",
   "metadata": {
    "id": "vtV_KWBLUzRk"
   },
   "source": [
    "## Data Pre-processing (2 points)"
   ]
  },
  {
   "cell_type": "markdown",
   "id": "NQrT5tx3dZuq",
   "metadata": {
    "id": "NQrT5tx3dZuq"
   },
   "source": [
    "Explore the dataset by performing the following operations:\n",
    "\n",
    "* There is a lot of redundant data. Identify such data and take appropriate action.\n",
    "\n",
    "  **Hint:** refer to this [link](https://pandas.pydata.org/pandas-docs/stable/reference/api/pandas.DataFrame.drop_duplicates.html)\n",
    "\n",
    "* Most Invoices appear as normal transactions with positive quantity and prices, but there are some prefixed with \"C\" or \"A\" which denote different transaction types. Invoice starting with C represents cancelled order and A represents the Adjusted. Identify such data and take appropriate action.\n",
    "\n",
    "  **Hint:** Check the negative values in Quantity column for all cancelled orders\n",
    "\n",
    "* Handle the null values by dropping or filling with appropriate mean\n",
    "\n",
    "\n",
    "* Some of the transactions based on the `StockCode` variable are not actually products, but representing the costs or fees regarding to the post or bank or other tansactions. Find such data and handle it accordingly.\n",
    "\n",
    "  Hint:\n",
    "    - The transaction with `'POST' 'PADS' 'M' 'DOT' 'C2' 'BANK CHARGES'` as their `StockCodes` are considered as irrelevant transactions.\n",
    "\n",
    "* Identify the outliers in the UntiPrice and Quantity and handle them accordingly.\n",
    "\n",
    "  **Hint:** [link](https://kanoki.org/2020/04/23/how-to-remove-outliers-in-python/)\n",
    "\n",
    "* Create a DayOfWeek column using `InvoiceDate`, Hint: pd.to_datetime()\n",
    "\n",
    "**Note:** Perform all the above operations using a function to reuse and apply the same for test data."
   ]
  },
  {
   "cell_type": "code",
   "execution_count": null,
   "id": "MIqHzKCOIcT4",
   "metadata": {
    "id": "MIqHzKCOIcT4"
   },
   "outputs": [],
   "source": [
    "# original dataframe for backup\n",
    "data_orig = data"
   ]
  },
  {
   "cell_type": "code",
   "execution_count": null,
   "id": "advanced-dispute",
   "metadata": {
    "colab": {
     "base_uri": "https://localhost:8080/"
    },
    "executionInfo": {
     "elapsed": 173,
     "status": "ok",
     "timestamp": 1624173824804,
     "user": {
      "displayName": "CDS Support",
      "photoUrl": "",
      "userId": "15376517909823222822"
     },
     "user_tz": -330
    },
    "id": "advanced-dispute",
    "outputId": "97c5362d-ed59-47fd-f8ef-f58a8abb8763"
   },
   "outputs": [
    {
     "data": {
      "text/plain": [
       "(8797, 10084)"
      ]
     },
     "execution_count": 81,
     "metadata": {
      "tags": []
     },
     "output_type": "execute_result"
    }
   ],
   "source": [
    "# Identify the cancelled orders\n",
    "len(data[data.InvoiceNo.str[0] == 'C']), len(data[data.Quantity < 1 ])"
   ]
  },
  {
   "cell_type": "code",
   "execution_count": null,
   "id": "european-discount",
   "metadata": {
    "colab": {
     "base_uri": "https://localhost:8080/"
    },
    "executionInfo": {
     "elapsed": 74,
     "status": "ok",
     "timestamp": 1624173824805,
     "user": {
      "displayName": "CDS Support",
      "photoUrl": "",
      "userId": "15376517909823222822"
     },
     "user_tz": -330
    },
    "id": "european-discount",
    "outputId": "62e4258a-dfe9-4b79-8d5e-ede20fe6b566"
   },
   "outputs": [
    {
     "data": {
      "text/plain": [
       "InvoiceNo           0\n",
       "StockCode           0\n",
       "Description      1385\n",
       "Quantity            0\n",
       "InvoiceDate         0\n",
       "UnitPrice           0\n",
       "CustomerID     128263\n",
       "Country             0\n",
       "dtype: int64"
      ]
     },
     "execution_count": 82,
     "metadata": {
      "tags": []
     },
     "output_type": "execute_result"
    }
   ],
   "source": [
    "# Check the null values\n",
    "data.isna().sum()"
   ]
  },
  {
   "cell_type": "code",
   "execution_count": null,
   "id": "protective-tomorrow",
   "metadata": {
    "colab": {
     "base_uri": "https://localhost:8080/"
    },
    "executionInfo": {
     "elapsed": 733,
     "status": "ok",
     "timestamp": 1624173825523,
     "user": {
      "displayName": "CDS Support",
      "photoUrl": "",
      "userId": "15376517909823222822"
     },
     "user_tz": -330
    },
    "id": "protective-tomorrow",
    "outputId": "8c3d1e49-1a52-4a0a-94d3-2ae276d7902d"
   },
   "outputs": [
    {
     "name": "stdout",
     "output_type": "stream",
     "text": [
      "Irrelevant Transactions: \n",
      " ['m' 'gift_0001_50' 'gift_0001_40' 'gift_0001_30' 'gift_0001_20'\n",
      " 'gift_0001_10' 'S' 'POST' 'PADS' 'M' 'DOT' 'DCGSSGIRL' 'DCGSSBOY'\n",
      " 'DCGS0076' 'DCGS0074' 'DCGS0073' 'DCGS0072' 'DCGS0071' 'DCGS0070'\n",
      " 'DCGS0069' 'DCGS0068' 'DCGS0066P' 'DCGS0057' 'DCGS0004' 'DCGS0003' 'D'\n",
      " 'CRUK' 'C2' 'BANK CHARGES' 'B' 'AMAZONFEE' '90214Z' '90214Y' '90214W'\n",
      " '90214V' '90214U' '90214T' '90214S' '90214R' '90214P' '90214O' '90214N'\n",
      " '90214M' '90214L' '90214K' '90214J' '90214I' '90214H' '90214G' '90214F'\n",
      " '90214E' '90214D' '90214C' '90214B' '90214A' '90212C' '90212B' '90211B'\n",
      " '90211A' '90210D' '90210C' '90210B' '90210A' '90209C' '90209B' '90209A'\n",
      " '90208' '90206C' '90206A' '90205C' '90205A' '90204' '90202D' '90202C'\n",
      " '90202B' '90202A' '90201D' '90201C' '90201B' '90201A' '90200E' '90200D'\n",
      " '90200C' '90200B' '90200A' '90199D' '90199C' '90199B' '90199A' '90198B'\n",
      " '90198A' '90197B' '90196B' '90196A' '90195B' '90195A' '90194' '90192'\n",
      " '90191' '90190C']\n"
     ]
    }
   ],
   "source": [
    "# Irrelevant transactions\n",
    "Irrelevant = data['StockCode'].astype('str').unique()\n",
    "Irrelevant.sort()\n",
    "print('Irrelevant Transactions: \\n',Irrelevant[::-1][:100])"
   ]
  },
  {
   "cell_type": "code",
   "execution_count": null,
   "id": "c7aLvxTNHjcS",
   "metadata": {
    "colab": {
     "base_uri": "https://localhost:8080/"
    },
    "executionInfo": {
     "elapsed": 6482,
     "status": "ok",
     "timestamp": 1624173831999,
     "user": {
      "displayName": "CDS Support",
      "photoUrl": "",
      "userId": "15376517909823222822"
     },
     "user_tz": -330
    },
    "id": "c7aLvxTNHjcS",
    "outputId": "27f7a47e-f17c-420d-ff5e-76ea0b3b3bba"
   },
   "outputs": [],
   "source": [
    "def pre_processing(df):\n",
    "    df.drop_duplicates(inplace=True)\n",
    "    df = df[~ (df.InvoiceNo.str[0] == 'C')]\n",
    "    df.dropna(inplace=True)\n",
    "    df = df[~(df['StockCode'].isin(['POST', 'PADS', 'M', 'DOT', 'C2', 'BANK CHARGES']))]\n",
    "    df = df[(np.abs(scipy.stats.zscore(df['UnitPrice']))<3) & (np.abs(scipy.stats.zscore(df['Quantity']))<5)]\n",
    "    df['InvoiceDate'] = pd.to_datetime(df['InvoiceDate'].values)\n",
    "    df['DayOfWeek'] = [i.dayofweek for i in df['InvoiceDate']]\n",
    "    df['MonthName'] = [i.month_name() for i in df['InvoiceDate']]\n",
    "    return df\n",
    "\n",
    "data  = pre_processing(data_orig)"
   ]
  },
  {
   "cell_type": "markdown",
   "id": "graphic-vampire",
   "metadata": {
    "id": "graphic-vampire"
   },
   "source": [
    "## Understanding new insights from the data (1 point)"
   ]
  },
  {
   "cell_type": "markdown",
   "id": "furnished-station",
   "metadata": {
    "id": "furnished-station"
   },
   "source": [
    "1.  Are there any free items in the data? How many are there?\n",
    "\n",
    "2.  Find the number of transactions per country and visualize using an appropriate plot\n",
    "\n",
    "3.  What is the ratio of customers who are repeat purchasers vs single-time purchasers? Visualize using an appropriate plot.\n",
    "\n",
    "4. Plot heatmap showing unit price per month and day of the week\n",
    "\n",
    "  **Hint:** Month name as index on Y-axis, Day of the week on X-axis\n",
    "\n",
    "5. Find the top 10 customers who bought the most no.of items. Also find the top 10 Items bought by most no.of customers."
   ]
  },
  {
   "cell_type": "markdown",
   "id": "united-memorial",
   "metadata": {
    "id": "united-memorial"
   },
   "source": [
    "#### 1. Are there any free items in the data ? How many are there ?"
   ]
  },
  {
   "cell_type": "code",
   "execution_count": null,
   "id": "historic-supervisor",
   "metadata": {
    "colab": {
     "base_uri": "https://localhost:8080/"
    },
    "executionInfo": {
     "elapsed": 112,
     "status": "ok",
     "timestamp": 1624173832010,
     "user": {
      "displayName": "CDS Support",
      "photoUrl": "",
      "userId": "15376517909823222822"
     },
     "user_tz": -330
    },
    "id": "historic-supervisor",
    "outputId": "604cf0ea-e252-4a2f-da80-8de66299c3fa"
   },
   "outputs": [
    {
     "data": {
      "text/plain": [
       "InvoiceNo      30\n",
       "StockCode      30\n",
       "Description    30\n",
       "Quantity       30\n",
       "InvoiceDate    30\n",
       "UnitPrice      30\n",
       "CustomerID     30\n",
       "Country        30\n",
       "DayOfWeek      30\n",
       "MonthName      30\n",
       "dtype: int64"
      ]
     },
     "execution_count": 85,
     "metadata": {
      "tags": []
     },
     "output_type": "execute_result"
    }
   ],
   "source": [
    "data[data.UnitPrice == 0].count()"
   ]
  },
  {
   "cell_type": "markdown",
   "id": "north-power",
   "metadata": {
    "id": "north-power"
   },
   "source": [
    "#### 2. Find the number of transactions per country and visualize"
   ]
  },
  {
   "cell_type": "code",
   "execution_count": null,
   "id": "prescribed-speaking",
   "metadata": {
    "colab": {
     "base_uri": "https://localhost:8080/",
     "height": 432
    },
    "executionInfo": {
     "elapsed": 1471,
     "status": "ok",
     "timestamp": 1624173833432,
     "user": {
      "displayName": "CDS Support",
      "photoUrl": "",
      "userId": "15376517909823222822"
     },
     "user_tz": -330
    },
    "id": "prescribed-speaking",
    "outputId": "c4c06fa5-2c15-4dc5-9a38-72c023b44ad9"
   },
   "outputs": [
    {
     "data": {
      "image/png": "[encoded data removed]",
      "text/plain": [
       "<Figure size 720x504 with 1 Axes>"
      ]
     },
     "metadata": {
      "needs_background": "light",
      "tags": []
     },
     "output_type": "display_data"
    }
   ],
   "source": [
    "plt.figure(figsize=(10,7))\n",
    "plt.barh(data.Country.value_counts().index, data.Country.value_counts(), log=True)\n",
    "plt.show()"
   ]
  },
  {
   "cell_type": "markdown",
   "id": "popular-anthropology",
   "metadata": {
    "id": "popular-anthropology"
   },
   "source": [
    "#### 3. What is the ratio of customers who are repeat purchasers vs single-time purchasers? Visualize using an appropriate plot"
   ]
  },
  {
   "cell_type": "code",
   "execution_count": null,
   "id": "portuguese-secretariat",
   "metadata": {
    "colab": {
     "base_uri": "https://localhost:8080/",
     "height": 277
    },
    "executionInfo": {
     "elapsed": 413,
     "status": "ok",
     "timestamp": 1624173833434,
     "user": {
      "displayName": "CDS Support",
      "photoUrl": "",
      "userId": "15376517909823222822"
     },
     "user_tz": -330
    },
    "id": "portuguese-secretariat",
    "outputId": "00c42700-dc59-4d93-8f51-7ec47a4301c7"
   },
   "outputs": [
    {
     "data": {
      "image/png": "[encoded data removed]",
      "text/plain": [
       "<Figure size 432x288 with 1 Axes>"
      ]
     },
     "metadata": {
      "tags": []
     },
     "output_type": "display_data"
    }
   ],
   "source": [
    "MostRepeat = data.groupby('CustomerID')['InvoiceNo'].nunique().sort_values(ascending=False)\n",
    "rep = MostRepeat[MostRepeat != 1].values\n",
    "nrep = MostRepeat[MostRepeat == 1].values\n",
    "ser = pd.Series([len(rep)/ len(MostRepeat),len(nrep)/len(MostRepeat)], index=['Repeat Customers','One-time Customers'])\n",
    "ser.plot(kind='pie', autopct='%.2f%%').set(ylabel='')\n",
    "plt.suptitle('Top Repeat Customers', fontsize=15)\n",
    "plt.show()"
   ]
  },
  {
   "cell_type": "markdown",
   "id": "checked-bishop",
   "metadata": {
    "id": "checked-bishop"
   },
   "source": [
    "#### 4. Plot a heatmap showing unit price per month and day of the week\n",
    "\n",
    "**Hint:** Month name as index on Y-axis, Day of the week on X-axis"
   ]
  },
  {
   "cell_type": "code",
   "execution_count": null,
   "id": "YfEpDox31huU",
   "metadata": {
    "colab": {
     "base_uri": "https://localhost:8080/",
     "height": 250
    },
    "executionInfo": {
     "elapsed": 408,
     "status": "ok",
     "timestamp": 1624173833435,
     "user": {
      "displayName": "CDS Support",
      "photoUrl": "",
      "userId": "15376517909823222822"
     },
     "user_tz": -330
    },
    "id": "YfEpDox31huU",
    "outputId": "17d9e778-b9bb-475b-d5f2-a23e9cd121e5"
   },
   "outputs": [
    {
     "data": {
      "text/html": [
       "<div>\n",
       "<style scoped>\n",
       "    .dataframe tbody tr th:only-of-type {\n",
       "        vertical-align: middle;\n",
       "    }\n",
       "\n",
       "    .dataframe tbody tr th {\n",
       "        vertical-align: top;\n",
       "    }\n",
       "\n",
       "    .dataframe thead th {\n",
       "        text-align: right;\n",
       "    }\n",
       "</style>\n",
       "<table border=\"1\" class=\"dataframe\">\n",
       "  <thead>\n",
       "    <tr style=\"text-align: right;\">\n",
       "      <th></th>\n",
       "      <th>InvoiceNo</th>\n",
       "      <th>StockCode</th>\n",
       "      <th>Description</th>\n",
       "      <th>Quantity</th>\n",
       "      <th>InvoiceDate</th>\n",
       "      <th>UnitPrice</th>\n",
       "      <th>CustomerID</th>\n",
       "      <th>Country</th>\n",
       "      <th>DayOfWeek</th>\n",
       "      <th>MonthName</th>\n",
       "    </tr>\n",
       "  </thead>\n",
       "  <tbody>\n",
       "    <tr>\n",
       "      <th>0</th>\n",
       "      <td>579427</td>\n",
       "      <td>22636</td>\n",
       "      <td>CHILDS BREAKFAST SET CIRCUS PARADE</td>\n",
       "      <td>2</td>\n",
       "      <td>2011-11-29 13:04:00</td>\n",
       "      <td>8.50</td>\n",
       "      <td>16479.0</td>\n",
       "      <td>United Kingdom</td>\n",
       "      <td>1</td>\n",
       "      <td>November</td>\n",
       "    </tr>\n",
       "    <tr>\n",
       "      <th>1</th>\n",
       "      <td>554092</td>\n",
       "      <td>21916</td>\n",
       "      <td>SET 12 RETRO WHITE CHALK STICKS</td>\n",
       "      <td>24</td>\n",
       "      <td>2011-05-22 12:41:00</td>\n",
       "      <td>0.42</td>\n",
       "      <td>17176.0</td>\n",
       "      <td>United Kingdom</td>\n",
       "      <td>6</td>\n",
       "      <td>May</td>\n",
       "    </tr>\n",
       "  </tbody>\n",
       "</table>\n",
       "</div>"
      ],
      "text/plain": [
       "  InvoiceNo StockCode  ... DayOfWeek  MonthName\n",
       "0    579427     22636  ...         1   November\n",
       "1    554092     21916  ...         6        May\n",
       "\n",
       "[2 rows x 10 columns]"
      ]
     },
     "execution_count": 88,
     "metadata": {
      "tags": []
     },
     "output_type": "execute_result"
    }
   ],
   "source": [
    "data.head(2)"
   ]
  },
  {
   "cell_type": "code",
   "execution_count": null,
   "id": "visible-assault",
   "metadata": {
    "colab": {
     "base_uri": "https://localhost:8080/",
     "height": 392
    },
    "executionInfo": {
     "elapsed": 401,
     "status": "ok",
     "timestamp": 1624173833436,
     "user": {
      "displayName": "CDS Support",
      "photoUrl": "",
      "userId": "15376517909823222822"
     },
     "user_tz": -330
    },
    "id": "visible-assault",
    "outputId": "608cde7a-a273-469b-e5bc-293e64154453"
   },
   "outputs": [
    {
     "data": {
      "image/png": "[encoded data removed]",
      "text/plain": [
       "<Figure size 720x432 with 2 Axes>"
      ]
     },
     "metadata": {
      "needs_background": "light",
      "tags": []
     },
     "output_type": "display_data"
    }
   ],
   "source": [
    "HM_Data = data.pivot_table(index = 'MonthName',columns = 'DayOfWeek', values = 'UnitPrice', aggfunc='sum')\n",
    "plt.figure(figsize = (10,6))\n",
    "sns.heatmap(HM_Data, cmap = 'vlag').set(xlabel='', ylabel='')\n",
    "plt.title('Sales Value per Month and Day of Week', fontsize = 15)\n",
    "plt.show()"
   ]
  },
  {
   "cell_type": "markdown",
   "id": "straight-doctor",
   "metadata": {
    "id": "straight-doctor"
   },
   "source": [
    "#### 5. Find the top 10 customers who bought the most no.of items. Also find the top 10 Items bought by most no. of customers."
   ]
  },
  {
   "cell_type": "code",
   "execution_count": null,
   "id": "municipal-blair",
   "metadata": {
    "colab": {
     "base_uri": "https://localhost:8080/"
    },
    "executionInfo": {
     "elapsed": 394,
     "status": "ok",
     "timestamp": 1624173833437,
     "user": {
      "displayName": "CDS Support",
      "photoUrl": "",
      "userId": "15376517909823222822"
     },
     "user_tz": -330
    },
    "id": "municipal-blair",
    "outputId": "633abb7d-4cf4-48ae-8948-671baa264428"
   },
   "outputs": [
    {
     "name": "stdout",
     "output_type": "stream",
     "text": [
      "            Quantity\n",
      "CustomerID          \n",
      "14646.0       177253\n",
      "14911.0        75797\n",
      "12415.0        72540\n",
      "17511.0        61880\n",
      "18102.0        58185\n",
      "13694.0        56404\n",
      "14298.0        54677\n",
      "17450.0        54049\n",
      "14156.0        52024\n",
      "16684.0        47361\n"
     ]
    }
   ],
   "source": [
    "Top10Customers = data.groupby('CustomerID').agg({\"Quantity\":\"sum\"}).sort_values('Quantity', ascending=False).iloc[:10]\n",
    "print(Top10Customers)"
   ]
  },
  {
   "cell_type": "code",
   "execution_count": null,
   "id": "JR1luwnRCPPS",
   "metadata": {
    "colab": {
     "base_uri": "https://localhost:8080/"
    },
    "executionInfo": {
     "elapsed": 195,
     "status": "ok",
     "timestamp": 1624173833439,
     "user": {
      "displayName": "CDS Support",
      "photoUrl": "",
      "userId": "15376517909823222822"
     },
     "user_tz": -330
    },
    "id": "JR1luwnRCPPS",
    "outputId": "5d83f11c-4ca8-41ce-8eac-1c2085bc6f21"
   },
   "outputs": [
    {
     "name": "stdout",
     "output_type": "stream",
     "text": [
      "85123A    1912\n",
      "22423     1629\n",
      "85099B    1530\n",
      "47566     1329\n",
      "84879     1312\n",
      "20725     1253\n",
      "22720     1101\n",
      "23203     1031\n",
      "20727     1027\n",
      "22383     1009\n",
      "Name: StockCode, dtype: int64\n"
     ]
    }
   ],
   "source": [
    "top10Items = data.StockCode.value_counts(sort=True, ascending=False)[:10]\n",
    "print(top10Items)"
   ]
  },
  {
   "cell_type": "markdown",
   "id": "royal-chancellor",
   "metadata": {
    "id": "royal-chancellor"
   },
   "source": [
    "## Feature Engineering and Transformation (2 points)"
   ]
  },
  {
   "cell_type": "markdown",
   "id": "dietary-willow",
   "metadata": {
    "id": "dietary-willow"
   },
   "source": [
    "### Create new features to uncover better insights and drop the unwanted columns\n",
    "\n",
    "* Create a new column which represents Total amount spent by each customer\n",
    "\n",
    "    **Hint:** Quantity * UnitPrice\n",
    "\n",
    "* Customer IDs are seen to be repeated. Maintain unique customer IDs by grouping and summing up all possible observations per customer.\n",
    "\n",
    "    **Hint:** [pandas.groupby.agg](https://pandas.pydata.org/pandas-docs/version/0.22/generated/pandas.core.groupby.DataFrameGroupBy.agg.html)\n",
    "\n",
    "**Note:** Perform the above operations in function, to reuse and apply the same for test data"
   ]
  },
  {
   "cell_type": "code",
   "execution_count": null,
   "id": "gWLK28ubLSpN",
   "metadata": {
    "id": "gWLK28ubLSpN"
   },
   "outputs": [],
   "source": [
    "def feature_engineering(df):\n",
    "    # total spend by each customer\n",
    "    df['TotalSpend'] = df['Quantity'] * df['UnitPrice']\n",
    "    # unique customers\n",
    "    data_grouped = df.groupby('CustomerID')[['Quantity','TotalSpend']].agg('sum').reset_index()\n",
    "    # maximum visits on day of week by each customer \n",
    "    data_grouped['DayOfWeek'] = df.groupby('CustomerID')['DayOfWeek'].agg('max').reset_index()['DayOfWeek']\n",
    "    return data_grouped"
   ]
  },
  {
   "cell_type": "code",
   "execution_count": null,
   "id": "96969870",
   "metadata": {},
   "outputs": [],
   "source": [
    "data_grouped = feature_engineering(data)"
   ]
  },
  {
   "cell_type": "markdown",
   "id": "respected-empire",
   "metadata": {
    "id": "respected-empire"
   },
   "source": [
    "### Scale the data\n",
    " \n",
    "Apply `StandardScaler` on the features."
   ]
  },
  {
   "cell_type": "code",
   "execution_count": null,
   "id": "requested-crystal",
   "metadata": {
    "id": "requested-crystal"
   },
   "outputs": [],
   "source": [
    "# Select the features\n",
    "X = data_grouped.iloc[:, 1:]"
   ]
  },
  {
   "cell_type": "code",
   "execution_count": null,
   "id": "missing-capitol",
   "metadata": {
    "colab": {
     "base_uri": "https://localhost:8080/"
    },
    "executionInfo": {
     "elapsed": 136,
     "status": "ok",
     "timestamp": 1624173833443,
     "user": {
      "displayName": "CDS Support",
      "photoUrl": "",
      "userId": "15376517909823222822"
     },
     "user_tz": -330
    },
    "id": "missing-capitol",
    "outputId": "68499b1c-d6a3-4760-e516-20603979def0"
   },
   "outputs": [
    {
     "data": {
      "text/plain": [
       "((4316, 4), -1.9460715593883944, 41.1486005867241)"
      ]
     },
     "execution_count": 94,
     "metadata": {
      "tags": []
     },
     "output_type": "execute_result"
    }
   ],
   "source": [
    "# Feature Scaling\n",
    "from sklearn.preprocessing import StandardScaler\n",
    "sc = StandardScaler()\n",
    "X = sc.fit_transform(X)\n",
    "X.shape, X.min(), X.max()"
   ]
  },
  {
   "cell_type": "markdown",
   "id": "smooth-florist",
   "metadata": {
    "id": "smooth-florist"
   },
   "source": [
    "## Clustering ( 5 points)"
   ]
  },
  {
   "cell_type": "markdown",
   "id": "rn1qD44PI0H_",
   "metadata": {
    "id": "rn1qD44PI0H_"
   },
   "source": [
    "### Apply k-means algorithm to identify a specific number of clusters\n",
    "\n",
    "\n",
    "* Fit the k-means model\n",
    "\n",
    "* Extract and store the cluster centroids\n",
    "\n",
    "Below are the parameters for k-means, which are helpful\n",
    "\n",
    "**n_clusters** is no. of clusters specified\n",
    "\n",
    "**k-means++** is a random initialization method for centroids to avoid random initialisation trap\n",
    "\n",
    "**max_iter** is max no of iterations defined when k-means is running\n",
    "\n",
    "**n_init** is no. of times k-means will run with different initial centroids\n",
    "\n",
    "[why-is-k-means-slower-than-random-initialization-k-means](https://stats.stackexchange.com/questions/185396/why-is-k-means-slower-than-random-initialization-k-means/185422)"
   ]
  },
  {
   "cell_type": "code",
   "execution_count": null,
   "id": "palestinian-parameter",
   "metadata": {
    "id": "palestinian-parameter"
   },
   "outputs": [],
   "source": [
    "# Fitting k-means to the dataset\n",
    "kmeans = KMeans(n_clusters = 7, init = 'k-means++')\n",
    "y_kmeans = kmeans.fit_predict(X)"
   ]
  },
  {
   "cell_type": "markdown",
   "id": "reasonable-burke",
   "metadata": {
    "id": "reasonable-burke"
   },
   "source": [
    "#### Find the optimal number of clusters (K) by using the [Elbow method](https://pythonprogramminglanguage.com/kmeans-elbow-method/).\n",
    "\n",
    "Use the optimal no. of clusters and store the cluster centroids"
   ]
  },
  {
   "cell_type": "code",
   "execution_count": null,
   "id": "exciting-senator",
   "metadata": {
    "id": "exciting-senator"
   },
   "outputs": [],
   "source": [
    "# Using the Elbow method to find the optimal no.of clusters\n",
    "inertia = []\n",
    "clusters, centroids = {}, {}\n",
    "\n",
    "for i in range(2,15): \n",
    "    kmeans = KMeans(n_clusters = i, init ='k-means++',max_iter=300,n_init=10)\n",
    "    kmeans.fit(X)\n",
    "    clusters[i] = kmeans.fit_predict(X)\n",
    "    centroids[i] = kmeans.cluster_centers_\n",
    "    inertia.append(kmeans.inertia_)"
   ]
  },
  {
   "cell_type": "code",
   "execution_count": null,
   "id": "architectural-gross",
   "metadata": {
    "colab": {
     "base_uri": "https://localhost:8080/",
     "height": 295
    },
    "executionInfo": {
     "elapsed": 19,
     "status": "ok",
     "timestamp": 1624173834157,
     "user": {
      "displayName": "CDS Support",
      "photoUrl": "",
      "userId": "15376517909823222822"
     },
     "user_tz": -330
    },
    "id": "architectural-gross",
    "outputId": "5fd0a35f-ea67-457f-eaaa-467b30b90d91"
   },
   "outputs": [
    {
     "data": {
      "image/png": "[encoded data removed]",
      "text/plain": [
       "<Figure size 432x288 with 1 Axes>"
      ]
     },
     "metadata": {
      "needs_background": "light",
      "tags": []
     },
     "output_type": "display_data"
    }
   ],
   "source": [
    "# plot the clusters vs inertia\n",
    "plt.plot(range(2,15) , inertia)\n",
    "plt.title('Elbow Method')\n",
    "plt.xlabel('Clusters')\n",
    "plt.ylabel('Inertia')\n",
    "plt.show()"
   ]
  },
  {
   "cell_type": "code",
   "execution_count": null,
   "id": "interesting-delta",
   "metadata": {
    "id": "interesting-delta"
   },
   "outputs": [],
   "source": [
    "# Optimal cluster at 6, so choosing centroids \n",
    "centroids_optimal = centroids[6]\n",
    "clusters_optimal = clusters[6]"
   ]
  },
  {
   "cell_type": "markdown",
   "id": "0q7nKnfVK_Yj",
   "metadata": {
    "id": "0q7nKnfVK_Yj"
   },
   "source": [
    "### Apply DBSCAN algorithm for clustering\n",
    "\n",
    "- Compare the results of clusters from k-means and DBSCAN\n"
   ]
  },
  {
   "cell_type": "code",
   "execution_count": null,
   "id": "GP1PwIKeLA8u",
   "metadata": {
    "colab": {
     "base_uri": "https://localhost:8080/"
    },
    "executionInfo": {
     "elapsed": 2015,
     "status": "ok",
     "timestamp": 1624173836157,
     "user": {
      "displayName": "CDS Support",
      "photoUrl": "",
      "userId": "15376517909823222822"
     },
     "user_tz": -330
    },
    "id": "GP1PwIKeLA8u",
    "outputId": "69eecf02-bf76-4c6a-e9a8-c4e924203a83"
   },
   "outputs": [
    {
     "name": "stdout",
     "output_type": "stream",
     "text": [
      "Unique clusters in data:  [-1  0  1  2  3  4  5]\n"
     ]
    }
   ],
   "source": [
    "# Perform DBSCAN on data\n",
    "from sklearn.cluster import DBSCAN\n",
    "dbscan = DBSCAN(eps=0.24, min_samples=7)\n",
    "dbscan.fit(X)\n",
    "db_labels = dbscan.labels_\n",
    "print(\"Unique clusters in data: \", np.unique(db_labels))"
   ]
  },
  {
   "cell_type": "markdown",
   "id": "FarGC20zgjHj",
   "metadata": {
    "id": "FarGC20zgjHj"
   },
   "source": [
    "### Analyze the clusters\n",
    "\n",
    "\n",
    "- consider two features and visualize the clusters with different colors using the predicted cluster centers.\n",
    "\n",
    "  **Hint:** 2D plot\n",
    "\n",
    "- consider three features and visualize the clusters with different colors using the predicted cluster centers.\n",
    "\n",
    "  **Hint:** [3D plot](https://matplotlib.org/stable/gallery/mplot3d/scatter3d.html\n",
    ")"
   ]
  },
  {
   "cell_type": "code",
   "execution_count": null,
   "id": "wi0-h4zbgjHk",
   "metadata": {
    "colab": {
     "base_uri": "https://localhost:8080/",
     "height": 295
    },
    "executionInfo": {
     "elapsed": 281,
     "status": "ok",
     "timestamp": 1624173836158,
     "user": {
      "displayName": "CDS Support",
      "photoUrl": "",
      "userId": "15376517909823222822"
     },
     "user_tz": -330
    },
    "id": "wi0-h4zbgjHk",
    "outputId": "35244334-29e9-4cf4-f53f-6fef614aa574"
   },
   "outputs": [
    {
     "data": {
      "image/png": "[encoded data removed]",
      "text/plain": [
       "<Figure size 432x288 with 1 Axes>"
      ]
     },
     "metadata": {
      "needs_background": "light",
      "tags": []
     },
     "output_type": "display_data"
    }
   ],
   "source": [
    "# Visualising the clusters considering Unit Price and Quantity\n",
    "plt.scatter(X[clusters_optimal == 0, 0], X[clusters_optimal == 0, 1], c = 'red', label = 'cluster 1')\n",
    "plt.scatter(X[clusters_optimal == 1, 0], X[clusters_optimal == 1, 1], c = 'blue', label = 'cluster 2')\n",
    "plt.scatter(X[clusters_optimal == 2, 0], X[clusters_optimal == 2, 1], c = 'green', label = 'cluster 3')\n",
    "plt.scatter(X[clusters_optimal == 3, 0], X[clusters_optimal == 3, 1], c = 'magenta', label = 'cluster 4')\n",
    "plt.scatter(X[clusters_optimal == 4, 0], X[clusters_optimal == 4, 1], c = 'k', label = 'cluster 5')\n",
    "plt.scatter(X[clusters_optimal == 5, 0], X[clusters_optimal == 5, 1], c = 'brown', label = 'cluster 6')\n",
    "plt.scatter(centroids_optimal[:, 0], centroids_optimal[:, 1], s = 100, c = 'yellow', label = 'Centroids')\n",
    "plt.title('Clusters of customers')\n",
    "plt.xlabel('Quantity')\n",
    "plt.ylabel('TotalSpend')\n",
    "plt.legend()\n",
    "plt.show()"
   ]
  },
  {
   "cell_type": "markdown",
   "id": "SDbJ5dQLatOl",
   "metadata": {
    "id": "SDbJ5dQLatOl"
   },
   "source": [
    "From the above plot, we can see the clusters are separable in 2D plot using scaled features"
   ]
  },
  {
   "cell_type": "code",
   "execution_count": null,
   "id": "Muwv_0BHOS02",
   "metadata": {
    "colab": {
     "base_uri": "https://localhost:8080/",
     "height": 466
    },
    "executionInfo": {
     "elapsed": 278,
     "status": "ok",
     "timestamp": 1624173836160,
     "user": {
      "displayName": "CDS Support",
      "photoUrl": "",
      "userId": "15376517909823222822"
     },
     "user_tz": -330
    },
    "id": "Muwv_0BHOS02",
    "outputId": "25e2d1fa-3276-4bf4-9179-35e43a8f328f"
   },
   "outputs": [
    {
     "data": {
      "image/png": "[encoded data removed]",
      "text/plain": [
       "<Figure size 720x576 with 1 Axes>"
      ]
     },
     "metadata": {
      "needs_background": "light",
      "tags": []
     },
     "output_type": "display_data"
    }
   ],
   "source": [
    "# Visualising all the clusters in 3D\n",
    "\n",
    "fig = plt.figure(figsize=(10,8))\n",
    "ax = plt.axes(projection='3d')\n",
    "ax.scatter(X[clusters_optimal == 0, 0], X[clusters_optimal == 0, 1], X[clusters_optimal == 0, 2], c = 'red', label = 'cluster 1')\n",
    "ax.scatter(X[clusters_optimal == 1, 0], X[clusters_optimal == 1, 1], X[clusters_optimal == 1, 2], c = 'blue', label = 'cluster 2')\n",
    "ax.scatter(X[clusters_optimal == 2, 0], X[clusters_optimal == 2, 1], X[clusters_optimal == 2, 2], c = 'green', label = 'cluster 3')\n",
    "ax.scatter(X[clusters_optimal == 3, 0], X[clusters_optimal == 3, 1], X[clusters_optimal == 3, 2], c = 'magenta', label = 'cluster 4')\n",
    "ax.scatter(X[clusters_optimal == 4, 0], X[clusters_optimal == 4, 1], X[clusters_optimal == 4, 2], c = 'k', label = 'cluster 5')\n",
    "ax.scatter(X[clusters_optimal == 5, 0], X[clusters_optimal == 5, 1], X[clusters_optimal == 5, 2], c = 'brown', label = 'cluster 6')\n",
    "ax.set_xlabel(\"Quantity\")\n",
    "ax.set_ylabel(\"TotalSpend\")\n",
    "ax.set_zlabel(\"DayOfWeek\")\n",
    "ax.legend()\n",
    "plt.show()"
   ]
  },
  {
   "cell_type": "markdown",
   "id": "zef_pWaE20pP",
   "metadata": {
    "id": "zef_pWaE20pP"
   },
   "source": [
    "### Train a supervised algorithm on clustered data\n",
    "\n",
    "This will allow us to predict cluster numbers (label) for each test data instance\n",
    "\n",
    "* Create labelled data with k-means cluster labels\n",
    "  \n",
    "  **Hint**: [`kmeans.labels_`](https://scikit-learn.org/stable/modules/generated/sklearn.cluster.KMeans.html\n",
    ")\n",
    "* Split the data into train and validation sets\n",
    "* Train a supervised algorithm on the train data\n",
    "* Find the accuracy of the model using validation data\n",
    "* Use this model to predict the labels for the Test data (note: Test data is provided separately below)"
   ]
  },
  {
   "cell_type": "code",
   "execution_count": null,
   "id": "zztS3U3y3ZvU",
   "metadata": {
    "colab": {
     "base_uri": "https://localhost:8080/",
     "height": 142
    },
    "executionInfo": {
     "elapsed": 271,
     "status": "ok",
     "timestamp": 1624173836161,
     "user": {
      "displayName": "CDS Support",
      "photoUrl": "",
      "userId": "15376517909823222822"
     },
     "user_tz": -330
    },
    "id": "zztS3U3y3ZvU",
    "outputId": "6f477c85-10f7-4d1b-fa5d-310eaeb43554"
   },
   "outputs": [
    {
     "data": {
      "text/html": [
       "<div>\n",
       "<style scoped>\n",
       "    .dataframe tbody tr th:only-of-type {\n",
       "        vertical-align: middle;\n",
       "    }\n",
       "\n",
       "    .dataframe tbody tr th {\n",
       "        vertical-align: top;\n",
       "    }\n",
       "\n",
       "    .dataframe thead th {\n",
       "        text-align: right;\n",
       "    }\n",
       "</style>\n",
       "<table border=\"1\" class=\"dataframe\">\n",
       "  <thead>\n",
       "    <tr style=\"text-align: right;\">\n",
       "      <th></th>\n",
       "      <th>CustomerID</th>\n",
       "      <th>Quantity</th>\n",
       "      <th>TotalSpend</th>\n",
       "      <th>DayOfWeek</th>\n",
       "      <th>Label</th>\n",
       "    </tr>\n",
       "  </thead>\n",
       "  <tbody>\n",
       "    <tr>\n",
       "      <th>0</th>\n",
       "      <td>12347.0</td>\n",
       "      <td>2352</td>\n",
       "      <td>4091.80</td>\n",
       "      <td>3</td>\n",
       "      <td>0</td>\n",
       "    </tr>\n",
       "    <tr>\n",
       "      <th>1</th>\n",
       "      <td>12348.0</td>\n",
       "      <td>2188</td>\n",
       "      <td>1395.48</td>\n",
       "      <td>6</td>\n",
       "      <td>1</td>\n",
       "    </tr>\n",
       "    <tr>\n",
       "      <th>2</th>\n",
       "      <td>12349.0</td>\n",
       "      <td>605</td>\n",
       "      <td>1241.26</td>\n",
       "      <td>0</td>\n",
       "      <td>3</td>\n",
       "    </tr>\n",
       "  </tbody>\n",
       "</table>\n",
       "</div>"
      ],
      "text/plain": [
       "   CustomerID  Quantity  TotalSpend  DayOfWeek  Label\n",
       "0     12347.0      2352     4091.80          3      0\n",
       "1     12348.0      2188     1395.48          6      1\n",
       "2     12349.0       605     1241.26          0      3"
      ]
     },
     "execution_count": 102,
     "metadata": {
      "tags": []
     },
     "output_type": "execute_result"
    }
   ],
   "source": [
    "data_grouped['Label'] = clusters[6]\n",
    "data_grouped.head(3)"
   ]
  },
  {
   "cell_type": "code",
   "execution_count": null,
   "id": "YLCHn9-j5ooT",
   "metadata": {
    "colab": {
     "base_uri": "https://localhost:8080/"
    },
    "executionInfo": {
     "elapsed": 269,
     "status": "ok",
     "timestamp": 1624173836163,
     "user": {
      "displayName": "CDS Support",
      "photoUrl": "",
      "userId": "15376517909823222822"
     },
     "user_tz": -330
    },
    "id": "YLCHn9-j5ooT",
    "outputId": "29f9aa4c-1ef6-434e-85f5-cc54a69ef33a"
   },
   "outputs": [
    {
     "data": {
      "text/plain": [
       "((3237, 3), (1079, 3), (3237,), (1079,))"
      ]
     },
     "execution_count": 103,
     "metadata": {
      "tags": []
     },
     "output_type": "execute_result"
    }
   ],
   "source": [
    "features = data_grouped.iloc[:,1:-1]\n",
    "labels = data_grouped.iloc[:,-1]\n",
    "from sklearn.model_selection import train_test_split\n",
    "X_train, X_test, y_train, y_test = train_test_split(features, labels, test_size=0.25,random_state=42)\n",
    "X_train.shape, X_test.shape, y_train.shape, y_test.shape"
   ]
  },
  {
   "cell_type": "code",
   "execution_count": null,
   "id": "RU2QrFi06aKA",
   "metadata": {
    "colab": {
     "base_uri": "https://localhost:8080/"
    },
    "executionInfo": {
     "elapsed": 970,
     "status": "ok",
     "timestamp": 1624173837109,
     "user": {
      "displayName": "CDS Support",
      "photoUrl": "",
      "userId": "15376517909823222822"
     },
     "user_tz": -330
    },
    "id": "RU2QrFi06aKA",
    "outputId": "753c78ad-3d4e-4744-f930-403b350f8862"
   },
   "outputs": [
    {
     "data": {
      "text/plain": [
       "0.9990732159406858"
      ]
     },
     "execution_count": 104,
     "metadata": {
      "tags": []
     },
     "output_type": "execute_result"
    }
   ],
   "source": [
    "from sklearn.ensemble import RandomForestClassifier\n",
    "rf = RandomForestClassifier()\n",
    "rf.fit(X_train,y_train)\n",
    "rf.score(X_test, y_test)"
   ]
  },
  {
   "cell_type": "markdown",
   "id": "cUWhJeDpzh7Z",
   "metadata": {
    "id": "cUWhJeDpzh7Z"
   },
   "source": [
    "### Evaluation of Test Data\n",
    "\n",
    "* Format the test data in the same format as the train data.\n",
    "* predict it with trained supervised ML model"
   ]
  },
  {
   "cell_type": "code",
   "execution_count": null,
   "id": "G16_wae9zjv7",
   "metadata": {
    "colab": {
     "base_uri": "https://localhost:8080/",
     "height": 193
    },
    "executionInfo": {
     "elapsed": 384,
     "status": "ok",
     "timestamp": 1624173837111,
     "user": {
      "displayName": "CDS Support",
      "photoUrl": "",
      "userId": "15376517909823222822"
     },
     "user_tz": -330
    },
    "id": "G16_wae9zjv7",
    "outputId": "50b455c3-04ae-4a33-c235-b6781b77951f"
   },
   "outputs": [
    {
     "data": {
      "text/html": [
       "<div>\n",
       "<style scoped>\n",
       "    .dataframe tbody tr th:only-of-type {\n",
       "        vertical-align: middle;\n",
       "    }\n",
       "\n",
       "    .dataframe tbody tr th {\n",
       "        vertical-align: top;\n",
       "    }\n",
       "\n",
       "    .dataframe thead th {\n",
       "        text-align: right;\n",
       "    }\n",
       "</style>\n",
       "<table border=\"1\" class=\"dataframe\">\n",
       "  <thead>\n",
       "    <tr style=\"text-align: right;\">\n",
       "      <th></th>\n",
       "      <th>InvoiceNo</th>\n",
       "      <th>StockCode</th>\n",
       "      <th>Description</th>\n",
       "      <th>Quantity</th>\n",
       "      <th>InvoiceDate</th>\n",
       "      <th>UnitPrice</th>\n",
       "      <th>CustomerID</th>\n",
       "      <th>Country</th>\n",
       "    </tr>\n",
       "  </thead>\n",
       "  <tbody>\n",
       "    <tr>\n",
       "      <th>0</th>\n",
       "      <td>555200</td>\n",
       "      <td>71459</td>\n",
       "      <td>HANGING JAM JAR T-LIGHT HOLDER</td>\n",
       "      <td>24</td>\n",
       "      <td>2011-06-01 12:05:00</td>\n",
       "      <td>0.85</td>\n",
       "      <td>17315.0</td>\n",
       "      <td>United Kingdom</td>\n",
       "    </tr>\n",
       "    <tr>\n",
       "      <th>1</th>\n",
       "      <td>554974</td>\n",
       "      <td>21128</td>\n",
       "      <td>GOLD FISHING GNOME</td>\n",
       "      <td>4</td>\n",
       "      <td>2011-05-27 17:14:00</td>\n",
       "      <td>6.95</td>\n",
       "      <td>14031.0</td>\n",
       "      <td>United Kingdom</td>\n",
       "    </tr>\n",
       "    <tr>\n",
       "      <th>2</th>\n",
       "      <td>550972</td>\n",
       "      <td>21086</td>\n",
       "      <td>SET/6 RED SPOTTY PAPER CUPS</td>\n",
       "      <td>4</td>\n",
       "      <td>2011-04-21 17:05:00</td>\n",
       "      <td>0.65</td>\n",
       "      <td>14031.0</td>\n",
       "      <td>United Kingdom</td>\n",
       "    </tr>\n",
       "  </tbody>\n",
       "</table>\n",
       "</div>"
      ],
      "text/plain": [
       "  InvoiceNo StockCode  ... CustomerID         Country\n",
       "0    555200     71459  ...    17315.0  United Kingdom\n",
       "1    554974     21128  ...    14031.0  United Kingdom\n",
       "2    550972     21086  ...    14031.0  United Kingdom\n",
       "\n",
       "[3 rows x 8 columns]"
      ]
     },
     "execution_count": 105,
     "metadata": {
      "tags": []
     },
     "output_type": "execute_result"
    }
   ],
   "source": [
    "test = pd.read_csv(\"Online_Retail_Test.csv\")\n",
    "test.head(3)"
   ]
  },
  {
   "cell_type": "code",
   "execution_count": null,
   "id": "WU4cC3qWKyCi",
   "metadata": {
    "colab": {
     "base_uri": "https://localhost:8080/",
     "height": 216
    },
    "executionInfo": {
     "elapsed": 383,
     "status": "ok",
     "timestamp": 1624173837113,
     "user": {
      "displayName": "CDS Support",
      "photoUrl": "",
      "userId": "15376517909823222822"
     },
     "user_tz": -330
    },
    "id": "WU4cC3qWKyCi",
    "outputId": "73ec4c90-8487-4374-cb1c-f146c260ef71"
   },
   "outputs": [],
   "source": [
    "test_preprocessed = pre_processing(test)\n",
    "df_test = feature_engineering(test_preprocessed)\n",
    "df_test.head(2)"
   ]
  },
  {
   "cell_type": "code",
   "execution_count": null,
   "id": "QGO4eCmAMA7P",
   "metadata": {
    "colab": {
     "base_uri": "https://localhost:8080/"
    },
    "executionInfo": {
     "elapsed": 213,
     "status": "ok",
     "timestamp": 1624173837114,
     "user": {
      "displayName": "CDS Support",
      "photoUrl": "",
      "userId": "15376517909823222822"
     },
     "user_tz": -330
    },
    "id": "QGO4eCmAMA7P",
    "outputId": "ac76ff84-90e5-410b-c072-dc1810267854"
   },
   "outputs": [
    {
     "data": {
      "text/plain": [
       "CustomerID    0\n",
       "Quantity      0\n",
       "TotalSpend    0\n",
       "DayOfWeek     0\n",
       "dtype: int64"
      ]
     },
     "execution_count": 107,
     "metadata": {
      "tags": []
     },
     "output_type": "execute_result"
    }
   ],
   "source": [
    "df_test.isna().sum()"
   ]
  },
  {
   "cell_type": "code",
   "execution_count": null,
   "id": "R_PzIW2QDizH",
   "metadata": {
    "colab": {
     "base_uri": "https://localhost:8080/"
    },
    "executionInfo": {
     "elapsed": 103,
     "status": "ok",
     "timestamp": 1624173837115,
     "user": {
      "displayName": "CDS Support",
      "photoUrl": "",
      "userId": "15376517909823222822"
     },
     "user_tz": -330
    },
    "id": "R_PzIW2QDizH",
    "outputId": "50cabf87-dd52-4077-e2c8-20365fb354d8"
   },
   "outputs": [
    {
     "data": {
      "text/plain": [
       "array([0, 3, 3, ..., 0, 0, 1], dtype=int32)"
      ]
     },
     "execution_count": 108,
     "metadata": {
      "tags": []
     },
     "output_type": "execute_result"
    }
   ],
   "source": [
    "test_features = df_test.iloc[:,1:]\n",
    "rf.predict(test_features)"
   ]
  },
  {
   "cell_type": "markdown",
   "id": "ZAXIXD9S7Jxx",
   "metadata": {
    "id": "ZAXIXD9S7Jxx"
   },
   "source": [
    "### Report Analysis\n",
    "\n",
    "- Discuss the pros and cons of removing the missing values vs replacing with the mean values \n",
    "- Based on the visualization of clusters, comment on the difference in buying patterns of each cluster\n",
    "- What others methods could be used to determine the optimal no. of clusters?"
   ]
  }
 ],
 "metadata": {
  "colab": {
   "collapsed_sections": [],
   "name": "CDS-B1-M4-SNB_MiniProject_5_Customer_Segmentation_Kmeans.ipynb",
   "provenance": []
  },
  "kernelspec": {
   "display_name": "Python 3",
   "language": "python",
   "name": "python3"
  },
  "language_info": {
   "codemirror_mode": {
    "name": "ipython",
    "version": 3
   },
   "file_extension": ".py",
   "mimetype": "text/x-python",
   "name": "python",
   "nbconvert_exporter": "python",
   "pygments_lexer": "ipython3",
   "version": "3.6.9"
  }
 },
 "nbformat": 4,
 "nbformat_minor": 5
}
