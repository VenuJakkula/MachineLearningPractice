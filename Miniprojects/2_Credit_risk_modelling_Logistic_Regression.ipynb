{
 "cells": [
  {
   "cell_type": "markdown",
   "id": "associate-sunset",
   "metadata": {
    "id": "associate-sunset"
   },
   "source": [
    "# Mini-Project: Credit risk modelling using Logistic Regression"
   ]
  },
  {
   "cell_type": "markdown",
   "id": "handled-tooth",
   "metadata": {
    "id": "handled-tooth"
   },
   "source": [
    "## Problem Statement"
   ]
  },
  {
   "cell_type": "markdown",
   "id": "accessory-watts",
   "metadata": {
    "id": "accessory-watts"
   },
   "source": [
    "Predict the loan defaulters using a Logistic Regression model on the credit risk data and calculate credit scores"
   ]
  },
  {
   "cell_type": "markdown",
   "id": "twenty-indonesia",
   "metadata": {
    "id": "twenty-indonesia"
   },
   "source": [
    "## Learning Objectives"
   ]
  },
  {
   "cell_type": "markdown",
   "id": "honest-friendship",
   "metadata": {
    "id": "honest-friendship"
   },
   "source": [
    "At the end of the mini-project, you will be able to :\n",
    "\n",
    "* perform data exploration, preprocessing and visualization\n",
    "* implement Logistic Regression using manual code or using sklearn library\n",
    "* evaluate the model using appropriate performance metrics\n",
    "* develop a credit scoring system"
   ]
  },
  {
   "cell_type": "markdown",
   "id": "lesbian-bottom",
   "metadata": {
    "id": "lesbian-bottom"
   },
   "source": [
    "## Dataset"
   ]
  },
  {
   "cell_type": "markdown",
   "id": "fixed-trainer",
   "metadata": {
    "id": "fixed-trainer"
   },
   "source": [
    "The dataset chosen for this mini-project is the [Give Me Some Credit](https://bigml.com/user/jbosca/gallery/dataset/5a7def3d2a83476e09000456#info) dataset which can be used to build models for predicting loan repayment defaulters\n",
    "\n",
    "#### Datafields\n",
    "\n",
    "- **SeriousDlqin2yrs:** Person experienced 90 days past due delinquency or worse\n",
    "- **RevolvingUtilizationOfUnsecuredLines:** Total balance on credit cards and personal lines of credit except real estate and no installment debt like car loans divided by the sum of credit limits\n",
    "- **age:** Age of borrower in years\n",
    "- **NumberOfTime30-59DaysPastDueNotWorse:** Number of times borrower has been 30-59 days past due but no worse in the last 2 years.\n",
    "- **DebtRatio:** Monthly debt payments, alimony,living costs divided by monthy gross income\n",
    "- **MonthlyIncome:** Monthly income\n",
    "- **NumberOfOpenCreditLinesAndLoans:** Number of Open loans (installment like car loan or mortgage) and Lines of credit (e.g. credit cards)\n",
    "- **NumberOfTimes90DaysLate:** Number of times borrower has been 90 days or more past due.\n",
    "- **NumberRealEstateLoansOrLines:**\tNumber of mortgage and real estate loans including home equity lines of credit\n",
    "- **NumberOfTime60-89DaysPastDueNotWorse:**\tNumber of times borrower has been 60-89 days past due but no worse in the last 2 years.\n",
    "- **NumberOfDependents:** Number of dependents in family excluding themselves (spouse, children etc.)"
   ]
  },
  {
   "cell_type": "markdown",
   "id": "rapid-hierarchy",
   "metadata": {
    "id": "rapid-hierarchy"
   },
   "source": [
    "## Information"
   ]
  },
  {
   "cell_type": "markdown",
   "id": "prescribed-matter",
   "metadata": {
    "id": "prescribed-matter"
   },
   "source": [
    "Credit risk arises when a corporate or individual borrower fails to meet their debt obligations. From the lender's perspective, credit risk could disrupt its cash flows or increase collection costs, since the lender may be forced to hire a debt collection agency to enforce the collection. The loss may be partial or complete, where the lender incurs a loss of part of the loan or the entire loan extended to the borrower.\n",
    "\n",
    "Credit scoring algorithms, which calculate the probability of default, are the best methods that banks use to determine whether or not a loan should be granted. \n",
    "\n",
    "In order to build a credit scoring system, the following feature transformations are performed:\n",
    "\n",
    "#### Weight of Evidence and Information value\n",
    "\n",
    "Logistic regression is a commonly used technique in credit scoring for solving binary classification problems. Prior to model fitting, another iteration of variable selection is valuable to check if the newly WOE transformed variables are still good model candidates. Preferred candidate variables are those with higher information value having a linear relationship with the dependent variable, have good coverage across all categories, have a normal distribution, contain a notable overall contribution, and are relevant to the business.\n",
    "\n",
    "**Weight of evidence** (WOE) is a powerful tool for feature representation and evaluation in data science. WOE can provide interpret able transformation to both categorical and numerical features. The weight of evidence tells the predictive power of an independent variable in relation to the dependent variable. Since it evolved from credit scoring world, it is generally described as a measure of the separation of good and bad customers. \"Bad Customers\" refers to the customers who defaulted on a loan. and \"Good Customers\" refers to the customers who paid back loan. WOE can be calculated using the below formula:\n",
    "\n",
    "$$WOE = ln \\left( \\frac{\\%   of  Non\\_Events}{\\%   of  Events} \\right)$$\n",
    "\n",
    "Steps to calculate WOE\n",
    "* For a continuous variable, split data into 10 parts (or lesser depending on the distribution).\n",
    "* Calculate the number of events and non-events in each group (bin)\n",
    "* Calculate the % of events and % of non-events in each group.\n",
    "* Calculate WOE by taking natural log of division of % of non-events and % of events\n",
    "\n",
    "**Information value** is one of the most useful technique to select important variables in a predictive model. It helps to rank variables on the basis of their importance. The IV is calculated using the following formula :\n",
    "$$IV = ∑ (\\% of Non\\_Events - \\% of Events) * WOE$$\n",
    "\n",
    "Read more about `WOE` and `IV` from the following [link](https://medium.com/@yanhuiliu104/credit-scoring-scorecard-development-process-8554c3492b2b)"
   ]
  },
  {
   "cell_type": "markdown",
   "id": "operating-latter",
   "metadata": {
    "id": "operating-latter"
   },
   "source": [
    "## Grading = 10 Points"
   ]
  },
  {
   "cell_type": "markdown",
   "id": "caring-syndrome",
   "metadata": {
    "id": "caring-syndrome"
   },
   "source": [
    "### Download the dataset"
   ]
  },
  {
   "cell_type": "code",
   "execution_count": 4,
   "id": "comparable-delay",
   "metadata": {
    "executionInfo": {
     "elapsed": 5987,
     "status": "ok",
     "timestamp": 1622465662553,
     "user": {
      "displayName": "CDS Support",
      "photoUrl": "",
      "userId": "15376517909823222822"
     },
     "user_tz": -330
    },
    "id": "comparable-delay"
   },
   "outputs": [],
   "source": [
    "!wget -qq https://cdn.iisc.talentsprint.com/CDS/MiniProjects/GiveMeSomeCredit.csv\n",
    "!pip -qq install xverse"
   ]
  },
  {
   "cell_type": "markdown",
   "id": "appreciated-pattern",
   "metadata": {
    "id": "appreciated-pattern"
   },
   "source": [
    "### Import Neccesary Packages"
   ]
  },
  {
   "cell_type": "code",
   "execution_count": 5,
   "id": "loose-marsh",
   "metadata": {
    "executionInfo": {
     "elapsed": 69,
     "status": "ok",
     "timestamp": 1622465662559,
     "user": {
      "displayName": "CDS Support",
      "photoUrl": "",
      "userId": "15376517909823222822"
     },
     "user_tz": -330
    },
    "id": "loose-marsh"
   },
   "outputs": [],
   "source": [
    "import pandas as pd\n",
    "import numpy as np\n",
    "from sklearn.model_selection import train_test_split\n",
    "from sklearn.linear_model import LogisticRegression\n",
    "import seaborn as sns\n",
    "from matplotlib import pyplot as plt\n",
    "import math\n",
    "from xverse.transformer import MonotonicBinning,WOE"
   ]
  },
  {
   "cell_type": "markdown",
   "id": "compressed-reflection",
   "metadata": {
    "id": "compressed-reflection"
   },
   "source": [
    "### Load the dataset"
   ]
  },
  {
   "cell_type": "code",
   "execution_count": 6,
   "id": "fatty-graph",
   "metadata": {
    "colab": {
     "base_uri": "https://localhost:8080/",
     "height": 148
    },
    "executionInfo": {
     "elapsed": 86,
     "status": "ok",
     "timestamp": 1622465662584,
     "user": {
      "displayName": "CDS Support",
      "photoUrl": "",
      "userId": "15376517909823222822"
     },
     "user_tz": -330
    },
    "id": "fatty-graph",
    "outputId": "c62c7ba2-b945-4398-a9e5-d1c159c080bd"
   },
   "outputs": [
    {
     "data": {
      "text/html": [
       "<div>\n",
       "<style scoped>\n",
       "    .dataframe tbody tr th:only-of-type {\n",
       "        vertical-align: middle;\n",
       "    }\n",
       "\n",
       "    .dataframe tbody tr th {\n",
       "        vertical-align: top;\n",
       "    }\n",
       "\n",
       "    .dataframe thead th {\n",
       "        text-align: right;\n",
       "    }\n",
       "</style>\n",
       "<table border=\"1\" class=\"dataframe\">\n",
       "  <thead>\n",
       "    <tr style=\"text-align: right;\">\n",
       "      <th></th>\n",
       "      <th>Unnamed: 0</th>\n",
       "      <th>SeriousDlqin2yrs</th>\n",
       "      <th>RevolvingUtilizationOfUnsecuredLines</th>\n",
       "      <th>age</th>\n",
       "      <th>NumberOfTime30-59DaysPastDueNotWorse</th>\n",
       "      <th>DebtRatio</th>\n",
       "      <th>MonthlyIncome</th>\n",
       "      <th>NumberOfOpenCreditLinesAndLoans</th>\n",
       "      <th>NumberOfTimes90DaysLate</th>\n",
       "      <th>NumberRealEstateLoansOrLines</th>\n",
       "      <th>NumberOfTime60-89DaysPastDueNotWorse</th>\n",
       "      <th>NumberOfDependents</th>\n",
       "    </tr>\n",
       "  </thead>\n",
       "  <tbody>\n",
       "    <tr>\n",
       "      <th>0</th>\n",
       "      <td>1</td>\n",
       "      <td>1</td>\n",
       "      <td>0.766127</td>\n",
       "      <td>45</td>\n",
       "      <td>2</td>\n",
       "      <td>0.802982</td>\n",
       "      <td>9120.0</td>\n",
       "      <td>13</td>\n",
       "      <td>0</td>\n",
       "      <td>6</td>\n",
       "      <td>0</td>\n",
       "      <td>2.0</td>\n",
       "    </tr>\n",
       "    <tr>\n",
       "      <th>1</th>\n",
       "      <td>2</td>\n",
       "      <td>0</td>\n",
       "      <td>0.957151</td>\n",
       "      <td>40</td>\n",
       "      <td>0</td>\n",
       "      <td>0.121876</td>\n",
       "      <td>2600.0</td>\n",
       "      <td>4</td>\n",
       "      <td>0</td>\n",
       "      <td>0</td>\n",
       "      <td>0</td>\n",
       "      <td>1.0</td>\n",
       "    </tr>\n",
       "  </tbody>\n",
       "</table>\n",
       "</div>"
      ],
      "text/plain": [
       "   Unnamed: 0  ...  NumberOfDependents\n",
       "0           1  ...                 2.0\n",
       "1           2  ...                 1.0\n",
       "\n",
       "[2 rows x 12 columns]"
      ]
     },
     "execution_count": 6,
     "metadata": {
      "tags": []
     },
     "output_type": "execute_result"
    }
   ],
   "source": [
    "train_data = pd.read_csv(\"GiveMeSomeCredit.csv\")\n",
    "train_data.head(2)"
   ]
  },
  {
   "cell_type": "markdown",
   "id": "experienced-sleeping",
   "metadata": {
    "id": "experienced-sleeping"
   },
   "source": [
    "#### Describe the all statistical properties of the train dataset"
   ]
  },
  {
   "cell_type": "code",
   "execution_count": 7,
   "id": "greek-methodology",
   "metadata": {
    "colab": {
     "base_uri": "https://localhost:8080/",
     "height": 334
    },
    "executionInfo": {
     "elapsed": 933,
     "status": "ok",
     "timestamp": 1622465663453,
     "user": {
      "displayName": "CDS Support",
      "photoUrl": "",
      "userId": "15376517909823222822"
     },
     "user_tz": -330
    },
    "id": "greek-methodology",
    "outputId": "cd9374e8-3e54-42d6-97ec-388d583d8f60"
   },
   "outputs": [
    {
     "data": {
      "text/html": [
       "<div>\n",
       "<style scoped>\n",
       "    .dataframe tbody tr th:only-of-type {\n",
       "        vertical-align: middle;\n",
       "    }\n",
       "\n",
       "    .dataframe tbody tr th {\n",
       "        vertical-align: top;\n",
       "    }\n",
       "\n",
       "    .dataframe thead th {\n",
       "        text-align: right;\n",
       "    }\n",
       "</style>\n",
       "<table border=\"1\" class=\"dataframe\">\n",
       "  <thead>\n",
       "    <tr style=\"text-align: right;\">\n",
       "      <th></th>\n",
       "      <th>SeriousDlqin2yrs</th>\n",
       "      <th>RevolvingUtilizationOfUnsecuredLines</th>\n",
       "      <th>age</th>\n",
       "      <th>NumberOfTime30-59DaysPastDueNotWorse</th>\n",
       "      <th>DebtRatio</th>\n",
       "      <th>MonthlyIncome</th>\n",
       "      <th>NumberOfOpenCreditLinesAndLoans</th>\n",
       "      <th>NumberOfTimes90DaysLate</th>\n",
       "      <th>NumberRealEstateLoansOrLines</th>\n",
       "      <th>NumberOfTime60-89DaysPastDueNotWorse</th>\n",
       "      <th>NumberOfDependents</th>\n",
       "    </tr>\n",
       "  </thead>\n",
       "  <tbody>\n",
       "    <tr>\n",
       "      <th>count</th>\n",
       "      <td>150000.000000</td>\n",
       "      <td>150000.000000</td>\n",
       "      <td>150000.000000</td>\n",
       "      <td>150000.000000</td>\n",
       "      <td>150000.000000</td>\n",
       "      <td>1.202690e+05</td>\n",
       "      <td>150000.000000</td>\n",
       "      <td>150000.000000</td>\n",
       "      <td>150000.000000</td>\n",
       "      <td>150000.000000</td>\n",
       "      <td>146076.000000</td>\n",
       "    </tr>\n",
       "    <tr>\n",
       "      <th>mean</th>\n",
       "      <td>0.066840</td>\n",
       "      <td>6.048438</td>\n",
       "      <td>52.295207</td>\n",
       "      <td>0.421033</td>\n",
       "      <td>353.005076</td>\n",
       "      <td>6.670221e+03</td>\n",
       "      <td>8.452760</td>\n",
       "      <td>0.265973</td>\n",
       "      <td>1.018240</td>\n",
       "      <td>0.240387</td>\n",
       "      <td>0.757222</td>\n",
       "    </tr>\n",
       "    <tr>\n",
       "      <th>std</th>\n",
       "      <td>0.249746</td>\n",
       "      <td>249.755371</td>\n",
       "      <td>14.771866</td>\n",
       "      <td>4.192781</td>\n",
       "      <td>2037.818523</td>\n",
       "      <td>1.438467e+04</td>\n",
       "      <td>5.145951</td>\n",
       "      <td>4.169304</td>\n",
       "      <td>1.129771</td>\n",
       "      <td>4.155179</td>\n",
       "      <td>1.115086</td>\n",
       "    </tr>\n",
       "    <tr>\n",
       "      <th>min</th>\n",
       "      <td>0.000000</td>\n",
       "      <td>0.000000</td>\n",
       "      <td>0.000000</td>\n",
       "      <td>0.000000</td>\n",
       "      <td>0.000000</td>\n",
       "      <td>0.000000e+00</td>\n",
       "      <td>0.000000</td>\n",
       "      <td>0.000000</td>\n",
       "      <td>0.000000</td>\n",
       "      <td>0.000000</td>\n",
       "      <td>0.000000</td>\n",
       "    </tr>\n",
       "    <tr>\n",
       "      <th>25%</th>\n",
       "      <td>0.000000</td>\n",
       "      <td>0.029867</td>\n",
       "      <td>41.000000</td>\n",
       "      <td>0.000000</td>\n",
       "      <td>0.175074</td>\n",
       "      <td>3.400000e+03</td>\n",
       "      <td>5.000000</td>\n",
       "      <td>0.000000</td>\n",
       "      <td>0.000000</td>\n",
       "      <td>0.000000</td>\n",
       "      <td>0.000000</td>\n",
       "    </tr>\n",
       "    <tr>\n",
       "      <th>50%</th>\n",
       "      <td>0.000000</td>\n",
       "      <td>0.154181</td>\n",
       "      <td>52.000000</td>\n",
       "      <td>0.000000</td>\n",
       "      <td>0.366508</td>\n",
       "      <td>5.400000e+03</td>\n",
       "      <td>8.000000</td>\n",
       "      <td>0.000000</td>\n",
       "      <td>1.000000</td>\n",
       "      <td>0.000000</td>\n",
       "      <td>0.000000</td>\n",
       "    </tr>\n",
       "    <tr>\n",
       "      <th>75%</th>\n",
       "      <td>0.000000</td>\n",
       "      <td>0.559046</td>\n",
       "      <td>63.000000</td>\n",
       "      <td>0.000000</td>\n",
       "      <td>0.868254</td>\n",
       "      <td>8.249000e+03</td>\n",
       "      <td>11.000000</td>\n",
       "      <td>0.000000</td>\n",
       "      <td>2.000000</td>\n",
       "      <td>0.000000</td>\n",
       "      <td>1.000000</td>\n",
       "    </tr>\n",
       "    <tr>\n",
       "      <th>max</th>\n",
       "      <td>1.000000</td>\n",
       "      <td>50708.000000</td>\n",
       "      <td>109.000000</td>\n",
       "      <td>98.000000</td>\n",
       "      <td>329664.000000</td>\n",
       "      <td>3.008750e+06</td>\n",
       "      <td>58.000000</td>\n",
       "      <td>98.000000</td>\n",
       "      <td>54.000000</td>\n",
       "      <td>98.000000</td>\n",
       "      <td>20.000000</td>\n",
       "    </tr>\n",
       "  </tbody>\n",
       "</table>\n",
       "</div>"
      ],
      "text/plain": [
       "       SeriousDlqin2yrs  ...  NumberOfDependents\n",
       "count     150000.000000  ...       146076.000000\n",
       "mean           0.066840  ...            0.757222\n",
       "std            0.249746  ...            1.115086\n",
       "min            0.000000  ...            0.000000\n",
       "25%            0.000000  ...            0.000000\n",
       "50%            0.000000  ...            0.000000\n",
       "75%            0.000000  ...            1.000000\n",
       "max            1.000000  ...           20.000000\n",
       "\n",
       "[8 rows x 11 columns]"
      ]
     },
     "execution_count": 7,
     "metadata": {
      "tags": []
     },
     "output_type": "execute_result"
    }
   ],
   "source": [
    "train_data[train_data.columns[1:]].describe()"
   ]
  },
  {
   "cell_type": "markdown",
   "id": "christian-hamilton",
   "metadata": {
    "id": "christian-hamilton"
   },
   "source": [
    "### Pre-processing (1 point)"
   ]
  },
  {
   "cell_type": "markdown",
   "id": "global-decision",
   "metadata": {
    "id": "global-decision"
   },
   "source": [
    "#### Remove unwanted columns"
   ]
  },
  {
   "cell_type": "code",
   "execution_count": 8,
   "id": "pharmaceutical-latvia",
   "metadata": {
    "executionInfo": {
     "elapsed": 147,
     "status": "ok",
     "timestamp": 1622465663455,
     "user": {
      "displayName": "CDS Support",
      "photoUrl": "",
      "userId": "15376517909823222822"
     },
     "user_tz": -330
    },
    "id": "pharmaceutical-latvia"
   },
   "outputs": [],
   "source": [
    "train_data.drop(\"Unnamed: 0\",axis=1,inplace=True)"
   ]
  },
  {
   "cell_type": "markdown",
   "id": "usual-elimination",
   "metadata": {
    "id": "usual-elimination"
   },
   "source": [
    "#### Handle the missing data\n",
    "\n",
    "Find the how many null values in the dataset and fill with mean or remove."
   ]
  },
  {
   "cell_type": "code",
   "execution_count": 9,
   "id": "standing-trinity",
   "metadata": {
    "colab": {
     "base_uri": "https://localhost:8080/"
    },
    "executionInfo": {
     "elapsed": 148,
     "status": "ok",
     "timestamp": 1622465663458,
     "user": {
      "displayName": "CDS Support",
      "photoUrl": "",
      "userId": "15376517909823222822"
     },
     "user_tz": -330
    },
    "id": "standing-trinity",
    "outputId": "763a8a0b-bea4-4959-fac5-1941a1659167"
   },
   "outputs": [
    {
     "data": {
      "text/plain": [
       "SeriousDlqin2yrs                            0\n",
       "RevolvingUtilizationOfUnsecuredLines        0\n",
       "age                                         0\n",
       "NumberOfTime30-59DaysPastDueNotWorse        0\n",
       "DebtRatio                                   0\n",
       "MonthlyIncome                           29731\n",
       "NumberOfOpenCreditLinesAndLoans             0\n",
       "NumberOfTimes90DaysLate                     0\n",
       "NumberRealEstateLoansOrLines                0\n",
       "NumberOfTime60-89DaysPastDueNotWorse        0\n",
       "NumberOfDependents                       3924\n",
       "dtype: int64"
      ]
     },
     "execution_count": 9,
     "metadata": {
      "tags": []
     },
     "output_type": "execute_result"
    }
   ],
   "source": [
    "train_data.isna().sum()"
   ]
  },
  {
   "cell_type": "code",
   "execution_count": 10,
   "id": "heated-findings",
   "metadata": {
    "colab": {
     "base_uri": "https://localhost:8080/"
    },
    "executionInfo": {
     "elapsed": 77,
     "status": "ok",
     "timestamp": 1622465663460,
     "user": {
      "displayName": "CDS Support",
      "photoUrl": "",
      "userId": "15376517909823222822"
     },
     "user_tz": -330
    },
    "id": "heated-findings",
    "outputId": "c47b7fa8-175a-4d3e-cab2-b53c52fd68a4"
   },
   "outputs": [
    {
     "data": {
      "text/plain": [
       "SeriousDlqin2yrs                        0\n",
       "RevolvingUtilizationOfUnsecuredLines    0\n",
       "age                                     0\n",
       "NumberOfTime30-59DaysPastDueNotWorse    0\n",
       "DebtRatio                               0\n",
       "MonthlyIncome                           0\n",
       "NumberOfOpenCreditLinesAndLoans         0\n",
       "NumberOfTimes90DaysLate                 0\n",
       "NumberRealEstateLoansOrLines            0\n",
       "NumberOfTime60-89DaysPastDueNotWorse    0\n",
       "NumberOfDependents                      0\n",
       "dtype: int64"
      ]
     },
     "execution_count": 10,
     "metadata": {
      "tags": []
     },
     "output_type": "execute_result"
    }
   ],
   "source": [
    "# Fill the missing values using mean\n",
    "train_data= train_data.fillna((train_data.mean()))\n",
    "train_data.isna().sum()"
   ]
  },
  {
   "cell_type": "markdown",
   "id": "hispanic-reply",
   "metadata": {
    "id": "hispanic-reply"
   },
   "source": [
    "### EDA &  Visualization ( 1 point)"
   ]
  },
  {
   "cell_type": "markdown",
   "id": "standing-cheese",
   "metadata": {
    "id": "standing-cheese"
   },
   "source": [
    "#### Calculate the percentage of the target lebels and visualize with a graph"
   ]
  },
  {
   "cell_type": "code",
   "execution_count": 11,
   "id": "attractive-hands",
   "metadata": {
    "colab": {
     "base_uri": "https://localhost:8080/"
    },
    "executionInfo": {
     "elapsed": 60,
     "status": "ok",
     "timestamp": 1622465663462,
     "user": {
      "displayName": "CDS Support",
      "photoUrl": "",
      "userId": "15376517909823222822"
     },
     "user_tz": -330
    },
    "id": "attractive-hands",
    "outputId": "af8505ac-df62-4e8f-908e-41ea539c30ec"
   },
   "outputs": [
    {
     "data": {
      "text/plain": [
       "0    93.316\n",
       "1     6.684\n",
       "Name: SeriousDlqin2yrs, dtype: float64"
      ]
     },
     "execution_count": 11,
     "metadata": {
      "tags": []
     },
     "output_type": "execute_result"
    }
   ],
   "source": [
    "total_len = len(train_data['SeriousDlqin2yrs'])\n",
    "percentage_labels = (train_data['SeriousDlqin2yrs'].value_counts()/total_len)*100\n",
    "percentage_labels"
   ]
  },
  {
   "cell_type": "code",
   "execution_count": 12,
   "id": "cutting-citizenship",
   "metadata": {
    "colab": {
     "base_uri": "https://localhost:8080/"
    },
    "executionInfo": {
     "elapsed": 47,
     "status": "ok",
     "timestamp": 1622465663464,
     "user": {
      "displayName": "CDS Support",
      "photoUrl": "",
      "userId": "15376517909823222822"
     },
     "user_tz": -330
    },
    "id": "cutting-citizenship",
    "outputId": "5f531e74-a93d-4ea3-f826-bd6aa06fb750"
   },
   "outputs": [
    {
     "name": "stderr",
     "output_type": "stream",
     "text": [
      "/usr/local/lib/python3.7/dist-packages/seaborn/_decorators.py:43: FutureWarning: Pass the following variable as a keyword arg: x. From version 0.12, the only valid positional argument will be `data`, and passing other arguments without an explicit keyword will result in an error or misinterpretation.\n",
      "  FutureWarning\n"
     ]
    }
   ],
   "source": [
    "sns.countplot(train_data.SeriousDlqin2yrs).set_title('Data Distribution')\n",
    "ax = plt.gca()\n",
    "for p in ax.patches:\n",
    "    height = p.get_height()\n",
    "    ax.text(p.get_x() + p.get_width()/2., height + 2, '{:.2f}%'.format(100*(height/total_len)), fontsize=14, ha='center', va='bottom')\n",
    "ax.set_xlabel(\"Labels for SeriousDlqin2yrs attribute\")\n",
    "ax.set_ylabel(\"Numbers of records\")\n",
    "plt.show()"
   ]
  },
  {
   "cell_type": "markdown",
   "id": "satisfactory-stopping",
   "metadata": {
    "id": "satisfactory-stopping"
   },
   "source": [
    "#### Plot the distribution of SeriousDlqin2yrs by age"
   ]
  },
  {
   "cell_type": "code",
   "execution_count": 13,
   "id": "multiple-series",
   "metadata": {
    "executionInfo": {
     "elapsed": 700,
     "status": "ok",
     "timestamp": 1622465664140,
     "user": {
      "displayName": "CDS Support",
      "photoUrl": "",
      "userId": "15376517909823222822"
     },
     "user_tz": -330
    },
    "id": "multiple-series"
   },
   "outputs": [],
   "source": [
    "sns.kdeplot(train_data[train_data[\"SeriousDlqin2yrs\"] == 0][\"age\"], label=\"Not in 2 years\")\n",
    "sns.kdeplot(train_data[train_data[\"SeriousDlqin2yrs\"] == 1][\"age\"], label=\"In 2 years\")\n",
    "plt.xlabel('Age')\n",
    "plt.title('Distribuition of Default Rate by Age')\n",
    "plt.show()"
   ]
  },
  {
   "cell_type": "markdown",
   "id": "promotional-rolling",
   "metadata": {
    "id": "promotional-rolling"
   },
   "source": [
    "#### Correlation and the heatmap"
   ]
  },
  {
   "cell_type": "code",
   "execution_count": 14,
   "id": "studied-candidate",
   "metadata": {
    "executionInfo": {
     "elapsed": 687,
     "status": "ok",
     "timestamp": 1622465664823,
     "user": {
      "displayName": "CDS Support",
      "photoUrl": "",
      "userId": "15376517909823222822"
     },
     "user_tz": -330
    },
    "id": "studied-candidate"
   },
   "outputs": [],
   "source": [
    "train_data[train_data.columns[:]].corr()\n",
    "sns.heatmap(train_data[train_data.columns[:]].corr(),fmt=\".1f\")\n",
    "plt.show()"
   ]
  },
  {
   "cell_type": "markdown",
   "id": "operational-minute",
   "metadata": {
    "id": "operational-minute"
   },
   "source": [
    "### Data Engineering (2 points)"
   ]
  },
  {
   "cell_type": "markdown",
   "id": "outer-telephone",
   "metadata": {
    "id": "outer-telephone"
   },
   "source": [
    "#### Weight of Evidence and Information value\n",
    "\n",
    "* Arrange the binning for each variable with different bins\n",
    "    * For eg. Age = 49, Age_quantile_range = (48, 56)\n",
    "* Calculate information value and chooose the best features based on the rules given below\n",
    "\n",
    "| Information Value |\tVariable Predictiveness |\n",
    "| --- | --- |\n",
    "| Less than 0.02\t|  Not useful for prediction |\n",
    "| 0.02 to 0.1\t| Weak predictive Power |\n",
    "|  0.1 to 0.3 | Medium predictive Power |\n",
    "| 0.3 to 0.5 | Strong predictive Power |\n",
    "| >0.5 | Suspicious Predictive Power |\n",
    "\n",
    "* Calculate Weight of evidence for the selected variables\n",
    "\n",
    "Hint: Use [xverse](https://towardsdatascience.com/introducing-xverse-a-python-package-for-feature-selection-and-transformation-17193cdcd067). It is a machine learning Python module in the space of feature engineering, feature transformation and feature selection. It provides pre-built functions for the above steps, such as binning and conversion to WoE."
   ]
  },
  {
   "cell_type": "code",
   "execution_count": 15,
   "id": "norwegian-telescope",
   "metadata": {
    "colab": {
     "base_uri": "https://localhost:8080/",
     "height": 326
    },
    "executionInfo": {
     "elapsed": 2893,
     "status": "ok",
     "timestamp": 1622465667663,
     "user": {
      "displayName": "CDS Support",
      "photoUrl": "",
      "userId": "15376517909823222822"
     },
     "user_tz": -330
    },
    "id": "norwegian-telescope",
    "outputId": "21d77ecc-afdf-4d04-8545-c03fd46fbf25"
   },
   "outputs": [
    {
     "data": {
      "text/html": [
       "<div>\n",
       "<style scoped>\n",
       "    .dataframe tbody tr th:only-of-type {\n",
       "        vertical-align: middle;\n",
       "    }\n",
       "\n",
       "    .dataframe tbody tr th {\n",
       "        vertical-align: top;\n",
       "    }\n",
       "\n",
       "    .dataframe thead th {\n",
       "        text-align: right;\n",
       "    }\n",
       "</style>\n",
       "<table border=\"1\" class=\"dataframe\">\n",
       "  <thead>\n",
       "    <tr style=\"text-align: right;\">\n",
       "      <th></th>\n",
       "      <th>RevolvingUtilizationOfUnsecuredLines</th>\n",
       "      <th>age</th>\n",
       "      <th>NumberOfTime30-59DaysPastDueNotWorse</th>\n",
       "      <th>DebtRatio</th>\n",
       "      <th>MonthlyIncome</th>\n",
       "      <th>NumberOfOpenCreditLinesAndLoans</th>\n",
       "      <th>NumberOfTimes90DaysLate</th>\n",
       "      <th>NumberRealEstateLoansOrLines</th>\n",
       "      <th>NumberOfTime60-89DaysPastDueNotWorse</th>\n",
       "      <th>NumberOfDependents</th>\n",
       "    </tr>\n",
       "  </thead>\n",
       "  <tbody>\n",
       "    <tr>\n",
       "      <th>0</th>\n",
       "      <td>(0.38, 50708.0]</td>\n",
       "      <td>(-0.001, 45.0]</td>\n",
       "      <td>(1.0, 98.0]</td>\n",
       "      <td>(0.57, 329664.0]</td>\n",
       "      <td>(6670.221, 3008750.0]</td>\n",
       "      <td>(10.0, 58.0]</td>\n",
       "      <td>(-0.001, 1.0]</td>\n",
       "      <td>(1.0, 54.0]</td>\n",
       "      <td>(-0.001, 1.0]</td>\n",
       "      <td>(1.0, 20.0]</td>\n",
       "    </tr>\n",
       "    <tr>\n",
       "      <th>1</th>\n",
       "      <td>(0.38, 50708.0]</td>\n",
       "      <td>(-0.001, 45.0]</td>\n",
       "      <td>(-0.001, 1.0]</td>\n",
       "      <td>(-0.001, 0.238]</td>\n",
       "      <td>(-0.001, 4700.0]</td>\n",
       "      <td>(-0.001, 6.0]</td>\n",
       "      <td>(-0.001, 1.0]</td>\n",
       "      <td>(-0.001, 1.0]</td>\n",
       "      <td>(-0.001, 1.0]</td>\n",
       "      <td>(-0.001, 1.0]</td>\n",
       "    </tr>\n",
       "    <tr>\n",
       "      <th>2</th>\n",
       "      <td>(0.38, 50708.0]</td>\n",
       "      <td>(-0.001, 45.0]</td>\n",
       "      <td>(-0.001, 1.0]</td>\n",
       "      <td>(-0.001, 0.238]</td>\n",
       "      <td>(-0.001, 4700.0]</td>\n",
       "      <td>(-0.001, 6.0]</td>\n",
       "      <td>(-0.001, 1.0]</td>\n",
       "      <td>(-0.001, 1.0]</td>\n",
       "      <td>(-0.001, 1.0]</td>\n",
       "      <td>(-0.001, 1.0]</td>\n",
       "    </tr>\n",
       "    <tr>\n",
       "      <th>3</th>\n",
       "      <td>(0.0544, 0.38]</td>\n",
       "      <td>(-0.001, 45.0]</td>\n",
       "      <td>(-0.001, 1.0]</td>\n",
       "      <td>(-0.001, 0.238]</td>\n",
       "      <td>(-0.001, 4700.0]</td>\n",
       "      <td>(-0.001, 6.0]</td>\n",
       "      <td>(-0.001, 1.0]</td>\n",
       "      <td>(-0.001, 1.0]</td>\n",
       "      <td>(-0.001, 1.0]</td>\n",
       "      <td>(-0.001, 1.0]</td>\n",
       "    </tr>\n",
       "    <tr>\n",
       "      <th>4</th>\n",
       "      <td>(0.38, 50708.0]</td>\n",
       "      <td>(45.0, 59.0]</td>\n",
       "      <td>(-0.001, 1.0]</td>\n",
       "      <td>(-0.001, 0.238]</td>\n",
       "      <td>(6670.221, 3008750.0]</td>\n",
       "      <td>(6.0, 10.0]</td>\n",
       "      <td>(-0.001, 1.0]</td>\n",
       "      <td>(-0.001, 1.0]</td>\n",
       "      <td>(-0.001, 1.0]</td>\n",
       "      <td>(-0.001, 1.0]</td>\n",
       "    </tr>\n",
       "  </tbody>\n",
       "</table>\n",
       "</div>"
      ],
      "text/plain": [
       "  RevolvingUtilizationOfUnsecuredLines  ... NumberOfDependents\n",
       "0                      (0.38, 50708.0]  ...        (1.0, 20.0]\n",
       "1                      (0.38, 50708.0]  ...      (-0.001, 1.0]\n",
       "2                      (0.38, 50708.0]  ...      (-0.001, 1.0]\n",
       "3                       (0.0544, 0.38]  ...      (-0.001, 1.0]\n",
       "4                      (0.38, 50708.0]  ...      (-0.001, 1.0]\n",
       "\n",
       "[5 rows x 10 columns]"
      ]
     },
     "execution_count": 15,
     "metadata": {
      "tags": []
     },
     "output_type": "execute_result"
    }
   ],
   "source": [
    "# Using xverse package\n",
    "clf = MonotonicBinning()\n",
    "clf.fit(train_data.iloc[:,1:], train_data.iloc[:,0])\n",
    "out_X = clf.transform(train_data.iloc[:,1:])\n",
    "out_X.head()"
   ]
  },
  {
   "cell_type": "code",
   "execution_count": 16,
   "id": "liked-satin",
   "metadata": {
    "executionInfo": {
     "elapsed": 14501,
     "status": "ok",
     "timestamp": 1622465682139,
     "user": {
      "displayName": "CDS Support",
      "photoUrl": "",
      "userId": "15376517909823222822"
     },
     "user_tz": -330
    },
    "id": "liked-satin"
   },
   "outputs": [],
   "source": [
    "# Using xverse package\n",
    "clf = WOE()\n",
    "clf.fit(train_data.iloc[:,1:], train_data.iloc[:,0])\n",
    "out_X = clf.transform(train_data.iloc[:,1:])"
   ]
  },
  {
   "cell_type": "code",
   "execution_count": 17,
   "id": "charitable-anxiety",
   "metadata": {
    "colab": {
     "base_uri": "https://localhost:8080/",
     "height": 359
    },
    "executionInfo": {
     "elapsed": 134,
     "status": "ok",
     "timestamp": 1622465682145,
     "user": {
      "displayName": "CDS Support",
      "photoUrl": "",
      "userId": "15376517909823222822"
     },
     "user_tz": -330
    },
    "id": "charitable-anxiety",
    "outputId": "37a6ddf8-a1a9-4b89-8afa-356042f31f5b"
   },
   "outputs": [
    {
     "data": {
      "text/html": [
       "<div>\n",
       "<style scoped>\n",
       "    .dataframe tbody tr th:only-of-type {\n",
       "        vertical-align: middle;\n",
       "    }\n",
       "\n",
       "    .dataframe tbody tr th {\n",
       "        vertical-align: top;\n",
       "    }\n",
       "\n",
       "    .dataframe thead th {\n",
       "        text-align: right;\n",
       "    }\n",
       "</style>\n",
       "<table border=\"1\" class=\"dataframe\">\n",
       "  <thead>\n",
       "    <tr style=\"text-align: right;\">\n",
       "      <th></th>\n",
       "      <th>Variable_Name</th>\n",
       "      <th>Information_Value</th>\n",
       "    </tr>\n",
       "  </thead>\n",
       "  <tbody>\n",
       "    <tr>\n",
       "      <th>8</th>\n",
       "      <td>RevolvingUtilizationOfUnsecuredLines</td>\n",
       "      <td>0.935429</td>\n",
       "    </tr>\n",
       "    <tr>\n",
       "      <th>6</th>\n",
       "      <td>NumberOfTimes90DaysLate</td>\n",
       "      <td>0.484202</td>\n",
       "    </tr>\n",
       "    <tr>\n",
       "      <th>4</th>\n",
       "      <td>NumberOfTime30-59DaysPastDueNotWorse</td>\n",
       "      <td>0.471831</td>\n",
       "    </tr>\n",
       "    <tr>\n",
       "      <th>5</th>\n",
       "      <td>NumberOfTime60-89DaysPastDueNotWorse</td>\n",
       "      <td>0.264824</td>\n",
       "    </tr>\n",
       "    <tr>\n",
       "      <th>9</th>\n",
       "      <td>age</td>\n",
       "      <td>0.219843</td>\n",
       "    </tr>\n",
       "    <tr>\n",
       "      <th>1</th>\n",
       "      <td>MonthlyIncome</td>\n",
       "      <td>0.065725</td>\n",
       "    </tr>\n",
       "    <tr>\n",
       "      <th>2</th>\n",
       "      <td>NumberOfDependents</td>\n",
       "      <td>0.023730</td>\n",
       "    </tr>\n",
       "    <tr>\n",
       "      <th>3</th>\n",
       "      <td>NumberOfOpenCreditLinesAndLoans</td>\n",
       "      <td>0.023300</td>\n",
       "    </tr>\n",
       "    <tr>\n",
       "      <th>0</th>\n",
       "      <td>DebtRatio</td>\n",
       "      <td>0.012360</td>\n",
       "    </tr>\n",
       "    <tr>\n",
       "      <th>7</th>\n",
       "      <td>NumberRealEstateLoansOrLines</td>\n",
       "      <td>0.001605</td>\n",
       "    </tr>\n",
       "  </tbody>\n",
       "</table>\n",
       "</div>"
      ],
      "text/plain": [
       "                          Variable_Name  Information_Value\n",
       "8  RevolvingUtilizationOfUnsecuredLines           0.935429\n",
       "6               NumberOfTimes90DaysLate           0.484202\n",
       "4  NumberOfTime30-59DaysPastDueNotWorse           0.471831\n",
       "5  NumberOfTime60-89DaysPastDueNotWorse           0.264824\n",
       "9                                   age           0.219843\n",
       "1                         MonthlyIncome           0.065725\n",
       "2                    NumberOfDependents           0.023730\n",
       "3       NumberOfOpenCreditLinesAndLoans           0.023300\n",
       "0                             DebtRatio           0.012360\n",
       "7          NumberRealEstateLoansOrLines           0.001605"
      ]
     },
     "execution_count": 17,
     "metadata": {
      "tags": []
     },
     "output_type": "execute_result"
    }
   ],
   "source": [
    "clf.iv_df #information value dataset"
   ]
  },
  {
   "cell_type": "code",
   "execution_count": 18,
   "id": "ordered-knock",
   "metadata": {
    "executionInfo": {
     "elapsed": 130,
     "status": "ok",
     "timestamp": 1622465682152,
     "user": {
      "displayName": "CDS Support",
      "photoUrl": "",
      "userId": "15376517909823222822"
     },
     "user_tz": -330
    },
    "id": "ordered-knock"
   },
   "outputs": [],
   "source": [
    "selected_columns = clf.iv_df.Variable_Name.values[:5]"
   ]
  },
  {
   "cell_type": "markdown",
   "id": "conservative-rebel",
   "metadata": {
    "id": "conservative-rebel"
   },
   "source": [
    "### Identify features,  target and split it into train and test"
   ]
  },
  {
   "cell_type": "code",
   "execution_count": 19,
   "id": "ambient-dress",
   "metadata": {
    "colab": {
     "base_uri": "https://localhost:8080/"
    },
    "executionInfo": {
     "elapsed": 131,
     "status": "ok",
     "timestamp": 1622465682154,
     "user": {
      "displayName": "CDS Support",
      "photoUrl": "",
      "userId": "15376517909823222822"
     },
     "user_tz": -330
    },
    "id": "ambient-dress",
    "outputId": "fb5dcf9b-6b6b-42c0-8d6c-1f21079d3b45"
   },
   "outputs": [
    {
     "data": {
      "text/plain": [
       "(10, 5)"
      ]
     },
     "execution_count": 19,
     "metadata": {
      "tags": []
     },
     "output_type": "execute_result"
    }
   ],
   "source": [
    "len(out_X.columns), len(selected_columns)"
   ]
  },
  {
   "cell_type": "code",
   "execution_count": 20,
   "id": "5hoEeUh66UeT",
   "metadata": {
    "colab": {
     "base_uri": "https://localhost:8080/",
     "height": 456
    },
    "executionInfo": {
     "elapsed": 110,
     "status": "ok",
     "timestamp": 1622465682156,
     "user": {
      "displayName": "CDS Support",
      "photoUrl": "",
      "userId": "15376517909823222822"
     },
     "user_tz": -330
    },
    "id": "5hoEeUh66UeT",
    "outputId": "d6ce4e39-dab7-4bf7-c3f1-5f76524e61a8"
   },
   "outputs": [
    {
     "data": {
      "text/html": [
       "<div>\n",
       "<style scoped>\n",
       "    .dataframe tbody tr th:only-of-type {\n",
       "        vertical-align: middle;\n",
       "    }\n",
       "\n",
       "    .dataframe tbody tr th {\n",
       "        vertical-align: top;\n",
       "    }\n",
       "\n",
       "    .dataframe thead th {\n",
       "        text-align: right;\n",
       "    }\n",
       "</style>\n",
       "<table border=\"1\" class=\"dataframe\">\n",
       "  <thead>\n",
       "    <tr style=\"text-align: right;\">\n",
       "      <th></th>\n",
       "      <th>RevolvingUtilizationOfUnsecuredLines</th>\n",
       "      <th>age</th>\n",
       "      <th>NumberOfTime30-59DaysPastDueNotWorse</th>\n",
       "      <th>DebtRatio</th>\n",
       "      <th>MonthlyIncome</th>\n",
       "      <th>NumberOfOpenCreditLinesAndLoans</th>\n",
       "      <th>NumberOfTimes90DaysLate</th>\n",
       "      <th>NumberRealEstateLoansOrLines</th>\n",
       "      <th>NumberOfTime60-89DaysPastDueNotWorse</th>\n",
       "      <th>NumberOfDependents</th>\n",
       "    </tr>\n",
       "  </thead>\n",
       "  <tbody>\n",
       "    <tr>\n",
       "      <th>0</th>\n",
       "      <td>0.766127</td>\n",
       "      <td>45</td>\n",
       "      <td>2</td>\n",
       "      <td>0.802982</td>\n",
       "      <td>9120.000000</td>\n",
       "      <td>13</td>\n",
       "      <td>0</td>\n",
       "      <td>6</td>\n",
       "      <td>0</td>\n",
       "      <td>2.0</td>\n",
       "    </tr>\n",
       "    <tr>\n",
       "      <th>1</th>\n",
       "      <td>0.957151</td>\n",
       "      <td>40</td>\n",
       "      <td>0</td>\n",
       "      <td>0.121876</td>\n",
       "      <td>2600.000000</td>\n",
       "      <td>4</td>\n",
       "      <td>0</td>\n",
       "      <td>0</td>\n",
       "      <td>0</td>\n",
       "      <td>1.0</td>\n",
       "    </tr>\n",
       "    <tr>\n",
       "      <th>2</th>\n",
       "      <td>0.658180</td>\n",
       "      <td>38</td>\n",
       "      <td>1</td>\n",
       "      <td>0.085113</td>\n",
       "      <td>3042.000000</td>\n",
       "      <td>2</td>\n",
       "      <td>1</td>\n",
       "      <td>0</td>\n",
       "      <td>0</td>\n",
       "      <td>0.0</td>\n",
       "    </tr>\n",
       "    <tr>\n",
       "      <th>3</th>\n",
       "      <td>0.233810</td>\n",
       "      <td>30</td>\n",
       "      <td>0</td>\n",
       "      <td>0.036050</td>\n",
       "      <td>3300.000000</td>\n",
       "      <td>5</td>\n",
       "      <td>0</td>\n",
       "      <td>0</td>\n",
       "      <td>0</td>\n",
       "      <td>0.0</td>\n",
       "    </tr>\n",
       "    <tr>\n",
       "      <th>4</th>\n",
       "      <td>0.907239</td>\n",
       "      <td>49</td>\n",
       "      <td>1</td>\n",
       "      <td>0.024926</td>\n",
       "      <td>63588.000000</td>\n",
       "      <td>7</td>\n",
       "      <td>0</td>\n",
       "      <td>1</td>\n",
       "      <td>0</td>\n",
       "      <td>0.0</td>\n",
       "    </tr>\n",
       "    <tr>\n",
       "      <th>...</th>\n",
       "      <td>...</td>\n",
       "      <td>...</td>\n",
       "      <td>...</td>\n",
       "      <td>...</td>\n",
       "      <td>...</td>\n",
       "      <td>...</td>\n",
       "      <td>...</td>\n",
       "      <td>...</td>\n",
       "      <td>...</td>\n",
       "      <td>...</td>\n",
       "    </tr>\n",
       "    <tr>\n",
       "      <th>149995</th>\n",
       "      <td>0.040674</td>\n",
       "      <td>74</td>\n",
       "      <td>0</td>\n",
       "      <td>0.225131</td>\n",
       "      <td>2100.000000</td>\n",
       "      <td>4</td>\n",
       "      <td>0</td>\n",
       "      <td>1</td>\n",
       "      <td>0</td>\n",
       "      <td>0.0</td>\n",
       "    </tr>\n",
       "    <tr>\n",
       "      <th>149996</th>\n",
       "      <td>0.299745</td>\n",
       "      <td>44</td>\n",
       "      <td>0</td>\n",
       "      <td>0.716562</td>\n",
       "      <td>5584.000000</td>\n",
       "      <td>4</td>\n",
       "      <td>0</td>\n",
       "      <td>1</td>\n",
       "      <td>0</td>\n",
       "      <td>2.0</td>\n",
       "    </tr>\n",
       "    <tr>\n",
       "      <th>149997</th>\n",
       "      <td>0.246044</td>\n",
       "      <td>58</td>\n",
       "      <td>0</td>\n",
       "      <td>3870.000000</td>\n",
       "      <td>6670.221237</td>\n",
       "      <td>18</td>\n",
       "      <td>0</td>\n",
       "      <td>1</td>\n",
       "      <td>0</td>\n",
       "      <td>0.0</td>\n",
       "    </tr>\n",
       "    <tr>\n",
       "      <th>149998</th>\n",
       "      <td>0.000000</td>\n",
       "      <td>30</td>\n",
       "      <td>0</td>\n",
       "      <td>0.000000</td>\n",
       "      <td>5716.000000</td>\n",
       "      <td>4</td>\n",
       "      <td>0</td>\n",
       "      <td>0</td>\n",
       "      <td>0</td>\n",
       "      <td>0.0</td>\n",
       "    </tr>\n",
       "    <tr>\n",
       "      <th>149999</th>\n",
       "      <td>0.850283</td>\n",
       "      <td>64</td>\n",
       "      <td>0</td>\n",
       "      <td>0.249908</td>\n",
       "      <td>8158.000000</td>\n",
       "      <td>8</td>\n",
       "      <td>0</td>\n",
       "      <td>2</td>\n",
       "      <td>0</td>\n",
       "      <td>0.0</td>\n",
       "    </tr>\n",
       "  </tbody>\n",
       "</table>\n",
       "<p>150000 rows × 10 columns</p>\n",
       "</div>"
      ],
      "text/plain": [
       "        RevolvingUtilizationOfUnsecuredLines  ...  NumberOfDependents\n",
       "0                                   0.766127  ...                 2.0\n",
       "1                                   0.957151  ...                 1.0\n",
       "2                                   0.658180  ...                 0.0\n",
       "3                                   0.233810  ...                 0.0\n",
       "4                                   0.907239  ...                 0.0\n",
       "...                                      ...  ...                 ...\n",
       "149995                              0.040674  ...                 0.0\n",
       "149996                              0.299745  ...                 2.0\n",
       "149997                              0.246044  ...                 0.0\n",
       "149998                              0.000000  ...                 0.0\n",
       "149999                              0.850283  ...                 0.0\n",
       "\n",
       "[150000 rows x 10 columns]"
      ]
     },
     "execution_count": 20,
     "metadata": {
      "tags": []
     },
     "output_type": "execute_result"
    }
   ],
   "source": [
    "train_data.iloc[:,1:]"
   ]
  },
  {
   "cell_type": "code",
   "execution_count": 21,
   "id": "harmful-warrant",
   "metadata": {
    "colab": {
     "base_uri": "https://localhost:8080/"
    },
    "executionInfo": {
     "elapsed": 108,
     "status": "ok",
     "timestamp": 1622465682157,
     "user": {
      "displayName": "CDS Support",
      "photoUrl": "",
      "userId": "15376517909823222822"
     },
     "user_tz": -330
    },
    "id": "harmful-warrant",
    "outputId": "074358d7-0660-4bb8-8aee-01fead88973f"
   },
   "outputs": [
    {
     "data": {
      "text/plain": [
       "((150000, 5), (150000,))"
      ]
     },
     "execution_count": 21,
     "metadata": {
      "tags": []
     },
     "output_type": "execute_result"
    }
   ],
   "source": [
    "X = out_X[selected_columns]\n",
    "y = train_data['SeriousDlqin2yrs']\n",
    "X.shape, y.shape"
   ]
  },
  {
   "cell_type": "code",
   "execution_count": 22,
   "id": "packed-humor",
   "metadata": {
    "colab": {
     "base_uri": "https://localhost:8080/"
    },
    "executionInfo": {
     "elapsed": 91,
     "status": "ok",
     "timestamp": 1622465682160,
     "user": {
      "displayName": "CDS Support",
      "photoUrl": "",
      "userId": "15376517909823222822"
     },
     "user_tz": -330
    },
    "id": "packed-humor",
    "outputId": "9ee62a18-6c05-4020-fc50-c0213518428e"
   },
   "outputs": [
    {
     "data": {
      "text/plain": [
       "((120000, 5), (120000,), (30000, 5), (30000,))"
      ]
     },
     "execution_count": 22,
     "metadata": {
      "tags": []
     },
     "output_type": "execute_result"
    }
   ],
   "source": [
    "# split the data into train and test\n",
    "xtrain, xtest, ytrain, ytest = train_test_split(X, y, test_size=0.2, random_state=66)\n",
    "xtrain.shape, ytrain.shape, xtest.shape, ytest.shape"
   ]
  },
  {
   "cell_type": "markdown",
   "id": "ufESq5OxgoXa",
   "metadata": {
    "id": "ufESq5OxgoXa"
   },
   "source": [
    "### Logistic Regression from scratch using gradient method (2 points)\n",
    "\n",
    "For Linear Regression, we had the hypothesis $yhat = w.X +b$ , whose output range was the set of all Real Numbers.\n",
    "Now, for Logistic Regression our hypothesis is  $yhat = sigmoid(w.X + b)$ , whose output range is between 0 and 1 because by applying a sigmoid function, we always output a number between 0 and 1.\n",
    "\n",
    "$yhat = \\frac{1}{1 +e^{-(w.x+b)}}$\n",
    "\n",
    "Hint: [logistic-regression-with-python](\n",
    "https://medium.com/@ODSC/logistic-regression-with-python-ede39f8573c7)"
   ]
  },
  {
   "cell_type": "code",
   "execution_count": 23,
   "id": "precious-business",
   "metadata": {
    "executionInfo": {
     "elapsed": 80,
     "status": "ok",
     "timestamp": 1622465682163,
     "user": {
      "displayName": "CDS Support",
      "photoUrl": "",
      "userId": "15376517909823222822"
     },
     "user_tz": -330
    },
    "id": "precious-business"
   },
   "outputs": [],
   "source": [
    "intercept = np.ones((xtrain.shape[0], 1))  \n",
    "x_train = np.concatenate((intercept, xtrain), axis=1)\n",
    "weight = np.zeros(x_train.shape[1])"
   ]
  },
  {
   "cell_type": "code",
   "execution_count": 24,
   "id": "confidential-curtis",
   "metadata": {
    "colab": {
     "base_uri": "https://localhost:8080/"
    },
    "executionInfo": {
     "elapsed": 85,
     "status": "ok",
     "timestamp": 1622465682170,
     "user": {
      "displayName": "CDS Support",
      "photoUrl": "",
      "userId": "15376517909823222822"
     },
     "user_tz": -330
    },
    "id": "confidential-curtis",
    "outputId": "e2c524b5-6881-4a3f-ff2c-3122e148251e"
   },
   "outputs": [
    {
     "data": {
      "text/plain": [
       "(6,)"
      ]
     },
     "execution_count": 24,
     "metadata": {
      "tags": []
     },
     "output_type": "execute_result"
    }
   ],
   "source": [
    "weight.shape"
   ]
  },
  {
   "cell_type": "code",
   "execution_count": 25,
   "id": "middle-mailing",
   "metadata": {
    "executionInfo": {
     "elapsed": 65,
     "status": "ok",
     "timestamp": 1622465682173,
     "user": {
      "displayName": "CDS Support",
      "photoUrl": "",
      "userId": "15376517909823222822"
     },
     "user_tz": -330
    },
    "id": "middle-mailing"
   },
   "outputs": [],
   "source": [
    "#Sigmoid method\n",
    "def sigmoid(x, weight):\n",
    "    z = np.dot(x, weight)\n",
    "    return 1 / (1 + np.exp(-z))\n",
    "\n",
    "from sklearn.metrics import mean_squared_error\n",
    "\n",
    "def fit(x, y, weight, lr, iterations):\n",
    "    for i in range(iterations):\n",
    "        sigma = sigmoid(x, weight)\n",
    "        loss = mean_squared_error(sigma,y)\n",
    "        # gradient\n",
    "        dW = np.dot(x.T, (sigma - y)) / y.shape[0]\n",
    "        #Updating the weights\n",
    "        weight -= lr * dW\n",
    "    return weight"
   ]
  },
  {
   "cell_type": "code",
   "execution_count": 26,
   "id": "quick-study",
   "metadata": {
    "executionInfo": {
     "elapsed": 39116,
     "status": "ok",
     "timestamp": 1622465721227,
     "user": {
      "displayName": "CDS Support",
      "photoUrl": "",
      "userId": "15376517909823222822"
     },
     "user_tz": -330
    },
    "id": "quick-study"
   },
   "outputs": [],
   "source": [
    "#creating the class Object\n",
    "updated_weights = fit(x_train, ytrain, weight, 0.1 , 5000)"
   ]
  },
  {
   "cell_type": "code",
   "execution_count": 27,
   "id": "vertical-layout",
   "metadata": {
    "executionInfo": {
     "elapsed": 1472,
     "status": "ok",
     "timestamp": 1622465721232,
     "user": {
      "displayName": "CDS Support",
      "photoUrl": "",
      "userId": "15376517909823222822"
     },
     "user_tz": -330
    },
    "id": "vertical-layout"
   },
   "outputs": [],
   "source": [
    "# Method to predict the class label.\n",
    "def predict(x_new , weight, treshold):\n",
    "    x_new = np.concatenate((np.ones((x_new.shape[0], 1)), x_new), axis=1)  \n",
    "    result = sigmoid(x_new, weight)\n",
    "    result = result >= treshold\n",
    "    y_pred = np.zeros(result.shape[0])\n",
    "    for i in range(len(y_pred)):\n",
    "        if result[i] == True: \n",
    "            y_pred[i] = 1\n",
    "        else:\n",
    "            continue\n",
    "    return y_pred"
   ]
  },
  {
   "cell_type": "code",
   "execution_count": 28,
   "id": "tracked-intent",
   "metadata": {
    "colab": {
     "base_uri": "https://localhost:8080/"
    },
    "executionInfo": {
     "elapsed": 1458,
     "status": "ok",
     "timestamp": 1622465721233,
     "user": {
      "displayName": "CDS Support",
      "photoUrl": "",
      "userId": "15376517909823222822"
     },
     "user_tz": -330
    },
    "id": "tracked-intent",
    "outputId": "d3c6843c-b15d-4a85-b24a-ed124c211b55"
   },
   "outputs": [
    {
     "data": {
      "text/plain": [
       "(30000, 5)"
      ]
     },
     "execution_count": 28,
     "metadata": {
      "tags": []
     },
     "output_type": "execute_result"
    }
   ],
   "source": [
    "xtest.shape"
   ]
  },
  {
   "cell_type": "code",
   "execution_count": 29,
   "id": "bigger-guidance",
   "metadata": {
    "executionInfo": {
     "elapsed": 74,
     "status": "ok",
     "timestamp": 1622465721235,
     "user": {
      "displayName": "CDS Support",
      "photoUrl": "",
      "userId": "15376517909823222822"
     },
     "user_tz": -330
    },
    "id": "bigger-guidance"
   },
   "outputs": [],
   "source": [
    "y_pred = predict(xtest, updated_weights, 0.5)"
   ]
  },
  {
   "cell_type": "code",
   "execution_count": 30,
   "id": "lasting-sector",
   "metadata": {
    "colab": {
     "base_uri": "https://localhost:8080/"
    },
    "executionInfo": {
     "elapsed": 75,
     "status": "ok",
     "timestamp": 1622465721237,
     "user": {
      "displayName": "CDS Support",
      "photoUrl": "",
      "userId": "15376517909823222822"
     },
     "user_tz": -330
    },
    "id": "lasting-sector",
    "outputId": "b2603b4a-97ba-44ba-c989-af9f1bd0ab8d"
   },
   "outputs": [
    {
     "data": {
      "text/plain": [
       "0.9367"
      ]
     },
     "execution_count": 30,
     "metadata": {
      "tags": []
     },
     "output_type": "execute_result"
    }
   ],
   "source": [
    "# Accuracy of test data\n",
    "(y_pred == ytest).sum() / len(y_pred)"
   ]
  },
  {
   "cell_type": "markdown",
   "id": "7eSQ5nuBgk7S",
   "metadata": {
    "id": "7eSQ5nuBgk7S"
   },
   "source": [
    "### Implement the Logistic regression using sklearn (2 points)\n",
    "\n",
    "As there is imbalance in the class distribution, add weightage to the Logistic regression.\n",
    "\n",
    "* Find the accuracy with class weightage in Logistic regression\n",
    "* Find the accuracy without class weightage in Logistic regression\n",
    "\n",
    "Hint: [LogisticRegression](https://scikit-learn.org/stable/modules/generated/sklearn.linear_model.LogisticRegression.html)"
   ]
  },
  {
   "cell_type": "code",
   "execution_count": 31,
   "id": "impressive-assistant",
   "metadata": {
    "colab": {
     "base_uri": "https://localhost:8080/"
    },
    "executionInfo": {
     "elapsed": 768,
     "status": "ok",
     "timestamp": 1622465721954,
     "user": {
      "displayName": "CDS Support",
      "photoUrl": "",
      "userId": "15376517909823222822"
     },
     "user_tz": -330
    },
    "id": "impressive-assistant",
    "outputId": "45d7e468-c317-469a-e1c7-96c0358494f7"
   },
   "outputs": [
    {
     "data": {
      "text/plain": [
       "(0.6907, 0.6912583333333333)"
      ]
     },
     "execution_count": 31,
     "metadata": {
      "tags": []
     },
     "output_type": "execute_result"
    }
   ],
   "source": [
    "# With weightage\n",
    "log_reg = LogisticRegression(class_weight={0:6/100, 1: 94/100})\n",
    "log_reg.fit(xtrain,ytrain)\n",
    "log_reg.score(xtest,ytest), log_reg.score(xtrain, ytrain)"
   ]
  },
  {
   "cell_type": "code",
   "execution_count": 32,
   "id": "AFz6VF-m5roR",
   "metadata": {
    "executionInfo": {
     "elapsed": 193,
     "status": "ok",
     "timestamp": 1622465721956,
     "user": {
      "displayName": "CDS Support",
      "photoUrl": "",
      "userId": "15376517909823222822"
     },
     "user_tz": -330
    },
    "id": "AFz6VF-m5roR"
   },
   "outputs": [],
   "source": [
    "test_predicted = log_reg.predict(xtest)"
   ]
  },
  {
   "cell_type": "code",
   "execution_count": 33,
   "id": "similar-flower",
   "metadata": {
    "colab": {
     "base_uri": "https://localhost:8080/"
    },
    "executionInfo": {
     "elapsed": 191,
     "status": "ok",
     "timestamp": 1622465721959,
     "user": {
      "displayName": "CDS Support",
      "photoUrl": "",
      "userId": "15376517909823222822"
     },
     "user_tz": -330
    },
    "id": "similar-flower",
    "outputId": "fb2ffe1e-bb0a-4325-d533-e79d59cfa48c"
   },
   "outputs": [
    {
     "data": {
      "text/plain": [
       "(0.9367, 0.93545)"
      ]
     },
     "execution_count": 33,
     "metadata": {
      "tags": []
     },
     "output_type": "execute_result"
    }
   ],
   "source": [
    "# Without weightage\n",
    "log_reg = LogisticRegression()\n",
    "log_reg.fit(xtrain,ytrain)\n",
    "log_reg.score(xtest,ytest), log_reg.score(xtrain, ytrain)"
   ]
  },
  {
   "cell_type": "code",
   "execution_count": 34,
   "id": "fossil-washer",
   "metadata": {
    "executionInfo": {
     "elapsed": 142,
     "status": "ok",
     "timestamp": 1622465721962,
     "user": {
      "displayName": "CDS Support",
      "photoUrl": "",
      "userId": "15376517909823222822"
     },
     "user_tz": -330
    },
    "id": "fossil-washer"
   },
   "outputs": [],
   "source": [
    "test_predicted = log_reg.predict(xtest)"
   ]
  },
  {
   "cell_type": "code",
   "execution_count": 35,
   "id": "heard-briefing",
   "metadata": {
    "colab": {
     "base_uri": "https://localhost:8080/"
    },
    "executionInfo": {
     "elapsed": 139,
     "status": "ok",
     "timestamp": 1622465721965,
     "user": {
      "displayName": "CDS Support",
      "photoUrl": "",
      "userId": "15376517909823222822"
     },
     "user_tz": -330
    },
    "id": "heard-briefing",
    "outputId": "2ba16995-6128-4cdd-9556-3d462132f7d9"
   },
   "outputs": [
    {
     "data": {
      "text/plain": [
       "(array([[0.77033744, 0.60206246, 0.62024115, 0.39665405, 0.52257834]]),\n",
       " array([-2.60823093]))"
      ]
     },
     "execution_count": 35,
     "metadata": {
      "tags": []
     },
     "output_type": "execute_result"
    }
   ],
   "source": [
    "log_reg.coef_, log_reg.intercept_"
   ]
  },
  {
   "cell_type": "code",
   "execution_count": 36,
   "id": "q68_0W3G9jCn",
   "metadata": {
    "colab": {
     "base_uri": "https://localhost:8080/"
    },
    "executionInfo": {
     "elapsed": 82,
     "status": "ok",
     "timestamp": 1622465721967,
     "user": {
      "displayName": "CDS Support",
      "photoUrl": "",
      "userId": "15376517909823222822"
     },
     "user_tz": -330
    },
    "id": "q68_0W3G9jCn",
    "outputId": "f531cdb4-2953-4197-f868-642deef9dccc"
   },
   "outputs": [
    {
     "data": {
      "text/plain": [
       "<bound method LogisticRegression.predict_proba of LogisticRegression(C=1.0, class_weight=None, dual=False, fit_intercept=True,\n",
       "                   intercept_scaling=1, l1_ratio=None, max_iter=100,\n",
       "                   multi_class='auto', n_jobs=None, penalty='l2',\n",
       "                   random_state=None, solver='lbfgs', tol=0.0001, verbose=0,\n",
       "                   warm_start=False)>"
      ]
     },
     "execution_count": 36,
     "metadata": {
      "tags": []
     },
     "output_type": "execute_result"
    }
   ],
   "source": [
    "log_reg.predict_proba"
   ]
  },
  {
   "cell_type": "markdown",
   "id": "signal-error",
   "metadata": {
    "id": "signal-error"
   },
   "source": [
    "### Credit scoring (1 point)\n",
    "\n",
    "When scaling the model into a scorecard, we will need both the Logistic Regression coefficients from model fitting as well as the transformed WoE values. We will also need to convert the score from the model from the log-odds unit to a points system.\n",
    "For each independent variable Xi, its corresponding score is:\n",
    "\n",
    "$Score = \\sum_{i=1}^{n} (-(β_i × WoE_i + \\frac{α}{n}) × Factor + \\frac{Offset}{n})$\n",
    "\n",
    "Where:\n",
    "\n",
    "βi — logistic regression coefficient for the variable Xi\n",
    "\n",
    "α — logistic regression intercept\n",
    "\n",
    "WoE — Weight of Evidence value for variable Xi\n",
    "\n",
    "n — number of independent variable Xi in the model\n",
    "\n",
    "Factor, Offset — known as scaling parameter\n",
    "\n",
    "  - Factor = pdo / ln(2); pdo is points to double the odds\n",
    "  - Offset = Round_of_Score - {Factor * ln(Odds)}"
   ]
  },
  {
   "cell_type": "code",
   "execution_count": 37,
   "id": "worst-spare",
   "metadata": {
    "colab": {
     "base_uri": "https://localhost:8080/"
    },
    "executionInfo": {
     "elapsed": 58,
     "status": "ok",
     "timestamp": 1622465721969,
     "user": {
      "displayName": "CDS Support",
      "photoUrl": "",
      "userId": "15376517909823222822"
     },
     "user_tz": -330
    },
    "id": "worst-spare",
    "outputId": "6dd7901a-343b-46fa-ee8d-e3b1efec60e1"
   },
   "outputs": [
    {
     "data": {
      "text/plain": [
       "(28.85390081777927, 487.1228762045055)"
      ]
     },
     "execution_count": 37,
     "metadata": {
      "tags": []
     },
     "output_type": "execute_result"
    }
   ],
   "source": [
    "coef = log_reg.coef_.ravel()\n",
    "intercept = log_reg.intercept_\n",
    "import math\n",
    "factor = 20/np.log(2)\n",
    "offset = 600 - ( factor * np.log(50))\n",
    "factor, offset"
   ]
  },
  {
   "cell_type": "code",
   "execution_count": 38,
   "id": "promising-lexington",
   "metadata": {
    "executionInfo": {
     "elapsed": 38,
     "status": "ok",
     "timestamp": 1622465721971,
     "user": {
      "displayName": "CDS Support",
      "photoUrl": "",
      "userId": "15376517909823222822"
     },
     "user_tz": -330
    },
    "id": "promising-lexington",
    "scrolled": true
   },
   "outputs": [],
   "source": [
    "# scores = -(X.dot(coef) + (intercept/X.shape[1])) * factor + offset/X.shape[1]\n",
    "# scores.max()"
   ]
  },
  {
   "cell_type": "code",
   "execution_count": 39,
   "id": "XwwnwQKMU_Nx",
   "metadata": {
    "executionInfo": {
     "elapsed": 8434,
     "status": "ok",
     "timestamp": 1622465730370,
     "user": {
      "displayName": "CDS Support",
      "photoUrl": "",
      "userId": "15376517909823222822"
     },
     "user_tz": -330
    },
    "id": "XwwnwQKMU_Nx"
   },
   "outputs": [],
   "source": [
    "all_scores = []\n",
    "for idx,row in X.iterrows():\n",
    "  a = row.values * coef          # B_i * WOE_i\n",
    "  a = a + (intercept/X.shape[1]) # (B_i * WOE_i) + intercept_i / n\n",
    "  b = -a * factor                # -((B_i * WOE_i) + intercept_i / n) * factor\n",
    "  b = b + (offset/X.shape[1])    # -((B_i * WOE_i) + intercept_i / n) * factor) + offset / n\n",
    "  all_scores.append(sum(b))      # sum"
   ]
  },
  {
   "cell_type": "code",
   "execution_count": 40,
   "id": "vOcB1ewAYxtM",
   "metadata": {
    "colab": {
     "base_uri": "https://localhost:8080/"
    },
    "executionInfo": {
     "elapsed": 871,
     "status": "ok",
     "timestamp": 1622465731234,
     "user": {
      "displayName": "CDS Support",
      "photoUrl": "",
      "userId": "15376517909823222822"
     },
     "user_tz": -330
    },
    "id": "vOcB1ewAYxtM",
    "outputId": "6d1a0e46-1d4b-4de8-9b3e-381a2de86810"
   },
   "outputs": [
    {
     "data": {
      "text/plain": [
       "(614.1966472710151, 420.7947696936438)"
      ]
     },
     "execution_count": 40,
     "metadata": {
      "tags": []
     },
     "output_type": "execute_result"
    }
   ],
   "source": [
    "max(all_scores),min(all_scores)"
   ]
  },
  {
   "cell_type": "markdown",
   "id": "intelligent-internship",
   "metadata": {
    "id": "intelligent-internship"
   },
   "source": [
    "### Performance Metrics (1 point)"
   ]
  },
  {
   "cell_type": "markdown",
   "id": "innocent-hygiene",
   "metadata": {
    "id": "innocent-hygiene"
   },
   "source": [
    "#### Precision"
   ]
  },
  {
   "cell_type": "code",
   "execution_count": 41,
   "id": "optimum-listening",
   "metadata": {
    "colab": {
     "base_uri": "https://localhost:8080/"
    },
    "executionInfo": {
     "elapsed": 70,
     "status": "ok",
     "timestamp": 1622465731235,
     "user": {
      "displayName": "CDS Support",
      "photoUrl": "",
      "userId": "15376517909823222822"
     },
     "user_tz": -330
    },
    "id": "optimum-listening",
    "outputId": "45231723-cd1a-49e7-abfb-7313016dc902"
   },
   "outputs": [
    {
     "data": {
      "text/plain": [
       "0.7778018274901173"
      ]
     },
     "execution_count": 41,
     "metadata": {
      "tags": []
     },
     "output_type": "execute_result"
    }
   ],
   "source": [
    "from sklearn.metrics import precision_score\n",
    "precision_score(ytest, test_predicted ,average='macro') "
   ]
  },
  {
   "cell_type": "markdown",
   "id": "accessory-keyboard",
   "metadata": {
    "id": "accessory-keyboard"
   },
   "source": [
    "#### Recall"
   ]
  },
  {
   "cell_type": "code",
   "execution_count": 42,
   "id": "civic-corner",
   "metadata": {
    "colab": {
     "base_uri": "https://localhost:8080/"
    },
    "executionInfo": {
     "elapsed": 57,
     "status": "ok",
     "timestamp": 1622465731236,
     "user": {
      "displayName": "CDS Support",
      "photoUrl": "",
      "userId": "15376517909823222822"
     },
     "user_tz": -330
    },
    "id": "civic-corner",
    "outputId": "3996f405-c836-4402-a33e-87c2d67bced4"
   },
   "outputs": [
    {
     "data": {
      "text/plain": [
       "0.5484284892209297"
      ]
     },
     "execution_count": 42,
     "metadata": {
      "tags": []
     },
     "output_type": "execute_result"
    }
   ],
   "source": [
    "from sklearn.metrics import recall_score\n",
    "recall_score(ytest, test_predicted,average='macro') "
   ]
  },
  {
   "cell_type": "markdown",
   "id": "wired-amendment",
   "metadata": {
    "id": "wired-amendment"
   },
   "source": [
    "#### Classification Report"
   ]
  },
  {
   "cell_type": "code",
   "execution_count": 43,
   "id": "impossible-machinery",
   "metadata": {
    "colab": {
     "base_uri": "https://localhost:8080/"
    },
    "executionInfo": {
     "elapsed": 47,
     "status": "ok",
     "timestamp": 1622465731238,
     "user": {
      "displayName": "CDS Support",
      "photoUrl": "",
      "userId": "15376517909823222822"
     },
     "user_tz": -330
    },
    "id": "impossible-machinery",
    "outputId": "72be74e1-fc3c-421b-a070-91b3c7eb2d55"
   },
   "outputs": [
    {
     "name": "stdout",
     "output_type": "stream",
     "text": [
      "              precision    recall  f1-score   support\n",
      "\n",
      "           0       0.94      1.00      0.97     28026\n",
      "           1       0.62      0.10      0.17      1974\n",
      "\n",
      "    accuracy                           0.94     30000\n",
      "   macro avg       0.78      0.55      0.57     30000\n",
      "weighted avg       0.92      0.94      0.91     30000\n",
      "\n"
     ]
    }
   ],
   "source": [
    "from sklearn.metrics import classification_report\n",
    "print(classification_report(ytest, test_predicted))"
   ]
  },
  {
   "cell_type": "markdown",
   "id": "dense-feelings",
   "metadata": {
    "id": "dense-feelings"
   },
   "source": [
    "#### Confusion matrix"
   ]
  },
  {
   "cell_type": "code",
   "execution_count": 44,
   "id": "running-remains",
   "metadata": {
    "colab": {
     "base_uri": "https://localhost:8080/"
    },
    "executionInfo": {
     "elapsed": 37,
     "status": "ok",
     "timestamp": 1622465731239,
     "user": {
      "displayName": "CDS Support",
      "photoUrl": "",
      "userId": "15376517909823222822"
     },
     "user_tz": -330
    },
    "id": "running-remains",
    "outputId": "a57a20cc-feb4-4d36-c213-90660e06b9d8"
   },
   "outputs": [
    {
     "data": {
      "text/plain": [
       "array([[27901,   125],\n",
       "       [ 1774,   200]])"
      ]
     },
     "execution_count": 44,
     "metadata": {
      "tags": []
     },
     "output_type": "execute_result"
    }
   ],
   "source": [
    "from sklearn.metrics import confusion_matrix\n",
    "mat = confusion_matrix(ytest, test_predicted)\n",
    "mat"
   ]
  },
  {
   "cell_type": "markdown",
   "id": "cesp9mHLhv8r",
   "metadata": {
    "id": "cesp9mHLhv8r"
   },
   "source": [
    "### References: (Only for Mentors)\n",
    "\n",
    "\n",
    "**WOE and IV:**\n",
    "\n",
    "https://towardsdatascience.com/how-to-develop-a-credit-risk-model-and-scorecard-91335fc01f03\n",
    "\n",
    "https://towardsdatascience.com/intro-to-credit-scorecard-9afeaaa3725f\n",
    "\n",
    "https://medium.com/@yanhuiliu104/credit-scoring-scorecard-development-process-8554c3492b2b\n",
    "\n",
    "https://www.listendata.com/2015/03/weight-of-evidence-woe-and-information.html#What-is-Information-Value-IV-\n",
    "\n",
    "**PDF:**\n",
    "https://scholarworks.sjsu.edu/cgi/viewcontent.cgi?article=1532&context=etd_projects (Page no. 47)"
   ]
  },
  {
   "cell_type": "code",
   "execution_count": null,
   "id": "r8uaTYJaiOgy",
   "metadata": {
    "id": "r8uaTYJaiOgy"
   },
   "outputs": [],
   "source": []
  }
 ],
 "metadata": {
  "colab": {
   "collapsed_sections": [],
   "name": "M4_SNB_MiniProject_2_Credit_risk_modelling_Logistic_Regression.ipynb",
   "provenance": []
  },
  "kernelspec": {
   "display_name": "Python 3",
   "language": "python",
   "name": "python3"
  },
  "language_info": {
   "codemirror_mode": {
    "name": "ipython",
    "version": 3
   },
   "file_extension": ".py",
   "mimetype": "text/x-python",
   "name": "python",
   "nbconvert_exporter": "python",
   "pygments_lexer": "ipython3",
   "version": "3.9.2"
  }
 },
 "nbformat": 4,
 "nbformat_minor": 5
}
