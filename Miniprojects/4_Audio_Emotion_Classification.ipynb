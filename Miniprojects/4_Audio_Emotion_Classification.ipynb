{
 "cells": [
  {
   "cell_type": "markdown",
   "id": "associate-sunset",
   "metadata": {
    "id": "associate-sunset"
   },
   "source": [
    "# Mini-Project: Speech Emotion Classification"
   ]
  },
  {
   "cell_type": "markdown",
   "id": "handled-tooth",
   "metadata": {
    "id": "handled-tooth"
   },
   "source": [
    "## Problem Statement"
   ]
  },
  {
   "cell_type": "markdown",
   "id": "accessory-watts",
   "metadata": {
    "id": "accessory-watts"
   },
   "source": [
    "Build a model to recognize emotion from speech using Ensemble learning "
   ]
  },
  {
   "cell_type": "markdown",
   "id": "twenty-indonesia",
   "metadata": {
    "id": "twenty-indonesia"
   },
   "source": [
    "## Learning Objectives"
   ]
  },
  {
   "cell_type": "markdown",
   "id": "1ZGAsPzQAU-X",
   "metadata": {
    "id": "1ZGAsPzQAU-X"
   },
   "source": [
    "At the end of the mini-project, you will be able to :\n",
    "\n",
    "* extract the features from audio data\n",
    "* implement ML classification algorithms individually and as Ensembles, to classify emotions\n",
    "* record the voice sample and test it with trained model"
   ]
  },
  {
   "cell_type": "markdown",
   "id": "lesbian-bottom",
   "metadata": {
    "id": "lesbian-bottom"
   },
   "source": [
    "## Dataset"
   ]
  },
  {
   "cell_type": "markdown",
   "id": "fixed-trainer",
   "metadata": {
    "id": "fixed-trainer"
   },
   "source": [
    "**TESS Dataset**\n",
    "\n",
    "The first dataset chosen for this mini-project is the [TESS](https://dataverse.scholarsportal.info/dataset.xhtml?persistentId=doi:10.5683/SP2/E8H2MF) (Toronto emotional speech set) dataset. It contains 2880 files.  A set of 200 target words were spoken in the carrier phrase \"Say the word _____' by two actresses and the sets were recorded in seven different emotions (anger, disgust, fear, happiness, pleasant surprise, sadness, and neutral). Both actresses spoke English as their first language, were university educated, and had musical training. Audiometric testing indicated that both actresses had thresholds within the normal range."
   ]
  },
  {
   "cell_type": "markdown",
   "id": "Roo5A2aLVI07",
   "metadata": {
    "id": "Roo5A2aLVI07"
   },
   "source": [
    "**Ravdess Dataset**\n",
    "\n",
    "The second dataset chosen for this mini-project is [Ravdess](https://zenodo.org/record/1188976#.YLczy4XivIU) (The Ryerson Audio-Visual Database of Emotional Speech and Song). This dataset contains 1440 files: 60 trials per actor x 24 actors = 1440. The RAVDESS contains 24 professional actors (12 female, 12 male), vocalizing two lexically-matched statements in a neutral North American accent. Speech emotions includes calm, happy, sad, angry, fearful, surprise, and disgust expressions. Each expression is produced at two levels of emotional intensity (normal, strong), with an additional neutral expression.\n",
    "\n",
    "**File naming convention**\n",
    "\n",
    "Each of the 1440 files has a unique filename. The filename consists of a 7-part numerical identifier (e.g., 03-01-06-01-02-01-12.wav). These identifiers define the stimulus characteristics:\n",
    "\n",
    "**Filename identifiers**\n",
    "\n",
    "* Modality (01 = full-AV, 02 = video-only, 03 = audio-only).\n",
    "* Vocal channel (01 = speech, 02 = song).\n",
    "* Emotion (01 = neutral, 02 = calm, 03 = happy, 04 = sad, 05 = angry, 06 = fearful, 07 = disgust, 08 = surprised).\n",
    "* Emotional intensity (01 = normal, 02 = strong). NOTE: There is no strong intensity for the 'neutral' emotion.\n",
    "* Statement (01 = \"Kids are talking by the door\", 02 = \"Dogs are sitting by the door\").\n",
    "* Repetition (01 = 1st repetition, 02 = 2nd repetition).\n",
    "* Actor (01 to 24. Odd numbered actors are male, even numbered actors are female).\n",
    "\n",
    "Filename example: `03-01-06-01-02-01-12.wav`\n",
    "\n",
    "    - Audio-only - 03\n",
    "    - Speech - 01\n",
    "    - Fearful - 06\n",
    "    - Normal intensity - 01\n",
    "    - Statement \"dogs\" - 02\n",
    "    - 1st Repetition - 01\n",
    "    - 12th Actor - 12 Female, as the actor ID number is even."
   ]
  },
  {
   "cell_type": "markdown",
   "id": "GIR6a6TvVnRY",
   "metadata": {
    "id": "GIR6a6TvVnRY"
   },
   "source": [
    "## Information"
   ]
  },
  {
   "cell_type": "markdown",
   "id": "mediterranean-february",
   "metadata": {
    "id": "mediterranean-february"
   },
   "source": [
    "**Speech Emotion Recognition (SER)** is the task of recognizing the emotion from  speech, irrespective of the semantics. Humans can efficiently perform this task as a natural part of speech communication, however, the ability to conduct it automatically using programmable devices is a field of active research.\n",
    "\n",
    "Studies of automatic emotion recognition systems aim to create efficient, real-time methods of detecting the emotions of mobile phone users, call center operators and customers, car drivers, pilots, and many other human-machine communication users. Adding emotions to machines forms an important aspect of making machines appear and act in a human-like manner\n",
    "\n",
    "Lets gain familiarity with some of the audio based features that are commonly used for SER. \n",
    "\n",
    "**Mel scale** — The mel scale (derived from the word *melody*) is a perceptual scale of pitches judged by listeners to be equal in distance from one another. The reference point between this scale and normal frequency measurement is defined by assigning a perceptual pitch of 1000 mels to a 1000 Hz tone, 40 dB above the listener's threshold. Above about 500 Hz, increasingly large intervals are judged by listeners to produce equal pitch increments. Refer [here](https://towardsdatascience.com/learning-from-audio-the-mel-scale-mel-spectrograms-and-mel-frequency-cepstral-coefficients-f5752b6324a8) for more detailed information.\n",
    "\n",
    "**Pitch** — how high or low a sound is. It depends on frequency, higher pitch is high frequency\n",
    "\n",
    "**Frequency** — speed of vibration of sound, measures wave cycles per second\n",
    "\n",
    "**Chroma** — Representation for audio where spectrum is projected onto 12 bins representing the 12 distinct semitones (or chroma). Computed by summing the log frequency magnitude spectrum across octaves.\n",
    "\n",
    "**Fourier Transforms** — used to convert from time domain to frequency domain. Time domain shows how signal changes over time. Frequency domain shows how much of the signal lies within each given frequency band over a range of frequencies"
   ]
  },
  {
   "cell_type": "markdown",
   "id": "Q5a6Dz9wCxOc",
   "metadata": {
    "id": "Q5a6Dz9wCxOc"
   },
   "source": [
    "**Librosa**\n",
    "\n",
    "[Librosa](https://librosa.org/doc/latest/index.html) is a Python package, built for speech and audio analytics. It provides modular functions that simplify working with audio data and help in achieving a wide range of applications such as identification of the personal characteristics of different individuals' voice samples, detecting emotions from audio samples etc. \n",
    "\n",
    "For further details on the Librosa package, refer [here](https://conference.scipy.org/proceedings/scipy2015/pdfs/brian_mcfee.pdf).\n"
   ]
  },
  {
   "cell_type": "markdown",
   "id": "caring-syndrome",
   "metadata": {
    "id": "caring-syndrome"
   },
   "source": [
    "### Download the dataset"
   ]
  },
  {
   "cell_type": "code",
   "execution_count": null,
   "id": "talented-upset",
   "metadata": {
    "id": "talented-upset"
   },
   "outputs": [],
   "source": [
    "!wget -qq https://cdn.iisc.talentsprint.com/CDS/MiniProjects/M4_MP4_Ravdess_Tess.zip\n",
    "!unzip -qq M4_MP4_Ravdess_Tess.zip\n",
    "# Install packages\n",
    "!pip -qq install librosa soundfile\n",
    "!pip -qq install wavio"
   ]
  },
  {
   "cell_type": "markdown",
   "id": "appreciated-pattern",
   "metadata": {
    "id": "appreciated-pattern"
   },
   "source": [
    "### Import Neccesary Packages"
   ]
  },
  {
   "cell_type": "code",
   "execution_count": null,
   "id": "loose-marsh",
   "metadata": {
    "id": "loose-marsh"
   },
   "outputs": [],
   "source": [
    "import librosa\n",
    "import librosa.display\n",
    "import soundfile\n",
    "import os, glob, pickle\n",
    "import numpy as np\n",
    "import pandas as pd\n",
    "import IPython.display as ipd\n",
    "from matplotlib import pyplot as plt\n",
    "from datetime import datetime\n",
    "from IPython.display import Javascript\n",
    "from google.colab import output\n",
    "from base64 import b64decode\n",
    "import warnings\n",
    "warnings.filterwarnings('ignore')\n",
    "# sklearn\n",
    "from sklearn.model_selection import train_test_split\n",
    "from sklearn.metrics import accuracy_score\n",
    "from sklearn.linear_model import LogisticRegression\n",
    "from sklearn.ensemble import RandomForestClassifier\n",
    "from sklearn.svm import SVC\n",
    "from sklearn import tree\n",
    "from sklearn.ensemble import VotingClassifier"
   ]
  },
  {
   "cell_type": "markdown",
   "id": "2vxa85gvorY5",
   "metadata": {
    "id": "2vxa85gvorY5"
   },
   "source": [
    "### Work-Flow\n",
    "\n",
    "* Load the TESS audio data and extract features and labels\n",
    "\n",
    "* Load the Ravdess audio data and extract features\n",
    "\n",
    "* Combine both the audio dataset features\n",
    "\n",
    "* Train and test the model with TESS + Ravdess Data\n",
    "\n",
    "* Record the team audio samples and add them to TESS + Ravdess data\n",
    "\n",
    "* Train and test the model with TESS + Ravdess + Team Recorded (combined) data\n",
    "\n",
    "* Test each of the models with live audio sample recording."
   ]
  },
  {
   "cell_type": "markdown",
   "id": "_UtviWIXAtb4",
   "metadata": {
    "id": "_UtviWIXAtb4"
   },
   "source": [
    "### Load the Tess data and Ravdess data audio files\n",
    "\n",
    "Hint: `glob.glob`"
   ]
  },
  {
   "cell_type": "code",
   "execution_count": null,
   "id": "518e945a",
   "metadata": {
    "colab": {
     "base_uri": "https://localhost:8080/"
    },
    "id": "518e945a",
    "outputId": "e713935f-1b70-4501-ab17-66e4756776a7"
   },
   "outputs": [
    {
     "data": {
      "text/plain": [
       "2679"
      ]
     },
     "execution_count": 4,
     "metadata": {
      "tags": []
     },
     "output_type": "execute_result"
    }
   ],
   "source": [
    "wav_files = glob.glob(\"Tess/*/*.wav\")\n",
    "len(wav_files)"
   ]
  },
  {
   "cell_type": "markdown",
   "id": "sound-chest",
   "metadata": {
    "id": "sound-chest"
   },
   "source": [
    "#### Play the sample audio"
   ]
  },
  {
   "cell_type": "code",
   "execution_count": null,
   "id": "personalized-wildlife",
   "metadata": {
    "colab": {
     "base_uri": "https://localhost:8080/",
     "height": 75
    },
    "id": "personalized-wildlife",
    "outputId": "4c34bf2f-d18f-4a20-aa67-1652cbba208d"
   },
   "outputs": [
    {
     "data": {
      "text/html": [
       "\n",
       "                <audio controls=\"controls\" >\n",
       "                    <source src=\"data:audio/x-wav;base64,UklGRqhmAQBXQVZFZm10IBAAAAABAAEAXl8AALy+AAACABAAZGF0YYRmAQAYAN3/pv+e/7X/yP/M/9H/zP+4/87/9//m/8r/vf/Y/+n/9v/a/8P/x//X/+n/+v8GAOT/2P/9/wcA9P/S/7L/yP/Z/9j/6P/w/9v/4//z//3/7f++/6L/k/+y/9L/rP+T/8P/8v/d/8//8P/i/7n/uv+R/4L/vv/V/7f/1f8EAAkAyP+1/9T/zf/Q/7j/m//C/9j/5P/R/9j/4f/z/9z/zv/f/83/sP+8/8X/2f/v/+D/6f/+//3/3P/N/8b/nf+e/7v/nv/Z/+7/y//L/6z/p/+E/3v/wP/n/97/7P/x/93/zP+6/+j/3v/5/9n/wP+4/9j/8/8FAP//4P/b/9H/vP+O/67/9f8HAP3/EgAVAOn/jf9j/9b/AgDv/7L/lf+k/7f/1/+z/6n/wP+//6P/rv/E/53/k/+S/8L/uP+a/6P/zv+x/6z/kP+q//L/k/+k/7b/mv++/wEA6/+t/5D/l//n/9L/lP8IAOP/lv/L/yAA6v+g/3j/zv8wAOb/r//a/7H/pv+3/9//GgD0/8D/vf+5/6H/gv/K//H/vP+q/8n////8//z/3f/F/4z/ev/Q/6T/r//7/wwA+/+J/8z/6f/c/8T/5P8bAPH/qP/U/+D/+v8kADIA6f8EAPf/v/+u/+z////v/9D/EABXADAAgv97/woAQwAiANz/qv+q/+H/CABUAAkAsP84/+D/SgAVAIH/Zf/E/2AA//+b/6v/pP/Z/9T/MQAIAOL/lP/D/9r/cP+9/9X/o//N/xQAxP+F/57/nP/r/1oACADH/9X/CwAqAGcAdwDt/4f/DwDy/6n/vP/c/wgAJQBXAOP/Pv9t/9r/zv83AGYAjP8a/9H/NABiAB4A/v+k/3r/1f/u/6L/VP+9/2sAMAD5/6T/Pv+x/yEA+P/j/7r/hf/6/0IA2v/n/8D/i/8RAGsAnf9y/6r/+P9jABIAa/9O/5f/IgBmAEMAlwDw/xD/2P9TAGAAyP9y/0wA7P/S/yEA3P+J/ycANwBsAD0AnP/s/wAAY/+f/48AYACw/5r/YwDYAOT+4P6OAJoASABxAAQA6v+8/zcAVACaAM4AYAB+/3H/vv83AMQAp/+3/8sAlQB7AL//u/8+APz/1f+kALYA6/8a/9b/2wCCAO7/DgBtAGwAof+y/tz/cAEEAOP/+//v/7//JQD8/8v/z/+2/48A9P/o/6AAVQC3/xYB1f+V//wA7f+T/3EAHwE1ADD/fQC5AHL/JgBwALb/sv/A/2oAnADZ/1z/5//eANEAef/5/hoBBwDV/kYAqQDv/4z/xQCxAAf/Vv9EAH0ACwCV/w0A6v9v/00AnQBFAMT/1v8/AOcAqv9+/20Alv+T/4UAuwCv/5D+1ADMAND+7P4wAawArf47ACsBjv91/7j/cQAwAYj/qP/y/2//lQAPALr///8uAdf/MwCCACP//QBBAUv/KQDZ/woBIACt/+j/UQAEAJgA8ACJAKX/Bf8NABUC2ABo/60AawBdAfj/4v/8ALn//wBYAFIAFgAKAOL/PwAXAoYAqP8kAJgB+P9SAKsA4QBpAIAAJgGjALj/2P9CAdIBkABxAC8AFgBeAJ0AKgB/AAoBmgAJAK8AJgGeAK/+zgAkA0wAIv7K/z8BawJDANr/ZwBfAJYB+wEa/yYAUQCqAccBcACI/ngAWgFpACYAwwEiAdD9JQBuAjICPP9r/9QBhwCmAJsA9P4n/9kArgIrASz+6v8kAnX/MP8kAXgCz/4a//sAzAAYAK4AFABQAEkBbwDT/3j+wgHDACz/mACAAAb/aQE7AID/kf9jANgAZf+y/yoB2P/K/eUAhQKU/of+FAJK/5/+VQGdAoz95f5HAsr/bv+pAIv/iP/LAMgBgP40/tUBrgBt/csAtgH9/2z8TQB0Ap/+pv+h/ZYBVgKX/6n8Bv8XAogAiwBB/0f/twAk/oMAUgKV/TUAXP9E/+IBMf4J/j8DfAB9/lX/zAKQ/iv/8/9nAdkByv5N/3IC+v8G/vwB3QFY/tb/9wFB/6cA5AFU/fkALgPeAFf8ggFbAnj/Y/+SAP0Ba/6d/5IAIQLa/5wAJv52AqsC8v5k/RsBHgWW/WL8hgP9ANYA1P6v//cA6gE0/fL/BwO3/0j+vf+/AdUAXP6lAIz/c/84A7z+aP5t/qYB5gLq/JIAlQGj/rf+DwI1/8z/zP7mAJQAnf/P/UEBvv8i/3QAPP7D/zsCV/za/68EEv5q/cMCCwEf/hMA3/5yAen+DQJ4/sv+rAOX/7T9awKM/8gBmv/N/dAD4AKc+yoASgR0/yP/qAKe/RwBkwMeADX+/v8ABIL+eQC+ArkAyQH5/n4AcwMDABH/SgGbA2cBq/+f/YEE7gGl/wkAbgHMAeP/4//xASQBOP6mAQoBpgGj/xL/sAD+ALAAV/9SAIQAQgAIABT/xAC0AE8Ai/5O/rkCmv8o/Zf/BADpApj9IPvjA9T/vfwX/w4AewEV+8T9OALD/s/9bf3LAeH9vPvoAXL+IP2+AAr9Bf/f/33+qv5T/koAwABy+oYAPwGv/a394f9f/+X/iv0X/yYBOv5sALH9xf9AA7T6Av9ABIv7BQJa/3f9mAS6/BT+AQPy/if+bwF2AeH9AwEvAbUAIP5KAnoA5gCp/6b80wOWAr38MP4XCG37Yv5jBTf9tgMh/838oAS/AF7+jwH5ANoBXP5n/+MDCgBQ/7b/ugJO/gMBV/4gA7z/5fyTBNr+Gf2aAzj9ywA/AOoAuAE1/PMAiwPG/Zj+UAEZADMAaP/e/9H+zwHm/EUCQf6tArn93/+jANf+gv8BAD4Bzf1b/UADnvxY/30Aaf/X/iL/UwC5/v//iv40AIr9QQKF/Vv+dQJl/E8Bav9//439sgGW/vT96wBjAGUAdftYA5sA8PpgBA/97PymA3n/h/vcBZL7b/1CBLP9AP8hApr/Pf5yAWD+rv8vAU8Axv4GAQQBL/0BAksArP7U/2QEbPpkAtwAl/1aAWMAvgBF/v0BzP9MABABG/2+ApP+OAItAc78ZwKMASn83AFtAlD+7QPX+/8CeAG6+3gAlwR1/JoBJf+nAjz+yP1UA4sArP32AMkARwCG/zr/ZgDcAZL8ngMI/54A3fzqAUEDxfkxBGAAqf3aAxD86gCqA8T7OQEPAh78BwW8/ez8ygQz/usA1f/j+5oGf/9E+rgD2QCXAFv/qv3NBfH6RwHJBDD73gFpA/L62QQA/8f+oAKX/RwEif/L/EoDZAF8++YC7wFJ/OP/VwOr/oP83QHwA9X6ngCCA5X7SwKL/T8AhgAZ/1gAzf3r/7AAaPsCA3L7pAHZ/7sANP0nAooAvvpEAxn+qP8M/5r/g/tiBV/9YP3dAZIAJP4XAGoAR//t/oP/qABi/DQCb/7T/YECXfuJAawCsvrMAOcBu/uFAZsAv/qcA9D/Gf2WAEcAA/1l/8gCafvjApj9d/8hAl/9pv+vA3T9T/1nBlP81vyzBCP/x/6z/uICG//D/w8DNfxQAT8C3/1wAUACkvsCBCQAofy0AtkCQfwzAjQCnvw4AvoBxvsiA5QCvPu9AVED2/4z/KUFnf18/noEb/y7/zACEQA2/MIFof2V+vsJBvzz/acEqPuoApr+KwJt+8EDEf/V/lcAHwA/Aeb8fgOK+/QCcgI1974HiACn+B4G0f/5+U4GVP7g+9cDqv/6/H8B8QCp/MEFD/gnBR/+b/+CAbT8VQQc+YQCeALG+oAC9v89/zT+zwHJ/0AArP6wABMB6/zsAL7+EAHz/+j9AQPq/BYDA/9T/EwGc/rlAQQCXPwVAj4A0gGq+ywDPgHQ/REBr//G/2L/agJc/P4CeQH5+7wEvvw0AdT/dwBhANj+tABoALr9xgNY/x38KgV4/oH9zgM6/ZEAIAGc/UUDnP4f/y4BzQH9/GwBwv6VAyT9df66AxT/Jv/l/8cBS/2zBsb2uQTEATD7KAI1AtL8ngD7AXX+Qv7zA5/9lwDa/sb/pwRs+b4BDAGkAPn8QQHTARr7Iwew92QDYf+wAVf9Bf/zA4b9J/7EA4n8qACABKL4vQXA/XL+BAPS/C0DOAC2+8EFRvxiAov+QP7eBhP4WQJGBSX4PQPRAuP7ewLMAPf9MAPs++gC8QCX+vkH1PmLAZoC2fiICe/3yALIAqP48gZlAHz2oQgZ/fP/Bv6HAw/+cgPe+JcGDv0I/qQG9/ZNBh/9/gG//j3+OAGOB8TzpQZdASf+v/1bBNn6ywYT/Fr8PQYq/a8A5P1bBSH4qwa/++QABAGE/skATP9oAPwBWPzmAH8ANgET/BkExvvLAwf89gLUAMj8HQIhAM4ARP1FBPz7XQL3/nQB1ADv+tQHp/lwA08CTPsUBAQAef3RAoD/BQDV/vcBIgGu+7kDBP+2/HgGZfsV/jIH7PblBSgAQPyrAgoCdPx6AHkDvPsxBEj6XwSa/y3+NQLI/EcGYPf2BPoArPvvBBb85gJ1/JMDGPybBLv7NwMw/6D/C/9uAKIA3P+G/XUEe/2k/5sBfwA++wIG/fprAnYAs//l/HQER/6c/PMGz/pRAAoBbP1wBAX7BACCAxz+lgHG+2IDxwB6+mkGJf5x/XgEPPvAAtkAd/5U/zIBOwAN/2ABvvx4BSn6sQNsAIP+lQIZ/L8EZ/11/sYEMPxeASAAfgJK/C0AfwIK/bEBoQE2/B8EUvukBdT8Zf9NAvH9jgMU/dAAxgHM/bH9Pgfm+JoCvwGM/kj+TwU5+MAI2fpu/6wGcPtR/asGcPsiACcCwfyfAkn/hf7pAtb66QT9/o76nQYU/3/8uQG2AHz9yQIh/hYAnAE7/U0DVf9+/tABH/9pAn37ngWh/OcBQvu/B1r6dQOz/WwAPgGB/4H/lAA7//sCbP2r/uwDRv1J/xcCtv9z/j8DdvuqBLP7KwWr+oMEcf3fAjf8VgPv/cL/hAF/A5L4zwWu/usA9fxrArEAPADw/pL/eQGVAaT6rAXu/T3+YgOA/9v9pgNj/UMAiAJW/vv/NQFOACkAkPzIBKb9r/+7A7L8Pv94A/L6ogUn/Wv/CQWP+83/5AQm+ZsGyvwPAHwDI/m3CK/4eQFFBHf8Y/9yA8D+0v3sA8X7TAUx+gYF4QDd+vwGTfzw/ZYHNvh1Bh/+0PyFCGz3TQKmAzH/CfzFBbL84/8VBXn4KwVKADX9cgLA/eQA9/64/7MAXgDC/rQB3vuQA/n8ZwLs/X4CA/wuBV79TfxKCg72jQeq+a8Fpv5V+9EH8PkvA4r/9v8+Am37vQcl+KsDXQBxAjb6AwW2/fwBGQC2/acFF/siAToD5PyI/v0FRvm0ApAEsvibBv774QRz+6gAywin8gAJaf2XAQX8GgSZ/jABjQIh/A4E/P0oAhD8kwQQ/BUBbAI5+84H/PvB/oQEGP82/D4Fvf+d+uAExf36BM32sgms+tYBCgGf+ywEMwGC+eYEQgKN+4b/Zwgv9pUIH/qYBtb64gBLAjD/2/65/qsFNPn6BMj9LAFz/7EAfwOm+ZUGuvtOAG4AIQR5+ucBWwIC/pcBKf4mAA0EEvoHBLb+qwFi/GwElQC3/d3/WwUw+EEFlwHF+FAJDPzg/TwGX/p6AOAFt/h2BLf/FgGF/oj/XwF7ApX4rQmK+ZICBQFg/bcCVv/8/kUANwUU9KcNhPnE/J8HS/jJB/H4oAWB/5v7sgSfAQr5pAbVAIP3agps/R77Ngoo9T0FhQTP9n0GpwDh+mEE8gIx9zgKMvnCAZ8DBfqVBKD9TAI7/eYBIv6JBcr3zQU6/hYAMQPd9/wFBQSZ99gDJQKn+xYFR/pTAyQEG/htA6AE/PcTBBYCfvrbBar82AJB/QQCsAAH/N4E3fs4AwX8RQSh/A8EwPrnAoIDtPaUCZ382PtGBQUBPfr2BM7/Gv3+Ar/8oAS4+WYFAf4J/58BaP8y/jAFY/k3BKwAHf1LAEoFt/ezBEcAY/0aAOICRf5k/iwDDv1IBuf4UgRV/tX/HAPO+j8FdP3V/vMCZv6k/+YBTf/h/TkD4/9A/XYAOgFvAa77cAPNAFb8CAN7/iwDZPzKAUsAFQPv99MIkPgvBdn9ev25BiD3IwN+Ayf5UAX2/b//EwNI/L0DfP19Aab8JAO6/0H/Hfz/CLf20wPXAaf74gM6AOD6mgRwAQD5Kgex/DL+kgSQ+g8F3/k2Bnz6+wGiA8L3xQZK/o/8GAPJAvv2MArZ/HP6IwhK/JT8XwOAA/L1zQjS/eD8AAJ2Bbn2zgXm/v/7gAXI/T36hwkW+zf77wc1/xT6GwXTAEr6FANeAGz+xv7WAmj+BP88A437UwMSAN77AAUN/PkC2/tlBP/6vQEqBhn2igcp/YEB0fpVCD/6pf80A5P8XQRf+RsF/gAn+joDhQET/bcBNv5gAhMBZfqfBBECn/pOA3L8dwUI+mYDOAAZ/iYBY/+S/uYESvyM/p4D4f7z/hMATQGJ/iT/2wDeATb7WgWJ+3gCZAHk+hUFdf1XA2v7bwG9AgX8ZwB9AxH8CwMb/vv9bAWt+EIDPQIc+vMEXP1tAgH9oQBIBM33mAd+/YH9cAGbAu76CARm/lIAbQJY+50CHgF6+nAECP34/1v/DAWu+fsC7QKy+/UE/PhlCDX6MQLS/YAE4PhoCAz47ASt/hP+EwPi/WH+NAQB/933YAsp+t3+QgW9+hcFQf4k/RwF9PxM/DQF6vqkAVEApv4fAoj8vQRq/aD8YgRVApb3PQbVAQb4/Qdm/o/6WgfF+/oAp/31/+ICjvjNBeb+GPuOCOz4MAIdA9j65QClArz7QwQw/7T8PALzAQH5AQnP+EQE1//++tIGYfjLCPP2sQhz+eYDqv5H/MMHWPjjA0f+1QHh/DIAmQJm+ZcJp/XaBmv+f/5lApz8TQKD/jL/aAHp/w/+6AOm+ggFb/wJALAFWfgjAgsEhPwD/+IB2P4x/7YBtPtBBwz6vP/lBFf95v7TAT7/VP8AAJEDLPhHCXL4WgGcBZj5AgHVA4D7XgBC/5EERfqjAC0G8PaeB0z8Lf8VAqn+BwBu/xP+NAQ8+2YFi/y6/jEFSfoEAaMFaPV8B9P98P3OAvz/l/pnDGPw9QmY/r/3Cg3E81EEUwV99X8HJQE490sNkPbjAOQD9fmNBaf71QAPBCj6+wHyAjj5+AZb/A38QQpf82gJhv62+cYGp/3P/pMCPv2fAJQCpPvtAkUB7Ps5A9f+7QAg/tkBgf4IAib9+gKd/eX+SgMn/EcDkP3r/c8HKfYaB73+gvtfBhf9TPyBB4X5QQUB+k4FdQJb954IFvv8AIYAMACp+6QF9PsK/lQH3PTzCNr9rfnuCe71awcz+hABYgg08zMJNv5l+9AJDPR3BQwCjfkzA4gA3PxlArH/Z//L//0C6frmAfsA3/7OAMb+JQIa/GgFqvjdBjb8w/6WAYIACQEs+jYHAvzn/P8Fn/66+SIKJvhFAc0FufZABjz/2PxvATACLPqCBXD75QGeAJT/efzbBMj8GP8sACEEj/fhBuz8rP67A4v7IwE5AwD7AgKU/sUBdQEs+vkGNP0b/UoG1PqIArT9hgChAvv5zATD/jMBZvvTCDv1nAip+tv/kgTh+Z4CpAAJ/ukBx/50/xwBx/y3AnL+c/5HBMv7gQEhAin9JgLr/TMBMgOa9acLs/lU/fcGSvwCAOL/4wDL/w0AZP7KAqb+M/3YBff51ANG/dUBywAJ+SkICP41+lkIsvqN/4kDCfqQB5L5pgFrA477owJ//8D//P9t/3f9dgeG9RUG/QBP+tkEzv9G/B0EP/41AJv+A/+SBE/5SgCVB1/4rQJVADEALf9d/m4G3vVsBm4B9/feBx/98AAr/LsFWP3V/XQC1PtkBlX5/QGwAKgA6Pu3BjH7JwFWA2f5hwVN/SP+qAR0+NEHwft9/gkGZ/qMAMEBNf1cBO344QXQ/DMB4v0bBhD6Ff+FBYv6PAPW/HQB1v/0/QoBof/1/28B+PtQCfX0OgYL/tEA8/zhBDj5DgmJ+H8DjwCx+2EGWf1c/GsH2PhkA7f9YgHF/vYCnPruBEAAlvvABCP8ywJr/bMAVwL9/l78cQdb94wEaAAU+8MG6vnYAc8CLvk7CNj62f9GA2sASvlnCVj6Ef5MBiP6EgOd/xz8BAm381wJAv0Z/1cCgvyTBQ76MAUo+VAIfP4D+rwIwfduBx/6dAAxBFj9Hf5OBEn8/v/sA7j4HwnH+A4C2QK6+vkDgAEa+bwJpPhxAQ0CggAT+xoIS/dJCbr1MAjB/Zv90AGAAYn+5f6LAhv9KgXy/E/+OgW2+xgC6v1hAw76kwQN/vv/SwS9+DYIQPloA/7+qgCr/1n/y/4TBKD74wEIAQgCU/maB1X6RQMv//P7XwZH/dL8xweW9+kF7vz6/QcGy/kfBWH9Bv8iAhoAnv/++6IKCfVtBmsAFvkqCEH8N//rA+n9+P6GBFv5QAQLAE39KAK4AVb8VAPM/jP9ega3+lQByAJ1/aoCVPyaBQH9Hv9cAxz/3Ps4BOr9rP/SAa384wRB/cL9lgWe+9cBJwKb+4gDzf8i/JMCzwIm+CUI5PmNAasCOftkBUD9lgA5/w4DEP9o/4EB6AKh+cEFrf3zAev97QIm/dUDfPwa/zgFHPtCAYkDB/kLB+b81f+CAPEDdvjBB9v66wSi+MAImPhSAqYCQf39/3EBWP8K/joD7f3U/e8GpPj2BML9LAOm/hf9iAfM+acC1f9DALj+XARZ+sEDEP0vAjz/7f+L/mQCWf31/9cDqvnsBpz8HP8lBzz35AbN/jP7rwi5+AsGZvxAAk7/sQB4/ngEB/2X/iUGLfhYBP0Bafh4CjX3CQca/OD/pgSZ+E8DHQCt/hj/TgKi/vQBJP0+A1/+6gKe+AkKGfiLAhoDxflQBEb9qgTy+ToG5f5r+x8H5ft3AA0BJv4CAv//e/0ZATQDGfq4AkgDdfp9A/n+u/8uAuz9qAEnAIv/NwLH+4QHSPdnBQsASP4b/0kDif2t/joE/fzk/XMHAPg9A/0AG/8v/owEbfs7BAb7MwWV/BMBFQJb+wQGp/l1A6oB7fzi/7cE/Ptc/9wE5/jLBiz8EgDUBPD4yASa/gH/bgD5AUz+LgLj/OUDMgGh95YKbP36+WgKB/jMAjMBCf14AaQCxPhNCQX4oASFAD78RAOTAIz9pADWA5P6SQXB+7wASgPb+eYHgPu6AfX97AF6/bMCtf2uAPAC8vlmB5r6aQGiAMz9JQLPAEb6FAbQ/xz8DQUO/eEBDwEa/EQFmv4h/G4F9/w0/y4DcvyzBFH7YQBoA2L8zf8uBDD7WgOY/zD95QRJ+jQEaP+W/kIEHfqcA+n/eP7pABABQgDc/B4GM/hlB5P7qf8wA4n+egJJ++8FZPqXA4/8rAEWAdP8YAKn/rf+YgP7+0wDW/4MAQX/0QKV+gQFq/xhA8z6QwWM/P8BF/znB0P4+QK+Ayv4xgYB/2P8PAZf+7AAOgTK+WYFuvz8/wsDR/uBAfQCYfurAjX/ggFo/hcBFwFp/coCv/1lAqb92v+DARr/8P9vAaMAqvtMBb79Uv/8AnYBZPvgAzL/qAA3/pcE6vxa/VgH6ffKBa/8LwCs/8f/PgIi+/IIufRoCRL9Nf2XBJ3/Cv3KBUz9H/voCjD1qwTUAYb88gL6/XoASwKW+XYIm/uf/RUIZvdUAxwE//aHCJf/8fbXDeD08gGqBnL1UAbyAeD3JAoG+sv/6QaT9QQJDPu1AyT9VQDXAIoAdfyYBUD7ggFsBK/42AUR/LEBHwNU+esGYPwqAKP/PQL5/LcCh/8oAIr+yAS7+cQA8gP3/ub7Mwa8/db76Am981kM3vahAR4E1vxn/SsHQ/tf/v4HVv1y/NYGW/jKBev9+/7+AMn+zAEt/TACZ/95/8wBKP15B/3zSwtb+lMAlwI8/pwAIQKk+o0G5/xm/d0Djv/g/EkDegC0++MHd/g3BsX9IAHI/0j9NQNRAKX7JgIRAXD+V//y/zEEv/hOBl/9EP/qAbD9IgPxABP6Fgdz+UUFk/+X/QwB2AL2+KkIk/vq/iUFaPyV/3YEz/pTATD/DAFdAND9qAJF/PMD3fvpBVn57wVf/EoBlP9qAg/7EAa9+zb/agNu/4v9MwMq/KsDj/4v/2cBjwBt/REEU/7aAc751wVVAOP5rAe6+q4BBAAb/6b+uQS4+CcGv/2q/jgEQvgPB8H98P1xAq/+mwXo96cFMAAs/VQA3QGq/BcBnQTH9bAJwvte/cIEPPtnAUYDt/sTAvf/S/5NAkf9jwIr/5T/Of4wA/r77wBAA6b7ZgI8/0z/hv4eAg8A1f03A6n7AgNp/hQCuf5kAX3+YAKg/6T/lv+jAHD9YQEVAN7+dgCS/6sAEgCVAHQBJfzYAPkBcv+z/bkE4vqVA5b/Av5YBGv5/AWW+4gDqPu+AiL//f5AAhj8UwY9+zUD3P+B/VwDTPuyBJH9fQE4ABcAJf5DBAL+I/70A5T8+QCrACT9jwM8ARr6ngQ8Acn54gYM/YMAbwHB/MoBggFt/fMBC/+3/p0Bov4K/yQAVAL0/AUCYgBt/lsATf9gAWP+GgGE/0YBNQBe/eMC2f5J/34BMf3PAvv84gAFAVH+NgGG/VMCb/7JAFAA0/y5BYn5sgRP/mD+lgMA/jEBsP97AGH9agVV+voAKAI2/bkBCv9MAbD/If5kAdX/9/9v/d8Frfm/AlwCsv8Z/YMBhv4zAHUAYAAz/VYES/ouB3T4TgIzBZH3RQex/K8DdPrjAs8CZfqwA3cBov3i/mEDYvzx/z8CJvyxBDz8j/+ZA2b8ZQDb/3D/Kf42BEv+YP5DALQCTfoYA88DO/j0BUb9Ff5D/00CegDY++wEev9b/iABzf4AAvH+x/2tAxH/ZPwIA47/dP4A/+wCb/xPBTf6dgRE+poCsgHs+0UE0gAy+lUH+PmZATgCOvvYBcj8Bv+pA5r9igC0/h0DgwAO+wIC0wHE/nn9yAVN/Pn+/gJC/zT/JQHY/Q0AywJx/Q/8QAtl9gsA2Ahy+GkBQwCI/dUDcvwoA9P/d/zYBbf6zQLF/n0DX/o+A6oBvPteAl79AAEUAeP6rQic+cUAvv8kAZz+Cf0FCDj59AEDA/37XgRY+sUGpfiTBzX+vvtgBO/+QP+mArf8iQNQ/IQBYgBt+9MDD//4/Xn/QgRp/cv71gRg/339OwHwAiL8DwPj+oMBMwTc9yQIxvo5ASYC0fy5/pwFkPnxAoEBnv6y/kkCuf+yANX6Ngh//AYAJgI7+nwEJ/5X/uIA7QAq/wb/zgBRAkn9vPy4Ban7PAMoAG78xQFzAsr7KwDvAwj7rgCKBA393vzsArT+DAHn/BoEkP7g/ZsBlgE3/MIF+fnWApIE9fmvArYCQ/pwBlH9SgDCALr/YP0BAqf/zP0nAXEB5fu2Ay//Tf+f/lv/uP47Ak/8UwLsAs33owW6/DAD9P3WAK7/Fv4AAp39wP/9Aqv99gBMBGD+rv0ZA0v+aQFS/6f/QAFS/1ACRfpeBC4BgfjBCbr4ef/rAiT8lwLw/LYEjvza/vsAqwF1/7f8bgCBAKv9qgGB/pUALABd/9UDNf4e/iQAOwDa/vAB6f6c/ooA1P4bAi/9gAJYAH/+fgLc/NoCI/7vAZ37lwHK/zsAswCAAbb9d/21/+wBQgCN/5r9UgX79uMCawXX+YD+pQEgADAAkP47AMX+K/77AMn+ggaw+KIAUATI+34Bpv/TAOj+ov5lAu8AkP7X/bwAqgHY/KMBrfxKAqr/PP9R//UCWv2U+/4Gi/w7/VEET/4YAWH8zAQe/h/7MgXhAAL9aAHW/EMGK/3S/a4ER/q3Bcj8Bf1oBDYBqPj7A9YDrfsBATsBgwF4AK78Sgam+zX+nwPFAh78VQKqA937rwDqAN0DMP4C/CwEygEk/eIAt/+MAJUB4v0BAO4BDADb+wQAZASj/tT9rAFjAtX+Hv1aAycEeft7ARUEOfvlAFEGn/vx/4QCNQKy/TP/sQM2AB7/UgA/AgT91/97ApT+tgP//ZT+hAOK/+v7Xf7PAoECMPtM/WMFd/+891QDpQKH/T3+ngBoA+39GAFrAND9cwP3/Ov+kAIu/6f/xQHE/ykA6QGn/q4BY/7hAfwAdf0DAFwCeP8Y/77/OgLi/vH85QCSAeX9R/2s/1YE4Psy/cgAawWj/FP88AK3/1T+DfxUBRz/nPgcBrv8Gv/MAC4BtADD/+P7FwPjAGb6eQURAQ38igJ4/wkBQ/79AKj+wP7u/9r+lANA//f6fQABB1f/HPrkAdcELvzr+xcCRwPW+3b/kABuA23+wP3RAC4Epvu+/RkEEf+O+hEDXAWQ+xD7/gWg/TL9Ff/m/nD/jP7j/qkD9v8n/kICrv89/c/+CQA+/w3+FwFpA7H+dvwzA8oB1vzG/hMABwH//MT8PQEvAur9jP3tATkDwfux/P0D7/+v/JEAZAIr/6P8JwD9BC8AFf4y/zH9GQAk/5r/+wGHAGX8egBRALz/bQB9/1P/4QFN/9v+/ACt/TcA6AB6/kIDNwDr/WD+dAKqAuz/NQGiAVcBrP5dAYX/MgCg/wr+TAKnAt8CB/9g/P3/EAGo/igByAFa+lwCcAJ0/SABlv5MAF8B3f9w/4r/5AC0ArwBsP61ApH/fP4QAI//bwEoANT/iP/pAlMAeP3u/CgBYAQq/2L/yAEw/4L//wCaA5sA4P8QAQf/fv+CBKf+l/z3/wgEQwTf/uD8r/8XAGwA8AFJAmYAPwBL/UoAEgM//hj9EwBGAo0CJAHw+/T85QILAnYB+AF4AAwAFv7EAOADgAK2/LX/hQSAAQH8QP84Ah4A0P7YAzQBt/3w/WQDdP5P/l4BIgGf/yECjf+G/Rr/+ACGAMwAigLW/2D/K/8wASH/nQFLAiYBlf+OAGgAwQHVAOMBz//bABUBQv4P/1EB7P9y/RsCQAQMAcD/T/4D/yUAwf/TAKYAlgEfAWf/z/9qASb+9P6DBG0BxvzZ/dv+E/6I/7YC3gEf/zb/XgG5/7//GP8Q/1UBjQBhATkC6QDS/8n+2/+8AG3/z/9TAOUAZgHn/tX8jv5uAdj+sv17AGoABv+7/u4AyAD4/p//lAK1Agj/L//Z/osAVwN6AA8ARADiAWf/qP1V/kAATQEGAEMBZgB2/RX7s/6YA4MD9f9S/00AI/+G/+3/4P3Z/y0BVAAt//b/Pv7x/u//0wARAK/+zwBNAaECiP56+7T9mgKMAiYAgv9d/Xj8AQCLAY8AZf+n/zv/6/5W/13+ZQCiAK0BkQAVAG792P1M/3AAtAC8/y3/9v8HAHn+Gf83AV3/Df+YAfcCBwBl+/H8kf96ADMBOwJw/z3/Rv9//qgAm/8D/1ECQgSAALH9Bv/c/fb+zwG8AlcAZv/m/rQAPv71/gz/4f93AOcBbAJqAa7/+f2C/p4CbAOwALz/JQAhAAYBrwDm/8wBywBS/xECBwMw/uf9W//OADEDWwGG/lYAyAIQAWP/xP6i/dIBAwRcA1AD9vyK+oAAhwIYAJMBrwC8/3sD3ACz/Tb+bf1xAUoEjAGO/3EALwD0/6//A//xAdYBdgGaAvP/sv5eATgDZwINASr/Wv4EAQcEMwFi/sz8u/9fAwQCdP/9/87++v1mAuEBof6aABcB2wOlAx0Afv1f/Q0BUQKXAkb/AP2c/7kBBAJDAm4ACv6b//MAfwFHARAAvgD1Aqz/KQDrAM79JQAPAdT+R/91AHsBWgEb/9P/zwAvALEAUwBt/IH/+AQjAdj+9/8BAUACNwG9/6T+yv7t/uv/zwBRALIAVQC//34CnP+Q++z9CgD3/hMCKwIWARIBSP7u/XoANf9RAc4AA/zP/h0Aef8ZAbgBMwC2AB0A+/5+/AL9AQAWAyMCP/+u/SD+XACiAZYAOf3D/uT/QQDNAkoCMP0T/pEA6v+C/hL+0/7UAdwBmP9J/3f+Fv4a/ub+vf/i/7L9MABFAbL/Zf4E/ygACQLu/8D+fv+I/SX8Z/4oAXYBAQFYARb//P0P/Lj9dwDC/2H+jwEBA+H/kv1J/3sB0ACS/z7+Yv4+/UH9PgEaAq/+m/xP/6kDxwI7/3b+5vx1+gn9IP9XA4kGVQPE/if8cPp2+0AAwgK6Ax0CT/93/Cb8Ifyu/wYEYQLBABL+WvsA/4sBkwDo/zr+NwDbAukAhPyV/QoBdgIdAa/99vsU/rX+KQB8A3gEbf7J/Lb+WwCT/jT8Ff7eArcG1ALB/3L8Uf0G/AUAnwRMA7X/Qvwk/3wBMwA7/NH9n//CAWEDYAMtAKT+ef3I/xMCGAOnAEn9/PsL/1UDigMeAwr/evxL++j+6gCHAh//Hv7M/7kAiQMBBCr/UPlY+yUA0wWhBCQC1v7h/Kv7h/4TAWkBoQBEALX90foL/UID4AW0BGAAJfpn+O/6cQOeBmEFcgBq/fD6Tfzt/6IANgLpA0oF2QEQ+X/2pvzXA3wF+QSaAvr/XP7X+t78pQCn/1MA2wC5AfABFP8o+tH9zwK+ADoC8AIZ/f32b/oPApcHNgSZAA0AgP6A/Zj96fzF+jYA6QIGBkAFaf9L+IL4Evw3AmwHQQKD/Zf8Sf6//S8ARQGNAY0BRQEA/rj7gPlN/JoBVgeKBMn+TvlE+yQAUwJsAWH9KPyt+oIBXQZhAJn9Ef5oAP4DkgPA+3H4Dv+YAQYDFQI8/w/+6//cAvsDo/9K+In6hf8ZAtMBRgG3AbwA4gKqAXj94PnJ/Cr+uv9YBMj/3/tt/yACAAN4ASr8UPvA/gwA8QEiAp//Hv9KASYBoAAmAJD9hv/XAEX+Hf4w/VX/8ALFAg/+Q/wF/eL8qAE7BAEEH/8o/6kACP8a+2b9yACvAtoBCgLe/hP9Tf0L/Yr+vP4p/6kAVAMMAvX/Kf0U/Wn+kwGkAxsB8P1K/7EAeQFZATf9sABkAdoC7AHq/07/Kvz+/AECqgSOASP//P5K/iv89v8JBIH/gv1P/YL+nwEtAH7+fv2CAe0IRgTI+uD5tvvm/l8EjgekAfX9PP6P/3oATv/t/Pj7FALIBosFyv7o+kz9yf4oAFsCiAHu/ooACQDjAI79CPrx/SsEUAgdA1//uPrI+Nr91AOYBk4CWvz9+jb/QgXuBfICwP0W+mr7rgBOBPUEYQBm+7v+AgJbBZ4DJwAx/AP7gQBQAu0AP/20+vv/hQkaCBgBIv07+h375/4fAiIByQDiATIEWwWoALn7gftz/yQBLgL2/yf8Cf2RAp0EBwUKAvX9i/0b/T7+zvz0/jYCbgI1AAwAaAN4A4b/1/+L/vL7Ff3s/YUARALwA5UCMQFrADz/av2o/mMB0AONAqUAcP7I/H39TQFjBHgBO/4A/Iv8BwFABB4CnP2i+mP9NAPtBtoCRQBl/2oACARlAbb+Hvk/9Y3+qgbdB8wDWf9wABr/E/5P/6z7DfrEAasDWwG5/2H+awIjBgMFNACT91n1dvwSAmUGvQIV/zkB3P/gAUkB1v6FAGIA2AE5/+76t/wt/1oEBgcSAh37l/po/eAA3gGF/9H/If/RADQCSQKSANL/fAAfAn8CKgAA/ar6Xf1tATwGgQQiAj79n/zGAIcAJv+H+2j9kAHbA3YFRgNp///90/8bAzQBr/w0/Pr8Xv8tA8sCzwFA/339Hf8+AfcCJACM/K78pwEuBHQGWAO5/WoBugBnAKn+Afu5/hoAjQD7Acj/U/+cAUsBoAB3/sn8Yf/+AB0BOAN6AZz/JQH/AFEB5gIYAL38e/xr/P3/8QAjAhgDGACU/lT9Jf4FAPEBWgMWAw3/4/rm/BIAWwRuBncDSf+W+A75R/5IBM8HhwS4/yz5QvjS/ccFrwk8BNz89Pm9+cv58fxOAqIGGwkQB5EA/PgF9tj9HAM0Ai8C/f5M/zgB6QD7ArMBgv9yANX+2fww+2f9VwM7AroAvQKQA3UCMv3/+jD+/gAmAo8BUQC9/un+WwGIAcIAkP5r/G38sPzg+3AAugVjBTYDWvzm+f7+cANpBtMCC/tY/HkAEAGLAOz8lf74/57/iAO2AcD8qPrO/H8BigEVA0EFDwHX/dX+IgJY/7L7av5PAuUEBQH9/Gr+cv6g/VUAJAEu/vb7wP3AAaoBEQDlAYADuACB/YL77P3NAeMDrAPRAPD+sP5h//f9mvy7+yP+DgQCBlgB8/j196z+ygXJBysEJv0X+Rn67PxeAiUFBAJO/8n+b/7W/Z7+WQBWAUIBZgGGAff/NABUAND/0/7U+wT8fgA5BV8GJgQ//Y/3nPeh/M4CgQMbAmcEzgY7Aun8F/rd+y7+Tv+h/ff9bgH2BW0GlQH/+zr5vP4MBJ8E6/8i+d/3//2qA2UEIQQAAXsBIP84/er7rPxm/8ICFQVpAeL+dfuJ/CcBJwecBuYAsPuI+rv8pPyi/oD/NAHDBJcE9QAN/DD4u/ojAD8DMQRtAiYCyQAT/wj9Jv6BA+oFOgWb/Qr3YPkS/4oFaAYzAaP8l/wT/zQDbgGX/U79X/8hBO8Evv/G+3f9iATDBtoDrgC5+/f5Sv0zAPAAkP6L/n8BQgKDAD4AJQAh/UEASQET/3T/9vvW//cDnQR8BT4AD/3C/nT9ofvw/GH8eAHRA4ADLAX3/5b91Pzu/PT/FQJhASgBuf6Z/FUAlQI3BRkC/v6r/3X8C/tp/EgCtQVoBJP/SvyM+1X8yv6u/w8DPgOJAjoBtf5L/k8AqgNrAQr7s/X0+VsE3wqrCO8AvfzI+lH+0wD1AbkBMf0m/FD8XQAyBLcFzQPz/Hj5KfqJ/gsEUQVy/8T8YPzE/XUCyQKIA48AF/wK/eL96/6M/9v/aAFpAZL/rf7j/r4CCwSY/9z6Fvgz++UB5wRlA9j81Pn+/a4DLgalAKP67Pnm+i7/BAQRA/cAlf5F/QsABQNDAn//zPyO/Av82PsIAZwF+AUbAyv7p/Yp+Dv/HwhjCQoDnvv19+D61QEfCO0Gsf1J+I36JP53AYUCFAEbABf+hftV+4P8fgKQB3MFGgBC/f38Vv+2/y7+EABLAIsB9wRHAk7/d/xK+j79Xf/NAXEEJQAS+oj6VQCXB0IK0wOE/Bf4t/eh/DEBWQNVBWkDUf9i/2P+XwD8ATb9jfk9+jj98gKvBdUCgQHS/pn8of6UAIwCgANH/Rn5aftlABkIJgiZAxr/jfkB+N36h/2WApYEfQS3BJABCQAhAO77QPwn/yz/OwLqAfb+e/3g/ZP/MAK8AvEB/gBa/kL8yPvv/Hn/8gEjBRoFxgEJAAMA0P2X/vH/X//Y/5z//wHCBNwC8/+7/Cz7Bvtr/BQACANhBGkDiQFP/pv+AP9v/en/ZgMTAyMDbgBu/28B9/+a/zH/Yvy+/IL+1QHEBIwCZgC//zUBqP9I/Y7/HgHXAuP+2/q6/PIBwwViBVEAefye+5n80/+yAmYCmAGKASkA/f2q/Mr+FAOTA///JP5w/uEAegNQAx0BCv8A/rb7KP2eAEcCdwOw/zj9rf5+/p0BlAJfAJcA9gHoAd8AWfvb+nYBcwWNBDYDVv45//EBBgAr/JT7mP16Ay8GLQMhAOb9EPtp/dkBZgQ4BbgBj/23/IX/ngG2Ao0A8/1oAJUBKwFo/xf7a/pN/gAD7QfvBk4B7fru+RsAXwXzBS8C9v4C/e/+6/+iAAQDVAFXAsoB1f8D/bf8j/7uAS4CYQDR//T+tv+pAlEC6gKUAQP92v11/hf/FAKOAUD/CQEBA1kE0QBy/EL91f5HAVcE/QJJ/tf8Q/vw/NEAggPbBfwDff7k+6z5MvvlALsDeQRnAzQB0v3Y/Vr+tQC5AsECSQBR+7X8x/4lAkoGJQUYAX7+j/1A/df+u/8qAtkDxQK3AM/9Sfwr/RsB7QVfBU8C4vu+9/r4Rv7TBPAG5wWbBJgA1vvX+gb8mABNBTYGDwP7/tX8OgBIBSMGSgKL/Wr6Bfpr/An+rwBaAn4EbwUIA2cBwf9X/rj93vyw/WIBEgOZAh0CXQBpAUwCqwDs//b94Pwi/9f9OP7kAaoD7AaoB/0BvPxn+Kr3If3f/z8EqggqCZcGdABr+t34bPm/+xQA5gCmAFUD+QRAA/8C1P/q/fL7Yvv9/CMAbAMhBCADHQA2/7YAPgCDAF7/af6w//kAYv97/nT/9gHNA8sDwQA6/bH59fo2/0kDZAZFBucBJf5S+476Fv1nAKID3QLlACoCyQI+AOT+ePvS/r4CvwCr/6X+c/6UAV4CuAAXABIAIwGgAiD/bvrs+mn/EQavBW0Awv5D/ZYASQS9AAH7UPrW/j4EDgV1A1j/c/yS/KL+GQBH/+kApQIGAv0AUwBd/xkA/wDCACz/7P24/Wb+GwHHAYUCdABj/yQAsf3o/CH/av4WABsBGAKSA+cD3APlASH/9ftL/EX9kv91AggDZAKDA1QAqf4n/vX72/2X/3b/vf6Z/pkAJAQ5BN0CvP+R+/f7I/30+0sAZQRDBF4ELQF7/mb9Ev92AA7+y/sz/hwCXAK9Ak4C/P34/In/YgA7AQgDsgGI/RH77PzHAfkDHQaEA6H7Zvkj+rL8awFXBagEDP+G+5/82/+TA28CFf0v/P/+gQLMAz4DpgDJ/V/9dP3p/n8AxALRARkB7P6e/Sb+mf71/3gBZwCi/3//ff8jAXAARf8a/k/+xf6L/9QCpAF6ACUBgAAN/qv9Df5L/9oCNgNRAcD/WgDG/0T+lv0W/qz/9QLqAq3/y/yv+zH/8AJlBHoDwv91+lv6uP1AAFYEPAPQAXMBV//v/r/9a/uh/Pv/ZwLjA0oBEP7m/VkBxgM7Apv+RvsZ+0P/OQS+AXn/2/8xAW8DCgMj/qD7pvwq/wsCqQAA/gP/JgCMAKcAu/48/UAAqAOBAun+of0T/Az//gMfAqoA+f8PALL/y/+P/Tn9tP6dALkDTQJqAUcA6/1X/FL/5/8DAYoCef+V/jT/9QDhAdcAnP5+/tX8Wf/tADAAWwNiAt4AnwBv/Zr8bwEtAUoCawP//5T/9v2B/fj+ggCwAJ8BKP/0/Sf9OvzP/uUBdwTmAyQC7/4d/PP+fwAZAqsDBwHM/yX+iv5eAVMAgQArAiT/pfzJ/uP/UgNpBD0AQf5y/pIA6AJXAaP9f/0L/VIBXgQ1AoEAKf4g/uD+Bf5vALsCsQF9ACP/OP4SAPn/Rf/bAdEC+QBe/gL8BP7xANUBMQEd/gv/qwEzAdkBWf9e/gkAfwAxAiAC+v0+/TX+IABzBGUD2P9G/nX+4/9XAez/lf/z/mEAEgKZ/zT+qP6FAcUBygD1/in+9f7zAZIBLADgAK3/w/8w/6H/3ADcAdUBKQJR/87+0P9f/Ur/JQN4AxgDQAEf/jT+8vx//hD/BAGqBLYCIP8o/N79WgDoAi0DugEsAK/9Jv48/ib/nAPRA70CIwFM+wz8Pv8rAqAGRAXMAuL/VPzQ/KcA1gIfBDYB3P2D/r/+mAPIA8AAIALzAMn+Of+S/33/2QBkAWoB/ABvAlgDUP8C/ef9yf9xAt0CSwEZAP3/2gGOAh4CAgJ/Adr/L//u/yL/UwDZAXkDnQODAR7+1f/z/3X+DQAv/nYAvQKfBG0FggES/0n9I/sA/9ACxAIOBI4Bzf8OAsEAbwE4AVr9kfx2/ykDWAapA//+BPyt+uf/tgOeAgMC/v+c/Uz9UgArApMB+AG0ADP/+/1z/hL/4/4KAmQCoQKbAZL/5f4+/an/GwIeA7UCtwG3/4L+v/0c/hMAvgI2BK4Chf8W+yX6I/1jApUGDwUmAbb8MPwn/j8BAgMdAFIAW/+m/6kAAgB8/6r7Sv6DAiED+QLq//T7N/yP/yQCygN1AqABDwDf+zz9Ff9VAHoF2gMg/2X9Lfsy/ssANAHyAJX+zP8CA4MBLP/k/pP7IP6PASgDuQSHAWv/dfyA+zkB7QNiAnkAqP0T/Vr+DQDaAuYCogF3ALT8uPuu/uMAmQLBAzwB9/4c/yD+uP+Z/lT+rgC3AWMChQH8/qv9Dv1I/k4B4AM9ApP/Kv5G/C3/+AGqA1gEFwOCAIP8OPsZ/dj/lgM3BGoCXgF8/mb/SgCI/hP+Pf9WASICjgNuAX3+5vyK/Rf/bwGtA+UBuADQ/dn9e/+x/6oB4gFIAZkATf5o/Yj9w/9WAcQD7wPPAZT/1PoH/B//xgH7BBcCHwGZAbT/JP+G/mT9jf4wAacBuAKyAPv+kv+F/vv/bP+7/oIAbwHNAl//Vf0g/4kBlAHCAUEAdP71/Tz9uwCQACQB4QLl/or+r/+J/1QB2ABlAP4Arf+C/2QBCgFOAcQApv1L/vf+9wGRAl7/VwAU/8wA/wCu/9H/Rv7R/qz/h/+AAI8AL/6m/ecAOwI7A+IBzP/p/sn7tf1xAU0D9wJwAv7/EP8N/pL9jAAiAIYC2AK7AJn+9P13/sb/uwHGAcwAFP8LAH3/y/60/sv9RgA9AmMBtwGK/wv+Gf8s/3kATP9i/+AACAElAVcCMgFg/wYAG/8v/1QAof4p/7EBsAHwArEBXv6K/TH8Zf1HAkgCJADvAJT9OP9TAK79rQAVAWsAdAEE/0P/1gCa/nD/NgJ4AQgCQADk/cL+Df0GAVgCtQFAAsr95v68AJL/Ov8iALz+3wDVAPr9KALrATkAIQA2/G78qP9//78BEQKt/sn+g/+8/08BnwCe/x8AEgCkAJAAwP/Z/RD9jP5vABgDTQPxAcX/rvx3+4370/6nAuoDowNDAb/+jPtg/c3/2f+qANX/zv7fAIwEVAEP/wT/0P0HADIBPABsAOv/h//tAkwCEwK4AEr+iv7V/ZL+tP8eAo8DCQMNAUv9MP08/rgAMALwARABCP/I/rH/ywDXAD8BBwFkACn/Ov7w/z8APQC6AF8APwANAe7/l/56//z/TQDT/zoA+QDPANQAFwBk/rn/DgGd/14BggF3/04BmwFGAJoAyP84/jABXwGw/6oBd/+X/qsAEgAzAaoBZf7z/Nb+kQARApECG/9e/joAlf+Y/xX+4/1CAHkC0gJRAfb80ftJ/k7+3/9WAVkBxgENAJ/9z/24/9r+0v8NAYEARgEwAKn+0v4EAdT/LABwAVT/bwEtAU4A1ABu/nD+vAFYAhcCZAJ6/+j+0/6d/hMBhAJvArT/Cf3S//8BkwGX/5L8JPulANICHANNAW/6afrk+3H+OQH6/2n+gP+f/TX9Lv2C/AH9PP77AVIBOgAg/y7+4/2D/3L/Xv9VAfYBtwIgAXT+0P6BAH0BCgRmATX/xv+oALIDwQNzAkYB1f6i/zUCYgSFBaQDcQOJAEEB/gGIAZkCDALsARoB4f/W/N37Qvt7/Nz8h/wP/Yn9nPxc+9L41vaa+fr61P0a/u/60PkR+mT7jP7M/pn9kf4d/aT9mf+l/lj/TwAzAPsBTATIBFAEyAMiAksDXwNZBB4HvQa8BQwG3wVRBfUHWQfLBZQFwQRLBesF+wSlA5sA3PyE/JX9N/+DAFL+Jf0d/Kr49PcN+EX4Evlh+c335PeO9iD2tfdM96P24fZU+Qb5ZPpN+sz4APpf/VQBIALYAnMDVQNbBMEGNQgVCWsJdwqmCu4J8gotCqwIowljCQEIvwjyCIYIEwcfBhwFPgRmA/YBnv8O/Sn+egBuAEP/Xv6V+e/2ePfm9eD2ifjv9mv14fW183fzLvVC9Aj2M/XB85P2WvYT9wT67Pm4+zEAawCkAc0EhQTaBCEI4gqiDNwMFgx2DIMLJwzUDJ0MBwsMCzQK9Ae1B1EHTQZIBb8FfgQjA2kBPACK/yP/s//i/sn9kf3W+1f40PWU9KPz/fOb9KP0tPN/8ebxtfBF8VvyNfGS8lTzffRn9cn3y/qc/Y0BGwJFA9YE/QUtCRIMVA4IDrIOmQ/oDh4OxA00DXIM0QxTC84JbAfPBowGDgbsBtcFKATYAioBpv9r/or+X/9Q/9H9ePpH+OT1k/OB8knxuvEP8hTxhvBv8Gvu/e3J71XwSu988KLxr/Ng+2T/kP/G/xgAg/8//2gEXgsuEFsSVhLzEOoOgQ0LDwkQHRAAEOQOJgwpC94KVAgNCFYI2AebBRYEtQLeARQBfQEuATv/e/04/Nz7Rflz93D1SvIi8HTvcu7E7vHu2O2t7kruKuyX6wXsNew37+/1ZPsR/wIBtQDh/94AkQN3BKYJrg4zEFkUvhVFFRITaQ7QDf8NVw5KD1YPkQ8UDZMKAAmKBwIH/AahBVgFewSOAywDhwGjAGH+tvs++1j6Wvj29d7zS/LM8MDvoe0x7cfsk+tZ7LHsxeq56cvq8e0K9I/4bfu9/Sb+TPpJ+wEByQVBC7gP5BEJENYPeRAoENUS0xMcE94SrBDvDs8M0QrYCykMEAshCnsJfQYpBJsEAAU1BGQEhgMSAUj+jfpH+Tv5Yvhk9y32EPMk8ILtjuo66onqOuqd6k7qgui+557qv+829F34EvrB+aD7MPwm/r4DGAh1DLAPyBC4EZkQLhCuEFoSiBRCFbIUcBKLDt0LFgvFCoQL4wv2C4MKdAc7BjwF0ATGBEEEbwMvAi8AYP37+f32v/aT9qn1vfPF8Pztu+sJ6vjn3+g46cjnMOaU58/sHfGb9cv3kPhR+a74rfcF+l8AsgefDEkSvxRQEwEPNAw2DPIM2xK8FncYhRd1E2MOPQrOCLwJMAutDOQMrgrYCD8GCQUGBFkDXQTnBBwDjwAF/U/5kPWY9Fv3Nfbj8yHwN+wC65fpmulK6s3pw+ez4yPkqOpi8mL2v/d/+N/4Rvo0+tr7h//MAlcHSw3bEjsXPhRqEBUN7guRD1MRgxTKFJUTyxOBEeYNnAv3CEMJDAkXCo0LwgqNCRYGjgMKBIIEKQReApP/c/5E+8b3WfQM8zfygPCy8PLvZu2e6+DoQeaR5ejlJ+ZL5JboUvB49g38yPsS+i73N/UX+I374ALjCQ8OeBIyFIMUiRJcDhUMnQy2DvURxRRoFkEVKRNfEY8NeApUCY0I4gg3CVEKIQvrCZ0H0AR6A4sCcQFXAE//3P4t/ij70/bk8nPwtO5J7Rru1u7g7MfquOqs6ePlLOT04uTkGu0o9Wv7lv4q+8L22vHM8mz5ogEtCTsNIBGJEloR1hD9D2cNkw1FDkoRbBQ9FrEVExNSEJIPyA3xC50JXwhpCIAI+gk4Ck4J+QZjBEkCTwHx//n/T/8f/97+yv3d+Rb0Z/Bb7ojsGu2o7nbuuu5V7bzr0umw5kvjS+BZ44Dvh/eXAGgDofv09SjwjPER+UQDyAtJDmAPRhJIEG8RvhGwDhEOgw6WEA8TjxNcFKQSzBAREA4NTAxjCV0HfwbnBqcIUgndB8EFNAPYAcUACP/A/ir+Qf5k/q3+LP5A/A73NfJZ747uDO+27/vxF/Tz8YfvUu6x6anmteMx4qDoiPOa/ZoEbgNR/WTzrO3M8CD6ywXzDEcPOxCCD40PlxDfDiwN9ApiDNwOZhFCFPgTcBGRD/QNawwxCQIGaAQDBKwHOwqJCk4ISQTMAF3/Iv7l/nX/U/+D/14AuwGhAJn+1fpH9vnzkfNw87j0jvVP9u735/Wg8fvt8et66RTnWumh6NHoJPMF/ccE6gb+/lT0K+oe6mn0JQKeD64UNxIUELoM2wp8CAQHKgkTCpUOThULGA0XahAaCjAIXQdZCIsI2gisB20GmAgpCdQGwAOlAJj+F/58/kkAXAAvAXABzwCWAJL+x/t9+Tb5Rfq0+sX6afom+DL3BvbH9czzZvJJ8M/vn/FF8enup+xl6rXn8fH3/WYExwRI/czyk+wB7wX5CgUFDg0QPQt3CqYK8gg5B5IGFAizCrsPRxVZFcARegxnBwcI/wlPC60KoQlaCDoH2QfsB5kFvAIdAdcAdQGlADoAAv+y/hr/JQCXAOj+aPzn+tz6I/zy/Lf8uPzy+Y73HPcE9yv3JPUy9ar26PO68jLwXO4R7o3sVeuH7Rv0Nf6gABwDUwBW9HftW+3y9c4CXw3sEcYOXwkjCKEEbQXlBj8ICwspDngTLhVEEiMPNAntBa0HvwljCxwKIgkXCE8HGAe1BWcD2gFy/+n+Cv+L/5v/kv62/kn/u/86/3D9ivu6+t36nPzR/ZP/bACL/5b9Xfui+Nr1qPUE9wT54/p3+pL27fKU8eLvve/77zXvLu8S9Ov61AFBBA7/cPaz7pruUPVvAJIJGg2wCt0HPgaBBr4FZAQ5BEsGQAtaEfMUKhOiDSEIMAaDB3IKZgvVCrUJcglBCT4JzweNBFYBQQDOAJkBQwJpAZoAJgBqAN3/Bv9r/f77Uvtq/HH+r//V//b/pP/u/Vv7Y/j89az04fWz+Gb7YvsM+PfzofHP7lfv/+5V7wXwJPAJ9Kv6XgALAlL8bfZz8VTvf/WT/rsHigw7C1UJwwZFBdQEegLlA8AGsguoEbYUXxQCD/oIDQewBl0JQAzgDJAMdgv/CvEJuwfnBLoBjAA7AYUBNwLJAR8Bsf9m/mH+XP6a/Nn6bPrX+4L8LP7h/yL/x/6N/az8c/tg+8X6q/kp+Tn6tflC+e75MPjI9RbzMvME8vnxT/MA85LxC/PO9i358Pwy/l/74fZA9bv0PPnv/60FxgckCBQIowUhBCoEcQROBQMIogtjEAcSYRH+DR4K1Ae7BxgJwAuHDUUNmQvgCX4IowUVA64B0gDnAP4BbQK/Afz/5f0Q/Zr8nvxD/Cf7nfvE/Kb9L/+7/wIAaP7Y/LT8vv2L/jn/If9w/Vz8RPrk+rH6g/pI+Ef3cPZL9cr0GfWF89bxS/HN8tj2gPgD+076ffh79jH2UfZa+Rj8pP+oAagE3AZXBdQDTAJxAqoDaAdLCxoNCw31DFULCQuMC80LqQstC4gKMQohCiQKxQm8CGIHpwVQBGICDwFqACYAuv8IAG//+f7s/WP8OfzQ+7v82/1g/kf/1f+k/8r/Pf+m/xsAIQFHAgsDGgMeAdT+bvzE+1H8N/3k/e38svk29ij0TvMj8w70n/JK72zuzvBx9TH50vxA+1Dz8e1n7vvwxvin/5QDPAMhAvACTQIdAroC/QArAuMHKQ49Ev4R0Q/CCmwHlgk6DRIP3Q77DFALvgrBCxgMBgoyBwkE3QHYAYYC0wHX/0v+K/6Y/R39h/wl+oP4Qvhz+Yz7cf2V/if+sv2W/jL+yP6tAKEBEAM8BA0F5wToAxgD1QE/AMH/o/8hAPP/rP40/SH5CvZs9OnyS/Pj8mnwhO287trzOftQ/8X77vSf6Vfk0ug99QkBgAf1BKMADP1k/Rr/cv5J/2z/awOjC2cUVhclEi4J3gNoA4QJhQ4sDxsN6wqnCxoPzxC5DQ8GZ/8i/h8BbQW8BsYEUwD7/Zz+3P6v/Gz54/X39VL5Jv3J/0QAJP++/db90v7s/+P/vwCuArkG7glSCy4K7QexBTkEFgS+BHsEoASfBXQFvgTt/+H7uPeW9D70H/SB9DnyFu1x603sIexn8Zj5Nfj/9UTuQeSU4o7ogfMW/rYEJgU6/6b4tPvj+3X9R/+nAdcHcg/qFvAXTBEKCv4DgQRoDLQSuBPeDx0NPw3kDXMOBAs5Azj94/weAigHwgjkBH/9hPma+Tf6cPoP93HzPvNP9ln8wv+L/jr6XPab9Ub5kf6JAnIEOwaqBt4HSQpMCzAKNAogC6AMPA4CEAQQoA/UDSIL/AcmBqYEwALrA5AEJgPX//T7y/dR8srvxu2f6sPpX+j15vrmWOaF7xD1ivN+8zHnyNwT24DiHfO4AAUH7QX0+rj5If1B/c//8f+dApAJ4hQZH4QeKhfADb8EbQeQEKUWzxX3Ec8QlxHFE6MTVws5AMP40/j3/tkEHgaLAGj5yvbQ97L22fLa7TrqH+2u8wn7pv7j+DP0HvEN8LP0A/gh+f37sf/YBhoN9g6ZDdgI9ATxBgsMFhPsGfAdnB1+GtIVlRBhDOYK1wwXEM8TSROVDtEIfAOe/7T9d/yS/HP7Gfrn9k/0ovGo7MnnrePn333d89zU20Pcnt6K6wf3mvTU9RjrZdhH0gHcH+8pBGIQ0RKDCFAAQwKs/tMA8wMlBY8L4xldKQssdyHaE/cF7QOSDQ0WyRcgFDAS2BLjFN4Vsgy4/K7xBPE/+EoAgAQ5AO32afJj8ybyKO0g54XigONY7IL2BvsJ+cHyX+0U7AHwzvTH+Hf8VwCfBvILXwy8CmcIjQdeCxoSARriHt0gBiAsHCIZFha2EiYTvhX8GOEZ7xdEEygNngjwBa4DuwK9AWgAcv/K/Vf7tfZq8u3uw+vq6IvmXONZ32XaMdoJ2xrb59t54w/zL/Tv8bTr2Nsi04/Z8eo1AY0QMxNJCtL9dgCLAAkBNgUdCIUOKRoPKMEtUSQYFVcGDAO0DloavR0iGXIUxxNzFAMVyw3p/vfyt/G/+lcEfQcHAr32R++l76PwKu0A55viN+NI67T1xvkT9hPuyuhv6PLsQfPB9gL32/my/0IHggvyCUQGuwTSBv0N0hYWHU8gRh+EHvccoRpkF4oUURSMGE0cAx5fGqcU9g2YCC8GYQV+BFoEbAM9A2YBTP2b90DxyO2d7O3rDOvu6PTjRd/22gza4tlI2GjZ0eIz9MHzzPMd7uDbEdJs2WjsTQERD0YQTggV/UEDKQLyATsGBAg5DDYYaSgeLS4h8BKFB4gG4xK3HD4dEBfvEmsTsRQEF+YP5///9Az2hP+YBvYGdAB/9S/w2/Lm8+Tva+no5FTl7Oy/9Xv34PLJ7IDpEuox7lHyA/Sw89n2rf2BA6YFmANoAdQBLQUfC7kRJhiDHSQeEx7+HHcXcxLgEagVPRxXIEggzxrOFNkPcAroB+kHqQfHB88IAwnbBUL/R/nt86jy0PLS8j7wIO0N6Qnl3+Du3P/ZZdl+2Y7aquII8uXzFvII7q/cN9MD2LPnk/rOCQYO6gdW/DH/2QCyAMgEWASfB8kSYSLnKfkigxYtCs4FDBCcGzIephhaEosS+RUSGkEV0AYv+lj3Xf6tBpoJkQS8+cvy+PSS9730Qu2h5o3ko+oY9Jz40/UJ783pX+l27UPym/PZ8azyRvct/tMDYwV5AicAHgGxBSUNjxWbGpMbUxwOG3AY+RVYFQAWpxkCHsEfQx1ZGUcTlg2XCvYJMwpuCkYKvwmxBtACBv5b+VX2x/TQ80/ywe9D7Dvo+OQ84I3c49rA2TrbTtzt4lTywPGH78HrmdvE1Cba7ukU/HYHowroBWv7rABSAboA6AJLAzEJExS+IjwpeCC1FGcLlQllE9obTh2AF0oT9RUTGUkbmBTDBvr7u/olAt4ICQm5A7z6u/U8+Hr5d/QA7ILm/+WV7AP13fe58w3tWemf6QztpfD/8G/vnfFW91r96ABDAFb9N/w8/20FyQwKFYEZ6Bg4GtUY8xSFE2EU+hZrHMsgECEUHOcXfRJRDZEMVw0CDf0McQwtC30HEwPJ/nX6mfib9yD20/PF8BDtXOlx5Qjiat0T29Lae9oA3Mjf4u1f8Y7sYuyR3z7UZ9Zo5Az16wINBzcGzfuq/W4Byv0HAPUBPQYiD70ddihwI7IWdA5KCgIR+xk1HcoZbxV1F0UalhwmGa4MHwBh/EgCcglRCmIG4v6q+Gj5vPoK983uN+gi5l7qgvLv9iT0+u3X6cXoc+pl7ajui+3Z7pL0TPtc/nv+EvxX+a37ZQEzCZMRmBcaGsoZIxjPFccRFBIJFt4bxyHQIrwfTRrvFG4QtA3RDfUOxw4SDwoOigtZBp4A0vww+of5t/gk9oLy6e6E69zn6+O/4BPdmduK2sbaJ9185qfxpuym7Mbm/9et003euu0I/FYD7QS1/636mgLw/8f+CgEgA/AIJBZ/JUUoeBuHEdUMTQ9XGC0dYBxgFq8VhRoAHtsdihQlBhT+3QBdCVIMXQjoASL7/fms/Gv7I/T+6hvmsOct77f1UfV570vq6ejY6WbsuO1G7JPrHfAU94P84P29+9/4uvh2/R4FFA6bFm4YDxnLGCsU/BHFEpgVUBvLIXQkCSHsG3EYLRJwD2UQ5hA2EdsQOhB8DQQIUQPZ/q78U/y6+u33/vPf7x7tFuk05pniG98B25nZVtpX277fjOv67FrpMeky3nXUDdfV5Kvx2vuQAuECyvqc/Lf/6Pzo/X4BVAaJDZMb+SUDISUWZxCQDrsShBmWHeYaXRalGLkcCR61GYUPiwRlAIMFKQuuCukF7P9l++r7zfz6+HrwN+nh5qnqnfEB9Y/yCe0M6vroKer36/zr5eoo7U/yzvia/NT7OvoL+dX6zf+NCWUUwhdUFxoYEhMGD94RFhcAG7AflSNTIN0aIhnVFPQPEBCEEkQT8BEOEXMOwgfAAhMAoP9U/vv73vi59AzwAO096WjmuuNa4JDdB9zU27nanN2453vrk+nf6erfhtXd18zjCe91+LIAFwHO+Zf7sQAy/hz9EACPBdMMTBkmJPcgsxbOEJAPdRPHGQQe/BvlFosYeh3sHuAZ0BD8B5kD5AZ3DG0M5gZDAHn8Of0T/p766vLR6+7omutD8Ub0C/KW7bHqAOow6znsJey76t/rNvF794D6jfrz+mj6NPuDAScMjxNhE+QT4xORD/4PJxa2GU8b6B2KH/4bnBiiF/8SxQ8NEgsVzRR6Ec4OZgquA50BxAIZAjj+o/pW97jy4O1/6zzov+So4Q/gV9913YDb4NwM5RXq4OgS6gni7dUH1kDhM+yr9cv9ev+994j36P6H/ZH7j/0gA/0JMRVPIRQh7xWuDroNZxIbGVQdqBysF2QXGRz3Hi8bKRKhCX4FuQdUDZcOGAlpASj9Nv5B/7P80fV27rXqZ+xs8Vz0rvJq7r/qiur765vspesa6jHrNu4B9Bn4Q/qF+sn64vxiBGsOyg7VDWMPgAxtDLYVvxvCG4satBsWGV8WUBiMFUMRwBL7FiAYGhUDEVALDgSSA1kGJAcOA1T93Pmn9jvzvO876xvn1+LC4uria+CW3QrdFOW87FDp6+ri4pjT29Lb4GDuu/Pf+Or8Hvby8wX+f/3f+JX3xP5kCGQT1B8yHzkSfgsbDS4T4hiVG1wbgRY0F/4d7CHFHKsRaArRCKwLNxCKEFoK2QIaAKICjAPP/973QvBD7XvvCfSD9S/z9e627Hztf+7j7bjszOmv6aHuMPNg96f5Avpf+jP9PATbCvgK0QpVCwYKnQzUE7MZAhncF7MYqhZxFLYUwxIaEZIS6RZeFzkU9w83CZsD4QPdBY4F/QFs/hT7E/cG83Tu2OkY5oDjoeO44xjiu+Mg7QXsn+lN6vrddNGq1cHllO959A36Hvqq7/HziPqi+Xv1JPWx/KUGIBRoHpMXHgs9B7EJHxFHF8AaBBe5EfoVvR63IfIZfw4pCDkIhg2KEqgRUgoBAxQC6AVCB5kC0vhA8ZzvoPQr+er4j/X48Nju8++W8kny9+1w6wvr4+5q9Vj4xvg5+YD54vzKA5sJNQg8B0sISgalCVASlhXEEwQTkBQ6EoEQvxGMDpgNZRFIFUQVmRFoDaAHagM5Bs8HpwY+Aij/Uvy5+DT09O886rrp4OkS6vDpq+9Y87bpBevu6QfexdZE3yTqLfC/9FL6WfKC6oTw0vK/9LD0b/em+mQB9Q7aFCwMMAXgAvQFLww9E5MYsxSPEHMTbRo+HccXOBBmC2oLfxD1FVkVAQ/YCLwHygnEChgHPf9O+Fr3Lfyl/xv/XPtN9n/yLfNF9cfz2PCN7UntCvJs9kD3bPYG9UT25/2iA40BQgO0Aon9ywHYC0QPMw1eDqwPoAxvDRMOowkyChwO/RKKFPgRtQ6DB6UDtQU7B6UH7gQwASD/VPxA+dbyJ+7t7Cns5fLa/dD3UfHY7zzl3tsw4LnrmO1H7or2L/l68EDvJe7d7P3s+fF++WX94wORCLID/f+IAUwClANeB9YOqhDZDX0OwxGoE6YRLw8zD4UP6Q7hD0cRyQ8DDDsKnQuKDCcL5wZRAYj9Qf6q/3oAdgCs/nz70/nM+I333vWe8S/wZPP99oP49fg9+FD2QfhU/uP/8f+6AYP/s/5+A4MJDgrsB9oJtQrqCTAK0QhrBgYG9QgzDtgPIw6rCTwEmQHlAlgEqgKR/9H9dvzL+p74mfQl727u1vfs+xf54Pl+8fjjfuGK617yxPKM9cX3o/P586D10PJ675nuxfPq+ekCiwpFBrf9B/wl/7gC4AROCRIMAQqVCs0OWhFkDkcJrQiSC4EODRDDDx8N7QlrCM8JagvCCvEHLgRvAXIBwQGrAKT/Xv+W/xv+Kf4P/SP5x/ZZ9Z710vc3+or7G/sg+tH5wPzlAcUBHQNRBYgCAQGBBFMIDwkPCUULjwtLC3gKYQfDBGoEhgeoCqsMCA2ICNQCeAEEATIBuP82/YH6kPk2+Uf2UPON70Xu6/Y6+5H4PPlN8ZLkAuLG6z/zW/Qk+N36k/Yh9vf2ovSm8J3vqPWT/NAFow3YCUcB8P22/zsCIwR/CasMVQt1DJMQuRE+DdkHzwbZCK0L/Q1kDhwMxQjLBnIHighLB8ME6AG//yv/O//B/qL9R/0c/nL9p/y7/Ez50PU19Xz1j/ZS+Y78Nf28+7f7H/wKABcE+ARSB74HXgQ2BDsIMgtlChMLwQ0XDbQLMArhBwgF7QSpCE4LPQzoCoAFiwF0/zv/iv6u+wn6T/kz9yX1HvMt8GLqaezZ91n4PvVu9sztU+Ix4yTtPvFV8pP44fqU96L4tPjT9O/vZfHM+IP/+ggVD+0KFwTLAUsD1ANeBcoKQg0VDdMPkBN2Es0MrQjzByMJJgsuDU8N0wqhB98FfQZ0Bp8EmwJuADD+6Pxb/Bj8Ivvb+g388fv/+x77/PfJ9Sv0l/N59ev4EfxL/R7+t/4FAW8FCQQxBKUHbAXkA2EJmg7yDYkM7w4oDm8LowocCbQG6gVfCcMMuAzZCi8HiQOc/8P9U/9f/Zr5YPil91f1j/Kh7zXrteoR9dP4v/Pj9ObwpeSY4AnqQPFu8Sz1o/oS+l752fjt9c3xI/HP9rX9EwfhDjcN/wY9BGEFPAWhBEwJQw1dDYIPwRMlFO8OkAprCXcJxwqTDLEMfgrHBwkG1wWgBW4EBQNPAQz/9/zH+4H6Hvkb+fj5EvsI/av7ovho97703vEJ8+j21/kH/OT+jwEZBv0HeQTfBB4FtQHBAugJhA9GD5YPERECDwMMEwlgBkYEygXCCfgLrQ09DLMFsgE/AI7+tfzF+Xf3avaQ9Mzz0/Ik7tnqdvJz9/vzrfVo8onlJ+Ci51LuPvA/9cH6bPk4+YH7nPi18TfvPfPJ+OMC8w3eD2kKcQb3BgIG2wOrBvkJJwq6DJcTrBYjEi0NgQr+CAMJ0QqTC34JGwcMBiAGTQZQBY8DdQF9/2/9j/vO+cb3XPdZ+CD6hfxS/Or63flm9rDyDvKM80r1v/gT/sgBkAZUCmkHIQbjBXQBIQD8BQgM+w1WEDcT9xG8DuQKuwfgBGEDpAXUCZgLugrzCO0FoAE+//D9EvrS9dzz/fI28pjx8e667Vv0bveb9Lz1E/Ka5gvh5uWF6+rujvSL+c36vfzj/Yv66vOy8FPxGPWF/40KQQ4XDJ0KXQtNCYgGJgeRB2MGIwnrEOkU2hKBEGgO6AvaCpoLowoRB1EEoAN3BJMF2AUOBbwDFgK0/y79Mfqe9uv0GfXE90L7VfwB/bn8xvk+9kP0aPMT84P1aPqHAWYIOAocC7QK4gU6AsQC+QQ+BzwKQA7XEAMSPBAoDToJoAXoBK0FrwaZBlsGXQW+A8ICfwHO/jP6XPUA8wHx+e/C7YXt6PNb9gH24/j49RDsCufP6Gvpnuo68OD0K/cJ+5r/PP9R+vD20PTQ9Ev6hQFLBRkGtwgEDFoM+QtODIEKGgY0BsgKvAxCDPYM1w2LDUMO7w8jDq8JhwWYAikB/QC7ARYCzAKcA5MDWgLx/yf8mfcW9Zn1Z/b+9rL5NPzd+xH7Cvun+U33s/aO+B78iwDCA0sHmQmuCIUH4QfCB0QHygf8CCYKkQvdCzMLlAr4CDcHbAdcB9MFfgTrAdv/fP+q/vD87vo3+aP2cvPB8VHwcPDg81D02vPR9rT0n+1B7DnvKe+27g3yS/VJ9oL40vtM/FH6Efm2+Br6i/5+AlMDIAPBBCgHgQjDCTkLWQq9B5QIcwtwC+0JywmwCTQJKwvhDfAMownrBsIECAMxAr0B8ACUAAkBogHkAfUAQ/74+hT5Rflk+dL41fmu+rn53fle+5n7afpv+kP8Xv/WAiMEYwXTBqgFBwU9BxAJAgngCJ0JqAodCyEKYgjbBq0F2gS5BcMGHwbrA/YAEgC9/yD+b/ua+Db3VfVa843yd/EZ83P2uPXC9un5P/XZ7e/tvPA18DrwxvNy9oD3xPpV/hv+ufsV+lP5o/rE/p8BjAGuAdgDawZQCCkKVQtTCe0GcQgUCr4IOAdPB+kGMAedCl8NNAyXCYAHMQXGApMBfQAt/yP/SwCbAWsCDwIiAHL9uvur+8z69fmK+oz6Hvrp+jj8sfyv/Hb9Wv//AfUDsARdBWMFKgSMBNgGBgiUCGgJ1wnqCa8J+QerBTUE0wL9AZQDwARsA/kB9gCj//79mvy1+gn4/vXH9NTz0/KK8i72hfhU98j51fqV9FrwuPJo80HxnvJD9mf3qfjz/I3/HP6G/Lv7afsu/UcAxgCU/4cA6QKmBHAGJwn4CWAHowbhCMkITQYqBcEElQO5BH0INAo8CTgI6AZ2BL8CGgJYAFP+V/5m/xEA0ABOAToAO/6+/Yb+1f2//EP9svyx+vX61/w8/Tr9/v52AQcEpwVgBiIHLgYaBAMEXgUdBloG3QaSBzUIOAgHB14FCwQsAoUA5QAKAuoAnv5h/p3+Wf1l/OL7BPpv9/f1XPVM9Bb0BPfO+On3MPqw+wz3JfRQ9oz2YPRb9fz3Rfi9+Ar8j/6y/dj8Qv2i/er+9QA5Aez/CgA7AVMCzQMTBjMHzwX6BTEIHggABhoFSwSpAhcDywX7BlwG9gWKBRgENgMXA90BFgCu/+D/w/8oAGYAdP9n/mr+NP/b/8P/u/+W//z91/yh/T/+H/7M/noApAIfBW8GIgeHBx0GZgSoBHIFKgXCBAsFqAXNBY0FBAXwA9YCmwHCAO0AtwAC/7H96P3W/mP8Nf0j/FX6ZflM+IX3NvYJ9o359fru+f/7ffwc+Mf1QPj++Cf3QvcT+Xv5Yfqk/G3+Ov1d/ID8g/2H/0gB6ABi/0D/VgBlASYCtQPZBFYEnwSyBvcGQQUGBFUDTQLGAr8EdgX4BP4EmgREA7kC6AILAukA9gACAWYAYQC1ANT/rf7Y/nH/8P+9AHoB6wDL//f+dv5u/hP/vf8TACEBhgN3BaYF1gUEBowERAMwBCMFagSCA5kDswOdA3QD8QI8AtYBXgGMAOr/5v/p/nL9E/6n/qz96vxb/IH7lvp3+Z/44PdC+Ab74/xT/B798vwq+ab3zPkL+ij4PPgM+rj6+/qi/KT9hvyI+yn8nf1t/14Apf/K/vr+VP+s/1wAwgHyAtYCdwNrBb0F/wMHA9sCGgIXAmEDQwRGBD8EuAOfAjYCfgL/AWkB0wHOAdEAVACTAEwAIv+v/pL/eADdALsBaQL9AFr/YP+O/0r/x//UAP0AhAHXAyoFXwR/BJUEEQMnA6cEMgTMAq4ClgJOAnYCegIXAoIBRwFPAckA/P+N/xD/1P4+/2n/f/5i/Wf90fx9+/P6gfpg+ZP57vy+/pX9Hf7a/Wb6KPn2+g77gfmT+cf6GPuJ+6/8Av1C/Lz7I/yA/Rz/BQCe/7/+hv6l/tf+Jf9dAOEBHgJzAggEjASGA+ECmAL+AfYB3gJXA5gDAwQ5A8IBggErAjMC8AFUAkUCdQGtAHkAUQC7/wn/NP97AHYB5wEjAq0BawCw/9n/EACRAAUBwgA5AV8CNAOBA4kDzgOCA+ACWQPGAwgDDgLIAeYB7QGsAa4B+wF+Af4AIAEIAVgA1f+R/6T/1f+E/+3+c/7r/Uv9avwo/G37QfoE+zH+Tv/m/Q3/Gf9U++T5mPva+6/6Y/os+4P7yfts/Fv8/fsg/EH8vPyS/lAA2/9u/gf+Sv5d/i3+G/8WAYgBYwGKAlkD/wKOAu8BegHnAZ8CogKvAk0DqwLcAGEAbwHsAcQBTwJ2ArsB6QBiABYAlP8G/0X/HAAJAeYB7wFAAbcAPgDP/zoA+gDZAK0AYQHDAc0BqwLwAnoCFAOVA/sC4AL6AjcCcQFoAaYBngFLAWoBywF5AboA0gC8AD4A9/8hACQAzf+M/4z/N/9e/tT99Px3/D78O/t7+5v+/v/+/en+fADX/Bb62/sK/dH7Hvun++P74fsx/A/88vt2/Gz8WvwW/mkAZACw/p/9BP51/gL+Pv5DADEBjQBmAaECpgJOAs0BLQGfAckCkALnAXICegKgAK//0wDDAagBFAKLAjACaAGbABMA1v+B/3j/EwC7AKkBOAJ+AZYAvwDHADYACQE9AoUB1QCXAeMBpQEUAjMChgJ1AwMDdAL6ApMCVQHyAJgBxgFrAf8AhwHlAVMBpAD2ADsBfgA8AJ8ArwBUABUAhP85/yn/O/7d/Pj8xvyV+/T7UP9yAOj9qf/6ABP8RvpM/Zb9d/tg+0j8B/yw+x78Lfwq/Ib8Ufx4/Lb+3wAIABv+zf2f/mP+nP1J/qUA/wDi/0kBqQJbAv8BewHqAMwB4gL8AV8BlQJZAs3/M/8MAcABVAHYAYQCJQJKAaAAMAAaAMX/eP8IAM4AzwFmAikBNQDKAPQAYADpADUCtwGAAFoBGAKgAQYCFgLPAd8CPwNDAkYCXAJQAc0AYwGuAWIBAQFEAc0BdQEPAQwBCgHJAH0AyADtAIEAGADa/27/OP/B/i79nvwk/U78A/uo/SABsP4S/pEBw/4G+rL7Fv5x/CX7/fsD/Er7zvt5/AT8I/x9/Cn8QP37/9QAIP/D/RL+eP4r/vL9a//jAPn/bgAjAloCKALwAQAB6gBuApwCXwHdAcMC8QAG/w8AfgE7AY4BjQJuAqABIwGeAEEAJgDQ/9j/KwAaAXEC2wFpAKoAGQFHAHMAcQJpAroAAgHTAcoB7QHUAaQBlgLbAhsCkgICA5IBfQBcAdoBswFOAVEBngHOAV8BLgFYAfMAVQCtADAB9gCGAMT/IP9V//7+rf2Y/Ir8SPyn+tf7nADs//r84gDEAGv6W/oz/kj9uvpA+zv8ovtc+//71fvm+3X80/sq/GL/XgHC/w3+RP7M/mf+qv2A/u0A2AAVAGQBUgKoAnECHwF/AEsCHwOOAZIBTQNMAir/IP8UAVoBZwF0AnYC1AHAAR0BMgBYAHEAqv94/wIBfQL2AckAuQDmABoAdQBoAlQCEgHGAXQCFwIgAgsC3AEMAj0CbQLgAgUD6AGgACgBKQKIAfYAQwHgAbcBcAE1ARAB6ABqABoAegCyAE8AH/+W/gX/Sv6K/JT7h/vh+gP6av30ABD+N/6KAT/9Cvki/AD+NfsM+sL7Ivw1+2z7zftu+8773/uf++D9BgEPATT/rf7V/oj+Gf4G/tD/gwHhAA4BSgLWAs0C+wHDAE0BDgPQAtcB+gKKA7sAmv7g/wABKQEyAt0CGQLZAeABowAgAJAA8v9w/4UAowE7AjICWAGCADAA1AD+AR8C2gGTAu4CqAIbAk4CpALpAZUBqAKjAzADOgJ7AW4B0QFHAdgAtAH8AYABagGSAdwAAQCH/+H//f+7/4j/Wf7n/XL92fzl+2H6rvkN+e761f+Z/kz9hgEG/4/4YPoL/vv7cvlj+uf7o/t3++77d/uo+yr8gvv//AQBeQJdAEr/hv9n/yT/Gf7g/swBSQKzAXYCdAPUA/4CRwFcAR4DXANkAuwCLQRkAkP/Df9MAO4AGAIHA1QC9gGLAqcBWABmAHUAw/9+/wgBMQNJA6IBhQA0AbUBOgH5AVgDiQNAAz4DgAPKA7gCcAFnAsUDbAMYA0EDrQKWATsBYwF5AW4BYAEWAUMBfgFVANP+5v52/4X+zf2V/uH9GfyK+2D7NPo5+Az3WfnN/p39GPx0AcD/a/h++dH96vsB+en5//oc+7D7evzf+8D7Z/ze+4r9cAEuA+ABigBEAAkAdABB/+7+pwHpAp8CGANABMcE+gMOArEBdAOgA2ICCgMvBIUCov8T/4f/FQD3Ae4C8gHZAQcD8wFOAAcByQAL/zv/YwEHAwMDLAKJAXUBNgGbAXcDYQTEA/wDaQUpBWUDuALyAgwDPgO4A/YD2wObAgsBNgGvAfkAWwC+AMgAbACP/9v+I/4S/pf9qPxX/N779/qf+en4Vfh59mX1Wvrc/YX6Bv7AAUn6uPaK/Dv+ifkk+DX65/p/+pD79vzi/B79ivzZ/E0B2gTqA5sBdAGRAfMBaQGP/0YBoAM7AxIDZgTsBb4FjgMjAokDoAQBA/0BTgN9A50ATf6W/lH/yQBFAs4BDwEzApwCNAHfAJ0Avv9t/53/OwEwAykDPwElAIUBvAOGBNEErgU0BrwGdwYcBbEEigR7Az0DrARiBX4EIgOdAcABFQISAcH/0v+f/4X/GP+A/Zf8jvzf+2P6BvrN+dD3XfYR9jH05PJq9378Svj++XAB3fv49Nr5zf0h+nr4vPnX+Tb68/tm/S/9RP7H/qb++AEPBmQHRwVAAyUCBANGBFMCUwJ2BKwEZQQ3BWkG1QZCBd0COAPFBLUDZQKTAt4BVv/h/aH9Wf3p/msBZAHJ/xABzwL7ADX/SwC1ADz+8P3BAVkDpwEFAbIBKwJxAz4G+Af5B5kIxgiQBwQH3AaGBRUEpgQmBrYGnwX9A74CTAJ2AXAAaf+8/s79SPwc/AH8QPrr+LX3HPa39Qj1J/Oz8MjuKu949uT5IPRd+QYAbvZo8nD7Ev4z+NT24fk8+0z72vyq/YP+AQFOAWMC2gbOCnEKoAefBeoE+QYsBvcCRAVACOwG9gS6BfoHEwi5BHEC3gPOBKUCvwDTAH7/D/w1+lH67vvC/gQAwP7r/RYAfAHS/zf+bf68/nf9Jf2qAKkD5AF1AI4C/gW7CeULQAwIDeoMVwuaCqUJugciBpQFWwbFBz8I3QZyBJECmAJsAlIAkf0M/Of6mvm6+Ej3ZfSB8fnwTvB67vPsMutq6BLupfj+87ry/Pwc94zt9PUC/yz6S/U9+PX7XP36/m8ACgGKA9MEfgazCy8Qdw8TC4MIxwe9CcEJ7QW0BsMKBgvvBzUG3AfOCAwFHwEvAuwD9wDG/bX9ufwT+Vb2NfZB+OD86f/8/LL5J/0uAOf8ffo1/XX+Qvu1+ycBKAR9AjkBAQUxCwQP9hBDEtARxxBcEGUPjQwnCgoJ9QcaCLEJ9Al3B1cEBAOpAygDi//d/Ej8+fk/9x32RvNb73Ts0+pi6OLmz+XA4j3jIfHZ9wLulvVZ/RDwte3b+uX9WvaM9Vv6kf0IAFgDYgSlBVcJ+wvSEPgUYRZJEzkODApxCVIMiAmnBjUJZAw/DMEIDQcBCSsHXwHg/lUAGP+8+sX4fPdX9Mfxx/Hs83X3z/pM/NX6I/pW/DD+6Py0+EH4rPpK/FH+QQFSBZEHkAqaEJIVHRgVGdAVjxLaE8QTpA7yCPoHFAkqCpAJ0QiXCTYILwVsBDwEdAD4+pn3ovWM9Fnzl+7C6V/nKeW+4r/gpN/P3YTgFPK79qnr1PaS+4nrCOwp+53++fYM9+H93AHhBBwIZwh/CqYNYhGtF9Ea5RrdFdYPLQpSCo8NoAqzCHgK3Q3iDRYIcAXSBvQCpvzr+rP8mvpi9hb12fKm7x3upO4E8YP0vPmx/OD5FvkP/DP8OPho9bT4uPs7/eABUAl/Dp8OUxJWGEoaYxv2GgEY8hWBE1sQawy5CLMHRQi5CTUKSAvkCqgHaQVxAw0AzvuA99f0q/JE8Bbt+Ohk5eDhCN6n3AndutxL3I3qa/ko7lXw+fyZ8JHojvXT/0H7BfhI/r8DWgaqCnIMLA7JEE8SCBrjHlAf2RkWEtELIgmgDFYMfArXCYwLNg4vCpcEMgW3AUT6Cfcz+Y35a/RU8cvvg+1Z7HXr4O3K87H3Jfoo++j6vvrw+a/5oPcw+d39vADdBGELlxGrE9AVqBmNHCIech2xGU8XvhTVD84LnAi8B2wHsgc5CZEKFQqTBxoFTAJO//n7Dvf58i/xKe4o6kfm2uJI34PaG9m922zc9du+62j5qu2c8rv+tfF66tn2s/8q++/47f/3BCMHCQw3Dt0RGBQqFQ4d3iDeIPoaehI9DE0JtwpnCukJuAiWCVcNxwn1A8oExQDk+Mn1ovdb9yHyAe9A7XXr3+qH6YfsEvOO9nn5h/vZ+yj8JvpJ+JP5f/wf/tIBTgjnDcsSZxbhGM0aCx3OHrgdrhoxGAEUXA6RCaQH1weXBbIEYweSCfEIEwdWBYYCy/5p+mL28fOG8GjrHujp5Avhztwr2MbXxNle2k7eKPFV+RrvWvig/aXvy+14+Y7+5vmO+nwBagR1BzkNSw/xEhYT5BZ8IOkiOCK/Gr0ROAtNCMgIzgmeCfgGlgeXC0IIagTEBLP+T/c49qL4tfcS8x/wmO376OnmIOkP7cTx3/XX+fr7iPwB/cb76voH/OP8J/73A/QJeg7yEgQWdhgsGjkdOx9kHo4b6xe0E1oO+wkaB9IEhgIdA+4F5wf8B9EGlQQOAmv/RvvQ91j0t+9T66/nc+Ol3hfaldaf1nvZKdok4rz3IPdS8S7/rfvA7njxuvxz/rv4bvvsAE4CVgjMDOYOAhOzEUIaYCKDJKQjjBkFEA4KMAhQCCQJIwcxAyYGoApeBrgErASf/av33fgP/Ob55vRZ8NnrUeji5U/oFu5i8Pv0WPoM+1H9+/2O/LD7Zfwb/qwA8gVcC6oOjRFOFM8V7xi5HK8elx0dG/oYgBSvDhAKzAYCAwYBxgL1BBQG6QXmBHkD+gH7/8P8jvkJ9rbx6+ws6D7jzd1L2ETV+tUc2KbYbea2+HbzZvb7ADD4H/Fc904A+P1j+Db8r/62/9oGKQnKDKUOcQ81HBYj2ibkI+YYhBHoDEsKogkWCaUEggBNBCAHcQPWA8oCjfw0+mT+ZQEj/tb4O/Ns7bzo6+Z36cDrBe7e8jv1Zvj9/CP+g/0o/c/+ov8WApQI+AyGDiIP6A8OEtYUahj6G5Eb3hmFGAcWZxJNDSsIYwOvAbMCMAQQBccDAQGE/y0A1P/G/Xv7ifhl9KXw++t35sLfONgX1abUFdW02VLrcfK27pX6Pv2g9HT1u/7lAtr9DPy6/q/9qv/wA+EDxAeyBkcNABrhINImsyEGGVAUShG9D0cPugs4BPMAAQTSAmMAdQGi/Q755fv8AuAF8AKO/fX24/Hb7uvsvu2U7VjsQu2M8If1Nvjm+Dz5xPr+/ZYBHAe/DJkOnA5rD7gPWhC0ElQUpRThFOsVxRXKE6UQHg3ECTYGVAVPB2gHiwQVAvz/hv60/ar8Wftq+fv2A/SM8R7uLegi4fbbOtk51/LY8+ZT7XLpRvLd9b/wNPIv+8YBJv46/UgBhgDpAdwEeQN9BM0BJQazECEX2B2ZG0YWNRQzEy8TCxTVEq8M+ge6CQwIDwQAA7j+KPlg+ej+lQJ7AfH+1fu4+KP2UvXs9Uf0xPGq8aDylvRp9T308/Lz87L2M/oSACsG3whHCy8PGxAKEZ0TTxS3E1kT0hPuEpUPRAyTCXcGggNQAz4FpwW8BIsEUgOtAUgBrv/o/fb78Phd9ZXy+u7C6FriZN042Y7Z4uXd6rroPPCO8bvutvG0+rQAW/37+xr/SwBWA9sEhgGy/0f7r/9xCDAOCRXSExARihEbFKIWvBZXFZkQQw1/D9YNEQkyBnwA+/ol+q79yABCAKf/i/4Z/Wf8//sW/Fv6rfg1+Dj3wfaV9vz0V/Ki8dLyIfXM+WP/HAOrBt0JZAstDo0RwhKEEv0RxhFSEKENrQoEB7oCOP/0/jgAbQE7AZsAXwDdAC4BrgDG/0n95vlc9v7zK/Dv6azjMeRc6M/lauhJ7dfqfuri8Nf5ePye+/v99/4FAAEFYAYYBeUAYPz0/3UDMwfcCKkG0AbICCMNihG/E20Stg5vD5USfBHkD/0MoQYmAm4BjwIbAU7+yvw++xX74/sx/a/9jvw8/J38E/19/fr8Nvu++ev4PvjE+LD6HPwO/S3/fgG0A/IGbQpnDEMNSg5eD3cPbA5+DFAJYwXlATYAlv9z/XX72/mm+P34EflP+c/4Qvf/9aP0lvMW9L/2evRm8azyxfAV7i/vAfO49MXzKfWb98j4iPy3/90A+wE+AU8EngeMCYQLpgmLB9AG9AdTCkwLzgrHCF4HBAmwCeMJaAowCAMGWgaLCAwJBge1BP8BXACd/9b/xv8J/af6DvpD+oz6lfo/+iz5/fiR+pz8jP5r/1j/pQDgAYADtQU1ByQI9QeQCOgJVwpuCkcJGAi/BgkFpwR1A0gBsv8N/kP8Svvq+hb6AfhD9mj1GfST8qrwOfFP9I3yxvHx85LyHPF68ij2r/e59uD3Dfng+eT8m/5c/0r/Q/6YAYEEmAZSCHUH+gbpBv8IYQsrDMQL0gk7Cd0KugohCosJDAcABeEExgYWB+kEwgLaAEIAXACZANQAGf/I/K38Yf25/U395vuV+gb6wfpC/Ez9ZP3S/DL9Ff/lANECvQSKBUIGrweaCRcLHQuRCrwJyAjfB/0GzwVPAy8AfP7//K/7lPoO+af3H/ZA9T71gPTp8t/xpvM99XP02/XZ9YPzP/Nh9Sj4GfiI9+X36vdv+RH8e/3t/c38Y/3LAI0DYgYNBzoGCQYRB8kJoAsTDMwKGAmUCZoKgwogCjEImwWPBIUFBQc6BkEEawIYAVoBIgJ4ArQBq/9y/rn+cP/D/5r+0fy9+6T7jvxr/aX9DP1f/ED9+f61AC0CzAJyA3UEMAYjCPEIBQmDCAMI3QdJB5QG3wQYAhMANP68/Jn7dvnQ9yf2r/Tl80zzoPJJ8tXztvTa9Fn2qfbx9cH2+viC+nz6ovoX++P6EPw7/XD9UP1V/E39Vv/qALoCHAP6AmEDEwWEB9cIoQl4CR4JKQrcCv4KmgrzCDgHhgb5BiEH2QUnBDUC2ACqABQBVQFMABH/sv7c/nz/6/+R/2j+u/1F/h3/tf+4/+r+af6s/qL/3wCZAcsBtwF3AvYDPgUGBg4GBgY3Bm0G7ga3BngFngPsAc8AoP81/kT89/lM+Mf2VvUw9Kvy0vGh8uvyGvNm9HH0F/QO9Yr3vPkI+sH6qvss/LP9Ef+X/2P/af7v/l8AWgFhAhcCdQFeAYMCfwROBc0F3gXqBTcHbQghCV4JfQizB5EHawjvCNAHlwYVBb0DbgP7ArMCrgEJAGz/Hf8h/0f/tP72/Uz9o/2E/tz+PP8F/7/+NP/6/zAB9QEVAnACwwLcA9sEOQVfBS8FNAVHBW0FLQUSBL0CYAFZAGr/Jv6a/LP6m/mO+Cf3Bvap9Cb0hPQ79Ir0NfXm9IT0SPV399r4CPn4+cT6o/s2/VL+Nf8h//b+2v/UAMgBigKJAjQCCQLwAhEESASXBJoEygRuBekFbAalBl8G9wUDBp4G3gaGBi4GnwXaBEIEHAToAz0DowLwARkBlQBeACUAc//L/pL+Y/54/rP+5f7l/qb+5/6y/6IAZgG9ASoCtQJUAzME5ARABS8FAwUrBTAFrQTiA8wCQgHT//H+x/0T/Gv6HvnP94f2c/W+9Of0tPQD9LP0KvWV9M/0U/bp9274DflN+gX7Hvyn/bX+W/9E/8H/CQHWAbYCRAPzAm8CngK5A2QEQQQyBNcD8ANsBNUERgUIBVsEGASkBFcFawUkBcMEHgQFBEUEWQQjBHAD5AJzAjwCOQLHAfwANgDi/9b/m/+J/0j/w/6Z/sD+K/+g//f/RACMAB4B6QGNAjYDiQMDBHcEtgQMBSwFpwTuAzsDSQIyAR8Awf4i/c37fPo0+SH46/b09e71tfUr9VD1QfWI9Jz0B/Yh93X3K/gu+cb5IfvX/Pv9pv7g/sX/LAF0AlQDqQNVAwYDUQNNBKoEkARPBLMDswMrBGYEawTiAyYD4gJjA/8D3QOPAxMDlgLIAn4DtAN0AwMDxAK5AvUCNAPxAjQCgwFwAZkBhwEwAZcA2v+G/7v/IwAvABUA6f8KAJwANAHAAf0BIAJqAvAClQPzA/ADiAP8AqYCWAK2AdMAhf8l/hH9KvxE+zD60Pjq99X3evfq9t72RPYt9Rf1BvbG9uz2QffC9zP4rflf+2b8Uf3K/cD+WgD/AS8DkAN8A4MDBgQUBaUFiwU0BbYEoAToBAgFvgTrAyUDwALlAioD4QJbArEBSwGUAQICHwIHAsQBhwHCAUoClgJnAiIC4AHvAVMCkAJEAtABZAEoAVIBfwFnAREBugCeAOAAPgFoAWYBWAGIAecBTQKFAoICLQLbAcYBsQFbAcIA6f/5/kP+of3g/Pv70frv+cj5dfnC+H344Pe59kz22fZU9zj3QPdq96X3u/ga+gz78Pun/JD9B//aADcCyAL1AhgDugPRBIcFkwU+BasEhgTQBOsEsQQCBFsD0gLsAkQD6wJDApgBLAEtAXwBlwFtAQ0BrwDBADMBjgGMAVsBIwE1AaABEQIpAvwBpQGOAc0BKQJcAjEC4gGeAbwBFQI6AiAC2wGyAdQBHwJXAk0C9QGjAWIBXQFcAekASQCP/+/+e/4L/lH9ZfxS+4L6i/pJ+pb5J/lw+Gr3B/eV9+H3i/do93n3ofeJ+ML5kvpE++z75/xh/jIAdAHqASkCewI3A0IE1ATkBJkEHwQxBHkEeARQBOADcgMWAzUDeQM2A54CDgKNAYQBogGgAWgB/QChAJAAxQDyAPUA2QC3ALgABwFeAY4BiAFnAWgBqwEWAmQCbwJaAh4CNQKKAqcCngJ2AkICQgJdAogCggInAtABhgF3AYgBOwG5ABcAmf8z/+j+ff6w/cf81PuM+5z7Cftk+tj5/vg0+Dn4pfhx+AD46ffW9zX4UPkl+rX6VvsQ/Ej90f5+AFYBtQENAn8CJgPvAwwE0AN8A2QDfAPSA/MDrwNlAwQDEANqA6EDMwPDAj0C/wH1AQoC0wFyAQoBvgCdALsAwgCRAHwAWgBgAKkA7QD8AAABGwEyAX4B4gEtAkcCSAJTAosCxgLyAvwC2gKuApgCpQKLAmQCHwLcAaMBhAGBAUwB1QBmAPr/sP9P/+X+TP6b/c/8QPwr/M37H/ul+gj6K/nS+AP5BfmL+Ej4NPgs+N74zflZ+t76fPtl/Kb9Qf99AP8AQAGWAS8C1AJXA2oDNAPjAgIDWQN/A4ADSAMMA+oCHwN6A2sD6wKGAh8CAgINAvgBowEiAcwAmgCPAKQAlABTACIAMgBwAKYAzQDWAOUAFAFUAbMBGAJBAlUCZgKWAtgC/QIOA/sC3gK3ArMCoQJ+AkQCBQLbAbwBrwGKAUgB3wB2ABMA1f+L/xP/c/66/QH9rPx8/Nj7OfvW+hT6Vvkq+VT5Bvmm+HT4U/h3+FH5HfqZ+jj7Avwr/Y7+///lAC0BXwHSAVQCxgL4Ag4D3wKcAs4CNwNxA2sDOAMCAxADbQOaA1MD5wKEAioCCgIDAr8BVQHSAHkASQBPAEEAAwDX/7j/zf8rAGMAbwB7AK4A/wBnAcYBBQI3AlkCkALoAicDUANUAz4DOgMnAyED9QK6AoMCRgISAvYB2wGkAXEBIgHqAJcAQQDr/23/3/5P/qb9Df3X/Hn8yPtW+976LfqI+YT5gfkV+dD4v/id+PL4yPl7+gL7nPuT/Kz99f43ANoAEgE0AaABCQI2AloClgIxAh0CfgL7AiED+ALyAtIC3QIqA0gD5AJ4AgcC5gHDAaIBYgHuAIUAOgAlACoAFQDV/6f/qP/a/yQAbgCbAL4A+ABKAbYBGQJeAosCsQLjAjUDdwOEA3MDWQMqAwYD8gLgAq4CbAJWAi8CHgIHAtABkQFDAQsB0AB2AAYAjv8G/3X+x/08/QX9ivz2+4v7FvtR+sL5vvmy+UT5Dvnr+MT4G/ng+Xv69vqN+378of3n/jMAzQDyACEBsQE/AlkCPAIvAgYCAgJKAtsCHwPiArgCrALjAi8DJQPPAmEC9gHVAcQBlAE0AcYAZwAmABMAIgDx/7T/nv+2//v/NwB1AIoApgD5AF0B0AEoAlgCigLDAhEDcAOgA6kDlAN4A2UDUAMuA+0CmwJ+AmUCXAJRAhkC1QGTAWcBKgHoAI4AHQCb/yz/j/7o/Wn9L/2y/Bf8w/sl+1H63fnf+cX5W/kd+d74r/gV+dz5dfrS+l37R/xu/cT+EACzANIA+ACbATYCUwIoAk4C+wH/AU8CzAL/ArcCiQKeAtgCAQP9ApQCGQKkAYcBdAE3Ac4AVAD//6z/pf+//5r/Tf9O/4H/u/8EAE8AcgCLAOsAcQHYAT8ChgK7AvsCUwO0A+QD1gPEA54DcQM5AwsDzwJ7Al4CVgJKAjcCEgLPAYcBVAEuAeUAgQD5/3X/8P5U/qH9NP37/HX83fuF++r6D/q1+dD5q/kz+f34u/ih+C/5+fmB+s76Yvtn/KP9/v4pALIA2gASAbABbgKUAmgCSwIbAhECcwLyAgsDtQJtAmUCrgLgAqkCQAKtATMB/wD+ALgAPQDX/4T/UP9S/4X/a/83/0r/kf/h/zkAlgC8AOkAUQHqAWcCxgIUA1UDlQPSAxgENgQSBNsDsANvAzgDHgPQAn4CfgKIAokCZwI/Av0BvwGMAUcB1wBYAPD/V//g/jj+dP34/M78Svyt+0/7pvrV+Xr5pvl3+f34w/ia+I34KPkB+ov62/pr+3H8u/0b/00A1QABAUMB8gHfAiYD7wKYAkYCYQLEAjQDQwPqAogCaQKaArcCbQLsAVUBuAB3AHwAPwC3/0X///7d/vb+JP8X/xj/NP9z/+H/YQCpAOoAWwHWAVkC2gJQA6gD3wMbBFcEXARJBA4ExgNkA/oCvAJ2AkMCTAJ9AnUCQwIjAgsC0QGPATMB0gBhAOf/av/a/jX+YP2o/Hb8N/yr+yH7iPq7+Rr5J/lD+ev4g/hc+DX4e/hF+QL6c/rS+o77vfwn/ov/ggD7ADsBxQGvAmcDlQN9A0MDEwMkA34DpANrA+YCjgKJAqoChQL+AUoBowAeAOr/3P+P/y3/0v6t/q3+6/4h/zj/Q/9x/9v/ZQDpAD8BjQHeAVkC3gJyA9gDDAQiBB8EMAQnBPQDnQNJA+0CogKQAokCdgJiAlACRAIiAgUC7wG7AVkB1wA5ANb/V/+3/hb+QP1z/BX89fty++P6WfqP+bb4l/je+Lj4VPga+Pb3EPjn+Mv5Yfq3+kz7Zfy+/Vj/lQA4AW4BzQG5As4DdAR7BDsE6gP5A0IEfwRsBMcDDAOyAr4CoAIcAlgBjADO/3b/l/+u/17/8f7M/tL++f5B/5z/y//N//z/lgAeAXAB7AFYAqMC6AKCAwsEVwRoBEoEIwT5A8YDoQNdA9ICcAJCAkwCWQJ6AmUCGALdAdoB4QGbASgBgADu/2H/9v5b/pH9j/yc+1z7TvvJ+ij6cfmJ+Nj36PdD+A34pfeF92L30Pfq+NX5ZPrD+oH7vPxP/ur/JAGsAfUBfQKIA7EENQVDBRcFBgUoBU4FVwX4BCoEVgPUAsACfQLDAfAAJABv/0n/cv9x/yH/xf6o/q/+DP+T/+P//f8nAIQAGgHCAVYCsQLcAh4DhQMPBIYErwR4BBgE2gPEA5kDMQO2AjsC9gH7ASMCNAIgAtcBgwFzAXUBPAHCABkAYf+5/i/+gv2s/H/7ofpm+hD6ifkT+U/4N/eK9uP2Q/f59tX24Pbc9pj35vju+YD6+PoS/Hv9Mf/tABECoQIBA58DwgTTBVoGWgYsBjEGPQY9BgYGWwU/BC0DrgKTAh8CXQGfANL/LP8Y/0T/PP/s/sL+zf4K/2v/4f8hACMAWQD0AMcBYQK8AvcCFgNWA8IDIwRqBE0E5gO7A34DRQPvAnYCGQLGAZsBwAHfAeIBrgFOARABzgCVAC8AhP/f/hf+Vv2J/IP7Tfp++TT5dvjX96b35fao9UT1t/Xq9db1DPZh9nT2hPcg+Uf6AvvL+xv9mP5PACcCbAMIBGAEFgVBBlAHsQekB2sHOgcJB8IGfQaUBSQEBwO5ApECFAKMAdQA5/9J/0r/Z/9Q/yP/MP9H/4X/4f9kAKoAvgAVAaQBOAKnAh0DYgN8A5EDoAPHA+AD1wOQAy4D0QKAAj0CBALDAWgBNwFBAWUBZAFHAdQAIgCX/zX/uf7Z/ff87/vB+oH5xPis+MX3rfZC9oD1cvRo9Bb1KPXH9Dv17PU59ov3V/l++mT7ZfwJ/sj/gwE7A10ENwXeBaoG4AfeCPwIsgh8CF8ICwh9BxcHQAbeBN0DZgPyAiMCeQHWAPj/Pv8P/wb/Cv/6/vX+F/85/3r/+f+TANgA/gBGAdoBSAKwAhMDOQMlAxgDXgO3A80DigM1A9UCpwKiApoCWwLxAZsBaQFXAUoB4wA3AID/2/5K/p392Pyq+zD6oPgs99z2yPZw9bz0afQN8zLy5/IH9Pjz+vP89Jf1WPbz+A77FvwQ/UX+XwBtApAEPAYNB4oH7QfVCFEK9QprCqkJGwnPCEAI4QdkB+QFHQQuAx8DwgLxASoBJwAM/8n+Lv9c/zj/9f6z/vX+mP8uAJEAtgB3AHUAIAEFAjkCKQIwAgICEAJjAv0CHwO/AmkCkgLqAiADKgPxApsCPgIjAkoCNQJ1AXUArv++/uH96fzQ+0T6Svip9oH1j/XI9FTzOPNJ8s/w7fBv8kfzSfMo9JL1PvYu+HL7BP0u/mn/SAGDA58F4wcgCZMJwQkOCj4LYwwCDAQLKwqHCfAILQjQB3gGgwQtA6ACmALdARYBXgBj/73+K/+R/23/F/89/3r/pP9bAKEAmwBYABUAcgARAV0BYAFdAVoBXwGOATcCmAK5AskCCAOoAx8EbgR8BC0EkANKAy0DlgKuAZEALf+f/VP81/oW+fP2sPSg8i7yc/Lc8IPwcPDl7mHuCvA48snytfP29Vv3BPnb/Iz/mgDQAUIDqwW/Bw0KnwvPC9YLdQvSC64MWgzjCq8JyQgpCD0HrwbrBeMDOwKXAaQBNAHUAMAACgBb/8T/LwDS/+T/FgAUAB0ArADfAIYASAC5/2r/mf/M/7v/7f/7/x4AcAD0AJoB+gGBAgID5gOxBFkFxgWBBf0EvQQvBB0DAwK7AM/+pfzx+tj4MfZg81nwTO9578Ltle0F7qfsK+ws7kbxVPKe8672e/hG+v3+eALqA94EHwZmCCUKcwy4DWgNDg0pDMgLWgyKC5YJ1QfLBjIGeQVaBeAEzQKCATsBNgFDAVoBowEYAd4AnAHcAWwBXwEiAb8AdQCYAIYAwv9P/47+xP2M/ab9jP26/T3+2v6w/7IA7QHbAtoDCgUYBiYHYAjmCLMIawjNB6oGBwWEA38BzP5o/Nn5v/af82rw9Ox267fr8um16e7qQupr6mrtW/H/8vH06/iR+8H9GAPGBt0HywjICXoLiQz+DXEOIQ0SDLgK+wlACgcJwQbxBAAEqwN7Aw0EHASvAkICVQLpAqED+AMtBLYDswNZBCkEeQPRAo0BbgB0/xf/ff4w/Vj8Wvuk+rr6B/s7+9L76fxZ/iwAKAIdBHkFHwd2CJoJBwvJC5EL+QosCrMInAYgBHABAv6e+nr3FvSE8PnsjOkL6L7oLeek59vpdul76prutPMy9m/45Pyc/zwBRgajCf0JeQq8Cg4MYAwVDSwNEAuBCc4H/QY7B/oFAQS3AksCjgLkAhcE3gTpA2IECAXYBZsG4wYPB1IGygWfBcIEJwOxAScANP5I/Fv7b/ry+Dz4yfeC98P3EPll+vz7Tf6EAAUD3AWJCIwKbwzMDZMOZA+dD6UO/QwJCzUIIgXpAXv+SvpP9ujyKu8X7ATpKubg45rl+eaS5oDq+ex17eLw7/bV+jH8av+2Ag8DzgWICngKvQkdCQUJMAn4CGIJuwc1BjwFdwRkBRIGCwU4BIUErwUnB4cI7QmWCXMJrAmCCYIJaQgvB30FjgNBAsUAJv6G+8n59PfP9fL0GfVc9JP0z/UR97n4Cfuc/RQAZwNeBkgJLAyGDhkQThHOEVMRnRAsDwMNVAqBB+gDbwAK/Wn5xfWv8t/vsuzn6njpneff5cXnF+u86hvu9vG+8WzzWPgb/J/8R/4vAQcBbAG/BY8GSAWoBBcEwgQrBdoGPAe2BkAHnwc/CXoL6gt3C5ILSAxeDfgNYg4/DXcL4wkSCKYGQgTEAVD/t/wH+5f58Pf+9eb0cPS98zH0gfUU9qL3+vnw+2L+tQALAz0FoQcSCtcLxQ0VD3kPFRDtD74Oqg2zC2cJMQfHBOkBJv+g/BP6TfcO9VXz2vDw7oDt0utb6RDpquxe7Ijs1PCq8MHvbPPG95D42Ph6/A7+h/1FAhkGnQXZBVMGlge7CK4KXwwPDLIMJw3SDbIP0Q9xDlQNmQypDEcMlwtaCkwIbAZEBLcC6QBT/of85fp1+dv4SfjW9lL2ufYb9jz2YPcA+Jv4qvqZ/DH+zv+3AfoD5AVdCFYKLgzEDfkOORANEW8QhQ8WDtQL4wmBB7EEYwFh/vj73PhF9v7zHPGO7lPsfeoe6KjlN+i56qnpae0s8C7vKPH59Tb5XPnI+yv/vf5dATgHPAicB8YHVAgwCUAKiAyKDHkMSA2sDY8PyRDbD04OLQ0yDRcN9ws2C3cJ2Aa5BPoC+QCk/U77dfnp9l/2MPaU9CX08vS+9A/1ffZY9/r3DPrd/Mv+ugD7ApEFqAcVCkEM+A0ND6AP/xDOETsRDxAYDnQLMgm+Bt8DoABs/c/6Ufhm9rn0CfKP717tLuv96CvmmOe+6iTp3us18B/v6e+a9Cb4+ved+c/97v3F/6EG6wiyCKUJQApxC4sMbA6dDosOaQ+BD0wR6BJ9EVEPiw3UDEAMPwoDCWgHuAS2AmwB6f91/PT5pPg49oD14/WF9CP0e/Xe9UP2nff697z32vm5/BT+IgCVAs8EmweqChQNBg8REMMQSxK5E4ITKRIZEFUN/AqGCJkE3wCO/bz5cPdN9tzzPfFw7yTtEOta6Zvmy+Qy6EzpYunr7nfwGu+68v33+/hB+ej8OP7M/aEDcAl/CbMKqQtWDNUNjw+LEPYPVhCAEKMR2BOfE3kRSg93DVMMCgqCB+8FCgOEAHD/U/5o+5X4xPd19dLzrPTK8+LyZfQI9q324Pfh+L74i/nQ+8/9dP8EAakD/gYiCkIN7Q8SEjgSLhMkFQsV4hP4ESgPtgxzCfAFUQIM/uj58/Y19Q/z/PDC78Tt5ets6gDovOT05KHolucx6krvQe4f7970yfjV+IL6p/1u/WT//QZqClYLNw3bDTYQABIEE+MSQBLMEVgROBNsFMUSWhDyDWEMTwqyBnwECwKF/ur8qfwt+zv4bvfj9m30WfRv9Mvy/PLG9Br2K/ei+Df5M/kF+yb9P/58/6UBugS3CKEMHxDxEpAUgRXHFqkXTBbsEyQRRw5nC9cHlQOp/4j7UPcf9WTz8fBO7wnuFO077I7qAOic5JfloOjU52fqxe3h7NTuuvSX+B35EfsS/kT+fQHtCHAMiA3cDhkRNRSyFQIWiRVfFM4SQBKLEwITgxAXDicMuQrXB2wEOQIg/y78O/vo+vX4p/bt9sD22fTq9E/0lvLQ8kP0XfVR9pf3C/gK+db7W/40/+oAswNiB/YLuw+cE3wWThekGPkZwhj9Fe0SFA81CysIIwSM//77Bfhg9fPzxPHv79DuC+4I7ebrK+p75hrkEueO52PnmuoQ6wrr6O7U9F737fhZ/Hr+xwAXB+gMUw/YEEESRRWIFzQYqRc9FkQUcRKkEvoRnw8YDcMKdQnPB74EWQL7/x/9vftV+/L5i/fS9pT2L/UA9fTzAfKb8fbx6vL480b1w/Xm9h/6Nv1r/5kBjQT+B+IMDBGrFAEY1Bh0GRobARp6FocTCA9cCgcHTgPU/n37JfiP9Tj1wPO78TXxo/BS71LuROxg6FrjLePd5UHkcOXp59Lnsuny76b1LvgG+9v+BgKfBkkOvxITFAoV6xZGGbwZkxhmFsMT2RABEL4P+g3PC8sJtQgiCHkGDQT+AWn/bf36/PP79PiN9kf2HvUA84zyT/GT7lXufPCw8SnzSfXU9mL5qv3XAfUDYQa5CXoNLxJuFf8X7BkXGVkZ2BlzFrsS2A6hCfkFEQO8/wz8Svlh91/2K/b49DjzYvKs8OjuFe3l6CDjV98n4bjhruG+5NflDOdh7cn0Yfln/fkAoQQ9CPoOOBW1Fs0W1hZiGE8Z/Be3FUgS4g60DTQOig3pC1IKwQnhCUUJPAfjBOIBcP4q/SL81/jk9C7zavKP8NPvqu+B7YXsme5g8djzX/a2+B779v73A9wGuwj1ClMNgRGJFFEWihgUGGEXaxiYFvoSnw9BC/kGSASaAdn9GPvq+J73U/fL9anzmfKW8Efu5Our573hhdxJ3XLfTt+q4nnlA+f37GL1yvvU/8ACRQZOCZMO8RS8Fk8WthWfFuYXABcIFcoRtA5GDfMNaQ5oDTkMfgu8C0MLTwlDBmQC+f1l+6r5afZR8ijwdO8z7oruJu+V7Y7ti+8t8k/1VviU+t78YgDYBJEHPQkOC60Mpw96Ep8UdRZ/FugWyhdsFvwTAxGtDH8IRQVEApn+UPvu+JH36fYr9T/zgfFM7xftf+oo5gHgqtp626/e597X4lLnheg77pb32f1vAX8EGwfFCKcNZxQtFj8VBhVgFfYW0Rb6FD0SAQ+WDYgOTg/GDosNnAw/DHQLOwnDBS0B8vuY+Nb24PML8DPuMO7C7R7uL/Dl7xXvevFk9Jj2pPk6/Kb9TgDVBEcHKgisCqUMgQ4FEugU0xUbF5kYTBhFF2IV0xEWDcoIaAUxASz9Lvpw9+/1gvU99JjyffDd7ubskOlL5WPfBtph203eGN/A4/Xnzek78Cv5Sf8DA7cFqgcgCSUOUxTrFVQVFRXcFVkX7RbGFdoSKQ/3DbUO5g59Dq8NagyfC74KUQioBOD/e/ru9t/0rvHB7iLupu1e7XDvyPDC8Kbx7fIM9Zv3GvpK/Fj+MQFLBB0H8ggJC4cNwA9JEtsUTBY6GFQZpBjOFyYViRE9Dd4IOwSQ/9b7g/gJ9mL1XvQQ8/Xxi/Bb7/3sdOmq5EneOtkh26PdJ97R417ogupi8pv7JAHFBN4HZQlECjkPoRRpFX8VyBVAFmAXzRbWFQYTfA/xDRoOAQ7cDXoNZwyrC1MKmgcMBDP/hPm39d7yNO/n7PXs3+wE7brvvfG38Z7zZvVo9pf4Mfvl/Or+BgKTBBUHrAmkC5oOjxHVEmQVxRcmGGYZrxkmFxgUNxFiDGsHKQMk/t35C/e89AH0vPNo8pTx9fDz7rzsS+lB43Pc+9hU2yPcvN4f5QPo9OxT9uz9kgPJBxgKmwriC50QWBTYFFIVgRVdFiIX5ha/FWASvw9fDpQNPw1PDfYMOww8C0IJawbJAnn9MPhC9FrwxOzP6wTs1Ovl7enw8/HY8zv2G/dT+C/6svs2/ZT/agKeBAgHDQoMDRcQehJpFJcWlRcRGTUamhgFFk0Tcw+xCkAGQwGi+xH4qPU/8+3yzPKU8QvxUfDg7nHsmedK4XnaK9nN28zb49/S5XPpzPAh+isBmAZ1CgcMywvZDSYS5RP5E48UdRW9FuQWjhbcFCkSZxB/DvMMWQyXDFgMkgtFCu8H1gTYAFf7avaP8h3uhOpS6izrueuO7tfxOfPi9Yv4Wfk2+ov7uvyq/REA5gIFBYUHIAvIDlMSaxQ9FhkYtxiiGZUZMBcEFNsQtQy5B5MDpv5a+V/2E/Rx8qHyK/Lr8OzwIPAm7rHqTuUG3tzYSdoz2gzccOIu5kzs5PUt/l8FnwpZDaQNEQ6rEMQS/hJNE7oTHBXjFf0V9xWyEwcSPhAXDpAM/QvJC1MLpwqlCOAFoALX/cT4iPTT7xXrBel/6XXqKuwg8P7y4/QU+QT7UfuB/Cr9Uv2P/pkAmQKVBLwH6wutD1oTcxVXFxwZZxlqGt8YOxXAEqoO6QmuBZgANPtk92T0SvKx8U/xZPBD8Erw3O5w7CjoqeFs263a7tqm2rnfhuQD6RbyzvpqAv8IBw1qDpwOCBDQETkSHhL1EgUUQxWFFdoVDBXAEz4Smg9RDeALQguhCvMJbwjpBVEDT//I+qf2IPJY7bPpAunv6Q/rMO4N8vPz7/eD+238OP24/d/98P2Z/04BkQKDBb8JHQ6aEoQV5BfHGRca7BrnGT8W0xLZDkYK+AXJAXH83Pcz9bvy6fGh8Ynw1e/L7/3uQu1k6Z3j7dw72wzcD9sh31jjNOc78Of4tQA4CKMMrA57D7MQJRJ4EqURtxGpEncU+xRPFd8U8RN/E4ARyQ5oDFALTApyCQ4IWAXDAln/+Pp793fzv+4L63npm+n76rXtCPGb8173aPsV/Qn+0P56/rr+CQCLAM0BRwTbB2sMPhGlFBEXNhllGgAbDRrBFpASuQ5cCvEFvwGc/ED4zPVj81LyRfK38JLvvO9r7l7s9OgN49PcP9x63MHbc+C44x7oafFV+bMABwgxDCIOPw96EHkRIBGXENAQyBHAEzkUtRSJFGMUUxRaEoMPCw2DCwgK+wj/Bv8DcQH3/e754/ZR8+Tuj+tN6pHqzeuI7o7xCfT+98j7KP1M/uH+cv7s/tj/2P+QAa8D/wZ1DEQRYBRtF7UZfxoLGwQa3BVmEX8NkwhSBFQASPt19/j0TvPG8iHyG/Em8F7vE+6u6y/nPeGx3OPcXtzC3WbiIOUi6yT0nvsTA04JVAyQDSoPfRDuEGAQuA8cENoRrhMbFLMUWhR+FBQUHhJrD+sMIwteCfgHvQXGAuH/Hfyf+Nj1aPJm7q7rN+sv7EDtR/BW80b1f/nT/Iz9Nv7d/vP9LP65//n/NQEsBEcIAg1YEmAWRBh5Gqwb2hopGWsVCxCBC+YGNQJI/un5tva59HbzGvPn8vzxH/H/7+ftFesH5pXfC9213HHbhd/C4unlm+5i9o/9uQXGCkgNuQ7sD48QgxC9DzoPVA+AEeoSahMlFCoUqxQNFCcSUg8XDQ4LKwlSB3UEowFE/m76bPd+9C/x6u2e67frIO2Z7sbxsfQv9+H6u/1i/qH+Fv89/vz9Cv+t/5UA/gP1CJkN4BL9FjYZSRtqHCAbOBjfE4IOdwmXBGEABvz498j1YPSf89bzfPNa8k/x8++v7XTp5+OD3g3dG9w63cThueN36TXytfjUAOcHFAsEDaoOdQ/aD8oPGA+jDoMPDBK0EpsTCRQVFF0UiBNgEacOlgx5CrMIZwZoA4AAsvxI+X32c/NX8L/tp+w07U7ut/C+86T14/gn/IP93P0r/rj9U/3V/dj+jP+gAUYGzgoZEAwVJxhUGpIbuBuSGYoVyBAdCxsG+AHN/cj5Ofdr9Zz0j/S59NXzmfIW8azuIOvH5eLfyt1+3G7cZOFK48LnrPDq9lP+MQaYCXAL5wyeDQoOSw6yDTkN0g29EHQSsxO3FLYUOhXWFA4TNBC1DRwLFQnqBhQEawHh/Uj6xvcZ9XLyx+8D7knuUu/H8Pbz5fXt9xD7svwI/Vj9Jv0h/Jr8vP1b/lAAOwTrCH8OqhM+F5IZMhu5G/4ZohbkEfoLCge+Aqf+6/oH+A32R/Vu9ZH1SvXt8+XxEPCC7IjnvOGC3uLcUNxp4YPj3ua87/j1w/xPBdwIZgpADKcMpgwqDasMHAxnDEgPlhEoE8EU7RRjFZcVaBScEb8O+gu1CaIHzgQRAqP+G/vN+FD29POm8e/vqO968PjxffQl9hD4VfoI/Jr8S/z++3L7rPuP/LH9yP9DAycI3g2SEpUWnhlSGtca3hnRFTQRAQyDBiIC4f4Z+yD49/Yz9kf2lvYT9vX0DvOE8HPsSOfI4djfnt3s3eXibeQx6YTx8fZC/l4F1wcgCV8KpgrTCvYKuQqcCsELSA9rEXcTNRV4FdAVrhXrE0ERYQ59CzUJJgd6BBoCvP69+675TfcC9Q7zuPFb8d7xgPNw9bj2yviD+lf7qfuy+/36mvpC+xH8Q/3u/xEE6wgVDhYTMRbfF68ZQxmZFpATlw7mCBUFIAGJ/S776vgf93j3sPcP94L2rfTj8cju4Olf5GHiA+Do3qDjU+XJ6MjwWfUn+7QCdgVNBowHcwd4B1AItgitCAgKkg1MEOsSXhXSFSMWDhZIFAMSSg8ZDJwJogd1BboDAQEA/kD8Sfov+E/2bvSc88nzWPTT9Rf3NviX+Wr6jfq++oH63flb+kf7U/wZ/3sCHgdbDGYQTxROFhcX3henFWwSxQ5oCY8FSgIB/6j8mfoI+cD49vgp+P32PfVv8g7vX+pG5cDjeeF84SjmUedV63/yQfYF/DUCyANNBPAEawTHBMwFjQYBB/0I9AwmED8TtBUbFhgWyhXiE34RpA51CwIJUAeNBQYEnAFb/9L9Evxu+p34/fb/9aH1IPbl9pn3gvgh+VP5jvmJ+Tv5bPnU+R/7T/2e/xIEdwg6DPYQKxNLFJEVUxTeEYQPFwvPBt8D7wAT/s/8OPvA+b/5MPm498/2SfQN8HPseuem5bPk4uNy5yPpWexf8ln2DvsZAH8B6gEyAq8BJQLaAv4DTAVlB1YL6A7qEdoU1xWqFQwVIhPPED8ObAsACUYH1QXJBDoDcAE0AF/+6vwz+0f5gPjV99b2qvdW+DT4PPk9+X34Dfn4+KP4tPmx+kz86/5hAr4GyQoLDucQFxLgEuESehApDg4LKAdWBCQCbP/5/ZX84PpH+pr5O/iB9mH0s/Bn7HfoL+cC5s7ltukr6ynu3fP+9gH7xP92AN7/BwCH/+X/BwE+AuADlgaxClcOuBF3FIoVORVEFDMSCxBvDZUKUQi3BucFFgXBA2oCdgEKAL3+Ev0u+zP6RvlC+FX4hfhi+Mr42Phd+K34APkg+d75k/tT/Vv/OgOXBtkJQw0HD68PiBANENcNUgyjCWMGUgRPAu3//P6L/Wb7jfrT+BD3tPWp8hDvN+tl6CDo8ueT6jDtt+7z8l/2Xvmy/Tz/d/4W/iH9Q/3N/icA+QGDBBIIYwxBEDsT1BTkFAwUWxIMEJUN0gquCBMHLQYCBnUFeQTwA6wCcwE6AB3+X/xA+/f54vgH+dT4hvj6+L74lPjx+Gz59vkL+/P8p/4QAZkEngdwCtEM6A0wDqAOTg3hCwoKJwcCBWUDIQG9/17+Xfz3+mX5OPeA9dXz/++z60zq2OnM6VztcO+W8BL1r/eT+S/9Uv4i/Sz89vrS+qf81/73ANYD7gchDAkQ4hIzFDMUDhOpECYOyQuHCRAIrQYYBrMGoQYbBusF4gRiA/gBtP+P/YX86Ppa+Tv5zPii+BH59Pir+Eb5zvn9+fD7Ef2S/iEBawN1Bi0JtArECwsMMAzPC3sKTgkIB4AFMwREAisBnP8m/Yb7g/kl94D1ivPI7zDseuqH6i3r0+7i8F7yMfZd+Dv6O/2v/Rf8uPo2+TX5N/un/TIA/wI3B5kLoQ+oErkTXBPhEZ4PIA3zCooIPwc5Bg0GAAdeBwgH+wb4BaQEWQMOAY3+Dv2j++b5fvmY+a74+PhR+eX4cvlt+l/6ivtp/Zv+mQA2A4cFwwfaCSYK5ApIC1EK+QnHCD8GZQXRA7sB7gBh/3b8zfoU+V326/Th8gbvRuyT7EbsAO588hnzavXc+If5Sfsz/V77xfm5+H733fg9+wP+LAFZBVsJTA2qEDQSTBIcEeoOQQxBCioIxwazBpAGSwecCNsIsgiUCP0GHwVLA4gAbv4x/U77H/oS+qL5c/lF+vn5EPrH+sv6s/v5/Ir9N//eAGkC/gSTBrAHaAgBCVQJNAkiCd8HXwY1Ba4D2gFAACL+K/vO+EX3rvQ883jxuO1/7Yju/+7c85z1Xvay+Qr6d/po/Oj6pfi+9+v1j/aD+ab87/8gBCMI1wtZDxMR5RCjD4ANvwpyCAEHiQWvBWoGWAchCVIKKgojCsYIxgbpBAcCE/9//T78lfqM+vj6QPoq+8j7Nfsg/IH87vuv/Jr9FP5B/y4BVgLqAwkGjwZjB2oIKQgRCJQH6AX9BAoDUwE7/7D8a/rA97j1LvS18vPwyu7v7gbwWfId90H4nvlw+4/6Ovuv+1H5Y/fB9Wf0Lvbz+eP91AEGBrYJ6AycD/8Pxg5fDMYJGAc4BUcEHgRLBQoHFQkzC9kLkguvCrYIqQYHBIYA7P1m/Kn7Y/va+0f8KPz7/I/9W/3H/YD9qPy5/G79O/6y/r4AqgHoAlwF+AWuBroHcQctB5oGTgWeA8AB3v87/QD7hfjL9Sn0DvKL8ZrvEu/W8BLyF/cW+sX6A/1r/DL7wvuH+QP3lfWY83r0IPi4/EIB3gWsCZEMRQ+JDz4OgAs7CHMFagOYAhUDhgTZBnUJCQxEDe4M4QtxCfoGUgSkAOj9bvzX++375Pzr/bD9dv49/6r++f5E/r/8yvzo/LT9c/6b/+wAUQJaBJYFcgYaB8EGtAYHBpwEOwOTAEP+NvzB+XH3DPUV86HxEfEy8FrwefJW9CH5UPt6/JP99fvJ+lL65PcN9sT0Z/PI9fn5Nf82BBsIGAsCDW4OxA3XC2kIDQWtArcBWgIaBEsGygiaC7cNMA4tDfQKpAflBBQC+f44/Xz8J/xG/Qf/ff/+/zYAq/91/0r/D/7v/Fj8Nfz0/Fv+5P/wAKwCDAR0BbcGNAfABukFYATuAuEAyP47/ND5gPeF9R/0tfKI8X/wrfCl8oH03vi7+2r87P25/EP75/pK+Kf1g/Q28w/1I/kl/kMDvwfuCs8M4g0SDckKmwfcA3UBgQA0AXsDfQaMCaEMqQ4uD/MNfAvsB3cERwFv/un8rvwC/YP+mACUAfgB/QEvASYAOf+f/V78qfuJ+2L8zv3L/xgBxAL2A0kFugX+BaAF8ANcAmkBBP8C/aL7x/gH93b11/NM8rbxI/Bu8cjzlvbN+/38Ov6Q/nn8bvtS+qH22vSK8z7zKfc3/PwBrgZACjMMBQ3HDIsKcgd7A4MAUv8ZAM8CVgaqCRoN/A7wD+cOCQxqCIkEKQG3/pT9Y/1g/v//BAJuA9cDTwMQAn0AC//T/VT8svtn+yr84f37/2IB2gLgA0sERQUsBe8ETQNTAdb/tv0i/BD7xfjO9nn1yPNE89PyM/GC8n708vZS/I/9if63/tj7rfoK+uz2qvV79AL0Evh8/SIDtwe+CnkLiwsLC6oIBQZvAmj/wP58ACkEOgixCz4OMQ+HD9ENuAoWB88CoP8Q/tP99/7FAFMCCAQyBToFOgSZAmEAWP7h/Mj7x/sc/CP9yv7PAEoCtQN3BDoEDwSlA/gCRQE6ADr+Rfzo+j75hvdW9kr07PKA8kLx0vG99D729PoN/jD+KP/J/CP6f/lJ9yL1X/UD9cD3/fy7AtUH6wrPC5UKQgnoBpEEXQK4//P+oQADBJ8I7wxfD8MPvQ5fDHAJtAYcA2cA+v7n/qsAFQNIBegGjQaxBSkEJQKpAJP+x/zy+9z7mPxU/g4APAFQAp8CngKSAhACQgGPAGf+Iv2Y+9j50fiO9xH2IfRv8hHx6e/x75Lz7Pbz+2n/SQBKAOj9vfsV+in4avUT9G30Pfgh/lYF0gplDRkNJQshCTEGmAPsAB7+jv0UAOQErQpeD4YRuBBqDgALpAfPBDwBzf7x/Wv+5wBEBM4G7AdCB2AFCwP0AGH/Hv5Y/W78bfx0/dz+2gBWAgEDqAIMAskB+QHpAQQBfv8T/Qj7g/l0+Lr3ifZQ9KfytfGb8bXyj/Xo90n7rf15/nD+lfwj+mz4uPa69W/2gvfQ+v3+2wNuCM0KyQrOCDMGVQOMAecAogC0AcsDBQdCC9cOhxDWD48MuwiABSQDyQGBAZcBRAKaA48FXAchCDwHFgVHAsL/Lv7D/Rb+Zf7K/in/2v9QAXACagMCA+wBpgCY/6r+7v3v/F37K/ls92H2SPXI9H7z8PHQ8G/wa/N792j8If+h/1/9Hvr29xP3XvYb9vX1/Pbe+uH/sgZYC4IMowq2BvoCZADK/zkAMwElA7wFsQlDDlkRSBLcD8wKwgXmAS4AkwBAAhkE1QX2BowIkQlkCfQHBQUpAUL+x/xb/TX/mwBUAXEBZwG9AWYCVAKjAfH/FP4t/Uz8VPzr+3/6rvjU9kT1GvTQ8pnxvu+n7o3xU/W/+hv/lwDb/un6VvdG9br0fvRE9R33jPpL/5sFZgrHDKcLcQfWArb+Jf0V/ocA2gPNB40L5w5nEUkSPxD0C30GHgLk/7//TQLSBXwIbQqUC+8KyAmhB3sEVgGn/hf9lv0U/98AngJwAzsDtgLBATMA+/5r/Vj8Bvwi+5n6D/pv+Mn2gvVq88fxRPDN7Yjtx/Bv9Rb7MQBCAX/+4vnp9Ffy7/Fe8rz0bfhK/CoCsAcDC1UMXArCBe8A8/wk+7/8hwCjBdcLWBDpEs4TvRHZDf0ICgQXAS0AXgHWBLQIyQsTDhUONQw+CVAFfAFc/pX8Rv0G/34B6wPxBNsEpwMYAl8AgP60/Cz7Yfpa+kb6YvrS+Sb4ifY49Pbx0O/P7dDsr+9L9HL5Hf/hAGL+VPoQ9W7xy/D88Dv0ovgg/ZwCZgeSCbMJzwfPAwkAPv3l+239HgH7BU8M3hAnE0oTkxAtDIMHmgOiAfcBQAT6B/kLgw5rD9AOEQyiCB4FrwFV/3v+IP85AaEDSgUABhkF8ALFAHv+Wvzt+gX6wvng+c35Rvnm9xf2r/Nj8VPvD+257BjwGfQQ+m3/iAB8/kH5XvPH7/jtIe9q88j4Bv/nBD0JEwpaCI8Es/+I/IX6N/t5/ncC5AezDX8RmxP0EoEPggovBW4BQQCdAf4EAQrODm8R5xHMD3YL1QaiAsb/ov7B/n4AAgMtBZMGhQbrBIcCBgCP/Z/7PvrA+f/5kfoZ+5/73/ph+Q/3qvRO8uDvmu458Evzffjt/bUAhAD8/NH3iPPA8IDwufKR9vf7KgGSBQwHAQZkA5b/nfz2+n77+P36AH4EQAjrCo8MvAygC1YJrwZLBNcC5gLzA6YG3AleDMwNfA1bC1sI4QQDAkQAuP92ABECrgO3BBMFVwTYAvsAYv81/m/9zvzm/EH9gP3N/cL9Rf1R/DX7NfoJ+d/3zPax9Rf2fPdz+Tr8PP5I/1r/1f2o+0z5Lvc69mv2T/hW+53+XwH8Aj0D6wH4/+P9Qvy/+3j8Q/6oAMcCfwSnBQcG4wUnBTQETQObAlECkQIIA7ADlgRsBQAGUQb9BRgFpAMVAh0BXwA7AIUASwFfAjEDqQOwA1cDsQLMAfMAIwDE/8f///9zAM0AHgE9ARUBoQD9/0H/n/4k/u/94f3g/eH96f3s/T3+jP7O/tX+qv47/p39zvwP/JL7afux+1j8Tf0i/uX+Lf8K/3P+s/0A/a78yvxL/Sv+A//A/yoASgAoAPH/0v/m/yEAdwDXAB4BSgFcAUkBOgE3AU4BfAHKAQECGgIqAg8C7gHWAboBrAGzAdkBCgI5AlcCYwJnAmICRgI1AhgCDwIAAvwB6gHXAb8BrwGaAYsBcwFMAR0B1ACRADoA3f+H/y///f7a/tr+4v7w/ub+yP6U/jv+1v1o/Rz94/za/Pb8Kv1u/aj9xv29/bT9mf1//YD9mP28/eP9HP5T/oD+lv6w/tP+/P47/4T/sv/d//z/7//j/9f/yf/M//f/KAB+AL4A+AAYATUBOgEtATABLgFHAWsBqQHWAQQCFAIuAj8CPgJHAk4CVAJeAmgCbgJoAloCTgI8AjUCIgIMAvQB2AHBAZABVgEcAdQAjgA/AO//tf9v/z7/H/8P//P+4v6+/pv+a/4k/s39hP1O/S/9Kv1B/WH9fv2a/bD9rf2u/Z79mv2i/bL9yv3s/Qv+L/5L/mz+f/6r/tH+Cf8n/0L/Xf9q/3//kf+q/87/7v8gAE0AbgCSAKoAuwDSAOsAHQFaAYkBtgHNAdkB5wHaAdcB3AH7ASACUQJ1AowCjgKEAmcCOAITAuwB4QHnAeQB2wHEAasBgAFRARQB1QCPAFUAHwDs/7L/bf9K/xX/8P7d/r3+nv5v/kT+Df7Z/aH9e/1n/W39Y/1k/Wb9Yf1k/Wb9bf11/Z79uv3c/QH+H/4r/jT+N/49/l7+iP7B/gj/R/+I/6b/wP/g/+f/5f/z/wUAIQBCAG4AmAC+AOAA/AAbAToBSwFkAW0BfgGBAYgBigGQAZYBsQHKAeIB7QH5AfkB7QHuAdgB2QHMAckBsgGZAYEBYwFHASMB+wDhALUAkABzAEoACwDH/4j/Sf8P/+z+yP6p/pT+f/5p/kr+LP4G/uT9uP2j/Y39kP2T/Yr9n/2r/bP90f3o/QL+G/42/k/+cP59/pv+r/7V/vn+F/9C/2X/j/+u/8n/4//y/wcAJwBCAFoAYwBzAIwAmQCnALoA2gD8ABYBOQFfAWIBdgFvAW8BcgFzAXwBhgGUAZ8BpQGgAaYBpgGZAZEBgQF1AWMBUAE6ARoB9gDYAMEApQCLAFkAPwAVAPD/0v+g/3b/Tv83/xb/A//q/sr+q/6d/oX+af5V/kP+Sf4//j7+Nv45/j7+O/4//lP+W/5u/oX+lf6q/sX+2/7v/gz/KP86/1n/eP+R/7D/w//q//7/DAApAD4AWQBuAIgAkgCsALYAxADXAOkA8gACAQgBHwEmASwBNwFCAUQBRwFSAVUBWQFSAUEBPgEvASgBIwEZAREBDQEKAfgA7ADjAMkAsgCRAHoAXABKADcAHAACAOn/0f+z/5j/eP9i/0P/Nf8b/xL/Af/2/ub+4v7O/rz+sP6f/qD+oP6d/qD+qf6q/sT+1/7m/uj+/f4G/xf/If84/0P/Yf93/4j/of/E/9L/5//1/wIAFgAlAEMAUQByAHkAjgCiAKMAqAC4AL8AxQDcAN0A6wD8AAIBCwEQARYBDgELAQgBCAEEAQEB9wD5APEA7ADsAOAA1QDCALIApwCVAIgAcQBlAFQAOwAwABwABQDy/+P/zv/F/6v/p/+O/4z/ef9j/2n/Wf9K/0X/Of84/yz/KP8q/yX/L/8u/zP/MP8z/zb/Rv9R/1X/av90/5D/k/+v/7n/vf/H/9j/4/8IABcAFQAsAC4ATgBgAHQAiACGAJQAlgClAK4AwwDOANYA1QDgAOMA5QDrAOMA5ADuAOsA7wDvAPEA5wDfANgA0wDLALwAugCsAJkAlACMAIIAegB0AGgAUgBBADwALQAZAAgA+//x/+r/5P/U/8b/xP+1/6D/of+f/5v/qv+c/5P/fv+K/5b/i/+q/6//mv9+/2f/cv+Y/5P/of+s/8T/zv/O/7v/2v/W/+j/5v8AABYAeABkAL0AHgElAEb/Sv9cAF4BIwFUACQALQDCAPsAMAHfANMAtgBWAUsBTQOPAxkBQwBXAYYExQPfAD7+m/6MAfIEJAYkBUYDOgRtAbP90P3uAfkFywTKAN4A4QKGA2cCNgCj/w8BmgRvA2UBGAAs/7H/5QDNAOz//f32/1QCeQGj/2L+cf4vAH0ABv8j/v7/hwDX/5D9qvw1/4gAGwCMAFIAeQA6APT/mwAXAQQAXf/RANEAkgBEAdwBNALAAlYB6ADtA7cDoQCX/9QAgwSrAjr9/f0cBHgHLAPj+vP7kwRpBZ/9Gfr+/2kCpf75/zL/5v5N/nv8WP7T/fT7rv6a/TX5U/r+/ff9qvyw+bv5VvtL/nT7Q/kB+in6o/qu+9r7UfuT+4T6qvwi/rD8RPun+yP96f6j/qf+jv42/r/+pwBBAooB2//x/0kBQQO1Aw8B6P9lAjQGGQYYAa0C8gTcBWAEbwLrAkkDEgSPBUMEYgNRAiUBVAVgBL4Aav+U/sABpQHUAd8BJwAH/P/8wgGNBOr9cvi2+k8BGADW/XP6I/zu/PH8Wv1S/Rb7Fvv9+6L7kvzz/MH+WP7I/AL94f1j/Wj8vPyC/YP+6v47/00APQATAe//TAD9/5kArgAeAQ4BUgCFAEoDhwRNA2oBZgHHAzwFEgMvAeQBGQOmAwoDpAKuA8cDbgI1AngCvAENAb4ByAAcAa0BDQGgADT/bf8aAdQAof8z/Yv8bf8aAbP/iv8J/4L+gP/g/k/80fs1/rj/3f06+0b8pv4b/kD8M/z2/Kr9sP0n/aL87vya/d/+d/4F/T39Gf7r/tH+jP4P/27/sf/N/0MArP/Y/3UAGwFNARsB4QCfAJMA9gBRAgoCfQEKAScCDgP7ArECggGNAKEAdQFyAmACPAGDAEQBUAFrAkMDHgLSAO8ApwE0ARsAW/7T/eP+/v/z/0YA6P7g/57/HQBuADwA2/7P/eT99v7w//z+/v0Q/qf+6v/u/6P/1f7v/gv/df8e/8L+fv6R/o7+Uf8z/xEA9f8uAA0ArQATAcgAkACQ/73/EgCXAHsA9P8cADAA8gASAaIBigFmAUUBOwEEAQMBCAHYAK8AnQADAWMBggGFAWMBMwE0Ab0A1QAiADwA5v/7/5kAVwCZAKQAeACyAMAA5QCNAOH/QgDz/yMA/f9o/4n/Rv+W/6b/x/+D/yr/ff+d/xQABwDz/6r/zP/i/xYAGACp/3L/lv/M/9v/BADS//v/yv9JAHcAngBcAH8AdwB2AHsAjQAwADwARgCGAFoAbQCMAG8A0wDXANgAiwCFAIwAcwCuAJIAdABfAHkAvACSAKMAdQByAEkAZQBjAIIATABRAFcASgCWACgAjwD4/20AOABfACQA5/8UAAAANwAmAAkACwD2/wIAAwAfAA8A/P/x/9n//v/+//r/0f/V/+P/BQA1AFMAaAA5ABQAIQAXAA0AEgAdABsAJgA6AFQAQQBlAF0AUQBEAD4ANAAeACgALwBFAEcATgBPAG8AkQCUAGwAdQBkAFYAYwBSAEgAGgAmACoAJwBIAFoATgBQAE8ARwBEAE8ALgAuAA8AJgAHAB8AFQAkADkAKwAkAPj/CQD///D/6v/h/9D/1//1//n/9v/5////BgD0/+v/2//Z/8z/vP/N/9P/5f/q//3/+v/6////+v/4/+//9f/v/+f/4//y//H/CwAKAA4AAwAJAB8ABQAGAAMACwAJAA4AEAAVABMAHAAVABUAHgAVACIAHgARABMAIQASABAAEwAcABUAFwATABIAGQASAA8AEQAUAAkAEQAIABQAEAALABoAHQD+//v/8v/3/yEAHADz/+f/4f/3/xMADQD4/+z/8v/1/wIA/f/p/+n/3P/n//H/7v/o/97/8f/w//f/7v/t/+7/6P/u//T/8f/k/+3/+v/9//D/AQD2//f/+//6//v/+f/x//7/9f/8//r/9////////f8AAP7/CAAGAPr/DAAEAP3//P8KAAMACQADAAsADQAIAAMA/f8GAAwADQAKAAkACwARAAcADQAKAAgACgANAAMABQAHAPr/CgAEAAcABwACAAUA/f/9/wEA+f/6//b/9f/z//T/9v/7/+v/7v/2/+n/7f/r/+X/4f/q/+7/5f/r/+X/7f/n/+L/6v/p/93/5f/i/9f/5//o/+H/7v/i/+b/5f/p//P/4f/x/+n/7v/n//T/8v/t/+//7P/3//L/8v/w//H/9v/v//L/9v/2//v/9v/z//L/8//s/+z/7f/6//T/9P/1/+z/8v/t//T/8P/o/+L/3//p/+P/5//k/+f/3v/n/97/2v/c/9z/0v/P/9j/zf/U/9D/0P/P/9P/zP/H/8//0P/O/9D/xP/H/8n/yv/P/8f/zP/I/8v/1v/L/8//0f/V/8z/1//b/9D/2f/S/9n/1v/c/9f/4//S/+n/5v/b/+j/2f/m/+v/4P/k/+X/7//w//H/8f/p//v/6v/r/+7/8v/x/+7/5P/q/+7/7//z/+j/7v/v/+//5f/k/+n/6f/p/+7/4//m/+f/4v/o/+D/4v/g/9n/3P/d/9v/2//b/9T/2f/X/9D/1f/b/9b/2f/O/9H/0f/X/97/1f/c/9r/1P/U/9//4P/g/93/5v/a/+j/6//p/+r/5//o/+j/9//s//j/8f8AAO7/+f/5//L////2//z//v/6//f/9P/7//j/9v/4/+//7v/z//n/9v/y/+z/6//q//D/6//q/+n/7v/k/9//5f/m/+D/3f/f/+L/4P/m/+T/5P/m/93/2//f/93/3f/n/+L/4P/e/+n/5P/o/+n/3//l/+D/6v/q/+T/7//z/+v/7f/u/+3/6v/x//f/+f/y//H/7//2//T/+P/p//D/+f/w/+z/8v/w//P/+P/x//D/9f/q//f/8P/z/+3/8f/j/+b/5P/i/+D/5v/m/9v/5f/j/9//4//g/9z/4f/i/+X/5P/h/+D/3v/l/93/4//e/9//3//i/9n/2P/d/+X/6f/r/+P/6P/p/9//3v/o/+f/4//k/+3/5//p/+j/6f/y/9//6v/u/+f/5P/n//D/8f/r/+r/8v/s/+v/8P/p/+n/8//p//H/7v/v/+//5v/z/+3/5f/s/+T/7f/p/+7/8P/s/+b/3f/r/+H/4v/d/+f/4//m/97/4P/c/+b/5//k/+v/4f/n/+v/6P/s/+7/7v/t/+v/8v/y/+P/9P/2/+v/+//t//X/7//2//v/8//6/+//6//3//n/7//3//X/9//6/wEA+//4//n//P/7//j/+v8EAAEA9v/8/wAA/P/2/wAA///9/wIA9//4/wMA//////n//f/7//n/BAD8//T/BAD9//z/AgAAAAkA/P///wEAAwADAP//CAAAAAkACwD7/w4ABwAJAAUADAAQAAcADgAMABMADAALABYAFgAMAAkADwAVABYADAATAA0AEQAOABEAEQAMAAwADgAFAAsADwADAAoACQAFAAMAEAADAAIABwAEAA8ADAAEAPz/8//8//f//P/3/+//4v/r//H/+v/0/wAA/f8FAPb/7f/j/97/6f/u//D/8f/y//b//P8CAA4A/f/4//H/6//2//D/8P/w//L//v8DAAYAAAADAAMA+v8BAPL/5//3//r/6//5//r//P/6//r//P/y//P/8P/u/+//8f/y//L/8P/4/+z/7P/y/+b/5//p/+b/6v/l/+j/5f/p/+3/7//r/+7/7P/l/+j/5f/l/+n/4v/x/+//7v/y//L/9f/w/+z/7v/w//T/7v/0//L/8v/w//b/8P/8//f/+v/z//r/+v/5//z/8v/0//j//v/6//v/AQAAAPb/+P/x//X////v//b/9v/6/+//+v/z//H/8v/5//X/+P/3//D/9f/2//D/9f/2/+7/8f/v/+7/7v/v//L/5v/z//f/9v/u//T/8P/y//P/8v/w//D//f/1//f/8//1//j/+v/1/wkA+v/7//v/BAD+//v/+//8/wAA+v/9//P//v/5//r/8//3//3/9v/8/wYA/v/4//z//v/y/wAA+v/w//b/+//y//z/+//x//X/8P/7//n/8v/3//P/9f/w//n/8f/w//L/7P/w//H/6//y//H/7//v/+3/9P/y/+v/8P/t/+v/6//1/+v/9P/w//j/7f/w//n/+f8BAP7/8//2//X/8//1//P/9P/4//T/9v/3//f/+P/4//L/+P/x//f/7v/u/+3/8P/t//b/8P/0/+//8//t/+b/7f/t/+D/4P/m/9//3f/i/+L/4//o/+b/3f/f/9//3f/g/9//4f/W/+L/3v/n/+D/3v/h/9//6v/e/+H/3v/e/+f/4f/h/9//4f/k/+T/6P/i/+X/3P/k/+T/3//s/+L/5P/o/+j/5f/o/+D/5v/m/+v/6v/q/+3/9P/l/+f/5P/o/+v/6v/t//P/6P/e/+3/7f/y/+v/5P/w/+D/6P/o/+3/8f/l//D/5f/i/+T/5//l/+T/4v/g/+f/5//g/+H/4P/e/+v/8P/l/+T/4v/n/+f/7//j/+v/8P/n//D/6//q//P/6v/q/+v/7v/2//L/8f/v//f/7//0//X/9P/0//b/+v/7//b/8//4//v//P/9//3/+v/4//7/AwD+/wAAAAD//wUAAQD4//7//P/2/wAA+//8//3/AAD7//v/+v/7//r/AwD6//f//v/6/wIA/f8BAAIA/v8DAAIADAD6/wQAAQD6/wIAAAAGAP//CgACAP3/AgACAP//BQD+/wIA+//6//7/BQABAAAABQD//wkADAAIAAoAAAAHAPv/CgAFAP3/CgALAAQACwAKABAADgAKABAACAADAAQA///8/wQACAAJAAIA//8BAAsAAwAJAAcA/f8JAAIA/f8CAAUACgABAAYAAwAEAPv////8//v//P8AAP7/9f/8//r/+v8CAAUA9f/1//n/AgD///v//f/5//f/9v/8//n/AAD4//n/+P/0//b//f/x//H/9P/+//r/+P/1//3/9f/z//f/+f/6//f/9//w//r/+//u/wMA9//5//j/7//7//j/9f/2//b/8/////f/+/8AAPT/9v/6//r/8f/x//z/+f/4//n////w//f/9P/8//P/9P/x//b/9v/0//j/8v/y//n/+v/w//X/7//0//P/9f/1//f/9v/4//v/9//w//T/8//4//b/8//5////9v/z/wMA/f/4//z/+P8AAP3/+/8EAP//+f8JAAMA/v/6////+/8BAP//BQD7//z/AgD6//r///////7/+//8/wgA///7/wIA/f/+//H/BgAIAAIACAD//wsABwAJAAEAAwAFAPv/+P8AAP//AQADAAkADAAOAAkA//8GAAUA//8AAAMABQAGAAoAAgAHAAYAEQARAAkADAAHAAkABwAIAAoABQAFAAIAAgANAAYAEgAOABQAEQAMAA0AEAAQAAoACwANAA0ADAAQAAkACgAOABAADAAQABUADgANAAYAEAATAAAACgAJAAoABQAJAAoACQALAAsAEQASABMABwAJAAMADwACAAoADwAMAA0ACAALABAAEAANAAIADwAMAAkA/f8IAAkAAwAJAAIACgD//wcABwAGAAYACwACAP//BgABAAcA+v8CAPz/+/8AAP//AgAGAP7/BAD///f/BQD4//T/9//0//3/+v/6/+3//v/4//z/8P/x//H/9P/4/wEA9P/x//b/8//m/+7/8//z//L/6//v/+v/7f/q/+v/7//w/+r/5//q//T/7f/w//D/7v/w/+7/9f/l//P/+v/3/+z/8v/u//L/8P/2//f/+P/w/+3/8//9//T/8P/z//L/+P/x//P/6P/l/+3/8//y/+3/6//y//f/8P/y/+//9f/x//H/9P/y//j/8P/w/wEACQDr//z/GgACAAgADAD///7/BgD8//P/BQD6//v/BQAPAA0AFAAZABQAKQAoACEAHwAiABsAJgABABsAQgA0AFsAXgBkAG4AgQCHAHMAUQA9AAUAlP+A/3T/Jf8i/0T/Hv9V/6v/lv+B/9b/if9dA2sGAQCLADoAh/3uAyEEsf06/nr+XACfA7gANABj/goBl/9N/3/7GADDA9v+hwP9Ag4DfgLvAiX+TP6R/+L9xv29/Y79jf08AHD/8wDuAHQAQ/+sAmcC6v8JAJAA6gOBAIYAkf3X/dX/m/+NAO7+8f1d/mgAcP/5AWoBMgRWAy8CTADGAJYCMgHC/xX/g/2jACIBRwBP/9f9nACVARACvwEWALkBXQCU/xz+8fz6/LX80f8o/P38EANI//7/zgLfAzAFzgcuBXEAhQI6AGv/M/z0+s/3Gvzs/SX9l/6vAOQCVgVyB7oHIQZhBGkF4AAi/sL7Ifne95365/sy+sr8f/4tBK4FdQeKB6AGGAfGBEoBtf2r+g74Dvij9vb2OvdG+m78vv7LAf8CZwb3B0YGNAXBA60B6//w/Lf7mPsT+p/7zfy0+kr8zv3wAacDuQMqA0MDVAWaBFQEVAFJAMX+uADZ/Kf8G/29+7r8Fv03/Cf+/gMfAe0CHgJJAVMEKwPjAI////5G/j3+/v31/UX9j/9q/3kAXAFgAU0B2AFoAWEBaAGW/wIALf9b/qv9s/1t/Dv9cPyM/nT/ZAAgA7AEcgQ3BX4DnwPnATcATv6c/UAAH/wiANX+HwD5A9oCoAUTB0sFRwNfA3H/bwG+/m//ZQD7/7oCMARNBa0FbATBBYUEIwITAST+v/u3+YX43vb39xn4kPnJ+xoB0wUaBWAI+gh3CK8I8AP6AA3/lv0S+w75kvcB+RL5tfzR/qoA1gScBhkHwwaHBkwF1QLrAF//WvzS/J77Cvxj+/X7/f32/VL+RP+v//j/Mf/6/+T/xv/R/uf+O/9J/+3+6/1U/sr96/xj/OX70fsW/Ar8sP1nAQIEEwRoBskFlgbFB7QEhQNHAbsATgFt/lr9cv3g/Kv/y/4nALQBOAIqBFcDrwF6ATr/Av5H/K/6f/vT+lf7APu//Cz+FgCqAUUCnQIHAmEBQQAP/2T9ePwo+1P7+PuP/JL9i//t/1YBoAL3A28EwgPNAzADdQGiACP+8/wi/Bz7NPzV/HT+TgBvAcQCfgTlBTYGdwXzA4YBhv/z/Yb8e/qh+af5Ovt2/LD+2QCyApkEWgTyBCUFkgMGAsr/Xv55/a78ef2v/RcAFwJIBC0G4QdpCXkJQgiwBmQEqQKUANn+uf16/GP9O/2S/r4ACQFXA/oDhAR3BmYFAwSyA+0CrQCg/tb/bP4x/Ur/sv99/hQC0QG7AUIETwSXBK8DkAODA8EANwEMAVf+JQA7/mL/EADj/tb/3P+1/3b/IP51/zT+9/xM/+7+Dv4i/r79ef4G/pr+Nv9i/ygA4P/M/8v/oP68/Xr+r/7TAPgAXwDk/hr/6f5j/3v+r/wL/Kb7MfuT/FP8afzW/Q/+bP/F/80AFQHBAZoAQgGGAV4B1f+d/g7+vv7L/xn/NACx/w4AHwDRAI4AYwGoAM3/wf4T/zYADf4i/hz/DQGkAnkCNgKSAmoDrwNRA9ECVQNfAqoCkgKiAcgAIwCY/8n/jwD9/9r/XAF2AXkCpAIeAoUCUgJWArIBYAADACIAz/7p/gr/6wBYAE4A9v/t//QAjwDiAAwBEAHPAUwCggF5AfkBNwKTAaAAcwDG/0n/CwDY/y0A1ABxAakC3gI7A5kDhQNuBMsBEwBk/gf/tP+f/pj9DP1q/LL+fP9k/8YBTALcBOUFAwXzBDcEPAQcA4sBrP9w/j//cv52/Zv9B/68/6wARADEAaYCwwQYBGADtQK/APUA/gDX/xQAsgALAr4BQAJIA/cEFAVpBdQFNQUKBqYEJwMmA1sCfAA1/7r+N/1++/X7k/1+/5sAZACTAc4CDwHqAJMA3QCb/yH+/P2O/rn+k/6M/tH/Wf/Y/sD/Jv+v/4L/I/4g/gf+lv5E/gj+U/+W/7wAhQHTAd8CYgNCBKIDcgOAA9YBOQH7/2L/NP/8/l/+Uv4KATYDHQPmA0UF/wNXBYEFnQMSBKgCZQMVAzcCbwJ0AUsDDAMuAwMEbQYRB98GwQQQBWAC///l/08Anf///mf/6wDA/7b/QwHZAOIBvQJFA8gFZARKA7gEtwSmAicDYgFbAp8BXAAeATAC5ABCBLMDJgSEBSoGDQX5BmMEowOAAncC7QHW/2v9w/5a/08BsgDbARYCawENBcEGawWMBDgCmgKgAg//Zv7M/bD+4wDK/woAtQLVAnYE6ASMA0UDUwPSASQA6ADFAPf/sgD7APsA3QAzA7UCRwGsAL8BZAJBAsQBBAAnAE8A9QCYATQBQAGNAGgB6ALJAnsCyAHzAV0CtgHEAKUAov8YAA0BCgKKAn4EcgRVBMwESgZRBWYFggTBA58E7QM7AtQAE/7W/S3//ADkAf8DcwRBBy8G2AJbAyMFswMMAnb/qv6I/Tz8Afxt/Pn8gP7GAOACMgWQBfIHJQd9Bg8G9ATCA8kDHgJWAC4AAP/g/6YDhAU9BY4DagTBBcIEfQPqBVoH2wccBg8BJQFPARIBxf7m/Ez+UwA7AdkCTwNgBY0EiAW2A6YBS/+tAEoAZwBY/6z9VP62/l4ALQHMAwwFawjTCC0JlwdDCDQJDgplB10EYALVAagBGgNGA1YCZQQZBKcGYgQJBi8JIQjAB8oHpARXBCICxgN8A0gB5QDwAdcE0wRgBSMGVQhcCcIJBgfxBp8FywVXBNkCHAQyA6MDbgSoAzoEvgWUBZ0H7QcICj8LpwqOCQkI2AYTBdwCtQFVA+sC3ANhBfkFhAcSCAQJ+ggBCXUIuQcABskFqwXzAysA+P59AQ0CHwH0AEgEjgXJBnIIMgk9CUoKmwlRCL8GvwU2BEcDpgLGAfYBugRaBG0FjAZbCM0IiQf5CtIILQf2BoQG5gfRByYIEwUHA5EEuwWzBDQFtwTlBoMI0gjtCXALeQ1bC2QJyAiWBwUH6wVYBSoE4APuBN8FoAV3ByAIOghwCCYIFgiFCM4G7wYkB0cGFAfRB1sHxQaDBqUF8AXZBu0F9gQFBvkF1QR7BBQG9QZ4Bu8H8wZxB6QHjwjrBhkGrgQHBIQC6gJvA48CaQJ7AVABbwLoAXQBbwLIAwsD3wLbAZ0DnwIDAtAAegBQALQA1AC2AV7/hP9UAcEAXwBKAfAC2QJTA6YD2AMZAcwAxP8H/dv7VfzU+0z9SP7n/msAhwAQAVABpABhAHz/Ef9E/Pb7iPkz+Rj5CfmM+pT58fhh+e36VPoz+kv6y/ld/Ob6kPpx+tP7yPva+9756vfT9jf3wffw90r4Afhj98v4Ofg391T3CPjY9nb0v/Rc9B7yWvH38MLwa/Aj8U7wpe867V7uu+547YHuhO4X78HtJuuA6qjpHehg5XvkTeYf6LzlsOQZ5GzlruZY5RzlP+TK5nbm/+Ue4yDiP+H93ZPajdlQ2bnZq9ji1yzZcNqr2tDY69jj2dPZHtpV2EnWutW/1RLWTtQG0hzRv9Ll0RLSj9Mw1o/WTNdE15LXmNax1XLVRNZL1sPVldbQ1gfWuNUv1znYR9gZ2djaztpj2uzbE9yQ3MvaNtqC2VrZmtkE2T/a/dtI3eDdad6n34zhueL24lTiaeIz4ZrgTOC03+/fYuAc47DkOeT85QPnO+g6507oQukZ6pfr0eqy6sLqPuqI6afqMuws64vqZepV67nrBOwJ67XqKe2P7xfw2fKL9PT0VvbU9R31VvUm9Sn2ffdL91X5XviC+Yr7Fvxs/V39Bv4NAY0CiAIPAfcAUQEMAawBSALRA70DOgRyBF0FzQURB4UHoAcBCHUKgwtnCpILXQuTC2YLXgvUDOYN9g0yEJIQ1hCcEqETmxSoFXYWHxdoFxYWuRURFusWXBcTFw8WDRcuGR4a+xoGHU0fUSBeIIIhfyGzITciQyI+IbsgSh9hHlMeTR15HbMd2x7FIFoi+iKQIz4k3iQdJEQk2CPBIjci/yADIBAfEh7pHkYeAx/gHzEhNiKrIr4ixCFQIbQgsiBYISYhaSDwHwQfJx6PHlYdFh1KHM0bWxwmGwsb6Bv3GlAazBmtGfMYzBg1GTwZSxnlGVsZfhkzGMYXwhYNFtwVjRRjFDAUYxIREwoSmw/EDaoLpQxkC8gICgb7BEEFmwSoAokCCQMqA0YCyAAaAET/1P2c+3L7JPoZ+Q74R/Zj9VXzf/Kz8iHxi/AA8MLvdO8c7j/tsu3b7HPtl+xl65nq9Ocj6FvmUuUq5d3jaOIA4vrhzONM5KzkiuRg5BXmqubb523neOZG5jHn+ub45h7mSedI6bHpbOpA6/fsD+5O7unviPGL8irzsfNl9PX1SfUl9aj1BfcW+Nj3L/mG+YH71vtK/dL9BP+WAWsBNAOrAlsFggbjBoEG4QWfB6kIowomDdMN6Q+wEY0SERX9Fi8YgRhOGCEZqhpIG/oaSRuNG8Qdah49IEMhiCKwI1ok8CZeJ+8nOCm0KAopBSmJKOApESovKygrPyxdLFctMy96Lz8vzzCKMQcy/zKTM7s0mDaLNU014TX7NSg2zjRcNSU0BTVtNqA1ODZHN/U3dznxOBA6EzsvPEg8WzqLOiA75DpHObw4tzhQOXs54zl4OWQ4mTj1Nhc3QjYKNpI2yDYaNwc3ljeLN7o3rjc5OLg30DhuORA7RTk1OOM3fzdAOAQ4vzVpNcA0+zRcNKE09zIDM1kzRjJtMtUxgDGSMQ8xgy/+LSUtlCzKLEkskyo4KLMmKCbjJbwkhyNeIkUi9iCQH80eIh5BHJ8afBnhF5kWdhRhE+ASkhFrD0wNjQoVCmMJfghEB3MF+AS9AoEBmv+H/v/9avzI+qj5svmz+Tn4zfcR98/2W/Y49v306PIL8lDxVO+U643piegq51blBOR44f3eat6i3fvcS9su2uvZi9hq1wPVH9Ok0r7Qyc5FzeDLSMr8yY/J18fKxmjH1sesxxPGh8aqx/nHz8hjyKfIZMmGyYXJ3snGyT7Kg8suy9DK7csfzKLNws6lzyLRWtJK087Vc9Yk11bYENn62cXaPNoH2tza+tgs2XXZ4tmL2YfX6tae14/Y8dcK2E/YPtnW2iPbkdvS3Pvc99xH3WjdJ95E3kHdat3h3C/cod3i3EHcetxJ3Zfehd/P333gZeJl4/rjV+OB47/kjuTr5HbkBOOw4pDiseJG4mfiv+PQ5K/l+uZM6ETpp+l/6fHoR+mL6P7nOugp57HmBuYk5vPl4uXj5SLm6ObG5yDohOjL6FLphenu6d3pvuhV6FroNOg06KrnR+co56/npOg06arpS+pK6wnsjuxu7O7rWuvv6mvq/emD6ZjpTunU6V7pbOm+6dTpeuq46STpGOng6E/oBedh5rrlmeVD5cTkWeTg45TjCuSv46Di1+Ki413kl+NH4uThueGf4l/iceG74CPhLuIT4+jj1eNa5RPno+hR6WjqMuxI7QXucO7U7wXxJvJj8/jzyPTl9YH3GPmM+mT8df1y/xgBAwMIBQQHGwlIC5cNBQ+wEBMT8xQUF0EY3Bk+G9Qcth5AIFUhQSMbJS4mayjGKS8q3Sp/K6ss0Sz9LDMtwC2jLhkvxi+eLzYwFDHLMUkyzDKrM5o0RTWXNb012DVgNvo2+TaWNig2JzaZNW40+TPnM58zzjN7MxkzCjNaM5kzkzIjMoEx5zCGMIgvAS4fLL8rNyvlKWwolyZhJbQkjSNmIoAhOCBRH2kezh1EHBIb5hkGGeIXuRVuFEIT1BFGEDwO9wzxC5UKKwmCCLUHMQYsBWMEqQOuApQBYwHpAEUAtf9G/0L+5v3o/Zr94/yR/On8KvxE/N77PPuD+0D7Z/uE+3j7GvwG/Gn8o/w5/Tb+Cv8g/+/+Mf9M/3j/Q/8t/1P/K/8E/5P+Ef8Z/1j/tv9fAKQBDwIlA78DSQQrBaQFNgZgBlcG2wYUB3wG9gVgBT8EtgPwAtMC5AJ+At0B1wETApwC/wKZAjoCdwJCArgBmgG5ACD/H/79/Db8NPsI+vn4wPef9kz2TfZA9on1xPQQ9WT0G/Qb9OjzHfMY8uPwtO9x7iXtreyx66fqk+ob6p3pneni6eDpAurF6tLqGOvU6m/qW+oN6t/pROnE6H/oKOiD5x3n0uZt54/nkOd96Hnpw+rH633sGu317aPvtvBg8R3yvPKr83T0lfRl9Ar17fXF9vD3vfiL+T/6/vpp/B79sv5CAL0AZgE2AvkCIQNvBPsEmwTbBC0GuAaNBgsHkAezB/oH4QgLCgIKNAoiC90LZwzhDDoNLA3gDK0MkgzlDDEMqgtsCyMLWAqHCo8KVgoDCvgJ0wnUCUUKPAoLCrwJtQliCWAJfAleCPIHhgfABk0GywWYBbEEvwScBPoENgX9BJ4EdwRABfIE/AR+BfUEPwTSA48EFAQPA5ACnALUAYMB/AFxAcEAOgD7/08ALQDh/0z/Cf8I/xr/gf9B/63+Kf/u/sr+B/8p/9z+e/61/kT/xv41/7L/r/7K/tr+rf6H/jH+M/5N/iv++/37/Uf+ov2n/FL91fxi/AD8efs7+1b6KPo8+vb5qvmC+br5/Pl1+aH5C/o5+Yb4/fiH+If3y/ba9RX0CvOv8nHxrPDz73Pu1u4U7xbuHO347antu+z57ELtTe2w7Azsx+tS65/qCerS6QLqq+nK6VLqbeqB6pXr1uze7ULuNe9/8JjxivFX8j3zPvNj857z6fPC83nzavNF80Pz9/Ia8/PytPK68q3y/PHa8PzvifA78Hbu9O2T7Ynsn+sc657q+OnP6V/px+gE6T/oreeu56vng+dk5wTo2Odg513oSeqE6+Ps8u5q8bv0vvfd+vf9aQHDBP0H2ArNDUwPIhHxEvoSFBOTE94SohG7EIwQjg9PDjYNlAxZDDUMUwy2DKEMGg1iDZ4Nbg2lDBsMNgt5CcQHtQViA7IAw/1n+0H5Q/ci9Qv0fvJF8qPyP/O59JD2Ivjr+jn+uABIA/MF1AjSCyoOExECE+gU2RUgGFAbgxwkHk8fGCB/IR8iiCLVIjcifSFjIYMgsh6DHAQbIRn0Fq0V/RNQEpoQmg9eD40OwA3MDBgMPwsnCn8IrwYsBBQBjP7R+8f4iPUE88bwBu6P7Hrs+exm7eTuDvGC89z2/vmx/XQCBAZdCWANChCeEjsVRBYoGM0Z2Bo5HJIbvRqCGjIaYhliGFkXWBbwFHoTnREQEEQOiQyOCxsKyAhzB3gF4gNCArMAjf+z/X/7oPmt9wH1svGR7ljrHeir5RPjreBJ3hXcc9r92SLaK9sC3RLeYODp4xfnL+pJ7kTy2/VF+er8CQBrArwE8QXZB2gKdwuTDLgNvA1dDSMOIw7FDZoN7wy9C7QKlgnFB2QGgAQoAxcC4gCr/7T96vuF+n75UPgf90D1WfOK8S3vkOyu6c7m2+M84ZXe+9tu2W/XT9bQ1W7WFden2Lbbqt4T4lzmDepC7nTy8/YO/JD/IQGeA2IG2wefCdMKvwrOCtIKmQqACo4JpgfcBnkG6QVkBBgDggF+/zn+f/2R/CH6a/js9lX1qfOH8efuyOz16r3ob+aa4yTgs9yJ2dzWHtQR0eLNXss5ytnJX8mpyabK+MsQzxTTBNeA2z7fMuNX6AjtQPE09ar39Pkd/G/+6wDZAOcANAEuAR0CwQERAW8AJf83/3j/D/8P/kD80vtr+6D6Gfo8+Cn3hvU29LDzcvHO7u3roulW6Dbmv+OS4DzdstoF2MvVY9SS0fDOus3BztbPGtBg0b7Tg9Yc2oneHeSl6EHsWPCf9Wv7pv/pATwFMgfwCDYMNw5+DsUNXg3tDsQPJA+UDnMOHQ7/DZIOkg5uDTIM8AonC4ILrAnxB0MGhwReA+QB7P/b/FX59/Z49WvzJ/BH7HLp5OZM5OrheN9E3Q7be9uu3HLdSt+J4ITiqubV6ozvlfSi+PX7TwC4BXMJvwsKDusPgRKFFBMWHxe+FqoWtRZ3F1kYKhj7F80XGhhMGLwXQBcRFtQUaxS7E7gSshBnDqsM3gplCV8H+QRfAlz/FP27+iv4a/Um8qDvTu2t6mfoQObh5OLkd+Wp5lvoE+q77F7wOvSS+Hn9owGtBVkKzQ6fEj0VkRfhGWUc3x60H3Eg/yAPIbgh0yHWId0hQCEAIi4iWCEcId0fmB6uHcocohuHGa0XRRUzE74RLg+vDJkK7QeDBacCQwDC/Zv6zPeP9eHyre9L7enqhOkC6qvp/OpF7RTu+fBn9Iv35PwDAewExgnxDfERSBX9F3AaNRzMHpcgTSLTIuAhbSK5Iloi+CK9IigjDyMNIvIhCCHLH5QeYh3KHBwbGhnaFiIU8BFsD2QNsQv7CKgG3QOMAOr9LPuK+JP1FfPa8Bztm+qY6Ajn3ea55qPomerQ66nui/Fo9Tv6e/5eA98HyguzD+MSchaeGDYaNR2KHl4fcCBoIOMfcx9mH90ftx/VH4cfch7THQgd0RvOGtQZfhiQFuEUzhLsD4ENHwt5CKkGVgSOAUn+wPp/98v08PHK7grsK+kG5gbjROCJ38PfuuDL4vvjBeU56P/r8O+i9N75vf3mAI4FDAqFDREQgBCoEWoUKxfSGN4Y7xdhFp4V0RdsGe4Y6Bd5F7wXhBdMF5AWVxQlE7gS9BGuEK8NjAllBssEkAMiAY/+nvvR96T0JPKQ7/TrGejY5gHldOGJ3jDcLtwp3S7eLeAX4c7iQub76Xzv/vNf9rL5BP45A6gHOQqpC48LKA2lEAYTcxSME3sRWRF+EpgTjxPnEkoSyxEOEmYSYxFiD/IM7gsPDBALvwg2BZYBJf9I/Zb7ePld9i3zZPCs7fXq8+dB5Dnhyt/R3Qran9bf1r3X09ek2UjbONzo3nbi+ufv7VzxhPMb99n8VgKFBVIITQnjCYIMDRCYEtwRyg/wDwoR+xLdE3US1hFMEh4TBxR+FKcTYBF+EKgRhhHeD+kMkQmaBxkGYATmAZD+wfsu+Q/30/Qg8VPtkeqM6OjmYuQ+4LbdId+S4DfhVeKT4trjN+du6yDxw/Xw96H5rP3HA/YH9wlTC5wLmw3kEJMTaRQ2EhwQ/RA3Ew0VyRRfEwkSaBIkFM8UmRQnE8MQmhCLEfkQlA62CogHKgYvBWoDMACX/GH5HveR9ULz2++w68HoSed75Rrj7t6R2/jcHt8K4NXgveBb4ejjrui87tPyJPWR9rb5j/9JBCoG9AZZB4cJAg0oECoRog5mDCENZw+DEYoRDBDaDhIPUBAlERkR5w8/DkAOaQ9qDyoNpAnuBsgFIAXGAyYBpf2x+ov4wPb09Dnyt+6u6/npr+i05U3i997b3N3fjeLc4cfiJuMP42fm2exP8g719/ZL+dn8lgLpBUQGigefCMUKwg4TEVIQQQ3JC14Nlw+yEIYQdg9yDnQOyg8fELoPpw+NDpYOzg+7DjEMyQnTB5sGnQVJBLABsv4M/In5tvfr9WDzBPGB7nTs1+ow6KbkM+Jc37nhqeUB5W/lxuVD5Cjnl+338g/2/PcT+if8HgEbBmgGggd5CJkJYg6MEdMQ6g2LC1oMhQ6vENQRBBAgDoUNgw5mD/gOcw8pD4kO8w83D7UMAAsoCf4HFgijB3UFEgKf/0T9mPuS+pj4XvbN9Ljyu/CN7sfrZ+jZ5T/k2eeY67XpMenC6RfobOtL8kn3avqN/JL9Mf86BJIIiwhDCrMLaAzHEJcTEhL+DqYMaw3oD4USmxOCEfIObg1DDoQPpA+tECkQgw7TD9EPOQ01C84J6AhVCaQJcwfKA0kBdv7s/N/8qftJ+VP3WfWJ8wDxaO6X68foVOYg54jsUOwi6f/pZOg36CXv7PQ1+O36FPzx+7/+VgRpBlUHGgqGCXALyw/IDysNogqCCWsLAA5bEOIPmAy2CQsJowrmC9gMxQ0QDAUL1AtZCtUIMwjWBu0GpQeMBq8DgwBB/pD8+Pua+zz6jviw9l70hfLX73ztAuyJ6Xbna+c86ybr5ucO6cro7Oeg7Ujz+Pay+Qr6z/n8+0YBPAWnBgsJSghkCDAMqQ1kDDIKlAgSChYMTQ66DmoLJAhEB6EIrQp5DBMNjwqtCH8JCAlyCEYIPwe8BsAGQQYdBGwBqf8K/nH9YP1b/Ln6lPh09m30+PEi8PruzOy16rvoKei+6rrpV+iN6sLp+uli7wb0qfdR+aP5KvoI/Q4DpQbmB90IWAZkB+4LTA1dDP0JNggiCfcKhQ3rDHIJCAeJBhMJowtwDJML/gcmBx8JjAkXCu8IVQboBRcG0wWtBIQCUQCg/ov+kf45/bf7bfky9+n1KPT58svxCe977O/pF+le7ITs/uqQ7NLrouoG77j0jfj6+YP63fph/c4DlwcOCKoImAaHB+oMew8rDr8KMwjOCFILhg5TDskKqAe3BmkJJwyEDKALRAg5BzUKbwsEC4UJigbIBR4H1AfTBosE5gGY/5n/SQAG/2b9Yvv1+Mz3ZPbU9HzzpPCr7QLs7+mO7LfuSexr7I7snurh7TD0v/g4+or6APs6/BMC1QcbCHkIRAf/Bv4Luw/XDkYL8wdSCA8Lqg5fD4ML2Qc/BqYIYwzJDOMLPQnJBl0J9QtDC5AJEQeqBQkHxQjeB/YEZAIVAN3/dAH8ALT+tPxt+i35hPj19vf0H/NF8DHuROy96/fujO5I7H7treys7NrxF/cz+sD6FfvS+yr/TAZgCZ4IkQgLB3YJEA+QEAAO7QkZCBEKfg0IELgNKQmmBjAHHgtqDSEMJAoUBw8HyQocDI4KGQi0BesFgwg9CZ4G5AO/AdkAUwISAxkBgP6R/Pb6tPow+uf3P/Uf81Pw4+757Orsj+8M7u/sZ+4U7dHtHvPQ9zz6+frk+w39+ABDB6sINwgiCAEHtwqFD1UP9AsgCFEHtAn1DF0OGwsLB1AFyQbBCskL1gneB+oFQge/CiULBgkgBogE/gWVCFgIYwW0AtgAqQBKAmkCIQB+/bv76/oR+6v57Pa69LfyCPDi7gnt8eww73Dtduwf7ufsiu2i8jv3h/kL+ub6N/xDADUGPQfsBukG/AXICSgOcw07CskGQAb3CAUMugw5CbMFbwQJBusJgQplCJEG7QSUBtIJDAriB0cFYAQnBnMIyAfQBMACYwFmAe0CigJFABD+Xvy1+8n7EPpk9yH1SPPs8JHvOO227F/vCe7q7JPuDe1L7X3yK/d8+T76B/v7++7/BAYbB9IG4QbABUgJvw03DSQKwgbiBVgIcgtdDC0JzgVbBNMFxQljCoMI/wZ9BecGIwpzCngI0gWzBIgG1AhDCFcFJgOkAc0BNQM5Az4B9v5J/Zv82/xn+5P4efaT9GbyDPGV7n/s5e737uLsRe4C7mHsUPC+9Zz4hvk++gD7JP5CBMQGSQaoBnkFhQesDJwN1QqKB4kFUAeUCvULkwkrBlAE3wSRCEIKUAjfBo0FIgZsCZUKBgm5BvMERwb8CA4JXAYyBKoCDAIfA1kDhAFH/6z9Fv1n/Sj8EPnL9j/1P/PG8Xbw2+yH7Y/vk+3s7eDuOuzF7arzyPch+bv5QPqp++oAoQX+BaEGygWLBUYKRQ3PC/AIFAZ2BqkJCQwuCw4IogWqBF8HngqZCRMI5QYkBrkI8QoXCkUIPgZDBqwIuAn8B7AF1wOJAlsDfQRUAxgBWf8w/gv+Vf3f+qf47/ah9O3ytfFJ7jzsOe8m71vthO6N7WLsEvEh9ov4xflN+vT6wv60BOUGqwapBpgFewhRDZcNGgv6ByUGhgivC0sMCQozBzoFNQb5CcgK6wjsB8QGgAe9CqsL5wmWB4IG+AcBCucJcQc5BaEDIwMlBO4D5AEGAHj+1/2s/dH76fjU9if1EPN/8fPvZ+xG7Y/vWe2E7WXu5esQ7h30Mvha+YH5L/o3/KoBWwZqBtkG8AUnBiQLqw0ODEQJVQYjB5UKmwxsC0II7AUhBQ8IVAsIClEILQdZBhQJcgtqCiQIPgaqBrEITgnYB20FFwMEArcCYgMRArz/6f3N/Aj9nfzm+ZT3zfW78xPytPC07WDsIu+X7u7sL+7T7MbryPAa9p74UfmM+Zb6bP41BHcGsgawBqcF7gh6DaoNLgvTB1cGIAktDJMMJgoFB80ExAWICVYKpghsB+UFqgbQCaEKuQisBhMGggd8CUQJrAakBP8CwALcA7MDlAEx/6P9Df3K/HT7oPhm9l/0gfJJ8d/uVuvJ7DjvIu0d7RjusOsk7WfzuPdc+ef5Tfoq/GEBBAaVBuYGFgY/BuAK5A2lDJQJNgamBkAKWwyiC+cIAgbVBJEHsgrVCYgIWwdMBpYIMgvNClYI9gWVBlAIDAlOCNUFZQMLAlkCBwP6AREAHP6//N/8Bvyv+Yz36fUc9D3yyvDJ7f/qau5m7/XszO007WbrSe819Qn5q/l0+U/6jP22AycHHAccB9AFLwgJDX0O2AwJCT8Gjgj4CzcNTAsvCGYFLgXoCMYKJQn4Bz0GEgY9Cb8KhQmaB2oGCQeYCEcJbgcQBZADtgIhA/sCYgGZ/9P9kPxL/Ar7Vvg/9pv0wfLT8BvveOuR65nvXu6l7Ejuq+y07IvyC/gr+kr6BvtR/G8ALgaMB4YHIAd6BkQKDQ6EDQcLRgebBsUJYgx4DPkJKAfwBGQGSQpRCr0IDghrBlIHSAppCgII/QU0BpYHmAgfCJwFQgP0AQ0CAwNzAl0Aav7b/EH8tPuZ+UL3XvWD837x7u8W7RzqVO3V7mvsgu1a7TvrJO+d9V/5Nfq7+nT7K/5PBBEI/AcKCI8GMAgnDdgOKA1TCTsG3wc5C9oMYAtZCFQFoARaCK8KNwlBCGcGmAXFCB4L8AlLB64FHAZ2B34IJge3BKECTwG2AUkCBQH7/gn9A/zg+8X6bvhD9k30XvK88EjvKez260TvEe7T7Ijuyewn7fzyK/hs+gL7b/uT/MQApwZ+CIUI/wcMB40KZA4zDsoL2AfVBsEJWgx/DAsKswZSBLMFmAkKCpUIOwfhBA8GugkJCvUHKQZaBfoFvwcCCJYFIQOoAXYBawI/AmQAYP7E/CL8wvtj+ib4Ffb48wbys/CD7grrOe0j8JLtvu2u7kHs8e5g9Xr56fqN+z78Cv58A0MIVAhuCGIH1weTDNoOXQ38CVkGPAeAClAMZAt9CFkF3gPZBvwJtwitBz0GvgRJB8EJEwl1B2wFIAXfBgsI2waeBMkCsQHeAV4CaAH6/z7+ePxo/Pj74/nR9+P1AvQq8qTwv+1l6/ru9+9L7YHuMO567L3wd/bl+Sj7iftG/CT/2wT/BxQIVggbB+4IMw0bDnMM4ggCBt8H1QrOCzIKXweFBP8DZwcwCdgHPQeNBfIE1Ad3Cf0H5gXQBIsFQwffBxIGzAPwATUBTgLbAoQBmf+//Q/9Iv39+5j5qvce9if0Z/JR8ZXtKuvD7m7v6u097+ftW+z58Nf29fn9+q77hvyC/zoF8QdFCCEItwYJCT8N9A3+CzwI0gXEB14K9ApgCd0GHQTfA0gHdAggB5EG7wTDBM0H4AiDByEGMgURBVEGVAe5BcQDUgKTAf8BDwLbAHn/M/5f/Tz9I/wp+nz44va99ATz4fFi7vHreu+08Bbu1O5T7pPs3vCU9qD5/fqa+y783P5jBLEH7gcbCCwHpgjODJQN1AueCPYFigcUCscKawnrBiEEfQN8BjQIHAfABk4FggQHB0QIbAcYBv4EZgXVBnMH9gUMBLEC1gGdAkwDBwKlABL/1/0Y/iT9EfuK+dH30fUN9KXygO+66y3uB/Hn7tXu6O7I7Ivv//TU+P/6m/sp/F7+fgNgB7MH4gc4Bx0IOAyhDUEMaAniBZIGXQloCowJWAfZBKEDswXyBwkHlgb8BRcFwgY/CPQH1AZDBW4FzAY9B0gGhAQHAzUCdwKVAsIBsgBr/zz+Yf7m/aL77/nG+Pj2KPVC80/xsO3s7L3wM/By7kzvbu3D7dbyavdD+sb6jvuK/aAAkgWBB6wH6Ad/B1gKAg1XDMkKPwcZBnoIqAmKCfwH7AXsA/oDwgYgByAGVwYlBWwFAQcjB8UGeQX3BPUFZwZqBu8ESwOHAuEBUwKoAsABlgDW/mT+mP7y/FL7PfqD+Jn2ZfR58snvpOzo7vHw5e4J78Xu3ezC7+/0qPiQ+mX7yfyq/h0DAwd4B/MHpAeRCP4L/gz0CzwJ4AWyBtEIWgnNCBUHuQQYA+wE8AYoBnIG9wWsBDYGRAfoBssGzQVfBRsGsQbKBToEaANwAj8CaALEARoB0//K/v/+Ff5T/Fz7Tfo9+In2a/Re8pDvQe1l8GnxDe9p74zuY+0i8ff1aPmj+lz7TP1M//YDzAYTB0oIDQg6CQgMiwyeC5IIBgafB/cINQl7CMsGhwRSA18FjAbXBZkGsgXABFoGoQZaBkIGcQWGBdIF9QVDBc8D7wI1AiwCXQLHATMB5P/n/mf/Xv65/P/7Yvqz+GH3v/Qq8pXvsO1s8FzxNO+t76buRe198ND1//n++pD7dP1L/+0DCwdZB68IQwgZCdsLjwy2C3MIzwUXByMIwwhrCIAGRASwAmwECQa5BZMGqQWhBBkGpgatBsAGuwVdBbMFKAZiBRcEhgNTArQB2AFQAfwA8P/S/vL+Gv6l/Jj7KPrY+GL3/vTF8hPwIe6e8HTxp+++7/ru2u2b8Lj1lfm6+lL71fz8/o0DkwY3BzsI3QfaCE4LbAz6C8MIBAYcB1cI5whjCJ8GUATqAokEywWpBT0GDwXxA3gFJgYfBggGHQW8BEgFDQYVBacDXwNjAgACbwIkAnIB/v8a/2n/j/5Y/Tr8RPqo+E/3L/W88vLvce1z723xye817+Tuiu2w7+z0lvl++9f78vy6/gEDzAbHB5QIEQh6CP4KRwzYCwkJwAVBBqkHeghxCOAGegSJAtYDugXzBZwG5QV8BKgFSAYzBn4GzwUrBf8EiQUvBbAD6wJMArQBogEeAe8AZwA8/yP/rP5h/Wf8/frL+Zb4cvZN8+Dwpe547//xjvBp72Hvm+3W7ujztvgH+0z7gPx0/ucBWAaUB4cIyAh9CMMKsAyPDGoKoAY4BrIHbAjDCGUHAgW7AtUC4QRXBfYFyAUEBIUE0QUNBmsGiAWXBNYEfAVtBXQEvANpAi4BgAERAuQB3QBr/zr/RP/9/RX9Ovx/+uP4Mve39NTyJ/Ds7fDwrvHF7xrw4O717Yfxy/Zr+n/7fvzt/dX/hgRIB0gISwk+CEoJ4guRDLULNAjcBQIH3AdaCBsIXga6A0kCNQRyBYwFNAblBFAE4AXkBSQGUAbOBJUEmgVJBooFWgQ5A6oBWwEMAhcC3gFHANL+M/8w/tr8Lvyg+iz53fdP9e/yZPDl7f7vqvFp8BDwKe/I7TrwqvX8+VD7//tL/e7+tgNiBxAIkwjjB30Iegs8DZIMDgncBVwGrwfgCO0IAQc4BFICxQOnBcUFBwa6BHsD3gS7BaEF1wUwBVsETgQJBd8EpwP0AhQChAGZAXUBVgGkAJv/gP/7/ub9Q/0C/Kr6DPkR91H0+PGI73XulPHk8U/vn+/Q7kXub/Jw99f6TPwZ/Wj+tgB4BRYIdgh/CQ0J+AlCDGwMSQsBCLkF4QasByYI6Qe9BR4DHgKrA9gETQUMBp0EyQM1BSgFZQWZBVsETgQTBU0FkgQzA4gCtQE5AVACdALSAbkAkf/d/0H/Qv7u/Uj8+fp7+dn2S/St8ZbuXe918ljxgu+y7xPuSe5k85P4P/tB/FT9uf76AVMG2we2CD8J/wjICs8MngxNCnYGoAU1B84HHwhdB9IERAIuAgMEqwRkBccFXASmBL8FcgXEBYQFxQT7BEYFIAV2BE0DQgKJAUUBcQGJAQUBAwDE/5L/Zf6r/f386fv2+oL5Evfy87Dxuu7G7njygvGW79LvpO0t7lTz/ffj+uz7Pf2//kIBHAYTCOYIcgm7CNIKIQ3SDCELLQfBBS0HYActCMsHCwVSAqABVQMZBLsEbAXbA8IDHQXVBA0F8wSgBKcEWwQCBa4EHQNmAtgBZAGMAWQB6wBPABIAuf9R/nj9AP3H+9z6pfkK9yX0ifFC7jPvB/O+8YTvrO817rXufvN/+Gr7SPws/X3+1AGrBjsIuwgeCd4IzQrPDMwMBQvqBocF8waEByoIgQfqBDgCvwFrAwUE1gRgBbEDmgPfBNUEPQXrBBsEJQS3BEAFUAQ6A7ECmwEwAd4B6wF7AYgA3/+m/7P+6P0T/bT7yvqB+f/2DvTH8SnuHO6c8sTxE+/R74zuIe658hL4R/tw/Kn90f54AbwGRwhxCJEJZgnYCq0MqAwwCyoHhAUVB10H1AeIBzQFnALeAW8DywN/BLAFKwTJAy4FGwVFBTEFmwSSBJQEyQRMBI4D4gLgAQ0B/ABPATUBcwAdAPr/wf5r/fv8VPxW+/f5afee9E3y8e5n7kbyQPJH74DvtO5H7pryt/e2+jv8Xv21/lMBSQagCMMIwQmOCZEKCA1CDbML8QeyBeIGYQewB6UHNgVpAm4BswKdAyIEBQW1A+kCewShBLME8gQaBMUDMgTXBFoENwOrAs4B1gBVAbABUAGZAPH/tP8F/yf+ff1l/Fz7YPoY+B718PLO70/t8vD68sPvne8Z7yftdfBE9lP6NfxO/Xn+mv89BF0IwwjoCZQJbQn0C94MKAzbCF4FFwakBtoGxwcfBu4C0ACOAfcCtANfBa8EzQK+Ay4EVwSKBXcFlwQkBD0EHAR3A2ID6AKFAawArQDoANYANADj/xr/hP0O/a38uPsS++b4YPUw8/PwLe5a8IbzqPAM78vv/e2g73z1y/kC/B39RP6m/2gDBgjfCNQJfQrMCbQLYQ3vDHoKegYmBnoHXQfvB/EG4ANIAWEB8AKoAwIFAQXWAnYDwgQXBF4E0wQ5BPgD0QTnBHEDvQI5AiUBeAE/AsABFAFrAP7/u//V/ij+q/2I/In7J/o592b0xPGB7gPvd/O28invyO/r7hvu8PLL+Av8lv1Z/in/uwHSBu0IDAnICrwK7Qq+DKwMBwtdB2EFuAb3BjsHKgeNBJkBpADIAdICIwSqBR8E1QLLA94DkwSVBeYEfASXBNoDUgNRA8kCfAFAAGYAIAE7Aa4ACwCJ/43+qv3x/Qn+2Pwx+4D46PXo8+3wa+738GvzG/AH7x/wy+0l7+/0ZvmS/AT+m/7Y/3gD+wcZCZ4K2wukCuILYA3CDFkKhQYYBukGoQaHB2gG4gJoADwAlAHrAsEE4AT5AlgDBQSGA6YEZQUYBRYF+QSOBFwDRwLnAWUBFwF2AW0ByAA+AAEAkP/i/rL+Ov57/Uj9qPtF+IL1O/OO8AXvfPIP9Ffw0+8K7+bsF/Hm9q/6hv2A/hn/uv/cA80IygmbC8wLkgpdDAMN/AthCU0GrgabBnYGuAeWBe0Bsf/J/2sBSwNoBb4EVAJ+AosC6gKJBYcGdAWkBBYEawPYAvIC0wJtAbYA8gCtAIoANQBQ/5r+IP4c/iT+P/01/Lf5oPbb9L3yAPCp7z/z9PIZ78rv9+6Z7Yry6fep+yT+Rv5e/vX/YAVnCe8J9QtBCzYKLwyJDIkLnAguBuYGngb2BmEHWAQBAaX/dQApAuQDUQW5A/wBzAK/AkkDhAXFBbkEuAQ7BLACIgI9AtUBUgFgAVMBZgAqAAwAev+g/0j//P6h/pX9yfxm+lz3hvUz8xLwHvAW9PvyEu/l76XuvO0K81j4MfyG/o/+Lv48AFQGqAl5CtQMtgt7Ct8LSQyZC68IaAavBhUGbgZ/BpUDmwBY/wMAjAHKA4AFpgMOAt4CiQJpA+kFSwZoBUoFbgR8AuwBmgIbAnQBygFxARMAuf/7/4H/cP9//+v+mP7a/ZH8Kfov91D16/Lv7yPxa/Qh8tPuce9E7h3uZ/PD+AX8K/5Z/tX9uQClBmkJugonDRAMwwr2Cz8MHQulCDgHKwdbBn8G7gX8AnAAlP89AKgB1wMHBekCwQH0AuMC0QMnBl0GbwX6BPQDugJ1Ap0CvQExAVsBgQBh/2T/W/8E///+D//w/lv+a/2O/E760/fU9Wbz4/BD8Zn0+/JJ7zPwie7T7XfznfhK/FT+v/1z/eL/FQa+CeEKWA3BC/UJuwtNDNkLfgksBwEHAgZIBjAGHQN5ABD/RP8JAWkD0wRnAqkAyQEXAtUDcwZtBogFfQRYA/4CaQOtA7UCcQFhAccAvv/N/9D/Yf/1/nb+bP4t/gf92vt++VL3tvUF82XwHfG09BnzF+8k8OLumu4v9AX5xfyM/qr9X/0aAM0GRQq3Cs8MIwvPCcYLWQztC2kJHwcMBzUGywZyBh8DsQCG/w0AsgG8A8oESALqAPcBMAIwBFwG7gUGBTYEOgOyAhoDoAOrApMBKwGDAOz/DADi/2b/VP8o/3D+1P1C/Tz8y/kZ91P1evP/8NzwAfTZ8n7v9e+17kjv4vQ7+Tr8Nf5V/lT+qQALB5cKMgvgDCYLPgowDFkMjgtpCX4HDwfSBSgG2gXZAqYAh/8QAKoBXwMtBAQCKgFoAisCtANNBv8F3ASgBI0DeAICA2MDqAJPAsQBbAB8/wgAYgD0/wAAcP+g/hf+AP1o/In6sveN9cLylfCc8RT0M/Ia7w7w5u7y7rr0X/lY/ED+1/1P/qcBSgdJCmQLXw2NCzIKIwyFDKYLegmIBxoH0gW3BVMFtgLRAKH/sv9qAYkDCATuAUcBVgLfAp4EbQZDBjMFIwQ9AxQDkwObA1sCQAHNAAQAYP+s/67/9/6X/nn+W/7f/ZP8mPu5+UD3QfVT8/PwqfF/9Dbyfu9m8Nvuz+8z9ZT5sPwf/hL+F/5CAeoHigp2C/4M/AqsCl4MqwzpC3EJwAcRB+0FVAZFBU0CNgAz/+r/ggFHA48DXgEBAbIB7wF0BIwGpgXCBEYE2wJQAhgDdQOmAqUBywCn/17/uP9t/37/Yf/F/kD+hv3C/OH7T/k895j1RvPb8JTxZPTj8VvvdPC+7lvwsPVm+bv8X/71/UT+xwFICLoKtgs/Db0Kago8DHoM2QuPCb8HsgZEBewF4AQFAksAPP/6/7kBIQMcA2MBoQHcAgAD+gTLBuEFFQXABDwEhgNXA0EDQgLPAU4Bnv8l/4v/Hv/5/pb+Dv5I/fz7rPvp+nL4Nfbs8/Lwwe9p8xn13fDO79nvY+6B8iX4uvtu/rP+kf3D/hgF5woUC1YMjgxzCrwLOw3tDGALqAh2B6IGqgYLBysEJAHN/4z/+QDOAv8DzgLcAJoBWAJNA78FQQYVBZgEBQQAA5MCIgO/AosBSAGZAEb/Kf8w/3T+pP7I/hv+Of1F/M774vlj99z1mfMD8W7xoPSx8yjwl/CD7zDv2/TY+eL80P5M/oL9VAAqBxELgAteDYoLpAnIC88MLgxkCjwI7AaqBSAGmQVsAlgAR/+Y/14B7AJTA30BnwADAroCZwR8Bv0F1QR3BOEDGgNIA5oDWAJyASUB3v/+/l3/Df+1/sv+EP7z/E/8CPx0+xv5nPbx9Dby4u8c8jH1nfL77xjweu7B8Nb2s/p1/SL/Ev6y/W4CWAlwC0oMFw2KCqIK4wwTDREMGAoOCHkG4wXXBkEFBgJIAGf/JgD2AZEDSAO4AcwB5QGBAnoFmga0BW8FvARgA2sC/QJPA2cCqgF1AM3+rP6r/gH+J/42/kv9Q/yK+1n75vlB92X1X/PG8ILxGPV89Brxq/Bx72XvDvV9+oH9Nf+v/kD92f8DB28LNQyNDaALwwneC0sNrwwACyIJbQcrBrYGJgbqAqYArP/9/w0CHgQUBN0B+QCqAXUCKwXPByIHiAWUBHkD7QKxAzIEFAPmAY4AZ/5B/YH9Cf1i/Aj8bPvc+YP4FPiu9kD0V/KU74PvfvWS9hbyMPKK8Inu7/P0+28BhAHd/uP8EP76BScM5AxIDgILhwcMClANFw7oCsYHUAd3BqsH+wdHBAAB6/72/4oDRwYhBvgBGP9MANgB9QT3B+cGywOGAegAVwGMApQD2QHK/0P/5v0T/YL9T/3B/G/8V/wC/ML66/kL+DT1FvRh8mTwY/TL93nzrvCH8MXuCfKM+Uz/owAM/8H8JPypAo0LXg2rDVUMSQjNCFUMGg5QDNUINwfjBQ8GWAdsBJ0AsP7Z/sQB4gTLBf8Cb//O/7UBxASfCKoIqAU1A0YCbAJ0A8kEEASKAdv/R/4X/Uj9K/0y/JH7WvuX+vH47Pf+9nb0u/LD8N7uYPOd953z6/Cd8Mbu4fFF+TAAgwJBAML8g/tmAugLGA6eDrwMAgggCK8Lpw6wDc4JdgciBtQGXQjMBWoCEgDM/80CAAYfByUE0v+S/3oBsQRtCDAItwSuAXAAtwD5AbQDyALm/1j+J/15/O/81fxB/EP8AvwH+8z5M/md9wH1b/OS8Trwo/RG9zzzy/HW8CXuivKC+rEAJQIGADj9kfytA3oM+w4eEAwNpgcWCf0M4g79DJMJegdcBdIFRgfCBEQBjv6h/mECjwUvBtQCbf/1/6wBdQWlCRAJbQWaAqwBWQLOAzIFmQOsANr+6PxK/LL8Kvw6+4D65vmG+D33jPaA9ObxbfBx7gXxr/Zs9RXysPFg7hHwEfh1/1gDVwIS/1H8dv9gCZsO4g/XDngIXAdxC8cNog3eCkYIWwbFBUcIeAelA28AD/8gAjYGzQfuBS8BYf9+ACwDKghsCa4FnAFw/3z/4wAHAxUDJgCy/e/7BPsj/KT8zfsC+5H6v/m/+O73h/ba86DxMu/v7y72uPcJ83TxEu+P7nT1Vv3WAqkDMwBa/HP9AQcHD1AQNhAeC2AHTApxDTwOXgy3CC8G1ATJBncHhwNSAGP+0/80BBcHQQY4Aiz/z/9JAnUHeQqBB2IDtgDN/xUBUAMnBOwBuv5s/Cz70/t0/LH7Kvvk+nv5Hvi+9wj3cfTx8d/vce/M9Mj30fMT8lPw9+1186/7/QGHA6MAxPxO/FYEfQ3RD24QcwxEB2AJGQ3ADo4NCQpgB7UFEweHCFYF/AHC/yUAYwR0B0cHmAO5/8H/AQKCBjYKLgjzA7IAV/+QAKICAgRdAtr+g/zd+h/7Sfzs+3376fow+dn39PZE9lb0qvFj7xzvEPSd9jzzCfL47/ntwfPG+90B7QNPAXL9Zf0yBcwNlBCAEQEN2QfjCSYNcw6mDWcKPAdgBZkGlwegBNMBpv/P/7cDpwbUBrkD6f+Q/8IBUwbkCTwIXgTxABj/EABLAs4DZALg/jn8Q/oV+mv7oPvE+qr5/Pfm9rb1wvQO83rwHe6D7yf1M/br8t7xue4176n2qv1ZA2UEpwCM/Ln+IwjJDr8Q2BDSCrIHuArbDAYOtgxlCXQG3QW1BwAHwQPFARIA7gHHBRsHNwZ5Asb/QgAwA9cHQAkLBmoCn//l/kYAMgIBA6UApv0f+5X5gfqQ+1L72fph+X73N/Zc9VT0z/H67ujtjPKh9hj0XPJ+8J7tVvJg+mIBFwUkAxn+ffzJAxMNZxAAEnsOVQhiCWkM3g29DR0LngfJBQEHzQfTBD0CMwAKAB8Elwe4BxMENwCY/6cBrwaBCsIIhwTPAKX+hf8gAvgDZgIQ/9j7Ovl5+dP6A/t1+kr5UfdH9TD0SvNR8bzuQu2k8Vr2K/R/8vPwSe538tb56gChBbYE0v+7/AEDbgzlDxASvw9zCVMJlQvUDIYNwwvACE4GXwchCDUFEgO5AXsBuwR+B80HDgUwARAAlwHeBWwJ6AcZBLAAaf6V/q0AygL2AdL+2fsk+dT4Zfrq+mP6RvlD9yb17/P78i/xaO5D7d7x+fUl9LLyefA37mbz7vpeAeIF2QQMAIr9ewSBDbAQOhIXD28JWApCDJ0M9wwwC1YIKwZnB4wHCAQZApkB7gE9BVIHvAYYBOwAmgB5ArkGWQnfBlQDqwCp/gf/4QBeAjgBLP5X+5L4QPgK+nH63/mS+NP1ffOf8p3xb++/7FDvevTl84ryd/Ic70nwHvcT/v4D6gUVA5z+7wDtCaMObBH0EfULhQkUDJUMfQzMCyAKbwf7BlAIogXAAicCpwE+BGIHPAdPBTcC4ADNAQgF5whICKcEtAF3/wf/JADAAcYBMv9+/Kb5sfer+ML5uPnP+Gj2bvP18Q7xye+97MztwPN79Eny9fKR8Pvv+PXr/FMDlwZLBTsA+v9uCHYOAxEXE/oNjQmCC8QMuww1DAQLIwiwBlUIwQaTA0oDRgI6A6EGjAc3BkwDYgFRAYwDqQdBCAoFLgLE/0/+EP/vAMAB2P8O/ff5qfdD+GH5svkU+cX2oPON8aPwlO+57DLuNfSn9EXyWfKx8FrxSffg/ZYDpgZsBd4AaAEqCloP/BAnEtENewpMDAINdAyqC28KzwfoBoEILwYNA8wCaQLgA84GHAeZBQgDqQH1AUUE6gfYB6UE5gG+/77+Xf/JAF4BV/9s/CH59Pbf9xb5BPnd9yL1xPGf7wTvJu7e7I3w3vMt8iby6PGl8JP0y/pnAKgEPwZiBKcB6QX+DLAP3xGBEMgLpQvVDIkM2wvsCjAJ1QZxB7UHwARmA/QCjgIEBdkGbQamBI8C1gEsAtMEDQeDBf4ClwBX/gD+8f4fAK7/lP3f+q/30/YD+PX4mviH9lvzxPBs74XumOwx7170OPMb8e3xRPF08+r4f/5XA+0FGQUDAnoEXgxdD2AQIBFWDbILLw0sDUMMJwtlCfQG1QYFCHwFGQPzAoUCzQOwBQwGGQU8A00CWgIPBJUG+AVcA3cB0f+p/qD+nf/Z//X9mPt++K/2wPer+A34ovb388fwx+5S7hLtke6L85LzQPG58RjxIfMP+Yv+CgObBVsFlgIFBJYL9w/cECMRYw10CxINWw3fDMgL3QklB34GwQctBvUDwAPfAoYDhQUKBmUFlwN+An0CyQPmBawFegOPAaT/YP5h/jT/of8G/pT7l/ij9kP3W/g++B/3f/Rj8RzvGe7q7KLuWvTo9F/xgfFF8cHy2fi6/pUD9QUaBRACfQO4C5oQlBBBEecNCAv9DLANFA3vC90JMgdoBsQHcgbDA6MDvgL/AnAFBwYzBWYD/gELAlADqAXABUADHQFH/wj+Jv4H/7f/IP5h+4j4k/ZQ9+D4vfgg91X0Q/Hx7jruiu3s7urzWvTs8DXxTvEH89/4ff7UAiMFGAXUArcDGgsDEIsQPRHxDTgL8QxUDZ4MugskCowHIQYYB/8FxQOmA8kC8AIHBXwFzQRnAzUCDgIiA0QFWgUkAyABNf/n/RX+1f5R/9f9Nvtb+Fb25vZr+H/42fbU8+3w2u6y7XXsH++/9GP01fAN8Tbxm/Nt+Q//2QMfBikFAgJXBJUMghC0EBwReA1lC/0MIw2ODK0LsgncBjYGVgeiBXYDgAPWApADZQWEBckEWQMiAi8CtAO7BSEFiwKUAPz+Ef4J/oT+9v5w/bX6yfcD9gD3ffgO+Bn2gvPa8GHuBO2e7H/wf/Xw87/wIfGI8ev09/qpAMIEAgaOBEQCCgYPDuUQwRA/EKkMsgtJDf0MLQwDC+0IpgaUBnMHTAVGAwUDngIeBPUFyAV9BHECdgEiAiYE5wWTBK4BnP8a/qD95/2n/qv+Z/yO+fz27vU+9zb4bfdc9dbyGPDQ7XrsnexJ8lD2AfOv8EvxNfI59yz9dwLfBV8GIAS4AhoJZhD/EJMQPw/cC7kMig1dDEYL3wnQBwgGrwalBtED9gL2AqACtATzBUQFJgR8AhcCDAMEBaIFhQNIAcD/O/65/cv9e/5K/sD7q/h29lL2xPcl+Pj23vRf8n7vh+097CbukPTv9eXx+/BT8eLy/PhZ/zEEBwaTBfcCsQPAC2IRKhHkEMcN8womDfwNngzoCiwJ8wblBTQHawZ1A6QCFALRApsFGQYABf4CTQG1AW0DqQVzBZwCEACC/tj9D/5w/sj+Pf1n+gP4P/Zg9tr34vcO9qLzEfF+7q/stOsM8Az2ePS88AzxyPE59ZP7igFeBUsG8wT7Ah4HIQ8MEUcQ8w99DLMLkA3MDOkKdAnfBwsGAwbRBoEElgJ/AhIC1gMtBroFaQSnArABfAJTBKAFOgSYAb3/Of6I/Zb9Kf5U/hr8K/k59032C/cL+If3u/VB86TwXe7F7Bztk/Kv9rzzBfE18WfycPfQ/cUCCwZ1BgME6AJfCbcQehGOEL4OnQuUDNgNYAwJC3YJRAe0BWwGTgbLA70CewIxAnQE3gUkBcoDDQLEASIDAQVOBTID5wBh/0L+6P3+/Y/+Av56+7b45vbm9kv4bfgd90H1xvIG8FXuzuzN7ZH0GveX8ujwhvEY80L57P+qBNQGTAYHAycD3Qt7EssRxxCfDXIKtQzNDS4MtgrYCFcGIQV2BuMFHANdAvkBkQJ4BRkG1QTtAjsB3QHfA8kFfQWAArb/RP7r/Vf+qv4H/1b9Wvo9+Af3hvdJ+RP5QPcJ9b3yMvDi7qXtpu4q9Rn3YPJB8enxYvNA+QkAFgXiBhAGnwLxAs8LJxKVEewQlA0kCt4L1wzJC5gK7ggyBo8EfwWiBDYCUAIiAowC6wQ0BQcEbgIkAQoCEQTOBScFGgKY/0r+DP5I/sT+a/+0/TT62/fm9uz3yPmY+cH3ePXP8oDw1e+77k7uy/NR92jzzfFC8iryZ/cW/3cEGgfbBuUC6ADGCF8RjhISEkMOwwj8CbIMNAxeC58JOgbRA/MEWQUtA1gCxwG5AYIE9gXcBJwCfQDrAEsD7AVDBgYDY/+D/V/9WP6K/04Aaf6J+g/4Mfck+GX6lvp5+Af2W/Nf8XzwSe+G7ejxrvfH9HbxWfLS8Tz1D/2eA4IHCwjyAwEAFQaDEGwTmxL4D6sJ1wgZDD4MlAtSCssGogPdA7AE1wLtAQoCmwGFA3MFqgTwAusAvABCAwwGmQaoA6n/zf3V/WH+F/8JADD/hPtK+EP3PfiE+n/72/mg90v17vL58bbxMu+67tX1T/gj8+zxp/EK8qv4lwDxBU8I+gW4/6D/MQsNFAkUxBGPC7wGLgo9DeIM1wueCFYEzgK1BMoEmgKVAcwA3AEzBbkF3gMkAUT/OgEaBYQHLQZnAYX9//x6/tL/zgCyAGz9OPnA91f4ZfpJ/Cv7tviq9p30CvM88kHxMO7i78D3kvdW8lDxePCT8837VAMrCEMIFAN8/VsCTxBpFgEUTQ8aCIcGhgvTDWQN5goeBlYCWgKjBPsD9wEtAaEAyAKZBQ8F5gI8AO7/UQMVBwwImgRK/8L8tP3J/9oAFQF8/137Efi591f5HPza/ID69fcz9qP0CvTh8jnxae568Vn4cPYC8gfxAPCj9Kj9vAQzCEUGxgAE/bQEyRI+F3wTDA3eBQMHKQ0MD8AN+Am1BK4BwAIlBSME7AF0ACsAQAPNBbAE+QEG/9P/dAT8B8AHMwPT/TT8XP71APcBbgGT/vr5q/f5+G37oP3U/N758PcS9/71QfUT9CLyUe7j7yD4Mvi38rTwd+8e8w793gS+B8gFqwCO/AsDWBI+GNETtAwrBbAFdg13EEsOtwneA2kACAKXBUIFbQL+/yL/RwL1BWwF1AKb/5X/MwRdCDMI1gNU/ij8dv7XAbwCcAFF/rL5uvfL+VH87f1F/Qb6gveP91/3iPYJ9Xbyyu4i7/f2sPg+87/wbO+v8T/7ZAOkBpQFMgHg/LoBXxAuGJoUYA3xBY8FSA0jEQsPkAo5BE8A4AGKBeEF6AK5/3H+aQGDBboFWAPy/xn/rgNECIgIpAQX/2z8j/4QAicDoQFT/vr5Ifg++nn8uv00/dz5iPfk97X4Dfj+9ePywO+r7fvzPvpB9jPxje/F7/T29wBYBnYGZAKO/Uv++go9F1IWAw+gB4IEuQp2EV4Qfws9BaAAPAFHBZEGSAPD/wf+BgDTBGEG6AOCAHf+zwG/B4gJxwX2/5b8HP4XApoDjwGM/lv77fjl+cb8s/3i/H/6r/jw+ND5rfhc9s7zBfJi72Xw7feC+CTyqO/V74LzefxkA0sFkAMvAOb9NwQJEl0X3BHWCrEFmAdcD48RXQ2vB0ACswCnA6sGSwXnAJT9Hf7eAn4GRQXqAaf+YP82BWMJ9Af0AtX91PyXAPoDKgPw/2P81vkr+ov8xP1H/aH7KPmk+Aj6Vvo/+ED1ufJK8abuR/K1+RH3j/Bv763wHvbI/k8EQAUDA1r/S/54CKkVBRa1DnoIswWRClARSBDWCk0FVQH4AbYF1wYxA/z+pP1oAHwF4gawA1AAhP7AASQIDgoBBgoAivxp/iQDUgTuAJT9UvsT+j/7Z/2K/Rj8O/og+TL6vPs1+ob2FvTG8pTxzu/49In5bfR277vv//H3+KQALQQ5BNAB9f79AMkMchYVFAkNuQcgB1INuRF+DhwJ/gN5AZIDZQazBW8Buf3K/SsChQYABicCDv+7/tMDhglKCTsEz/7T/BAANATUAzoA8fz1+pX6QPzo/Q39LvuR+c75Yfsr+yH47/QD803ya/D18LP3ZPfi8B3vZ/Ab9Eb8bwIhBDoD3QDP/rkEvRF8FmgRBQugBvcIwA/CEF4MfQfTAvIB1QRrBv8DMgDv/YT/hATXBj4E5wDC/m4AswYfChIHYAE8/YT93gFcBBUCXv7K+1z6AvsZ/YP9FPyx+l75IPqF+5j68fYG9Jvy+/G+79Ly7viu9Y7vDO9P8eD2+f6fA2MEkQKH/8T/2QljFVUVpQ7TCM4GjQsaEW0PKQoPBacBzQK8BcEFLQKr/rz9RwH0BU4GwQLL/97+wwLJCKsJ5wRa/9z8OP+gAxIEYwDr/BD7o/r7+7P9Nf1U+/f5Dfo1+377L/mu9Vjzs/KM8e/vEvUf+Iby/u4s8PfyeflaAJADFARYAkT/IgKEDoYWNxOlDNAHRghHDiIRfQ2gCMADowHeA/kFPQS2AFL+CP9AA1YGvwSHAYv/bgDjBSYKGwhhAv/93P3dAc8EeQJb/uD7yvof+3f89/zg+2f6KPnN+Tv7lvpv98D0YPOZ8jnwoPAp98D3zPFg78vw0fTr+yIC0wRKBOYAm/6hBa8SdRbbEDYKEwdLClkQlxCrC5UGfQKkArkFdgZYA1T/QP3w/ywFxwahA9b/I/4IAWAH8An9BTQABP11/sUCLgQcAXn9bfvr+gL8af0D/SH76PkH+ov7yvsy+ZT1m/PT8pXyA/Cg8s73OfSF7+bv2/Lu92H+rQKKBKkDpwCdANEKRRWcFGUO1wjRB3cMnBAiDnUJ0QTsATIDbwVrBEMBxP6d/kYCwgVABR0Cy/++/0kEhQnpCFMDY/6a/QUBNwSwAt/+TPxO+zD7H/zY/Lf7UPqD+Rb6QvtR+v/2RvRj8/vyYPC37zL2TveE8WzvRfG69LT62ACsBCkF3gHf/skEoRFTFssRIQtzByEKyA85EOMLJAffAmYCGwUmBoMDuf9C/Zz/2wSlBsoDJQA9/toADgeXCf8FSAD8/Gf+hQK6A5oAU/15++76mvv0/K38xPox+Yr5mPul+4X4yfQL8wPzFfJ874HzgfgF9AXv3O/782j5Ef8dA2UFAATS/1IB8wzQFe4Tqw0NCB0Idw16EB8NcQgDBBICIQSWBZMDiABs/jX/dwMfBoEEWwE4/wIAWgXdCeQH1wFP/av94gFVBJUBy/0C/Gv7+vuZ/Hv8a/tz+uj5AvtH/Fv61/Wp87vz4vPI8Hbvz/VS9qfwYO868vX1HPtsAEwEOAVHAvD/pwZzEpwVOBHxCuYHEQtZEJYPoAo8BsUCDQOoBWsFLgIp/9r97wBsBSQGLgP+/6n+7AEOCKUJxgQU/wf9of+BAxADL/98/Gv7cvsX/JP8ZfvE+eX4nfmD+xH7MveP8zXygfJV8Trw9PXr9yjy3e4d8Uz25fvAAIME8wXeApD/IwVQEb8VyRGIC9cHOQpdD4sPsApjBk0DYAOVBS0F5QFL/07+8ABCBSYGHwPJ/5X+cQF9B5UJ+ATZ/rD8NP8EA+cCNP+B/Ln7rftJ/KP8XvsL+iD63voH/Er7xvdR9EXzSPOF8gXwSPPa9uPyVO+C8L70rfmJ/iQD+QXzAyoACgP1DtoVKBM8DbwIowmCDiMQ1wtIB+EDDQMaBX4FcgKh/x3+vv+cBM0GEAQsAGT+oADBBgkKdAYeAPX8g/5jAmMDAQDX/JT7YvsT/GP8Pvu5+Sf5bPl++8f7sPeD8ynyafLB8R7wtvS29/7xW+7U8J71MPpY/yAEiQU4A6AAeQSND0EV2hJyDSIJWgruDqkPTgtFB0sEkwN3BRsFkAFt/+H+owCnBBAGdAMVAJT+OAEiB3MJFwWA/4b9H/8pAp8CTv+n/ML7mfsM/Dv84Pos+Sn5O/rh+9X6Z/aS87XyZvL58FXw6vVQ90jxYO5j8Sz3QPtl/4gEPAb6Ag8AMwZsEfcUxRFMDBkJigtsD7cOGgpjBikEYQQKBvsEVAGw/mX++AEwBiQG2gJ7/6T+PwLrBxAJLwS//kT9uP+PAsMBZ/4s/FP7s/s8/Gb7e/kn+Fz4JPpf+9b4XfSO8dfwM/BT77n0Pvng8zruE++Y9Lr6bP/JA38GogSUAOUC+w0LFcsTaQ5fCTsKnw5qD0wLcAfUBHQEKgZ6BckBKf92/g4BtAW7BqcDBAA8/scA2AaYCagFvf/n/LH+CQJCAu/+RPyr+8v7Qfx0+4L5Y/ic+P75u/sE+ur0ofFH8RLyAPA98cP3gPZb78Dt7/I1+ev8agFQBvYFowGPAJUJbRNEFTURjgrfCNcMxg9LDQ4J9wVdBC8FZgbsAysALv69/8YEaQdeBWIBOP4C/+IEvwnUB58BK/1M/bAAmQLAAGP9QPvH+v37QvwK+rf3Ofd0+KX6PPpw9Srxxe7z7q3uWvO2+ff1lu797I3ynvoEAM8DpAYEBbMBvQKfDBsUYxRWELsKwQonDuQOaQu7B70F+AXcBpsFqwHz/ob+5AHaBjYH0wMaAF3+/QDNBmoJEQZEADr9pv6ZAZQB5f6Q/K/78ftj/Oj6MPgU9zD4IvrW+hf4kPOZ8BLvS++X78P0mvjI8/3tZ+7b9H/7mP91BLcH1gQBAfkDpA5hFAAUkA+UCg4LEw4uDrMKgAeXBiAHGgexBOsAAf+e/xEEDAjsBuUCFP8Y/lwCdgiDCaEE0f7t/C//vwE9AWn+G/yJ+837ofuD+d/2Dvas95T5F/mW9Rfxce36687sfPOC+nL2pu7v7Cry1vlwAIkFVggoBh4CtAPvDMQTGRT1EE8M8AsDDo4N/QkcB4UGAgjOCPoFowDJ/fn+3APeCHAIQgSW/5D9GQGNB7cJuwX1/w/9a/7FAIsAHv47/LL7PvxM/K758/Um9cv3Kvqv+eH1mfHQ7RLsHexj8mr6M/ft7uXsHvKi+ET+WQSqCAAH9QIiAxUL3hH8E6USrQ3BCz4NTg1MCrIHCwcXCF0IIgZ+Aev+YP8IA5UHmQgMBpwBSP54AJsGmgkYB88Bc/5p/vH/UwDb/vb83PvO+277AfnF9fP0r/Yt+KP3HvXJ8NLsAOrJ6oDzB/pm9V3ufO7c8xT5cf9oBvAIWgZ4A20Gag2METoTYRHBDWgNTQ5LDLwIaAcUCFcJQgmtBXYAlf7UAIYFcwjJB9UEjwCU/iUCVAdkCNoEqwC3/jf/MwB1/2n9WPyJ/Jb8y/o/9470VvRH9nn3xfaD8m3tbupe6QHuwfZA+NXxrO1U8bX38fxAA9kH6QdVBW8GOAzwD0ERyxGTD1kOBg/lDb0JiwYmByEJ7gn4B0sDf/+k/6kDxQdrCKAGXgNGACoBZAW2B9MFcAJ3ANH/yf93/7r92/vR+6f89vua+Lr0GfP080D10PUg8wHubunl53rtxPMX9ffxA/AO8ij2VvxOA2AGkwZjBiUJGQ7AD+kQaRDqD3EQlRBCDlwKnAe9Bx4J/QnZB8MD7gDXAAYExAZKB50F5QJcAQYDIgXfBTkEHQIVAecAtQBK/wr9wfsD/I38aPvW9070l/LQ8p3zL/O174rrkOgp6v3utfKi8vrv9/Bg9f767wDNBDwFnQUyCN8NAREsEXMPeA5UD0EQXxAcDYAIzgbXBysJWwmUBg8DmAHaA7MG5AePBkAE7AKxA5MFbwaRBOkBCwF0AacBlQD4/b/7ZPs+/Eb88PlB9mTzX/Is8wLz4fCu7GXoben57VDwK/B37+Pvz/JI+Dz/owJcAwQELQdxDDEQuhH1EMIOJg/YEA4RJw92C+kIggiACQ4J0wZVBDEDugOzBdoGGAbEA4oC5AOgBTEG8gSWAjkBmQFbAsgBYP8d/RH8C/z1+0D6yPaU8xPyOPIU8hXwgewS6cLoG+y170bwYO808ITzrfie/8YEzQS7A/cGKw1zEZgSzBD8DawMDA7sDyYPxQq3BrAFHwd8CBIH9QOUAhEEKAbFB4YHCAVTA4QENgc9CNkFdQKIAPsAZwJrAtz/f/wb+4f7Kfx6+0b4PvQJ88Xzx/Oz8cXuCeyf6pHsIvCy8MXuHe5P8Sb21/pu/g8AFAG7AwcJkA4zEIEOZg2bDl4RaBItEGYM8AmxCDgJ8wlPCIEERwLVAs4EQAaoBawDxwI9BNAGxgfqBQMEPQMFBM4ETwS4Abr+Y/07/SH9hPv09+3zM/LL8SbySvBl7Xvqeuk36+btnu9o723vTfIh91/6k/2a/20AkQLDCAoNOAx3CjwKpQv0Dc8P3Q4FC+UHAQkNC34LHwobCBcGMAb0CLwJDQh8BT0EowV1B+0GGQSuAXQBoQKWA1AD+QBU/pH9OP8gAAn+1/qv9xT2FPaX9XbzOfCa7SLsgusN7CntmO0O7k7vK/KH9fb3jvpS/rMBFwSJBloJ6grwCgsMUQ1ODQYNqwy/CwAKJAl7CUQJkQjgB9YGagYAB60HfQe7BqIGkQY5Bt4FFQWwBDQExANGA6ECsQF3AJP/AgD+//79PPtK+bf4cffm9ZP0I/MK8f/u5u207Q3tJO2Z7vjv5PC58SP0kPb6+Cn9NwH5Ar0DkQWOCN8KMwzJDI4MhAySDIQM0QtPC6AKmgkICc8IEQj0Bj4GWQalBvAGbgYZBTYElwQFBQIFmATJA8ICIAIKAtsBaAGmAH//sv3e+wf6Nfks+Cf2EPTK8obxme917Wvt7+z968PtrO9s8HjwUfJ49QT4i/sDAOABtQJIBEQHfgkbC1MMDQwNDEkMagzTCzcL0QpeCvsJzgljCBcH2QZrB6gHaAdmBkAFbgRaBPMEMQXLBHMDQQIjAo4CbgLwATgBpQBi/7T9vPu0+g/6wviZ9qz0ffPI8VDv0+7b7lftzexE7lPwp/Ca8L3y5/U/+er81v9JAb0CHQXjB6wKiwykDA4MHwwADYENugwGDJAK9gkEClUJxQelBskGIAe+Bi0GjwXxBJwE0ASDBcQFywRvA/MCfQPAA0gDlgKqAaIAa//A/fH7OftZ+vf4N/aZ9EHzyvG18D3wyu9t7kftYe7n71TwB/Ep8t/0E/gx+2b9b/7s/2YDOgcICtoK3AqWCoALVw38DnQOXgxtCi0KZArrCewINwfHBVwFtgWABUQE8AJHA0wENgX7BN0DAQM3A0IEEAXzBMsDEAK8APj/7f44/Qf8r/pt+Lv1APVG9EDyg/Cx8dzxQfCb7pLuLvBh8hvz8/OV9JT1XPjS+j79mP82ASUCaASPBlYJ4gn6CcMKlAzoDQYOywxWC80KlwvtC6QKcwjzBZcFYQV3BdUE1AOiAmMC1gK8A+cDQwPhAocDnwQiBSEEdAIQAVIAzv88/1D9Qfq292D21/X/9G7zJfKV8ffwnPBk8OfwrfHA8qXz3/QX9uT28fcc+k79oP+wAG8BFgP5BG8GnAjwCVAKJwsZDE0M/wtmC8cL5Qs1CzoKrggtByYGpAVABf8E/AMGA1cCWgK2Ak8DjwM8A1kD0APZA0EDoALqAQcBhP+K/lH9M/sa+Yb38vZA9qf05vOF87rybfJf8obyXvOc85X0vvWh9Tj29/dO+fb6l/ym/ST/YgBQAjkEfAY5By0I7wlCCwUM4wvvC6oLxwv6C6cLYwksB+EGGgeXBacENwRaAzcC2QHOAk0DCAOtAt4CvgM8BM0D7AIMAocB5wAAAOz+6fzc+r/5EPnn9xj3XPaA9cT0+vOS9Ez0vPMk9BD1p/Vx9ij2f/bo9+/4b/oa/B396v1l/0ABIgO2BFoGagdFCZ8KFgu3C5MLUAvUC78LKQvLCZ8H0wZbBqQFnQTfAxkDgAJBAtQC5QL/AikDuAOTBOwEXwS9A9sCIQKKAaIAdv98/dv7gPpe+Zr49/eJ9vT2SvbY9cf1o/VT9Yb1tfW19rL3iPd39yD3/Pdn+af6KPyy/Cj9P/70/4UBFgPxBF8GQQckCGkJawnxCYwJdgkNCnIJDQj6Bo4FsATOBIsEDwQ/A7wCZAK1AikDmgMJBDgEdQRpBFMEjgOrApkB0ACmAAIATv4h/JP6Ifoq+rL59fhw+Bf4iPdp91X3aPdS90v3lvff93T3lPcW92L3rviQ+br6KPtf+7384f6FANUBKQP/BBcG5QZPCJwIKAleCTwJ3AigCOcHhwYLBnwFYwWTBOkDRgP1Al8DuQMrBA8EPQSLBLIEiwQABWYETgMKAoUBcAHVAHz/EP63/Bb8bPtm+yP7U/qx+Zr5Dfm8+OX4p/gO+Hv30ffz99D3J/dr95L3Bfif+YP6SPtr/Ij9QP+iAAsCYASGBXIFBwc5CDkIkAisCG8IfQcUBzgHPQZnBWAFlAQEBA8EKgRRBOIDBQT0BNoE1QQjBVEFJQWbBDQEOQOlAVIBSgEaAK7+l/15/JD7Qftf+wD76fkJ+hf6mvmd+W352PiJ+K34G/n5+Fn31fZI95P3gfjl+G75d/oG+7T8wv6+/2MAQAJZBGIF2QUgB4EHwQbSBkEIZwi3BrcF0AVmBdMEgwTcBEMEiwNMBA8FmwQDBKsEbQWoBVoFbwX1BJ0DrQJyAkMCtQF7ALz+Rv7C/dr8sfwK/Nf7mPsf+yL75vrY+ZX5Uflv+WP5P/ja9333KPbF9gL4Qfhp+Pn4nvmL+uf7K/4XAFAA/AEaBKoESgWyBjIHUgcoB5QHiQdhBmkFvAQ4BG0EGgSXA2UDswL+ApYDQATcBDQFRAWJBXwFWAU4BbYE1gMCA4ACDQKqACv/JP5h/cv8R/z5+8H70vq/+ev5V/q/+sb6Y/r++T35xvgc+d34VPhu+Bb4J/gQ+ZP5QfqP+yD9pP4XAIUBpgLBA0wFaAZdB/wHkQctB70GGAYRBoMFlwTUA/0CnwKCAtMCPANpAwEEqAQUBZYFCwZJBlkGaAalBVwEigOqAroBuQA6//79Dv0v/Ib7Rvvj+rX6kfr5+f35hfp++j36HfoQ+nP5rPh/+Bv4G/h0+Pj3NPi3+JD5+PpI/CP+uf/vAFACUgM/BTMHZge8BywIqwcKB3UGmwYlBqQEkAOXAlQCiAJRAmQClQIPA5EDmgRCBWYFmgWoBcEFkgWhBIgDiwLDAboAaP9w/iT92vuY+6j7r/tP+6D6q/rw+lz7oPtZ+7b6U/ox+gL60fnD+Bv4Zvj1+Lr4Afle+qv72fsc/cj/xwHwAr0DkwRhBtsHRggoCMAH4gcrB/gFmgVKBWwEEgOGArYC9wK+AkQCrgLoA/kEdgUHBdQEigXOBXgF3QScA3ICPwFiAKH/k/5P/cz7CvtA+3j7uvrm+av5K/rl+oT6GvoI+u75zPk3+S/56vg3+Df4oPgZ+dL5nvkl+hP8Qv5q/xEAkwFBA+4E/AXbBkkHHwdoB2cH5gZ/BocFIQRoA34DoQNTAqgB/gGGAjEDcAPDAxYEhAQcBXEFNwV4BIADBQO9AkgCEQFh/0P+nv0f/cL8XPyy++r63vri+sv60Pqt+kP6Efoa+oP57vjX+Nj40PjP+Mf4J/mz+Zn6KfxF/b/+lv/YAMkCIgQ2BT0GcganBoMHpwetBjcG2wVLBa8EbgQZBD4DlALpAqcDCgQyBO0DeAQWBZQFyAWjBcYE8wNUA5ICCAJiASYAhf5b/UP98vzm+1f7kvuB+0D7oPpo+vr60vpw+rb6X/qG+Zn4A/hN+O74HPnp+Kn43fh0+tb72fxR/o3/ogAZAp8D+gSCBRoGFQcaByUHdwbSBUQFxwSQBNYD2wLQAYcBUgJ+A3MDRANDAzYEAwW+BWUGAQZ/BZkEZATiA7oCugGJAEr/Uv58/V78fvso+8z7Avxo+wT7Lfu3+xn8bvw6/Mv7qvo7+vj55/lc+Zj4dPiS+Pn4ovkO+jz7Gf1B/p//KQG8AssDDgU8BlAHpAfgBk4GYAYABnsFnARlA8gCIALnAckB/wGlApECiQJAA2EE+QQDBegEOQVmBY0EWQN1AkICoQFqALn+1/0j/YT8zvvw+zT85PvU+tf6wPvW+4j7bfs6+/j6efrJ+Yr5v/jk+Db56vjI+CL5A/op+yD8xv2u/7IAPwH0AugErQUyBmIGegZjBhsGjAWOBKsDUgPWAhwC5wGvAaYBHALlAqsDxgPuA6kEuwUlBhIGiQXPBN4DQgPIAtkBbAD7/uP9bv0v/WX88vsh/Nz71Psv/Df8c/ww/Cv8Yfwn/GX7pPqp+fH5n/mu+KL4p/hJ+ND4O/o9+/77CP0M/7MAMgJ/AwwEJAUhBu4GAAfpBlwGhgUIBcsEXwSKA2MC6QENAisCRAJPAqoCRgPrA70EBQUWBV0FNQUeBVoETwO0AssB/QA3AOf+4/0e/bz8tPyh/EX85vty+4v7Tvw6/M/7Pfv/+lz6KvrZ+SL5avgt+GD4dPgS+cX5dvqO+yz9i/6D/7EAIgJgAwkEXwWQBTcFPAWUBbcFDQVUBKoDaAP9AiYDHAMBA9gCQQPXA0sEqgTOBBUFUwWuBWsF0ASyA9oCdQJJAloBRABE/yv+ov2c/Xz9Ff2L/Jb8FP33/H78ivyZ/EL8HvxN/Iv7PvpN+WD5mPn/+P34iPhz+E/5mfrI+9L8w/0o/0QAiwHzAqwDewTpBHUFmwVgBQoFuQQ/BMwD0QM6A3ICZwIyApoCZgOiA/IDQgQ2BA0FaAWnBdIFZwWeBEADhAJ4AvUB5ADj/47+8v0J/lf9ovzD/JT8Ufyd/Gb8E/zr+4j7WfuG+zb7PPrl+Gf4CPle+Zv4NPhk+Dn5Tvqu+5n8SP14/p//AQEpAwEEzgPyA4oEKwYEBpAFtASOBEsELgQtBAoECQO3AhIDdQMTBMwD+gNxAy4EIQVkBfYEWQRHBOMD9wJ2AkwCigEjALH+4/60/uf9Sf3p/Bb9Pf0F/dn85/xd/DX8APzW+237ivpv+aX4c/ix+Kb4Gfgp+M74C/o5+3P8ZP1m/rH/ugFjA2YEowQxBUoFwQUyBvAF0gStA08DbwM7A5MC8QGMARECugKBA4UDmAMmBPYE/gWTBjYGVwWGBFsEegRbA+wBoADK/zX/k/6m/Rj9jPyD/Or8O/3L/Ej8LfyM/P/8Bv1F/DH7d/or+h/6aPl1+O/3+vdQ+Lb4uPmI+ir7bPxa/hEAKQH2AWMDLATLBCIGBAbTBM4EUAWWBHcDCAO0AhACeQHDAUcCoAKIAg8D7wPlBJMFvAWDBcgFOwaRBYcEnQOvAnMB5gCCAHn/Rv62/cv8j/wh/XH9bP0a/ar8/vxE/R79Ov0s/Wz8Z/vJ+gb6RPnn+PP4o/gy+I/4aflN+Z765Px4/lj/bgCIAdAC0wMZBR4G6AVoBTMFIgUMBQMF/gNnA+ECnAJVAhACIAIOA4kD1AMLBCwEtwRoBeoFKgbfBUoFYwRbA6ECFgJsAXYAbP9C/rb9+fyD/LD8Uf1//Qr9bfza/A/9Jv05/QP9kvyy+5T6Hfre+TD59fj3+MD49PhL+Rf6Bfsd/NX9a/8eABgBYgJIA2EEJQVKBQ4F7wR5BEoEBwTqA2kDrwJYAoYCnALsAjQDbgPzA2YE2gQTBRAFMAVqBSUF5QRSBPYCvQFWARgB5AATAHf+sv3n/XD+Vf4d/uf96v26/br94v1v/dj8iPxi/C/8Ufsn+jP5GvmE+Y35T/lV+dH5bPpk+wL9Lf7h/sP/YgBGAcMCeAMRAy8DBAQLBJEDXQMQA1YDRwMPAwEDvQI4AoMC7gLKA2QEGASxA/ADqQQQBfIEdgRIBLYD3gJ5Ar4BBgG6AF4Ayf/O/sz9uv2h/ez9jf5H/nT93PzL/Kb9xv0W/aD8+/se+7/6cPrI+ZP5HPnW+E35vvnx+UP6+vqB/NL9/v7F/18AUgEsAtkCsgMbBOEDjQNMA5wDsgMdA6gC5QKfAoAC9QLdAgQDMAPMA7QEqwQ+BG8EngQ3BZAFNgVKBFcDywIXAn0BJgEPARQA2v5k/pX+Xf4l/kj+3/6X/h7+t/2Y/ez98v1z/WP9Fv0b/BD7ivp3+pD6QPrA+W75dfk7+qv6+fqF/L/+jP+Z/wEAewHLAi0DAwTcBKAEDwN2AgMDOAMtA5oC7gGPAQUCWAKFArMCsQNuBPQEHgVqBe0F+AVBBjoGFAZBBeUDIgIUAecAEwEpABL/F/6Z/c39Gf6a/sT+/P5I/zL/CP8u/+b+xf5p/hX+M/0O/Dr7lPo3+rT6Sfpz+X34+fhV+h37w/u0/Mr9c/4j//b/BQHTAVMCUAJoAqQCeQJAAnMBqAEQApIBQgGGAbYBMwKCAgsDbQN+AwAEgwSABCAFNQXPBF0EVQRqBBoEZwOjAmoBcABUAIYA3v+x/lz+P/4y/hH+yv4z/5b+LP6Z/nP+w/5M/uH9Zv30/Kn87vsm+6X6g/p/+iH60/lB+ln6Ivsi/C79/f3a/sf/nAA4AaUBkAFXAswCcgJCAlUBFwEqARsBkAGPAXoBZwFGAX0CaAOoA7ADFgQfBXwFWwUlBe8ELwURBXUETwSwA24DPgLPAGgARgBQAOf/+P7n/v7+0f7g/hT/mv8gAJL/sv6r/vD+jf6X/bX8nvxw/Cv7Ufpl+lf6w/nD+fr5f/qM+qn6rfuO/Hn9p/52/+D/IAC6ABgBJgHuAFQBCQEUAKD/DAAtAPP/MADsALgBgAHnAV4CGAMLBLsEyASzBLYE2gTLBOUE9ATEBL8DLgOaAj8CxAHWADkAQwBBAOP/Vf/Z/l//rP/H/xYAugCCAPT/lv/r/y8Alf+6/v39PP3C/Hr8wftJ+xD78Pqd+m36DPt6+zz8PP3H/br+ZP/K/2QASQHrAUICrwGwAVwB9QCOAHgAgAAqAPMA2QCEANsArgGIAsEDdgNHBJ4EpQTsBPAEswTyBIcElQQrBK4DKAMdAmQCjQK0AXMAFv8t/zAA7f9f/37+wf4E/9/+tv/G/2v/Iv+//lL/uP8V/jj9Df1m/Sb95fvO+rH5k/n0+TX6UvoT+gv6hvp++978pP1f/qf/UgDXAKgA7/+9/2IAJgHxANn/iP7H/Tz+wv5T/5X/hv+r/73/ugApApsC5wJ1A+cDUgQkBA8EvAO+AwYErAM+A/kB5gCEAHUAZgCc/0n+w/3v/Qr+Df6S/aT94f0S/or+7/7i/qz+Sf52/l/+wf2E/PH7sPuY+2v6a/kn+a74dfiJ+Kf5y/oL+3z7efxW/VX+DP8n/03/4v50/oT+q/70/fP8kfy8/O78FP2Q/QT+hP74/pz/cAClAMcAJgHWAQ4CCALiAWABVQFTAW0BagE/AR4BWAHEANkABwH/AIAA2v/2/sb9Dv1O/nX+nf3j/Kr8Iv1v/ST+wv6y/jv+3P1i/eD8Uvy9+/X6w/ou+zz6L/lw+Or4Vvo0+zf71fov+wv8kvwO/fj89/wf/Wf9K/19/eH9yv2f/dz93v3e/Sz+Of5X/5j/HAB1/7X+nv84ANsATgGDAdcByQFvAZABMQKLAikCiAHMAX8BlgA8ALwAfQGXAOn/h/+P/+v+Af7a/cD+Tf6h/Qz+w/3H/R7+ff7Y/uT+jf40/lH9av3//aj97/yJ/CT8e/v5+vf6QPv1+hT7o/rr+qr7avyg/cn9JP4p/4v/AP/4/uf+Qv4n/nH+Cv49/cr9rP3h/ev9tv5l/3P/qP+o/7L/Of/i/kEAWQEeAagAugAIAoQCmwIZAtYB9QEqAv8AFwD+/wn/gP4S/uH9Nf3b/Db94v5x/33/sP7r/TL+BP93ALEAx/6q/aH9pf3Z/T/9o/w+/EP8gPws/QX9EP2n/O/8wv1B/i3+Uf0l/VP9oP4t/4b/kv6P/gH/jv/6/4r/Lf8o/23/IP/Y/xL/nP6L/qX/7AD+AB4AFgBNAF8B3QLAA5oDfgLYAZUCRgOZA/oC+QEfArIBHwJUARsBFwFjASYBLwF0ABb/E/8EAGkB9AC9APv/YP8aAG0BbgLyAccAMgBgAIEAHgCQ/1//K/9u/zz/PP5J/Xr9Pv8hAaMBcgLrAd8AWgHsAsYD+wLeAdEATQAOAIX/5/41/7P/ogBlAc4BwgGdAY8BowLAAx0EUAPvAaUBGgLKAq4CpAJHAq8CfgJlAs0CbANLA4EDRAOuAkwCbAFaAUEBMgH+ACwAggAEAIr/MQCZAI8BXAFqALoAbQDEAMAAEgALAED/NP/T/8b/TwDW/5v/JAAqAOQA9QAIAa0AWgAAASYBswC8AGABJAJfAi8BfwEhAfUA5QDoAJ4BxgBO/wj/MP8sANkAeAG1AScCSwLqAX4B9AHkAtICrwGlAHcAkQAiAaIB6wGMAXABNAEHAXcBhwBaANwArwD6AG8ACQDK/zIAGAIMA7wCigF6AE0BdwK8AkUCNQEzAakAkADWAMAADgFgAEoAUgFFAT4BHAHsAU8DUgPBAt0BTQE+As0CbwIIApsATABGAbEBHAI+AewAEwGGAb0CsAICAtsBPQIyA+ADRgNjAoABIwIhA2AE5gOoATsAQQBNAdEBZgDy/3QAwQCtAcIBSwLgAnUDPgOPA0ID5gJSAiUCTQIwAggBowAqABsATwF4Am4DXQO4AhYDmgK+AqwDCgSZA90BMAHaAQcCigIvA/4CxwKmAikD4QJFAjcCNAKqAt8CJgJuAcIACQG/AUoC4gEfAbAAVgH2ARkCyQGKAUkC0gIJA1YCuACS/9YAoALOA5oCBAEYAF8BHANfA5ECFAHsAN4BcwLaARoBAwEAAtwCDgNUAtMAfwBEAd4CPANYAcP/2P/+ATsC2gBMAK7/YwCdAa0BEwKgAOn/yQB7AuEC4gCN/1cAlQELA+EBz/8g/3f/MwEkAqIBsQCV/+3/XgE4AoUBCwCR/2wA8gAHAXQATACdABwBeQKHAkUBwACDAAEBFACi//z/Wf///uf+xv+XAJwA9QA5ATcBewFRAUoBVAEZAYcBGAA3ABEBNQHwANj/zP8IAK7/HgBPAKYA8f9C/xX/mP+YAAQBWQBmAMYAIQH3AL3/Kv9G/2wABACL/wr/8f7V//sAmAAcAIb+q/1q/qf/5wAeAKv+Nf6d/wMB6QEmAeAAv//e/x4A1v9y/y3+6v0X/i//rf+x/vr96/7NAFECQALsAKD/cv8mANT/NP9j/kD+Ff22/KP9af6X/j7/rf96AJAALwCM/ib+m/+lABkBhP/Z/jX+bf6V/nf/rv/7/rL9dv5Q/8j+2v3T/LD+NgB/ANz/jf7+/ln/MQCAAasA8v7g/Xr9hP+1ABkAZ/5c/Az+Sv8M//z+Iv4l/ob+qP+1Ad4BkwDB/pX+AgDDABwA2P1s/DX9tP4pAGP/9v7Q/gz/dAAEAQUBOQAA/3r/iv8R//H++/2X/mn/uf8jAKf/WP+SAEgASf9K/tX91v0y/mD+av/c/gj/if6t/tX/qf/2/3cAyQCQABIAlP4L/jn98f0m/vn9K/7z/XP+Jv8dAAoAeQDIANsAigC0/zP/OP5G/nf+Pv5S/e79W//G/7//6P8NAJ3/h/9d/3L/e/8n//7+n/5Q/1D+Jf4I/7cA/wFCAroANv53/lj/iQAVAOH+tP3v/br+8/9rAPb/3v62/sr/wABjAHD/wP7j/2YBUQHR/+L9vP2y/kUAZAAIAOn/0f/B/6//DQDQAB4BuQCY/y3/y/7c/vT/6AD2ADwAGP8x/tX+CQDY/+r+3/5v/zQA7P9B/4v/0P9cAFIAggA7/239Dv45AF4BdQHEAMIAz/+e/4UADQC1/7P+J/79/cb94v3v/I/8V//KASsCnwBUADkAdf83//f/zf8g//f9m/0L/jf+MABdAZcBmQBNAI7/iP/i/y8AaP+t/z7/tf6O/3z/rf/G/sv+qv+LALb/4P4R/wYANAEWAVMAOP+e/Zz9sf7m/3QAOf9t/lL+vf+1Aa0BOgGrAJoAWgEWACn+zvzg/EH/hQDx/6b/nv9KALcAIQGyAd0A5v5//V/9xf6T/5/+I/+BAFUBVQAU/wL/vgARATsCEQFz/6z+Mv7c/jcAngBJAIT/HgDH/xH/OACoACUBswDf/53/Cv7z/XH/qwDuAWIAzv5W/nH+0v5c/33/1P+n/0QA6wA4AFsAwv97/1sANQDX/n/99/y//koAzgCSAP3/6P8w/2wAvwH2AUIB4v86/tb9EP7u/tz+G/9N/1r/Vf9T/sX+ZwDAAa4AyP6n/jL/o/8U/5j/KACZ/zn/CgDt/1n/zP7v/lj/j/5u/kT+Jv8s/2X+Wf5dAEMBHQESAID/gP/7/sn/EQB//yD+y/0J/+7/SgCTALQAFQAJAM7/xv/i/zj+Tv4J/97/YP8q/qj+GgGmAUsAw/4p/7P/jv9T/+j+dP6m/Tv+Cv/EAHYAyP/4/5kAqQAcAB4AKgCsAJQAr/86/w//HP65/6YAwgBO/0H+Ef+3/z0AyP9oAMsANQBm/xMAvv9L/xX/egAQAQT/3f2K/ogAVwHFAEYACQCt/0EAsAHJAFH/lf6P/ob/+QBGAZ//VP6N/pz/mP9D/wL/sP41/zsABQGtAJD/f//k/y0A8P9x/73/Tf8G/7X/Wv/y/9oAFQLsAcgA7/+l/hL/1f9WAAH/nf4+/v7+MQBNAdUB5wG5ATABJgGWACwA6f6x/r7+Wf7c/tT+xv4GAAgBfgHDAEkAygDRAIIAwQCMAJz/ev7A/a//WQGXAY0BLACVAOMAzwBfAH3/9f68/qX+lv+T/wf+pP49ANkBGAIWAmYCFAE7AJMAqQAXAIv+Yv7m/sD+QP8K/3L/F/9jAJ0CJAJtAND+9/4tALgAyQBK/0H+BP9yAE4BkwBcAHYAdgCsAC0BfwBk/+X+wP4xAN3/wv4B/jf+av8hAHMA/gC8AC0AcACGAOAAGAAH/9f+Q/8F/3/+Y/7m/uv/MQDs/0H/tf/LAO8AqgEnAZEAogAIAMf/8v9r/0P/+/4h/x7/9v7T/mT/eAAWArcCfwECAJb/Yf+p/hf+x/5G/wkA6P8q/zD+vv2A/+4A3QKYA3MCgwCE/ir+9/+BAMj/PP+I/rD+qv5dAKEBvgF+AuQCsgHgAKcAaACMAMUA7f+C/hf+nf4XAPwAGgLIAtQCHAFBAHsAQAEOAbv/Bf9S/vz9A/75/hMAzwBlAZoBeQBw/wv/7/4D//r/vf8K//r9O/62/yYBAwJ9AfIAbwD//34AiQDe/9f+4f0t/hz+2f71/rv/AQCAALP/WP9S/w8ARQDy/7j/RP/l/h7+JP63/iH/wf7D/lb/Y//N/sL+cf8AASgBagDo/rz9Rv2B/nz/Uv+q/jD/NADQABQClAIBAtoAagDWAPf/LP72/NX8Zv1p/UT+t/5o/tn+jgCUArMC6ABD/+L+gP82/7D+L/6E/R399f2v/2oB+wBGANEALwEpAXr/Av8i/8L+If8E/5D+8P0t/hIAfAFIAuoBlQEzASsBcACt/wP/x/1W/iL/Mv9U/tL9/P6YAcwCOgOOAs8AmgDHAB4BFwE6/4n+C/7J/gAAaQDWADIBQwKyA+EDvwIjAab/OQDQAGwAm/6p/ZT+Zv+pAX0C/AL+AjICmQJHAuEBdQAZ/1b/cACVAPD/Yf8LAFQBigIHA9YCLwJ4AewASAFRAfUAMv8j/07/FwDCAGcBAwLBAfwBDAJPAsgBVwEJAbQAqgC7AEIB4AD/APb/lwDfACQBQAHLAEoBbgGwAFQAov/i/4oASgAYAYUBIgK2AbUABAGIARwBmwDMAJoAKgCg//v/eAGJAkoD8QLnAeABKAFeAaIBAQG+AJAAcADx/zUAFAEaAnMC8QICAkIB9gD0AHsBsQCT/w3/2v8bASMC4QGoAW0B4QHvAUIC9AEjAaH//v+WANYAeADz/1IB4gHNAkIDwgI0ArcB9gHmARwBdAAy/7n/NgBzAJMAWwALAZUBDwIHAs8AjgAhANv/HwFcAEwAdv/b/3oBQAI5AywCcwHIAboBBgIXAej/Zv8Y/5n/dgDx/9j/qv5h/0YBzAKSBAUDxAD9/+b/pAFCAav/Cf8H/qT+UQBEAeoBUQGRAMYA7QE/AvwAZP+2/2sAPAGbAJD/pP60/k0AtQFCAtIBnAB6APwA2gDhAML/bv9g/rD+R//0/97/7f4EAKsCwwO7ApUAs/8UAG8ASAD5/6T+If5q/kz/GAGEAggDzwK5AU4BdwCB/0D/V/9W/4b+8/0p/5b/BABqAEgBHwL2AcgB/ADhAHcAZP/W/vb+3f4J/oT93/75ALgBAgGRAEwASgDFAC8BVgHS/0/+Lv7i/ov/PP+p/1oAiwC7ACYB8wGlAQ4BswBBAMH/zf7//cr+Ef+I/3b/af9nAHYAvgDCAPgAiABB/0f/8v8gAED/uP4k/6v/LABAAMQA6ADhAFwAzP8W/+7+ev4h/3H/1f6r/on+qf/3/8T/mQCXAEYAf/+3/9L/QP/+/mf/XgAYAQwAG/6l/TX+9v/o/z3/Kv/p/jT/dP9UAGcAof/I/vv+Uf9W/77+uv6V/y0AagBUAGz/Zv+J/1cAYwCd/9n+7v0J/mL+3f52//v/PgCbAFoAXgBTAGUAVwAWAFT/Af+//jL+MP5t/9L/j/9x///+hP80/6T+tf5D/1wAy//9/bv8Sv1S/mb/kgDwAHUAOf8+/tn+Qv+J/9T+JP4P/lj+m/5z/pH/NwDk/9b/+/4j/1D/Jf+1/2f/mf6k/av9/f6NAJIARQBU/yz/Dv+v/kL/H/9C/vr9Hv47/pX+T/6X/iIAkQCBAOz/Bf8E/9r+Kf+s/3L/af7v/V7+DwBzAF//8v67/iP/x/7O/r/+hP5K/jn+m/8NANf+rP7r/4gB6QFcAFz/B/8Y/h3+tf23/gf+RPw9/Pf8u/4L/9b+2f+rACIAhP+Z/n3+Lf6N/a/95f0q/rP9B/6j/kL/1v/F/6X/2v71/cf9bf1P/Sn9V/0B/v/+XP9nADQATQCYALv/Fv9U/jL+Jv5y/YP9//0s/j7+bv4X//3+lv7L/iL/cv9Q/xj/cf6i/cb9hv6L/woAj/8E/9T+cv81APH/kf8k/7j+iv6R/rP+Yv5X/j/+Gv/P/4wA7f8z/xoA+ADVAJL/pf49/uT9KP7W/vP+nf4f/u3+YgCmAMP/Zf4d/rT+aP+p/uT9EP5o/pr/mABoAEH/Ff/X/w8B9QEEAXL/g/4x/pH+C/+n/g7+hv0K/nH/3QCyALP/E/+s/+AANQBO/9P+SP7J/tj+x/4a/tP87fwc/t//2QDr/zb+T/56/wUBVwGwAI7/BP4i/hz/8//u/5r+nv6C/+r/PQAAAOL+2v52/jT/t/84/xX/G/9zAJgB8gBSAMD/1f9nAHYANABd/3X+I//h/1wA8P9G/3b/1//o/5L/ff8G/9z+3/7H/wQA8/84AHUAfAGOAXcBKAGdAAwAKQBTALz/b/8j/6D/DgBFAHMA8wDAAXgBkAH+AeEBQAFXAMb/vP9y/0P/R//y/nf/f/9jABUBBQH8AKIAAQE5AcMAbP+O/g7/gP8/ADAACAAOAGYAYAHHAVwCEQKbAH//8P4+/77/H/8X/zj/6f9SAc8BjQHiAGIBzAJCAxoDgQEHALX/2/8FASoBZP+Q/tP+iADIAQUC/QEwASMAnwDbAasBVQDY/gX/4P8qAFYAfQDbACAB3wHqAv0CGAKsAIIAMAByAG0A6P86/5j/w//2AKMBDwLJAoMCQAINAoABCQHMAAkA0/9y/4r/LgBnAIsAngCaAeEBRwLOAQUBCAHfABUBEwG3AJEADQCC/ysAxgAfAWUBlQAIATYBXAH9AFkAAgHjANIAtgCkAB0AvP8fAJ0BOgLjARoBtABiAWIBrAHKAfsAKgCB/4D/bwChAI4AYQBfAIgBvgEPAr8BvgGuAYEBRgGhAAMAt//Z/2sA/wDpANQAHgG0AcMBuAFPAfoAmACeAHoAnwBgAK4A+QAtAaEBQwJVAkoC7gEgAlMChgEDATwATgCrAH4AqQALAToBpAFYAWwBlQGpAeQBlgFgAXgBLwFNAaoBOQL3AaYBSAEVAV4BmQFSAX0Az/9yANcBQgLhAWIBywF5AtcCzAIbAn0B3wDQAMcBWwKwAVQA8/9ZAbYCxALkAtwBKAHOAFwBWwIIAhMBdABhASwCPAIOAkICIwKoAvMCwgIpAigB2gAJAT4BGwHRAPMAwQBvAUYCXAIfAqUBeAHZAfwB6wGdASEBdwGrAS0CdAIJAt8BfAGOAdoBoQFiATIB9ADSACwBiwEQAgAC2gEqAgEC/AGfAYMBnQGqAYQBiAFCAiACFwKhAeEB8wG1AVwBGwEqARgBIQFwAewBBgL7AdQBmwEvAtkB5wHcAbUB2QEYAvIB+wECAtkBEgK5AcYBmAHEAYkBTQFNARcBXQHKAeYB2wGSAT0BpwGEAb8B3wHOAe0BxAFYAnYCCwLGARkBPwGNAR0BkwBzAOsA7AHJATACiQI5AmICTALZArECpQECAd8ATwEBAXkAeABdAJ8AVwGiAcMBDAHbAIkBrgHIAVUB+QAkARkBmwHWAfQBZgGMAGAAuQC+AI4AJgAOAKUAvwDBAOAAgADkAD4BGgEQAWcAfgBBAIsA7QA6AS4BOwGoANQADAEaAfwAEQC2/yT/aP+2//n/4//K/3wAdgBmAaEBiwF9AQABWQAWAMf/wP+N/2X/oP+H//r/OQC/ABwBaQF8ASEBTgDF/wYA7/+7/zv/jf/5/+v/9f9FAPEAlwFqAe8AbgAoAAYA3//Y/wUAi/9Q/27/v/9YAGQAlgBpAIkAiABRAGQAAgAsAAQA+f9IAPn//f8CAP7/YgBhAAMAmP/F/0AAmQDhAMEAUwBXABwAXgCdADYA3/92/63/+P/S/xkAFACpADABMwEVAaoAtQDQAJ4ATADY/5z/j//2/z8AbwCRAGgAMgB8AKcAmABMANH/eAAxAQcBrAA8AKoAAAHxAOwAnQAPANr/AADAAO4AKwBAAGQA1wCGATMBNwH7ANsADAGhADkA7f/b/2IA1wAuAQoBzQBKAb4BWwLBAQMBdgBbAIQAPgDQ/5n/IQD+AKEBcwEhAe8AIAHaAQkCmgGnAOz/ov87AMIAAgHAAEgAygA4AfQBwQFEAVIB5wA+AaEAMAA9ADwA0QDlAPEAGgGnALgAIQE7AWQB3wBwAEYAqQAtAbEAkQCdAHoAtgClAMAA0ACSAKAAogCHAEYAEgB+AKcArgDXAEYAVACNANkALgHHAGkAUwCcAPkAAwGZAGgAPwA1AAgA7f8gAMr//v9tALwA4wA6AO3/aADCAO0ANQDu/xwA1//O/6D/KAAeAN3/jf+T/z8A8v+m/+3/zv/b/x3/Cf/B/8r/CwC0/xwAiQA+AIEArgC4AHQAP/9Q/4f/Mv8q/6j+Hv9G/+7+7v5x/0AAyADWAHwAIwCc/4f/2f+2/yn/oP6I/jT/iv+k/8H/h//U//D/RwAJABf/cf4q/sb+av8t/+X+H/+r/yMAYAAaANL/n/9J/wL/Q//N/lT+UP6b/vf+7v6b/rH+Ov++/9n/IwC6/wf/BP9D/+//8//w/pL+rP4j/3P/Dv8Z/wD/C//1/gb/G//l/rL+uP7f/v/+Bv8C/wL/Wf99/7j/mP+E/jr+Cf+H/5P/zf7B/gL/Wf9P/0P/Wv85/4P+hf7s/kP/b//7/g7/a/91/0L/Dv8o/0r/XP8T/8n+rv7C/rH++/5x/13/ff97/7P/nP+q/2n/dv9R/87++/4c//n+0v4T/yD/Pf8B/8P+8/5J/7X/bP9F/0P/lv9B//D+tP7//iH/F/8//0r/V/8e/6j/9P8NAPj/k/+B/3z/SP9c/xn/jP6M/pr+e//H/4P/Pv9M/8v/AAAbAML/VP/w/u7+e/+e/zT/z/7L/kn/3//+/97/Xf8E//P+gf/d/5n/GP96/tn+kv+i/5H/bf9E/0r/Vv+y/7n/Qv8a/zX/8P8PAGn/LP8V/1f/yf/g/7j/Q/8Y/zj/3v8gAOH/af8i/5P/p/+w/0P/8P7N/gz/SP87/0L/Gv9t/+f/5P/D/5L/HP8c/zb/jf9r//b+2v4t/73/EQDv/3P/d/8v/0r/eP+L/2P/N/9g/3b/cv8+/yb/ev+1/9X/mv9N/1L/H/83/1D/CP8d/9n+xP4r/3P/jP9Z/3L/wf+c/3f/Rf9C/2z/Rf9c/0L/4/4F/4H/xf///4b/iP+I/6L/0v+F/zn/mv50/iH/iv/0/2n/+/6K/9//NgD2/33/Mv85/6f/p/9a/6n+Ov7P/mv/rP9v/wb/Hf+Q/y4AfQDK/xr/5f5S/+P/wv8v/6L+kf5B/8v/OgDi/xL/DP9l/wQA+P80/6L+b/4L/73/uP9Z/1P/Ov+m/+f//P/J/2D/RP8z/2X/Wv8S/8P+u/4o/0T/U/8p/z3/lv/o/wYAw/9y/0b/Dv89/3r/Kv8F/wX/Bv89/3D/v/+u/4//i/+C/6D/Yv8P/wn/6v4L//L+pf7r/jv/qv+2/4b/mf99/4r/jv9F/0T/Bv/5/jj/F/8t/zT/OP9e/4D/jf9f/1z/MP8//5j/Xv9a/03/Q//D/wsA9//Y/4//af+U/5X/rP+S/1//VP9R/1//bf9Y/wL/Gv9w/2n/SP9p/6b/+f8qAN7/2f+z/8T/6P/g/9j/jP8w/yf/vP8nAAgA1/92/6r/HQDs/9D/ef8v/xH/Kf+G/6v/pP+8/77/NgBXACcABQCq/33/Y/9Q/17/bf8p/zL/Xf+W/xoA6P/B/87/uf/j/+X/0P/P/77/wv/i/9j/DQAdABYA5v+4/97/1P+p/3v/Zv92/1z/bP+C/47/nP+R/8f/7f/a/7X/jv90/4r/ov+A/3P/d/+D/3X/Yv9o/3v/kf+n/87/u/+l/2r/iv+///r/tP9J/z//h/+u/7z/zf+U/5z/rv+7/ygAFQCL/1z/ZP+8/7j/j/+W/27/vP+//9T/8f+i/5r/iP/L//T/uf9v/5f/vf/n/+3/6f8dADUARgBiAHAATQDo/8j/3v/d/8j/qP+4//L/9P8aACsAOgBFADsAdwBkAE4APQALAAMABAAKAAcA8f/p//n//v8sACQANABIADQALAAIADgAHABdAHEAOwCSAHwAZgCuAK4AywCsAFQAngCDAJoAngCCAIAAUABCAFwApwD0ALUAewCvAKcA1ADEAKEAygCTAIMApQCvAM0AxgC3ANkAIgFFASsBOwE4AYYBkQFeAT4B9QDiABoBKwE1ARYB/AA1AXQBoQGoAakBlAFrAYwBdgFUAS8BDAEXAUEBbAFvAYABtQG8AfcB+AGlAXcBUgFlAWkBOgEKARABPwF1Aa0B2QHPAcEBggGMAbQBjQFWAQYBGAFZAWwBMQFSAYABswHvAccBjgFwAU8BSgFiARgBmwB1ANAACgEXARQBHgElAR4BTQFyAUsB0ABfAIEArgDIAJ0AXgB9AMsAGAEaAQEBzQC1ANUA4QCxAJoANQAQABsAYgCRAE8ATgB5AL0AzwCfAKEApQCkAKgAbgA3ABkAAgA4AHQAeABsAFcAYwCmAMIAtACEAGgAbABXAFcAUABCADUAWQCMAL4AogCEAJ4AoADSAI4ANAAjAP7/IgBaAGYATAAdAFIAkgCZAIcATgA3ABIACQAWACgAAwDn/9f/7f8lAD8AVwArAB8AFwAaAAcABAABAOH/nv+b/5P/vP/F/4n/dP+D/6f/6v/i/6j/o/9p/6T/s/+F/43/X/8g/z7/av9s/3D/Mf9D/2//gf+G/zr/Ef8A/xD/JP82//L+q/60/sn+Fv8H/+b+t/6Y/uj+Ev/7/uX+sf6v/uz+Jv9J/wr/0f7u/ir/aP8t/8T+oP6a/uv+AP/d/sr+d/6F/rD+xP6n/i/+B/5C/p7+3/7P/qn+rP6u/hT/N//n/pr+O/5f/qb+pP5y/ij+NP6j/ur+Df/h/oT+gv6f/t7+wv5T/jH+Lv5s/q7+uv59/jT+W/6+/in/GP+x/mv+ov7o/vn+0P5//l3+VP5y/qz+u/6L/mP+nf72/kz/FP/9/uf+7/7y/vL+3f65/pv+pP79/hv/F//d/qX+w/78/t7+1/6g/pP+2P7t/hn/9P7K/tz+B/9J/1T/OP8C/+7+Kf9H/0b/J//W/u3+Jf9e/1b/M/8R/yT/RP91/3T/Qf8W/zT/df+l/5z/Y/9O/3n/g/+f/4n/SP9W/1f/oP/E/5P/fP9L/03/gf+u/6z/b/9t/4//p//y/9L/sf+L/3D/r//I/6b/lf9u/5f/r/+y/7b/jv+e/8H/6P8ZAPf/3//Z/9L/GgD0/+n//f/K//T/7//0/wQAtv/j/97/1P/3/9j/7//j/8n////o////+v/b//v/5/8XACQACQAzAAkA2P/b/7z/9P/k/9j/9//M/xQAPAAeAC0A0f/5/ycAPgB9AE4AMQAiAEEAbwB1AGgAEADw/wYAFQBBABEA4P/f/+X/HwAbAOr/zf/Z/+v/+P/4/+3/zP/I/wUAQABZADoAEgAfAGgAcwBCAEgAGAAFAC8AMgBYAFAAHgBPAC8AKgAUAPj/IAAHABoAFQAKABYAFAA6AFEATQA0APj/CwAKAAIA8P/k//D/CgAdACcARwBQAFEAJgArAAAA3//s//r/BQD9/wEACgBCAHMAhwCIAJMAcgBmAHcAYABfADkAJQA1ADYAEAAHAPj/HAA/AFQAWwAyAB0AMwBeAHQAVwBGACoAJQA6ADkANgAlAB0ARgBWAE0APgA/AE8AZABaAD8ALgAYAAgAQwBjAGkAdABOAGoAqQCpAIsAigCHAIUAfwBsAEAAXgBuAHAAbwCAAI4AgQB/AJ4AqwCIAFsANAA7AD4AMAA3AFYAbQB3AJIAqwClAJkAwQCyAJkAcABVAFsAbgBqAG4AcQCAAJwAvgDcAOIA0gCWAIMAfQBiADsADAAeAEsATwBeAG4AjwCxAP8AEAHPAMsAnACLAIoARwAbAAoA+f8aADsAgwCHAJUApQCCAJIAggA+AB0ABgAMACAAAwDz/+r/BAAtACIAKwAxAAgAEgAFAAEAAwDW/7T/rf/O/8P/uv+3/7j/3P/N/8X/3v/R/9n/5//W/8b/oP9t/37/cf9g/2L/Wf9W/2v/eP+j/8v/tP+c/5//ff+N/4f/W/9S/1f/Of8u/0H/Vv9k/37/o/+t/8z/xf+s/5z/ff9i/1H/H/8V/wv/Kf9+/5n/rv+1/73/4v/j/6z/fv9Y/1z/T/85/0T/Ov9B/1n/rf/P/8b/rf+V/4//rf+i/3X/Uf8m/x7/Tf9t/1X/P/82/23/ov+r/4f/gP94/4H/ev9V/zb/Cf8I/xr/SP9g/0j/RP9y/6H/sf+u/4D/Q/9B/zz/Qf80/y7/IP8v/1f/Wf9I/z//Kv8j/xH//v7w/tz+zf7S/sL+z/7Y/uz++v4C/xD/AP8A/wT/8/7d/r7+mP6V/mj+oP69/oz+m/6O/q7+8/7G/sL+rP6V/qf+kf6a/m/+UP5b/lP+d/6X/nz+bv5n/nf+rP6U/nv+Wv4x/lL+fP55/kH+Dv40/lj+jf6Q/nj+cf5R/nH+mf6J/lz+Ff4G/i7+UP5S/jr+Of5v/rH+1/7d/r3+qf6h/rH+v/6r/nX+Sf5N/o7+s/6x/qD+ov7H/gP/D//a/qD+jv6W/qP+p/6B/nP+e/6y/uH+AP8A//3+/P4j/zD/IP8J/+X+6P4N/x//L/8G/wf/KP9G/1b/TP9G/z//Zf96/2T/Uf9g/3//iP+O/4L/g/+M/5b/pf+r/6//pf+y/9b/6//U/77/vv/A/9b/3v/b/8X/0//t/woAFQAPABsAIgA9AEcAKwAFAOf/9/8fADIARAAlAB4AQwBsAGwAVwA0ADQAVABVAEsASAAhAB0AQgBYAF8AOAAsAEkAZABtAE8AIwAZAB4AGgAiAAEA+f/e//P/LwBNAD0ALAA8AEYARAArAAEA7f/v//r/HwD//+v/7v8FAFMAUQAiAPv/9P8WABMA/P/b/5r/kv+o/9D/3v+7/7L/zv/5/yoA/f/a/8//yP/4/+f/uP+N/3H/lf/E/8v/vf+X/47/o/+2/87/nf9//3L/iv+d/5X/eP9r/3b/rv/J/87/qv+G/5P/sv/E/8T/j/9u/3f/j/+x/67/j/+M/43/pP/N/8P/sP+g/6n/zf/P/7P/nf+a/5b/u//M/8b/xv+2/9H/8P8MAO3/wf+3/8b/6P/s/+//4P/7/wwALQBPAE0ARwBFADkAUABVADUAFAAPAC0ARgBKAEcARQA6AEgAaABqAE4ANgAoAD0AYgBhAGIAUABQAGEAYABVAE4AUQAmABgAIQAnABcAFwAWADEAOwBMAEAAKQBDAEQARAA9ACMAFQAQAB0ALwA2ADEAJgAXAC8ALgAdABwAHAAOAAcABwD5//v/GwAVABYAEgAUAPz/GgAUAAcA9//X/8D/wP/P/8v/xf+t/83/6v/2//X/8//x/+j/9v/0/+b/2P/J/8H/2//h/9f/0//Y/+T/7f/z//H/0P+//7z/uf/L/7H/s/+x/8T/4P/Z/9H/z//K/9v/3v/g/+b/zP/F/8X/0P/f/9D/0//K/9b/4//f/9//zP/K/9P/zf/C/6z/sP/F/9X/2P/T/7D/vP/I/9D/4//F/6P/rf+7/9z/1v+7/7P/rf/B/9r/xv/B/7X/qP/Y/+H/4P/K/8b/5//2//L/4P/A/8X/y//Z/+v/y/+2/6z/uv/k/97/yP+//73/4P/q/9P/x/++/8z/4//q/+L/tf+q/77/vf/k/+D/rv/J/9P/6//2/+r/4P/X/+D/7P/o/+D/3f/a//j/DAAKAPr//f/+/x0AMQArACEACwAYACUAKgAfABwAIQAiAC4APQA2ACcAKAA4AE8AVQBFADgAMQA9AEoAVgBXAGYAZQBuAHsAnQCxAKcAmQCeAK8AqQCpAJUAsACkAKMAoAChAKgAtACpANMA3wDtAO8A4wDxAO4A5gDUALAAswCiAKQAwADfAOEA+AD8ABgBMgEtASkBCgEEAf4A7wDQANYA1gDeAOgAAQEYAS8BLgE8AUcBSAFKARkB/AD+APMA9QD7APoA9AD3AAkBGgEuATMBGAEUARUBAwEBAfwA8gDuAOwA/AADARQB/wAGARgBHQEUAQIB8ADuAOYA6wDvAOMAzgDQANUA7wD9APwA8gDfAOQA/QADAfQA2ADLANMA1gDUAKsAnQCdAKYAxQDiAOAA1gDYAAIBHgEbAfoAzgC8AMYA1gDUALwAmwCtAL0A5wDuAM8ArgCjALQAsgCeAHUAWwBXAH0AoQC2ALMAowDLAPwAEgENAdwAuQC9AMkAywC+AIsAdACBALEAyQDOAMkAxADVAPAADAH9ANQApgCzAMEAygC5AKEAqwC9AN8A+AD+AOsA3gDiAOoA+QDSAKsArADEAM0A4QDkANYA6AAGARYBJAEcAQ8B/gD9APoA8gDlAN0A8AD2ABMBIgEeASQBNgFCAU0BRQE0ASMBKgEeASABFQETAQoBEAEkASMBIwEeASQBNwEvASoBHgETARQBBwH9APsA5gDwAPEA7wAHAfcAAAH7AAUBDAHuAOYAzwC8AMEApACdAKIAlgCxAK0ArwCnAKwArACkAJ8AlAB2AHUAfQB6AIQAcwBlAGcAcwB7AHQAcwBbAE4AVwBfAFQAQwAqACUAKQAtACsAIQAcAB0AJAA5ADkAMgAdACAAKwAWAA4A9//z//n/+v8EAAMA9/8IABgAHgA6ACQAIwAlABkAHwAXABAAEAD2/wYACwAMABcAHQA0ADYAPgBIAD8APQBCADEALwAlABsADwAHAAgABgAIABsAHQAeACUAHgAjACoAHQAUAAIA+f/y/+//6f/k/+r/4f/z/+v/8//l/+f/4f/u/+z/1v/E/7z/uP+x/8H/vv/E/7L/uf/K/9D/z//L/8P/r/+i/57/k/+P/43/hf+B/4b/hv9+/33/eP+S/5v/kf+G/3n/b/9x/2L/af9s/1L/Rv9A/1f/Yf9c/1n/Wv9g/2//bv9y/2r/Vv9N/07/X/9P/zv/Pv9F/2//dv9m/2P/Z/9w/4T/kf94/2b/V/9e/2b/cf9p/13/Yv9q/4v/kv+M/4P/gf+C/4n/kP+J/2//bf9+/4f/hf98/3L/ev+Y/6H/pf+W/4v/kP+J/4r/mv+H/5D/m/+g/7L/rv+k/6v/sP/A/77/wf+5/7H/uf+2/8j/wP++/8H/wv/O/9b/2f/c/9b/zv/S/8v/yf/O/7n/qv+t/7b/sv+z/7T/qP+r/8D/xv++/7r/uf+4/7r/qv+k/5z/nf+Z/6L/pv+l/5f/mP+d/6n/qf+m/5D/lv+M/53/m/+L/4T/g/+L/4r/jv97/3P/c/93/4D/cP9t/3T/f/+E/4P/fP9n/2T/Zf9h/13/Uf9A/0X/Vf9d/1b/U/9Y/0f/Qv9L/0D/Pv89/0H/SP9T/1H/UP9R/2P/Yv9a/1v/S/9O/0j/Rv8//0r/WP9c/1v/ZP9q/2T/Z/9h/1//U/9c/1n/V/9d/1f/Yf9j/2z/cf91/2z/aP9t/3X/df9w/2T/dv+G/3b/f/93/3b/gP9+/3//gv95/2v/b/97/4H/hv92/3v/i/+Y/5j/of+g/6L/o/+x/63/of+c/5j/n/+j/6n/p/+b/57/qP+//8L/wv+3/7z/t/+4/77/t/+p/6T/rv+n/6v/rP+k/6//tP+8/7P/tv+n/5r/qf+4/6//tf+d/6P/tv+7/8L/x//A/7X/u//E/83/xv/K/8b/x//X/9T/xv/B/8f/x//M/8n/x//E/8f/2f/b/9n/1//T/9P/0v/a/9H/xf+1/7X/wP/D/8H/sf+p/7P/vv+r/5//sv+s/6r/uP/E/8//yf+9/9X/zP/E/7X/p/+q/7X/uf+z/6z/rv+4/7//u/+3/7P/t/+4/7T/t/+w/7L/r//B/8T/uf+o/5z/qv+8/8P/wv+2/7X/uf/L/8b/tf+h/5z/ov+u/6n/mP+N/5j/t//D/77/qP+q/6v/vP/E/7f/p/+h/6X/xf/H/7n/qf+w/8P/zf/c/9P/tP+s/8H/yv/S/8L/r/+n/7H/xv/J/7L/s/+w/77/yv/Y/8n/rv+z/7n/vP/D/7j/of+e/6P/sf/C/7v/sv+8/8X/yv/X/8b/tP+8/7f/u/+//6z/qv+l/7f/wP/C/7b/pP+p/7n/yv/F/7P/rv+o/7v/yf+8/7j/rv++/8v/0v/L/7v/vP+//8b/w/+z/6v/pv+o/8D/tP+y/6z/tP+8/8z/0P/N/7//xv/G/9P/yf/H/7b/sf+v/6v/s/+m/63/uP+//8b/zP/B/8r/0v/b/93/0/+y/6X/p/+w/7r/wP+r/7D/vf/U/83/z//I/73/xv/B/7j/pf+W/5b/sf+5/7v/w//H/8r/3f/n/97/0v/R/7T/vv/A/7b/sv+m/63/wf/F/7j/uf/C/8b/wf/N/87/wf/A/8r/2f/b/8r/tf+3/8T/3P/H/77/v//H/9n/4//Y/9b/wf/K/8n/xv/H/63/r/+6/9D/0P/M/9T/1v/k//X/+P/w/+P/1f/V/9f/3v/X/8n/zv/a/+D/3v/W/9L/zf/P/+H/5P/j/9f/4P/y//T/9v/t/+f/7P/s//L/+P/j/9v/3//t/+z////0/+//8f8KAP7/8v///+3/9f/9//z//f/z/+7/9v8BAAIA/v/x/+7/AAALAAcACwD8//b/+/8FAAUABAD8/wAADAAYABYADwASAA4AGgAmACAACQAQABkAGwAaABEADQAMAAoACgARAAoADQAMAAsAEgAUABgACQAMABwAIAAZAAYAEQAMACAAIwAVAAsA//8MAA8ACQAMAAQABAAOAA0AFgANAAMABAAPACUAIgAYABUAEQAlABgADwAEAAEAAwABAAwADAD//wEA9/8IABsABgD8//X/9f/5//L/7P/u/+z/8v/+//3/8f/0//L/9f/7//f/2//U/+r/6P/0/+//7P/u/+f/8v/n/+T/2v/e/9f/3//m/+P/0v/X/+v/6f/k/+b/1//O/9f/x//L/8r/xv/L/8X/zf/W/9L/z//S/8v/zf/H/8L/wv+3/7D/sf+w/8D/vv+q/7r/uv/F/8T/uf+0/6b/rf+8/8H/uf+l/6D/qf++/8n/xf+5/63/tf/G/8//wf+w/67/q//E/8X/v/+x/6v/rP+3/7//vf+u/6z/qP+1/7z/tv+q/6//t/+7/8v/vf+4/7r/vv/G/7r/vP+t/63/uf++/7//vP+9/7//u//L/8X/w//B/7j/vv/B/8P/yf/H/8T/zv/T/9z/2P/W/93/1//Z/9j/1P/Z/9j/7v/m/+D/4//h/+b/7v/i/+L/5v/j/+7/7v/q/9v/4P/k/9n/3v/d/9b/5f/o//X/8P/y//b//v/r/+j/6P/o/+v/5f/k/+f/5v/n/+7/+v/9//X/+v8MABIAFQAQAAkADwAXAA4ADwAJAAAA/P8MABsAFQAPAAsAGgAqACgAKgAiAB4AIgAeACQAIgAUABYAFgAZABMAGQAlAB8AJAAkACQAHwAlAC0AKgAsACwALAA0AD4AKwArACoANwA9AD8ARQBAADYAOQBCADoAPgA7ADYAQwBAAEwAPgA7ADYAPwBEAEwARQA7AEEAPQBYAEsAPQA+ADQAOwBEADwAOQAgACwAMwBMAEMAQQBHAEMAVABTAFIAOAAtADQAPwBAAEEAPAA4ADkAUABUAEoASQA9ADsAPQBOAD4AMAAxADAAPwBJAE0AOgAwAEMASABIAE4ANAAtADgAPgA9AEAAQgAzACsAMgAwADIAIQAnACsALwAzADUANwA5ADkAOwA6ACkAJgAaABQAFQAkABYAGgAbABsAJAAcABUAGAAgABkADQAQABkAHAAdABsAIQAcACoAHgAlACUAEwAXABYADQASABQADAAMAAwAEAAIAAgAEwAMAAIABwAPAAgACgAGAAQACQAOABAA\" type=\"audio/x-wav\" />\n",
       "                    Your browser does not support the audio element.\n",
       "                </audio>\n",
       "              "
      ],
      "text/plain": [
       "<IPython.lib.display.Audio object>"
      ]
     },
     "execution_count": 5,
     "metadata": {
      "tags": []
     },
     "output_type": "execute_result"
    }
   ],
   "source": [
    "ipd.Audio('Tess/YAF_fear/YAF_cool_fear.wav')"
   ]
  },
  {
   "cell_type": "markdown",
   "id": "exposed-county",
   "metadata": {
    "id": "exposed-county"
   },
   "source": [
    "### Data Exploration and Visualization"
   ]
  },
  {
   "cell_type": "markdown",
   "id": "hungry-cleaner",
   "metadata": {
    "id": "hungry-cleaner"
   },
   "source": [
    "#### Visualize the distribution of all the labels"
   ]
  },
  {
   "cell_type": "code",
   "execution_count": null,
   "id": "political-jerusalem",
   "metadata": {
    "colab": {
     "base_uri": "https://localhost:8080/"
    },
    "id": "political-jerusalem",
    "outputId": "6de6f405-ad54-4258-d2d1-9b9ec4eb795b"
   },
   "outputs": [
    {
     "data": {
      "text/plain": [
       "{'angry', 'disgust', 'fear', 'happy', 'neutral', 'sad', 'surprised'}"
      ]
     },
     "execution_count": 6,
     "metadata": {
      "tags": []
     },
     "output_type": "execute_result"
    }
   ],
   "source": [
    "emotions_ = []\n",
    "for file in wav_files:\n",
    "    emotions_.append(file.split(\"_\")[-1][:-4])\n",
    "set(emotions_)"
   ]
  },
  {
   "cell_type": "code",
   "execution_count": null,
   "id": "orange-taiwan",
   "metadata": {
    "colab": {
     "base_uri": "https://localhost:8080/",
     "height": 282
    },
    "id": "orange-taiwan",
    "outputId": "9ff7db46-18b9-465f-82c0-354714767d57"
   },
   "outputs": [
    {
     "data": {
      "text/plain": [
       "<BarContainer object of 7 artists>"
      ]
     },
     "execution_count": 7,
     "metadata": {
      "tags": []
     },
     "output_type": "execute_result"
    },
    {
     "data": {
      "image/png": "[encoded data removed]",
      "text/plain": [
       "<Figure size 432x288 with 1 Axes>"
      ]
     },
     "metadata": {
      "needs_background": "light",
      "tags": []
     },
     "output_type": "display_data"
    }
   ],
   "source": [
    "from collections import Counter\n",
    "freq_emotions = Counter(emotions_)\n",
    "plt.bar(freq_emotions.keys(),freq_emotions.values())"
   ]
  },
  {
   "cell_type": "markdown",
   "id": "established-airfare",
   "metadata": {
    "id": "established-airfare"
   },
   "source": [
    "#### Visualize sample audio signal using librosa"
   ]
  },
  {
   "cell_type": "code",
   "execution_count": null,
   "id": "outstanding-caribbean",
   "metadata": {
    "colab": {
     "base_uri": "https://localhost:8080/",
     "height": 334
    },
    "id": "outstanding-caribbean",
    "outputId": "4142fc76-368a-4b93-8226-d9f776bddcbb"
   },
   "outputs": [
    {
     "data": {
      "image/png": "[encoded data removed]",
      "text/plain": [
       "<Figure size 1080x360 with 1 Axes>"
      ]
     },
     "metadata": {
      "needs_background": "light",
      "tags": []
     },
     "output_type": "display_data"
    }
   ],
   "source": [
    "sample_audio_path = 'Tess/YAF_fear/YAF_cool_fear.wav'\n",
    " \n",
    "# librosa is used for analyzing and extracting features of an audio signal\n",
    "data, sampling_rate = librosa.load(sample_audio_path)\n",
    "plt.figure(figsize=(15, 5))\n",
    " \n",
    "# librosa.display.waveplot is used to plot waveform of amplitude vs time\n",
    "librosa.display.waveplot(data, sr=sampling_rate)\n",
    "plt.show()"
   ]
  },
  {
   "cell_type": "markdown",
   "id": "medical-confidence",
   "metadata": {
    "id": "medical-confidence"
   },
   "source": [
    "### Feature extraction\n",
    "\n",
    "Read one WAV file at a time using `Librosa`. An audio time series in the form of a 1-dimensional array for mono or 2-dimensional array for stereo, along with time sampling rate (which defines the length of the array), where the elements within each of the arrays represent the amplitude of the sound waves is returned by `librosa.load()` function. Refer to the supplementary notebook ('Audio feature extraction')\n",
    "\n",
    "To know more about Librosa, explore the [link](https://librosa.org/doc/latest/feature.html)"
   ]
  },
  {
   "cell_type": "code",
   "execution_count": null,
   "id": "superb-scotland",
   "metadata": {
    "id": "superb-scotland"
   },
   "outputs": [],
   "source": [
    "def extract_feature(file_name):\n",
    "    \"\"\"Function Extracts Features from WAV file\"\"\"\n",
    "    X, sample_rate = librosa.load(file_name)\n",
    "    stft=np.abs(librosa.stft(X))\n",
    "    result=np.array([])\n",
    "    mfccs=np.mean(librosa.feature.mfcc(y=X, sr=sample_rate, n_mfcc=40).T,axis=0)\n",
    "    result=np.hstack((result, mfccs))\n",
    "    chroma=np.mean(librosa.feature.chroma_stft(S=stft, sr=sample_rate).T,axis=0)\n",
    "    result=np.hstack((result, chroma))\n",
    "    mel=np.mean(librosa.feature.melspectrogram(X, sr=sample_rate).T,axis=0)\n",
    "    result=np.hstack((result, mel))\n",
    "    return result"
   ]
  },
  {
   "cell_type": "code",
   "execution_count": null,
   "id": "piano-accent",
   "metadata": {
    "colab": {
     "base_uri": "https://localhost:8080/"
    },
    "id": "piano-accent",
    "outputId": "850a4cce-e44c-413b-9d38-654260de3055"
   },
   "outputs": [
    {
     "data": {
      "text/plain": [
       "(180,)"
      ]
     },
     "execution_count": 10,
     "metadata": {
      "tags": []
     },
     "output_type": "execute_result"
    }
   ],
   "source": [
    "sample_feature = extract_feature(wav_files[0])#,mfcc=True, chroma=True, mel=True)\n",
    "sample_feature.shape"
   ]
  },
  {
   "cell_type": "markdown",
   "id": "7d3bd640",
   "metadata": {
    "id": "7d3bd640"
   },
   "source": [
    "#### Create a dictionary or a function to encode the emotions"
   ]
  },
  {
   "cell_type": "code",
   "execution_count": null,
   "id": "c0c8d44d",
   "metadata": {
    "id": "c0c8d44d"
   },
   "outputs": [],
   "source": [
    "emotions = {'angry':5, 'disgust':7, 'fear':6, 'happy':3, 'neutral':1, 'surprised':8, 'sad':4}"
   ]
  },
  {
   "cell_type": "markdown",
   "id": "coupled-villa",
   "metadata": {
    "id": "coupled-villa"
   },
   "source": [
    "#### TESS data feature extraction"
   ]
  },
  {
   "cell_type": "code",
   "execution_count": null,
   "id": "quarterly-adrian",
   "metadata": {
    "id": "quarterly-adrian"
   },
   "outputs": [],
   "source": [
    "# Load the data and extract features for each sound file\n",
    "# tess_x, tess_y = [], []\n",
    "# for file_name in wav_files:\n",
    "#     emotion = emotions[file_name.split(\"_\")[-1][:-4]]\n",
    "#     feature = extract_feature(file_name)\n",
    "#     tess_x.append(feature)\n",
    "#     tess_y.append(emotion)\n",
    " \n",
    "# len(tess_x), len(tess_y)"
   ]
  },
  {
   "cell_type": "code",
   "execution_count": null,
   "id": "3XJMGdYXEQmE",
   "metadata": {
    "id": "3XJMGdYXEQmE"
   },
   "outputs": [],
   "source": [
    "# set(tess_y)"
   ]
  },
  {
   "cell_type": "markdown",
   "id": "qKzclsG-FnW6",
   "metadata": {
    "id": "qKzclsG-FnW6"
   },
   "source": [
    "#### Ravdess data feature extraction"
   ]
  },
  {
   "cell_type": "code",
   "execution_count": null,
   "id": "WS8Hk_e9GN69",
   "metadata": {
    "colab": {
     "base_uri": "https://localhost:8080/"
    },
    "id": "WS8Hk_e9GN69",
    "outputId": "ae63e8b2-76e5-4949-8737-1d0ff1643d89"
   },
   "outputs": [
    {
     "data": {
      "text/plain": [
       "(1168, 'ravdess/Actor_04/03-01-07-01-01-02-04_disgust.wav')"
      ]
     },
     "execution_count": 14,
     "metadata": {
      "tags": []
     },
     "output_type": "execute_result"
    }
   ],
   "source": [
    "rav_wav_files = glob.glob(\"ravdess/*/*.wav\")\n",
    "len(rav_wav_files), rav_wav_files[0]"
   ]
  },
  {
   "cell_type": "code",
   "execution_count": null,
   "id": "C20Km6geFq77",
   "metadata": {
    "id": "C20Km6geFq77"
   },
   "outputs": [],
   "source": [
    "# rav_x, rav_y = [], []\n",
    "# for file_name in rav_wav_files:\n",
    "#     emotion = emotions[file_name.split(\"_\")[-1][:-4]]\n",
    "#     feature = extract_feature(file_name)\n",
    "#     rav_x.append(feature)\n",
    "#     rav_y.append(emotion)\n",
    "# len(rav_x), len(rav_y)"
   ]
  },
  {
   "cell_type": "code",
   "execution_count": null,
   "id": "itI8bT3jHcrk",
   "metadata": {
    "id": "itI8bT3jHcrk"
   },
   "outputs": [],
   "source": [
    "# set(rav_y)"
   ]
  },
  {
   "cell_type": "code",
   "execution_count": null,
   "id": "iDwNOgKEIH3w",
   "metadata": {
    "id": "iDwNOgKEIH3w"
   },
   "outputs": [],
   "source": [
    "# features = tess_x + rav_x\n",
    "# labels = tess_y + rav_y"
   ]
  },
  {
   "cell_type": "code",
   "execution_count": null,
   "id": "kLkbEo2zY2bO",
   "metadata": {
    "id": "kLkbEo2zY2bO"
   },
   "outputs": [],
   "source": [
    "# Download extracted features csv\n",
    "!wget -qq https://cdn.iisc.talentsprint.com/CDS/MiniProjects/tess_ravdess_features.csv"
   ]
  },
  {
   "cell_type": "code",
   "execution_count": null,
   "id": "eoULlEdZYGiP",
   "metadata": {
    "colab": {
     "base_uri": "https://localhost:8080/"
    },
    "id": "eoULlEdZYGiP",
    "outputId": "e7ea4212-acec-48c0-ffaf-78eba7caed65"
   },
   "outputs": [
    {
     "data": {
      "text/plain": [
       "((3847, 180), (3847,))"
      ]
     },
     "execution_count": 19,
     "metadata": {
      "tags": []
     },
     "output_type": "execute_result"
    }
   ],
   "source": [
    "extracted = pd.read_csv(\"tess_ravdess_features.csv\")\n",
    "features = extracted.iloc[:,:-1]\n",
    "labels = extracted.iloc[:,-1]\n",
    "features.shape, labels.shape"
   ]
  },
  {
   "cell_type": "markdown",
   "id": "2bb62f16",
   "metadata": {
    "id": "2bb62f16"
   },
   "source": [
    "#### Save the features\n",
    "\n",
    "It is best advised to save the features in dataframe and maintain so that feature extraction step is not required to be performed every time.\n",
    "\n",
    "* Make a DataFrame with features and labels\n",
    "\n",
    "* Write dataframe into `.CSV` file and save it offline."
   ]
  },
  {
   "cell_type": "code",
   "execution_count": null,
   "id": "9ec91c16",
   "metadata": {
    "id": "9ec91c16"
   },
   "outputs": [],
   "source": [
    "# saved_data = pd.DataFrame(features)\n",
    "# saved_data['label'] = labels\n",
    "# saved_data.to_csv(\"tess_ravdess_features.csv\",index=False)"
   ]
  },
  {
   "cell_type": "markdown",
   "id": "aggressive-cause",
   "metadata": {
    "id": "aggressive-cause"
   },
   "source": [
    "#### Split the data into train and test"
   ]
  },
  {
   "cell_type": "code",
   "execution_count": null,
   "id": "nearby-angle",
   "metadata": {
    "colab": {
     "base_uri": "https://localhost:8080/"
    },
    "id": "nearby-angle",
    "outputId": "b1dc7cdc-4fc8-473a-e23c-b528f85baa5d"
   },
   "outputs": [
    {
     "data": {
      "text/plain": [
       "((3077, 180), (770, 180), 3077)"
      ]
     },
     "execution_count": 21,
     "metadata": {
      "tags": []
     },
     "output_type": "execute_result"
    }
   ],
   "source": [
    "X_train, X_test, y_train, y_test = train_test_split(np.array(features), np.array(labels), test_size=0.2, random_state=42)\n",
    "X_train.shape, X_test.shape, len(y_train)"
   ]
  },
  {
   "cell_type": "markdown",
   "id": "ordered-weapon",
   "metadata": {
    "id": "ordered-weapon"
   },
   "source": [
    "### Train the model with TESS + Ravdess data\n",
    "\n",
    "* Apply different ML algorithms (eg. DecisionTree, RandomForest, etc.) and find the model with best performance"
   ]
  },
  {
   "cell_type": "code",
   "execution_count": null,
   "id": "8y7efGFBIfqj",
   "metadata": {
    "colab": {
     "base_uri": "https://localhost:8080/"
    },
    "id": "8y7efGFBIfqj",
    "outputId": "daeffa0d-a40b-4ad7-b2be-b017435ca1e4"
   },
   "outputs": [
    {
     "data": {
      "text/plain": [
       "(0.7818181818181819, 0.7809554761130971)"
      ]
     },
     "execution_count": 22,
     "metadata": {
      "tags": []
     },
     "output_type": "execute_result"
    }
   ],
   "source": [
    "from sklearn.linear_model import LogisticRegression\n",
    "lr = LogisticRegression(random_state=42)\n",
    "lr.fit(X_train, y_train)\n",
    "lr.score(X_test, y_test), lr.score(X_train, y_train)"
   ]
  },
  {
   "cell_type": "code",
   "execution_count": null,
   "id": "extraordinary-fault",
   "metadata": {
    "colab": {
     "base_uri": "https://localhost:8080/"
    },
    "id": "extraordinary-fault",
    "outputId": "823895fe-e869-43ad-c1c0-6e977698724f"
   },
   "outputs": [
    {
     "data": {
      "text/plain": [
       "(0.7480519480519481, 1.0)"
      ]
     },
     "execution_count": 23,
     "metadata": {
      "tags": []
     },
     "output_type": "execute_result"
    }
   ],
   "source": [
    "# Decision Tree\n",
    "from sklearn import tree\n",
    " \n",
    "dt_model = tree.DecisionTreeClassifier(random_state=42)\n",
    "dt_model = dt_model.fit(X_train, y_train)\n",
    "dt_model.score(X_test, y_test), dt_model.score(X_train, y_train)"
   ]
  },
  {
   "cell_type": "code",
   "execution_count": null,
   "id": "civic-palestine",
   "metadata": {
    "colab": {
     "base_uri": "https://localhost:8080/"
    },
    "id": "civic-palestine",
    "outputId": "7f65b535-94a3-4fce-8a37-d41c79cf2768"
   },
   "outputs": [
    {
     "data": {
      "text/plain": [
       "(0.8558441558441559, 1.0)"
      ]
     },
     "execution_count": 24,
     "metadata": {
      "tags": []
     },
     "output_type": "execute_result"
    }
   ],
   "source": [
    "# Random Forest\n",
    "from sklearn.ensemble import RandomForestClassifier\n",
    " \n",
    "rf_model = RandomForestClassifier(random_state=42)\n",
    "rf_model.fit(X_train, y_train)\n",
    "rf_model.score(X_test, y_test), rf_model.score(X_train, y_train)"
   ]
  },
  {
   "cell_type": "code",
   "execution_count": null,
   "id": "gzCe1APDUpg0",
   "metadata": {
    "colab": {
     "base_uri": "https://localhost:8080/"
    },
    "id": "gzCe1APDUpg0",
    "outputId": "60a435a7-816f-4ffc-9c37-c226cafbb6c5"
   },
   "outputs": [
    {
     "data": {
      "text/plain": [
       "0.7337662337662337"
      ]
     },
     "execution_count": 25,
     "metadata": {
      "tags": []
     },
     "output_type": "execute_result"
    }
   ],
   "source": [
    "#Linear SVC\n",
    "from sklearn.svm import LinearSVC\n",
    "\n",
    "Lsvm = LinearSVC(random_state=0, tol=1e-5)\n",
    "Lsvm.fit(X_train, y_train)\n",
    "Lsvm.score(X_test, y_test)"
   ]
  },
  {
   "cell_type": "code",
   "execution_count": null,
   "id": "EtlfZmtWSD_X",
   "metadata": {
    "colab": {
     "base_uri": "https://localhost:8080/"
    },
    "id": "EtlfZmtWSD_X",
    "outputId": "42ba2c48-69b1-447d-e0a2-688d5ecd4861"
   },
   "outputs": [
    {
     "data": {
      "text/plain": [
       "0.7337662337662337"
      ]
     },
     "execution_count": 26,
     "metadata": {
      "tags": []
     },
     "output_type": "execute_result"
    }
   ],
   "source": [
    "from sklearn.linear_model import SGDClassifier\n",
    " \n",
    "sgd = SGDClassifier(max_iter=1000, tol=1e-3)\n",
    "\n",
    "sgd.fit(X_train, y_train)\n",
    "sgd.score(X_test, y_test)"
   ]
  },
  {
   "cell_type": "markdown",
   "id": "returning-bones",
   "metadata": {
    "id": "returning-bones"
   },
   "source": [
    "#### Apply the voting classifier"
   ]
  },
  {
   "cell_type": "code",
   "execution_count": null,
   "id": "fuzzy-respondent",
   "metadata": {
    "colab": {
     "base_uri": "https://localhost:8080/"
    },
    "id": "fuzzy-respondent",
    "outputId": "a652746b-2e35-4675-f0bf-eaddf1f09d17"
   },
   "outputs": [
    {
     "data": {
      "text/plain": [
       "0.7922077922077922"
      ]
     },
     "execution_count": 46,
     "metadata": {
      "tags": []
     },
     "output_type": "execute_result"
    }
   ],
   "source": [
    "# Voting classifer\n",
    "dt = tree.DecisionTreeClassifier(random_state=42)\n",
    "lr = LogisticRegression(random_state=42)\n",
    "sgd = SGDClassifier(max_iter=1000, tol=1e-3)\n",
    "Lsvm = LinearSVC(random_state=0, tol=1e-5)\n",
    "voting = VotingClassifier(estimators=[('lr',lr), ('dt', dt), ('sgd', sgd),('Lsvm',Lsvm)], voting='hard')\n",
    "voting = voting.fit(X_train, y_train)\n",
    "voting.score(X_test, y_test)"
   ]
  },
  {
   "cell_type": "code",
   "execution_count": null,
   "id": "pDfmEIYoV068",
   "metadata": {
    "id": "pDfmEIYoV068"
   },
   "outputs": [],
   "source": [
    "!pip -qq install xgboost"
   ]
  },
  {
   "cell_type": "code",
   "execution_count": null,
   "id": "kPYySueQV3pS",
   "metadata": {
    "colab": {
     "base_uri": "https://localhost:8080/"
    },
    "id": "kPYySueQV3pS",
    "outputId": "16f7e18c-df3e-4064-cb59-9a8629ae4d86"
   },
   "outputs": [
    {
     "data": {
      "text/plain": [
       "0.8441558441558441"
      ]
     },
     "execution_count": 29,
     "metadata": {
      "tags": []
     },
     "output_type": "execute_result"
    }
   ],
   "source": [
    "# xgb classifier\n",
    "from xgboost import XGBClassifier\n",
    "xgb = XGBClassifier()\n",
    "xgb.fit(X_train, y_train)\n",
    "xgb.score(X_test, y_test)"
   ]
  },
  {
   "cell_type": "markdown",
   "id": "forced-spider",
   "metadata": {
    "id": "forced-spider"
   },
   "source": [
    "#### Testing with a sample"
   ]
  },
  {
   "cell_type": "code",
   "execution_count": null,
   "id": "first-negotiation",
   "metadata": {
    "colab": {
     "base_uri": "https://localhost:8080/",
     "height": 75
    },
    "id": "first-negotiation",
    "outputId": "f2e02017-a9aa-4b95-dcce-f7ec3cfb51d6"
   },
   "outputs": [
    {
     "data": {
      "text/html": [
       "\n",
       "                <audio controls=\"controls\" >\n",
       "                    <source src=\"data:audio/x-wav;base64,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\" type=\"audio/x-wav\" />\n",
       "                    Your browser does not support the audio element.\n",
       "                </audio>\n",
       "              "
      ],
      "text/plain": [
       "<IPython.lib.display.Audio object>"
      ]
     },
     "execution_count": 30,
     "metadata": {
      "tags": []
     },
     "output_type": "execute_result"
    }
   ],
   "source": [
    "# audio sample \n",
    "test_sample = 'Tess/YAF_fear/YAF_cool_fear.wav'\n",
    "ipd.Audio(test_sample)"
   ]
  },
  {
   "cell_type": "code",
   "execution_count": null,
   "id": "surprising-liability",
   "metadata": {
    "colab": {
     "base_uri": "https://localhost:8080/",
     "height": 35
    },
    "id": "surprising-liability",
    "outputId": "be7c43fd-d241-445e-d759-f106434f2613"
   },
   "outputs": [
    {
     "data": {
      "application/vnd.google.colaboratory.intrinsic+json": {
       "type": "string"
      },
      "text/plain": [
       "'fear'"
      ]
     },
     "execution_count": 31,
     "metadata": {
      "tags": []
     },
     "output_type": "execute_result"
    }
   ],
   "source": [
    "# prediction\n",
    "pred = rf_model.predict(extract_feature(test_sample).reshape(1,-1))\n",
    "list(emotions.keys())[list(emotions.values()).index(int(pred[0]))]"
   ]
  },
  {
   "cell_type": "markdown",
   "id": "6p1MHeY9oYqB",
   "metadata": {
    "id": "6p1MHeY9oYqB"
   },
   "source": [
    "### Train the model with TESS + Ravdess + Team recorded data\n",
    "\n",
    "* Record the audio samples, extract features and combine with TESS data features\n",
    "  - Record and gather all the team data with proper naming convention in separate folder\n",
    "\n",
    "    **Hint:** Follow the supplementary notebook\n",
    "\n",
    "  - Each team member must record 2 samples for each emotion (Use similar sentences as given in TESS data)\n",
    "\n",
    "* Train the different ML algorithms and find the model with best performance"
   ]
  },
  {
   "cell_type": "markdown",
   "id": "M4In88rvtVmb",
   "metadata": {
    "id": "M4In88rvtVmb"
   },
   "source": [
    "#### Load the team data"
   ]
  },
  {
   "cell_type": "code",
   "execution_count": null,
   "id": "AC57l1nqp5V_",
   "metadata": {
    "id": "AC57l1nqp5V_"
   },
   "outputs": [],
   "source": [
    "# After Recording Team Data we made zip file downloading below"
   ]
  },
  {
   "cell_type": "code",
   "execution_count": null,
   "id": "JnOTXagNtJcu",
   "metadata": {
    "id": "JnOTXagNtJcu"
   },
   "outputs": [],
   "source": [
    "!wget -qq https://cdn.iisc.talentsprint.com/CDS/MiniProjects/TeamData_TS.zip\n",
    "!unzip -qq TeamData_TS.zip"
   ]
  },
  {
   "cell_type": "code",
   "execution_count": null,
   "id": "asTb3gyXYlRS",
   "metadata": {
    "colab": {
     "base_uri": "https://localhost:8080/"
    },
    "id": "asTb3gyXYlRS",
    "outputId": "471e2fcd-5ba9-41db-d78b-d7d17add9684"
   },
   "outputs": [
    {
     "data": {
      "text/plain": [
       "29"
      ]
     },
     "execution_count": 34,
     "metadata": {
      "tags": []
     },
     "output_type": "execute_result"
    }
   ],
   "source": [
    "TeamData = glob.glob(\"/content/TeamData_TS/*.wav\")\n",
    "len(TeamData)"
   ]
  },
  {
   "cell_type": "markdown",
   "id": "U9XfHW21BJOs",
   "metadata": {
    "id": "U9XfHW21BJOs"
   },
   "source": [
    "#### Extracting features of team data and combine with TESS + Ravdess"
   ]
  },
  {
   "cell_type": "code",
   "execution_count": null,
   "id": "nna7EZMRaKCI",
   "metadata": {
    "colab": {
     "base_uri": "https://localhost:8080/"
    },
    "id": "nna7EZMRaKCI",
    "outputId": "5bbea7cd-e825-440e-8176-5c98e92ba1f1"
   },
   "outputs": [
    {
     "data": {
      "text/plain": [
       "(29, 29)"
      ]
     },
     "execution_count": 35,
     "metadata": {
      "tags": []
     },
     "output_type": "execute_result"
    }
   ],
   "source": [
    "# extracting team recorded data features\n",
    "team_features = []\n",
    "team_label = []\n",
    "for i in TeamData:\n",
    "  team_features.append(extract_feature(i))\n",
    "  emt = (i.split(\"_\")[-1][:-4]).strip()\n",
    "  team_label.append(emotions[emt])\n",
    "\n",
    "len(team_features),len(team_label)"
   ]
  },
  {
   "cell_type": "code",
   "execution_count": null,
   "id": "15br8qPwa2a6",
   "metadata": {
    "colab": {
     "base_uri": "https://localhost:8080/"
    },
    "id": "15br8qPwa2a6",
    "outputId": "ca2931f4-509f-4f48-fd9a-3f42dcba0a18"
   },
   "outputs": [
    {
     "data": {
      "text/plain": [
       "(3876, 3876)"
      ]
     },
     "execution_count": 36,
     "metadata": {
      "tags": []
     },
     "output_type": "execute_result"
    }
   ],
   "source": [
    "# combining team data with Tess + ravdess data\n",
    "all_x = list(features.values) + team_features\n",
    "all_y = list(labels) + team_label\n",
    "len(all_x), len(all_y)"
   ]
  },
  {
   "cell_type": "code",
   "execution_count": null,
   "id": "et7CLgszb01U",
   "metadata": {
    "colab": {
     "base_uri": "https://localhost:8080/"
    },
    "id": "et7CLgszb01U",
    "outputId": "521805ee-2b6f-4594-aa40-aa499ded2f10"
   },
   "outputs": [
    {
     "data": {
      "text/plain": [
       "{1, 3, 4, 5, 6, 7, 8}"
      ]
     },
     "execution_count": 37,
     "metadata": {
      "tags": []
     },
     "output_type": "execute_result"
    }
   ],
   "source": [
    "set(all_y)"
   ]
  },
  {
   "cell_type": "markdown",
   "id": "w-ulIdIdtkDB",
   "metadata": {
    "id": "w-ulIdIdtkDB"
   },
   "source": [
    "#### Train the different ML algorithms"
   ]
  },
  {
   "cell_type": "code",
   "execution_count": null,
   "id": "x_Fn0GlBL7D4",
   "metadata": {
    "colab": {
     "base_uri": "https://localhost:8080/"
    },
    "id": "x_Fn0GlBL7D4",
    "outputId": "89d50252-dffc-44f2-8d26-d4d8af6cdee6"
   },
   "outputs": [
    {
     "data": {
      "text/plain": [
       "((3100, 180), (776, 180), 3100)"
      ]
     },
     "execution_count": 38,
     "metadata": {
      "tags": []
     },
     "output_type": "execute_result"
    }
   ],
   "source": [
    "# Split the data into train and test\n",
    "xtrain, xtest, ytrain, ytest = train_test_split(np.array(all_x), np.array(all_y), test_size=0.2, random_state=42)\n",
    "xtrain.shape, xtest.shape, len(ytrain)"
   ]
  },
  {
   "cell_type": "code",
   "execution_count": null,
   "id": "G7iBT_mrL_Ab",
   "metadata": {
    "colab": {
     "base_uri": "https://localhost:8080/"
    },
    "id": "G7iBT_mrL_Ab",
    "outputId": "27385b3a-629a-4aee-fe62-f54a37906572"
   },
   "outputs": [
    {
     "data": {
      "text/plain": [
       "(0.7396907216494846, 1.0)"
      ]
     },
     "execution_count": 39,
     "metadata": {
      "tags": []
     },
     "output_type": "execute_result"
    }
   ],
   "source": [
    "# Decision Tree\n",
    "dt_model_team = tree.DecisionTreeClassifier(random_state=42)\n",
    "dt_model_team = dt_model_team.fit(xtrain, ytrain)\n",
    "dt_model_team.score(xtest, ytest), dt_model_team.score(xtrain, ytrain)"
   ]
  },
  {
   "cell_type": "code",
   "execution_count": null,
   "id": "cHo-pAWlMA_-",
   "metadata": {
    "colab": {
     "base_uri": "https://localhost:8080/"
    },
    "id": "cHo-pAWlMA_-",
    "outputId": "e3ef9cc9-127d-4572-e042-2439d8e43588"
   },
   "outputs": [
    {
     "data": {
      "text/plain": [
       "(0.8466494845360825, 1.0)"
      ]
     },
     "execution_count": 40,
     "metadata": {
      "tags": []
     },
     "output_type": "execute_result"
    }
   ],
   "source": [
    "# Random Forest\n",
    "rf_model_team = RandomForestClassifier(random_state=42)\n",
    "rf_model_team.fit(xtrain, ytrain)\n",
    "rf_model_team.score(xtest, ytest), rf_model_team.score(xtrain, ytrain)"
   ]
  },
  {
   "cell_type": "code",
   "execution_count": null,
   "id": "yL44OfmMuEEq",
   "metadata": {
    "colab": {
     "base_uri": "https://localhost:8080/"
    },
    "id": "yL44OfmMuEEq",
    "outputId": "8ea0c93a-122e-4e33-fc34-25b50848f59a"
   },
   "outputs": [
    {
     "data": {
      "text/plain": [
       "0.7577319587628866"
      ]
     },
     "execution_count": 41,
     "metadata": {
      "tags": []
     },
     "output_type": "execute_result"
    }
   ],
   "source": [
    "#Linear SVC\n",
    "Lsvm = LinearSVC(random_state=0, tol=1e-5)\n",
    "Lsvm.fit(xtrain, ytrain)\n",
    "Lsvm.score(xtest, ytest)"
   ]
  },
  {
   "cell_type": "code",
   "execution_count": null,
   "id": "mukMDkAzpskU",
   "metadata": {
    "colab": {
     "base_uri": "https://localhost:8080/"
    },
    "id": "mukMDkAzpskU",
    "outputId": "c6b47131-1d8f-46ea-a526-8f50dfc1eea1"
   },
   "outputs": [
    {
     "data": {
      "text/plain": [
       "0.7731958762886598"
      ]
     },
     "execution_count": 47,
     "metadata": {
      "tags": []
     },
     "output_type": "execute_result"
    }
   ],
   "source": [
    "# Voting classifer\n",
    "dt = tree.DecisionTreeClassifier(random_state=42)\n",
    "lr = LogisticRegression(random_state=42)\n",
    "Lsvm = LinearSVC(random_state=0, tol=1e-5)\n",
    "voting_team = VotingClassifier(estimators=[('lr',lr),('dt', dt),('Lsvm',Lsvm)], voting='hard')\n",
    "voting_team = voting_team.fit(xtrain, ytrain)\n",
    "voting_team.score(xtest, ytest)"
   ]
  },
  {
   "cell_type": "code",
   "execution_count": null,
   "id": "lCKpAnuDZBhY",
   "metadata": {
    "colab": {
     "base_uri": "https://localhost:8080/"
    },
    "id": "lCKpAnuDZBhY",
    "outputId": "3ab6a843-664f-4652-c5d2-52167fdd9b60"
   },
   "outputs": [
    {
     "data": {
      "text/plain": [
       "0.8402061855670103"
      ]
     },
     "execution_count": 43,
     "metadata": {
      "tags": []
     },
     "output_type": "execute_result"
    }
   ],
   "source": [
    "# xgb classifier\n",
    "xgb = XGBClassifier()\n",
    "xgb.fit(xtrain, ytrain)\n",
    "xgb.score(xtest, ytest)"
   ]
  },
  {
   "cell_type": "markdown",
   "id": "iMl0sRhXtXzL",
   "metadata": {
    "id": "iMl0sRhXtXzL"
   },
   "source": [
    "### Test the best working model with live audio recording"
   ]
  },
  {
   "cell_type": "code",
   "execution_count": null,
   "id": "4znf9-pcTbUB",
   "metadata": {
    "id": "4znf9-pcTbUB"
   },
   "outputs": [],
   "source": [
    "MODEL = rf_model"
   ]
  },
  {
   "cell_type": "code",
   "execution_count": null,
   "id": "2d598770",
   "metadata": {
    "cellView": "form",
    "id": "2d598770"
   },
   "outputs": [],
   "source": [
    "#@title Speak the utterance and test\n",
    "from IPython.display import Javascript\n",
    "from google.colab import output\n",
    "from base64 import b64decode\n",
    " \n",
    "RECORD = \"\"\"\n",
    "const sleep  = time => new Promise(resolve => setTimeout(resolve, time))\n",
    "const b2text = blob => new Promise(resolve => {\n",
    "  const reader = new FileReader()\n",
    "  reader.onloadend = e => resolve(e.srcElement.result)\n",
    "  reader.readAsDataURL(blob)\n",
    "})\n",
    "var record = time => new Promise(async resolve => {\n",
    "  stream = await navigator.mediaDevices.getUserMedia({ audio: true })\n",
    "  recorder = new MediaRecorder(stream)\n",
    "  chunks = []\n",
    "  recorder.ondataavailable = e => chunks.push(e.data)\n",
    "  recorder.start()\n",
    "  await sleep(time)\n",
    "  recorder.onstop = async ()=>{\n",
    "    blob = new Blob(chunks)\n",
    "    text = await b2text(blob)\n",
    "    resolve(text)\n",
    "  }\n",
    "  recorder.stop()\n",
    "})\n",
    "\"\"\"\n",
    "\n",
    "if not os.path.exists('ModelTesting/'):\n",
    "    os.mkdir(\"ModelTesting/\")\n",
    "def record(sec=3):\n",
    "    print(\"Start speaking!\")\n",
    "    now = datetime.now()\n",
    "    current_time = now.strftime(\"%Y-%m-%d_%H-%M-%S\")\n",
    "    display(Javascript(RECORD))\n",
    "    s = output.eval_js('record(%d)' % (sec*1000))\n",
    "    b = b64decode(s.split(',')[1])\n",
    "    with open('ModelTesting/audio_'+current_time+'.wav','wb') as f:\n",
    "        f.write(b)\n",
    "    return 'ModelTesting/audio_'+current_time+'.wav'\n",
    "test_i = record()\n",
    "pred = MODEL.predict(extract_feature(test_i).reshape(1,-1))\n",
    "idx_emotion = list(emotions.values()).index(pred[0])\n",
    "print(list(emotions.keys())[idx_emotion])\n",
    "ipd.Audio(test_i)"
   ]
  },
  {
   "cell_type": "markdown",
   "id": "K7n58VaeWKGu",
   "metadata": {
    "id": "K7n58VaeWKGu"
   },
   "source": [
    "### Report Analysis\n",
    "\n",
    "- Report the accuracy for 10 live samples using the model trained on TESS+Ravdess+Team data\n",
    "- Discuss with the team mentor regarding deep learnt audio features (which will be introduced in Module 5 for another audio classification task). Read a related article [here](https://ieeexplore.ieee.org/stamp/stamp.jsp?arnumber=8805181).\n"
   ]
  }
 ],
 "metadata": {
  "colab": {
   "collapsed_sections": [],
   "name": "M4_SNB_MiniProject_4_Emotion_Classification_from_Speech.ipynb",
   "provenance": []
  },
  "kernelspec": {
   "display_name": "Python 3",
   "language": "python",
   "name": "python3"
  },
  "language_info": {
   "codemirror_mode": {
    "name": "ipython",
    "version": 3
   },
   "file_extension": ".py",
   "mimetype": "text/x-python",
   "name": "python",
   "nbconvert_exporter": "python",
   "pygments_lexer": "ipython3",
   "version": "3.9.2"
  }
 },
 "nbformat": 4,
 "nbformat_minor": 5
}
